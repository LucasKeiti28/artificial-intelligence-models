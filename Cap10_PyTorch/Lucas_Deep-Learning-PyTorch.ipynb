{
 "cells": [
  {
   "cell_type": "markdown",
   "metadata": {},
   "source": [
    "# Deep Learning using PyTorch"
   ]
  },
  {
   "cell_type": "code",
   "execution_count": 1,
   "metadata": {
    "ExecuteTime": {
     "end_time": "2020-11-05T13:50:39.930434Z",
     "start_time": "2020-11-05T13:50:38.615015Z"
    }
   },
   "outputs": [],
   "source": [
    "!pip install -q torchvision"
   ]
  },
  {
   "cell_type": "code",
   "execution_count": 2,
   "metadata": {
    "ExecuteTime": {
     "end_time": "2020-11-05T13:52:17.949843Z",
     "start_time": "2020-11-05T13:52:17.832262Z"
    }
   },
   "outputs": [],
   "source": [
    "# Imports \n",
    "import time \n",
    "import torch \n",
    "import torchvision \n",
    "import torch.nn as nn \n",
    "import torch.optim as optim \n",
    "import torch.nn.functional as F \n",
    "from torchvision import datasets, transforms \n",
    "import matplotlib.pyplot as plt \n",
    "import matplotlib \n",
    "import numpy as np "
   ]
  },
  {
   "cell_type": "code",
   "execution_count": 11,
   "metadata": {
    "ExecuteTime": {
     "end_time": "2020-11-05T13:54:26.009559Z",
     "start_time": "2020-11-05T13:54:26.000995Z"
    }
   },
   "outputs": [
    {
     "name": "stdout",
     "output_type": "stream",
     "text": [
      "json        2.0.9\n",
      "torchvision 0.6.1\n",
      "torch       1.5.1\n",
      "numpy       1.18.1\n",
      "autopep8    1.4.4\n",
      "matplotlib  3.1.3\n",
      "Data Snow\n"
     ]
    }
   ],
   "source": [
    "# Packages versions \n",
    "%reload_ext watermark\n",
    "%watermark -a \"Data Snow\" --iversions"
   ]
  },
  {
   "cell_type": "code",
   "execution_count": 12,
   "metadata": {
    "ExecuteTime": {
     "end_time": "2020-11-05T13:56:10.237702Z",
     "start_time": "2020-11-05T13:56:10.229266Z"
    }
   },
   "outputs": [],
   "source": [
    "# Function to transform data when loaded\n",
    "transform = transforms.Compose([transforms.ToTensor(), transforms.Normalize((0.5), (0.5))])"
   ]
  },
  {
   "cell_type": "code",
   "execution_count": 13,
   "metadata": {
    "ExecuteTime": {
     "end_time": "2020-11-05T13:57:56.642310Z",
     "start_time": "2020-11-05T13:57:52.763548Z"
    }
   },
   "outputs": [
    {
     "name": "stdout",
     "output_type": "stream",
     "text": [
      "Downloading http://yann.lecun.com/exdb/mnist/train-images-idx3-ubyte.gz to dados/MNIST/raw/train-images-idx3-ubyte.gz\n"
     ]
    },
    {
     "data": {
      "application/vnd.jupyter.widget-view+json": {
       "model_id": "731d08363506465fad310c6eb6e2f8d0",
       "version_major": 2,
       "version_minor": 0
      },
      "text/plain": [
       "HBox(children=(FloatProgress(value=1.0, bar_style='info', max=1.0), HTML(value='')))"
      ]
     },
     "metadata": {},
     "output_type": "display_data"
    },
    {
     "name": "stdout",
     "output_type": "stream",
     "text": [
      "Extracting dados/MNIST/raw/train-images-idx3-ubyte.gz to dados/MNIST/raw\n",
      "Downloading http://yann.lecun.com/exdb/mnist/train-labels-idx1-ubyte.gz to dados/MNIST/raw/train-labels-idx1-ubyte.gz\n"
     ]
    },
    {
     "data": {
      "application/vnd.jupyter.widget-view+json": {
       "model_id": "b88c341418134dfa923458c7d709a562",
       "version_major": 2,
       "version_minor": 0
      },
      "text/plain": [
       "HBox(children=(FloatProgress(value=1.0, bar_style='info', max=1.0), HTML(value='')))"
      ]
     },
     "metadata": {},
     "output_type": "display_data"
    },
    {
     "name": "stdout",
     "output_type": "stream",
     "text": [
      "Extracting dados/MNIST/raw/train-labels-idx1-ubyte.gz to dados/MNIST/raw\n",
      "Downloading http://yann.lecun.com/exdb/mnist/t10k-images-idx3-ubyte.gz to dados/MNIST/raw/t10k-images-idx3-ubyte.gz\n"
     ]
    },
    {
     "data": {
      "application/vnd.jupyter.widget-view+json": {
       "model_id": "580fb05625544067acad317b8c77aa07",
       "version_major": 2,
       "version_minor": 0
      },
      "text/plain": [
       "HBox(children=(FloatProgress(value=1.0, bar_style='info', max=1.0), HTML(value='')))"
      ]
     },
     "metadata": {},
     "output_type": "display_data"
    },
    {
     "name": "stdout",
     "output_type": "stream",
     "text": [
      "Extracting dados/MNIST/raw/t10k-images-idx3-ubyte.gz to dados/MNIST/raw\n",
      "Downloading http://yann.lecun.com/exdb/mnist/t10k-labels-idx1-ubyte.gz to dados/MNIST/raw/t10k-labels-idx1-ubyte.gz\n"
     ]
    },
    {
     "data": {
      "application/vnd.jupyter.widget-view+json": {
       "model_id": "bf06bfe508174ca28fef0c823084f24e",
       "version_major": 2,
       "version_minor": 0
      },
      "text/plain": [
       "HBox(children=(FloatProgress(value=1.0, bar_style='info', max=1.0), HTML(value='')))"
      ]
     },
     "metadata": {},
     "output_type": "display_data"
    },
    {
     "name": "stdout",
     "output_type": "stream",
     "text": [
      "Extracting dados/MNIST/raw/t10k-labels-idx1-ubyte.gz to dados/MNIST/raw\n",
      "Processing...\n",
      "Done!\n"
     ]
    },
    {
     "name": "stderr",
     "output_type": "stream",
     "text": [
      "/pytorch/torch/csrc/utils/tensor_numpy.cpp:141: UserWarning: The given NumPy array is not writeable, and PyTorch does not support non-writeable tensors. This means you can write to the underlying (supposedly non-writeable) NumPy array using the tensor. You may want to copy the array to protect its data or make it writeable before converting it to a tensor. This type of warning will be suppressed for the rest of this program.\n"
     ]
    }
   ],
   "source": [
    "# Loading trainning dataset\n",
    "dados_treino = torch.utils.data.DataLoader(datasets.MNIST('dados',\n",
    "                                                         train=True,\n",
    "                                                         download = True,\n",
    "                                                         transform = transform),\n",
    "                                          batch_size=64,\n",
    "                                          shuffle=True)"
   ]
  },
  {
   "cell_type": "code",
   "execution_count": 14,
   "metadata": {
    "ExecuteTime": {
     "end_time": "2020-11-05T13:58:47.245113Z",
     "start_time": "2020-11-05T13:58:47.209471Z"
    }
   },
   "outputs": [],
   "source": [
    "# Loading Testing Dataset\n",
    "dados_test = torch.utils.data.DataLoader(datasets.MNIST('dados',\n",
    "                                                         train=True,\n",
    "                                                         transform = transform),\n",
    "                                          batch_size=64,\n",
    "                                          shuffle=True)"
   ]
  },
  {
   "cell_type": "code",
   "execution_count": 18,
   "metadata": {
    "ExecuteTime": {
     "end_time": "2020-11-05T14:00:34.191458Z",
     "start_time": "2020-11-05T14:00:34.166861Z"
    }
   },
   "outputs": [
    {
     "name": "stdout",
     "output_type": "stream",
     "text": [
      "torch.Size([64, 1, 28, 28])\n",
      "torch.Size([64])\n",
      "tensor([[[-1.0000, -1.0000, -1.0000, -1.0000, -1.0000, -1.0000, -1.0000,\n",
      "          -1.0000, -1.0000, -1.0000, -1.0000, -1.0000, -1.0000, -1.0000,\n",
      "          -1.0000, -1.0000, -1.0000, -1.0000, -1.0000, -1.0000, -1.0000,\n",
      "          -1.0000, -1.0000, -1.0000, -1.0000, -1.0000, -1.0000, -1.0000],\n",
      "         [-1.0000, -1.0000, -1.0000, -1.0000, -1.0000, -1.0000, -1.0000,\n",
      "          -1.0000, -1.0000, -1.0000, -1.0000, -1.0000, -1.0000, -1.0000,\n",
      "          -1.0000, -1.0000, -1.0000, -1.0000, -1.0000, -1.0000, -1.0000,\n",
      "          -1.0000, -1.0000, -1.0000, -1.0000, -1.0000, -1.0000, -1.0000],\n",
      "         [-1.0000, -1.0000, -1.0000, -1.0000, -1.0000, -1.0000, -1.0000,\n",
      "          -1.0000, -1.0000, -1.0000, -1.0000, -1.0000, -1.0000, -1.0000,\n",
      "          -1.0000, -1.0000, -1.0000, -1.0000, -1.0000, -1.0000, -1.0000,\n",
      "          -1.0000, -1.0000, -1.0000, -1.0000, -1.0000, -1.0000, -1.0000],\n",
      "         [-1.0000, -1.0000, -1.0000, -1.0000, -1.0000, -1.0000, -1.0000,\n",
      "          -1.0000, -1.0000, -1.0000, -1.0000, -1.0000, -1.0000, -1.0000,\n",
      "          -1.0000, -1.0000, -1.0000, -1.0000, -1.0000, -1.0000, -1.0000,\n",
      "          -1.0000, -1.0000, -1.0000, -1.0000, -1.0000, -1.0000, -1.0000],\n",
      "         [-1.0000, -1.0000, -1.0000, -1.0000, -1.0000, -1.0000, -1.0000,\n",
      "          -1.0000, -1.0000, -1.0000, -1.0000, -1.0000, -1.0000, -1.0000,\n",
      "          -1.0000, -1.0000, -1.0000, -1.0000, -1.0000, -1.0000, -1.0000,\n",
      "          -1.0000, -1.0000, -1.0000, -1.0000, -1.0000, -1.0000, -1.0000],\n",
      "         [-1.0000, -1.0000, -1.0000, -1.0000, -1.0000, -1.0000, -1.0000,\n",
      "          -1.0000, -1.0000, -1.0000, -1.0000, -0.8431, -0.0510, -0.0510,\n",
      "           0.4902,  1.0000,  0.9843,  0.9843,  0.9843,  0.7098, -0.7490,\n",
      "          -1.0000, -1.0000, -1.0000, -1.0000, -1.0000, -1.0000, -1.0000],\n",
      "         [-1.0000, -1.0000, -1.0000, -1.0000, -1.0000, -1.0000, -1.0000,\n",
      "          -1.0000, -1.0000, -0.7725, -0.1608,  0.5686,  0.9765,  0.9765,\n",
      "           0.9765,  0.9843,  0.9765,  0.9765,  0.9765,  0.9765,  0.5059,\n",
      "          -1.0000, -1.0000, -1.0000, -1.0000, -1.0000, -1.0000, -1.0000],\n",
      "         [-1.0000, -1.0000, -1.0000, -1.0000, -1.0000, -1.0000, -1.0000,\n",
      "          -1.0000, -1.0000, -0.4745,  0.9765,  0.9765,  0.9765,  0.9765,\n",
      "           0.9765,  0.9843,  0.9765,  0.9765,  0.9765,  0.9765,  0.9294,\n",
      "           0.4902, -1.0000, -1.0000, -1.0000, -1.0000, -1.0000, -1.0000],\n",
      "         [-1.0000, -1.0000, -1.0000, -1.0000, -1.0000, -1.0000, -1.0000,\n",
      "          -1.0000, -1.0000,  0.0745,  0.9765,  0.9765,  0.9765,  0.9765,\n",
      "           0.9765,  0.9843,  0.3804,  0.1922,  0.8118,  0.9765,  0.9765,\n",
      "           0.7569, -0.7647, -1.0000, -1.0000, -1.0000, -1.0000, -1.0000],\n",
      "         [-1.0000, -1.0000, -1.0000, -1.0000, -1.0000, -1.0000, -1.0000,\n",
      "          -1.0000, -0.4980,  0.6784,  0.9765,  0.9765,  0.2549,  0.0431,\n",
      "           0.1451, -0.5843, -0.9765,  0.2863,  0.9765,  0.9765,  0.9765,\n",
      "           0.8118, -0.6549, -1.0000, -1.0000, -1.0000, -1.0000, -1.0000],\n",
      "         [-1.0000, -1.0000, -1.0000, -1.0000, -1.0000, -1.0000, -1.0000,\n",
      "          -1.0000, -0.4980,  0.6706,  0.9765,  0.9765,  0.8118, -0.7961,\n",
      "          -0.7569, -1.0000, -1.0000, -0.0431,  0.9765,  0.9765,  0.9765,\n",
      "           0.8118, -0.6549, -1.0000, -1.0000, -1.0000, -1.0000, -1.0000],\n",
      "         [-1.0000, -1.0000, -1.0000, -1.0000, -1.0000, -1.0000, -1.0000,\n",
      "          -1.0000, -1.0000, -0.5843,  0.7020,  0.9216,  0.5529, -0.7412,\n",
      "          -1.0000, -0.6784,  0.3098,  0.9137,  0.9765,  0.9765,  0.9765,\n",
      "           0.9216, -0.3882, -1.0000, -1.0000, -1.0000, -1.0000, -1.0000],\n",
      "         [-1.0000, -1.0000, -1.0000, -1.0000, -1.0000, -1.0000, -1.0000,\n",
      "          -1.0000, -1.0000,  0.0118,  0.9765,  0.8588,  0.0118, -0.8745,\n",
      "          -0.2314,  0.9843,  0.9765,  0.9765,  0.9765,  0.9765,  0.8196,\n",
      "          -0.0588, -1.0000, -1.0000, -1.0000, -1.0000, -1.0000, -1.0000],\n",
      "         [-1.0000, -1.0000, -1.0000, -1.0000, -1.0000, -1.0000, -1.0000,\n",
      "          -1.0000, -1.0000, -0.0588,  0.9451,  0.9765,  0.4510,  0.6314,\n",
      "           0.9765,  0.9843,  0.9765,  0.9765,  0.9765,  0.8902, -0.5137,\n",
      "          -1.0000, -1.0000, -1.0000, -1.0000, -1.0000, -1.0000, -1.0000],\n",
      "         [-1.0000, -1.0000, -1.0000, -1.0000, -1.0000, -1.0000, -1.0000,\n",
      "          -1.0000, -1.0000, -1.0000, -0.3020,  0.6471,  0.9765,  0.9765,\n",
      "           0.9765,  0.9843,  0.9765,  0.9765,  0.9765, -0.5843, -1.0000,\n",
      "          -1.0000, -1.0000, -1.0000, -1.0000, -1.0000, -1.0000, -1.0000],\n",
      "         [-1.0000, -1.0000, -1.0000, -1.0000, -1.0000, -1.0000, -1.0000,\n",
      "          -1.0000, -1.0000, -1.0000, -0.7725,  0.6941,  0.9843,  0.9843,\n",
      "           0.9843,  1.0000,  0.9843,  0.1373, -0.8353, -1.0000, -1.0000,\n",
      "          -1.0000, -1.0000, -1.0000, -1.0000, -1.0000, -1.0000, -1.0000],\n",
      "         [-1.0000, -1.0000, -1.0000, -1.0000, -1.0000, -1.0000, -1.0000,\n",
      "          -1.0000, -1.0000, -0.7176,  0.6627,  0.9451,  0.9765,  0.9765,\n",
      "           0.9765,  0.4902, -0.4196, -0.9843, -1.0000, -1.0000, -1.0000,\n",
      "          -1.0000, -1.0000, -1.0000, -1.0000, -1.0000, -1.0000, -1.0000],\n",
      "         [-1.0000, -1.0000, -1.0000, -1.0000, -1.0000, -1.0000, -1.0000,\n",
      "          -1.0000, -1.0000,  0.0196,  0.9216,  0.9765,  0.9765,  0.9765,\n",
      "           0.9765,  0.9843, -0.0980, -0.9216, -1.0000, -1.0000, -1.0000,\n",
      "          -1.0000, -1.0000, -1.0000, -1.0000, -1.0000, -1.0000, -1.0000],\n",
      "         [-1.0000, -1.0000, -1.0000, -1.0000, -1.0000, -1.0000, -1.0000,\n",
      "          -1.0000,  0.0824,  0.7490,  0.9765,  0.9765,  0.9765,  0.6078,\n",
      "           0.6784,  0.9843,  0.5294, -0.5686, -1.0000, -1.0000, -1.0000,\n",
      "          -1.0000, -1.0000, -1.0000, -1.0000, -1.0000, -1.0000, -1.0000],\n",
      "         [-1.0000, -1.0000, -1.0000, -1.0000, -1.0000, -1.0000, -1.0000,\n",
      "          -0.6078,  0.6157,  0.9765,  0.9765,  0.7255, -0.5843, -0.1922,\n",
      "           0.7804,  0.9843,  0.5294, -0.4118, -1.0000, -1.0000, -0.4431,\n",
      "          -1.0000, -1.0000, -1.0000, -1.0000, -1.0000, -1.0000, -1.0000],\n",
      "         [-1.0000, -1.0000, -1.0000, -1.0000, -1.0000, -1.0000, -1.0000,\n",
      "          -0.6078,  0.8353,  0.9765,  0.9765,  0.6627, -1.0000, -0.6706,\n",
      "           0.9765,  0.9843,  0.9765,  0.2392, -1.0000, -1.0000, -1.0000,\n",
      "          -1.0000, -1.0000, -1.0000, -1.0000, -1.0000, -1.0000, -1.0000],\n",
      "         [-1.0000, -1.0000, -1.0000, -1.0000, -1.0000, -1.0000, -1.0000,\n",
      "          -0.4902,  0.8824,  0.9765,  0.9765,  0.1529, -0.0196,  0.7176,\n",
      "           0.9765,  0.9843,  0.9765, -0.4667, -1.0000, -1.0000, -1.0000,\n",
      "          -1.0000, -1.0000, -1.0000, -1.0000, -1.0000, -1.0000, -1.0000],\n",
      "         [-1.0000, -1.0000, -1.0000, -1.0000, -1.0000, -1.0000, -1.0000,\n",
      "          -0.3412,  0.9451,  0.9765,  0.9765,  0.9765,  0.9765,  0.9765,\n",
      "           0.9765,  0.9843, -0.2157, -0.9216, -1.0000, -1.0000, -1.0000,\n",
      "          -1.0000, -1.0000, -1.0000, -1.0000, -1.0000, -1.0000, -1.0000],\n",
      "         [-1.0000, -1.0000, -1.0000, -1.0000, -1.0000, -1.0000, -1.0000,\n",
      "          -0.6078,  0.7412,  0.9529,  0.9765,  0.9765,  0.9765,  0.9765,\n",
      "           0.9216,  0.3804, -0.9529, -1.0000, -1.0000, -1.0000, -1.0000,\n",
      "          -1.0000, -1.0000, -1.0000, -1.0000, -1.0000, -1.0000, -1.0000],\n",
      "         [-1.0000, -1.0000, -1.0000, -1.0000, -1.0000, -1.0000, -1.0000,\n",
      "          -1.0000, -1.0000,  0.0118,  0.9765,  0.9765,  0.9765,  0.3647,\n",
      "          -0.5608, -1.0000, -1.0000, -1.0000, -1.0000, -1.0000, -1.0000,\n",
      "          -1.0000, -1.0000, -1.0000, -1.0000, -1.0000, -1.0000, -1.0000],\n",
      "         [-1.0000, -1.0000, -1.0000, -1.0000, -1.0000, -1.0000, -1.0000,\n",
      "          -1.0000, -1.0000, -1.0000, -1.0000, -1.0000, -1.0000, -1.0000,\n",
      "          -1.0000, -1.0000, -1.0000, -1.0000, -1.0000, -1.0000, -1.0000,\n",
      "          -1.0000, -1.0000, -1.0000, -1.0000, -1.0000, -1.0000, -1.0000],\n",
      "         [-1.0000, -1.0000, -1.0000, -1.0000, -1.0000, -1.0000, -1.0000,\n",
      "          -1.0000, -1.0000, -1.0000, -1.0000, -1.0000, -1.0000, -1.0000,\n",
      "          -1.0000, -1.0000, -1.0000, -1.0000, -1.0000, -1.0000, -1.0000,\n",
      "          -1.0000, -1.0000, -1.0000, -1.0000, -1.0000, -1.0000, -1.0000],\n",
      "         [-1.0000, -1.0000, -1.0000, -1.0000, -1.0000, -1.0000, -1.0000,\n",
      "          -1.0000, -1.0000, -1.0000, -1.0000, -1.0000, -1.0000, -1.0000,\n",
      "          -1.0000, -1.0000, -1.0000, -1.0000, -1.0000, -1.0000, -1.0000,\n",
      "          -1.0000, -1.0000, -1.0000, -1.0000, -1.0000, -1.0000, -1.0000]]]) tensor(8)\n"
     ]
    }
   ],
   "source": [
    "# Visualizing dimesions in trainning dataset\n",
    "dataiter = iter(dados_treino)\n",
    "images, labels = dataiter.next()\n",
    "\n",
    "print(images.shape) # batch size-quantity of registers per batch, quantity of batch, 28px, 28px\n",
    "print(labels.shape) # quantity of labels\n",
    "\n",
    "print(images[0], labels[0])"
   ]
  },
  {
   "cell_type": "code",
   "execution_count": 22,
   "metadata": {
    "ExecuteTime": {
     "end_time": "2020-11-05T14:03:07.404633Z",
     "start_time": "2020-11-05T14:03:07.301231Z"
    }
   },
   "outputs": [
    {
     "data": {
      "text/plain": [
       "<matplotlib.image.AxesImage at 0x7f3aa12c52d0>"
      ]
     },
     "execution_count": 22,
     "metadata": {},
     "output_type": "execute_result"
    },
    {
     "data": {
      "image/png": "[encoded data removed]",
      "text/plain": [
       "<Figure size 432x288 with 1 Axes>"
      ]
     },
     "metadata": {
      "needs_background": "light"
     },
     "output_type": "display_data"
    }
   ],
   "source": [
    "# Visualizing an image\n",
    "plt.imshow(images[0].numpy().squeeze(), cmap='gray_r')"
   ]
  },
  {
   "cell_type": "code",
   "execution_count": 26,
   "metadata": {
    "ExecuteTime": {
     "end_time": "2020-11-05T14:06:36.913929Z",
     "start_time": "2020-11-05T14:06:35.941938Z"
    }
   },
   "outputs": [
    {
     "data": {
      "image/png": "[encoded data removed]",
      "text/plain": [
       "<Figure size 432x288 with 60 Axes>"
      ]
     },
     "metadata": {
      "needs_background": "light"
     },
     "output_type": "display_data"
    }
   ],
   "source": [
    "# Plotting many images\n",
    "figure = plt.figure()\n",
    "num_of_images = 60 \n",
    "for index in range(1,num_of_images + 1):\n",
    "    plt.subplot(6,10, index)\n",
    "    plt.axis('off')\n",
    "    plt.imshow(images[index].numpy().squeeze())"
   ]
  },
  {
   "cell_type": "code",
   "execution_count": 27,
   "metadata": {
    "ExecuteTime": {
     "end_time": "2020-11-05T14:36:05.572698Z",
     "start_time": "2020-11-05T14:36:05.568807Z"
    }
   },
   "outputs": [],
   "source": [
    "# Hiperparâmetros da rede\n",
    "input_size = 784\n",
    "hidden_sizes = [128, 64]\n",
    "output_size = 10"
   ]
  },
  {
   "cell_type": "code",
   "execution_count": 28,
   "metadata": {
    "ExecuteTime": {
     "end_time": "2020-11-05T14:36:10.059263Z",
     "start_time": "2020-11-05T14:36:10.053202Z"
    }
   },
   "outputs": [],
   "source": [
    "# Modelo\n",
    "modelo_pt = nn.Sequential(nn.Linear(input_size, hidden_sizes[0]),  # 784 x 128\n",
    "                          nn.ReLU(),\n",
    "                          nn.Linear(hidden_sizes[0], hidden_sizes[1]),  # 128 x 64\n",
    "                          nn.ReLU(),\n",
    "                          nn.Linear(hidden_sizes[1], output_size),  # 64 x 10\n",
    "                          nn.LogSoftmax(dim = 1))"
   ]
  },
  {
   "cell_type": "code",
   "execution_count": 29,
   "metadata": {
    "ExecuteTime": {
     "end_time": "2020-11-05T14:36:13.828237Z",
     "start_time": "2020-11-05T14:36:13.824657Z"
    }
   },
   "outputs": [
    {
     "name": "stdout",
     "output_type": "stream",
     "text": [
      "Sequential(\n",
      "  (0): Linear(in_features=784, out_features=128, bias=True)\n",
      "  (1): ReLU()\n",
      "  (2): Linear(in_features=128, out_features=64, bias=True)\n",
      "  (3): ReLU()\n",
      "  (4): Linear(in_features=64, out_features=10, bias=True)\n",
      "  (5): LogSoftmax()\n",
      ")\n"
     ]
    }
   ],
   "source": [
    "print(modelo_pt)"
   ]
  },
  {
   "cell_type": "code",
   "execution_count": 30,
   "metadata": {
    "ExecuteTime": {
     "end_time": "2020-11-05T14:36:25.759891Z",
     "start_time": "2020-11-05T14:36:25.729212Z"
    }
   },
   "outputs": [],
   "source": [
    "# Função de custo do modelo\n",
    "criterion = nn.NLLLoss()\n",
    "\n",
    "# Obtendo os lotes de dados\n",
    "images, labels = next(iter(dados_treino))\n",
    "\n",
    "# Ajustando o shape\n",
    "images = images.view(images.shape[0], -1)\n",
    "\n",
    "# Logs das probabilidades de classe\n",
    "logps = modelo_pt(images) \n",
    "\n",
    "# Perda\n",
    "loss = criterion(logps, labels) "
   ]
  },
  {
   "cell_type": "code",
   "execution_count": 31,
   "metadata": {
    "ExecuteTime": {
     "end_time": "2020-11-05T14:36:33.285931Z",
     "start_time": "2020-11-05T14:36:30.456384Z"
    }
   },
   "outputs": [
    {
     "name": "stdout",
     "output_type": "stream",
     "text": [
      "\n",
      "Antes do Backward Pass: \n",
      " None\n",
      "\n",
      "Depois do Backward Pass: \n",
      " tensor([[-0.0005, -0.0005, -0.0005,  ..., -0.0005, -0.0005, -0.0005],\n",
      "        [ 0.0048,  0.0048,  0.0048,  ...,  0.0048,  0.0048,  0.0048],\n",
      "        [-0.0015, -0.0015, -0.0015,  ..., -0.0015, -0.0015, -0.0015],\n",
      "        ...,\n",
      "        [-0.0008, -0.0008, -0.0008,  ..., -0.0008, -0.0008, -0.0008],\n",
      "        [-0.0016, -0.0016, -0.0016,  ..., -0.0016, -0.0016, -0.0016],\n",
      "        [ 0.0000,  0.0000,  0.0000,  ...,  0.0000,  0.0000,  0.0000]])\n"
     ]
    }
   ],
   "source": [
    "print('\\nAntes do Backward Pass: \\n', modelo_pt[0].weight.grad)\n",
    "loss.backward()\n",
    "print('\\nDepois do Backward Pass: \\n', modelo_pt[0].weight.grad)"
   ]
  },
  {
   "cell_type": "code",
   "execution_count": 32,
   "metadata": {
    "ExecuteTime": {
     "end_time": "2020-11-05T14:39:31.015633Z",
     "start_time": "2020-11-05T14:36:49.152783Z"
    }
   },
   "outputs": [
    {
     "name": "stdout",
     "output_type": "stream",
     "text": [
      "Epoch: 0, Tempo Gasto: 16.44s, Loss(Erro): 0.650017506309918\n",
      "Epoch: 1, Tempo Gasto: 17.69s, Loss(Erro): 0.27901103558030715\n",
      "Epoch: 2, Tempo Gasto: 16.92s, Loss(Erro): 0.21483662489777816\n",
      "Epoch: 3, Tempo Gasto: 17.58s, Loss(Erro): 0.17257661835701543\n",
      "Epoch: 4, Tempo Gasto: 18.04s, Loss(Erro): 0.14743969052620948\n",
      "Epoch: 5, Tempo Gasto: 15.84s, Loss(Erro): 0.12640684528617877\n",
      "Epoch: 6, Tempo Gasto: 14.65s, Loss(Erro): 0.11243571125681816\n",
      "Epoch: 7, Tempo Gasto: 15.31s, Loss(Erro): 0.09826640830512272\n",
      "Epoch: 8, Tempo Gasto: 14.78s, Loss(Erro): 0.0887896969908479\n",
      "Epoch: 9, Tempo Gasto: 14.60s, Loss(Erro): 0.07970729375333548\n"
     ]
    }
   ],
   "source": [
    "# Otimizador\n",
    "optimizer = optim.SGD(modelo_pt.parameters(), lr = 0.003, momentum = 0.9)\n",
    "\n",
    "# Número de épocas\n",
    "epochs = 10\n",
    "\n",
    "# Loop de treinamento\n",
    "for e in range(epochs):\n",
    "    \n",
    "    # Registra o momento de início da época\n",
    "    start_time = time.time()\n",
    "    \n",
    "    # Zera o erro da época\n",
    "    running_loss = 0\n",
    "    \n",
    "    # Loop pelas imagens e labels\n",
    "    for images, labels in dados_treino:\n",
    "        \n",
    "        # Flatten das imagens MNIST\n",
    "        images = images.view(images.shape[0], -1)\n",
    "    \n",
    "        # Passada de treinamento\n",
    "        optimizer.zero_grad()\n",
    "        \n",
    "        output = modelo_pt(images)\n",
    "        loss = criterion(output, labels)\n",
    "        \n",
    "        # Aqui acontece o aprendizado como backpropagation\n",
    "        loss.backward()\n",
    "        \n",
    "        # E aqui otimiza os pesos\n",
    "        optimizer.step()\n",
    "        \n",
    "        running_loss += loss.item()\n",
    "    else:\n",
    "        print('Epoch: {0}, Tempo Gasto: {1:.2f}s, Loss(Erro): {2}'.format(e, \n",
    "                                                                          time.time() - start_time, \n",
    "                                                                          running_loss / len(dados_treino)))"
   ]
  },
  {
   "cell_type": "code",
   "execution_count": null,
   "metadata": {},
   "outputs": [],
   "source": []
  }
 ],
 "metadata": {
  "kernelspec": {
   "display_name": "Python 3",
   "language": "python",
   "name": "python3"
  },
  "language_info": {
   "codemirror_mode": {
    "name": "ipython",
    "version": 3
   },
   "file_extension": ".py",
   "mimetype": "text/x-python",
   "name": "python",
   "nbconvert_exporter": "python",
   "pygments_lexer": "ipython3",
   "version": "3.7.6"
  },
  "toc": {
   "base_numbering": 1,
   "nav_menu": {},
   "number_sections": true,
   "sideBar": true,
   "skip_h1_title": false,
   "title_cell": "Table of Contents",
   "title_sidebar": "Contents",
   "toc_cell": false,
   "toc_position": {},
   "toc_section_display": true,
   "toc_window_display": false
  },
  "varInspector": {
   "cols": {
    "lenName": 16,
    "lenType": 16,
    "lenVar": 40
   },
   "kernels_config": {
    "python": {
     "delete_cmd_postfix": "",
     "delete_cmd_prefix": "del ",
     "library": "var_list.py",
     "varRefreshCmd": "print(var_dic_list())"
    },
    "r": {
     "delete_cmd_postfix": ") ",
     "delete_cmd_prefix": "rm(",
     "library": "var_list.r",
     "varRefreshCmd": "cat(var_dic_list()) "
    }
   },
   "types_to_exclude": [
    "module",
    "function",
    "builtin_function_or_method",
    "instance",
    "_Feature"
   ],
   "window_display": false
  }
 },
 "nbformat": 4,
 "nbformat_minor": 4
}
