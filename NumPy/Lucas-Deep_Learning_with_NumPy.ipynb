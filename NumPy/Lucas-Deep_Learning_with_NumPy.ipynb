{
 "cells": [
  {
   "cell_type": "markdown",
   "metadata": {},
   "source": [
    "# Deep Learning with NumPy"
   ]
  },
  {
   "cell_type": "code",
   "execution_count": 1,
   "metadata": {
    "ExecuteTime": {
     "end_time": "2020-11-07T14:28:28.926264Z",
     "start_time": "2020-11-07T14:28:28.852399Z"
    }
   },
   "outputs": [],
   "source": [
    "# Disable warnings messages\n",
    "import sys \n",
    "import warnings \n",
    "import matplotlib.cbook \n",
    "if not sys.warnoptions:\n",
    "    warnings.simplefilter(\"ignore\")\n",
    "warnings.simplefilter(action='ignore', category=FutureWarning)\n",
    "warnings.filterwarnings(\"ignore\", category=FutureWarning)\n",
    "warnings.filterwarnings(\"ignore\", category=matplotlib.cbook.mplDeprecation)"
   ]
  },
  {
   "cell_type": "code",
   "execution_count": 2,
   "metadata": {
    "ExecuteTime": {
     "end_time": "2020-11-07T14:28:29.320322Z",
     "start_time": "2020-11-07T14:28:28.928147Z"
    }
   },
   "outputs": [],
   "source": [
    "# Import Packages\n",
    "import sklearn \n",
    "import numpy as np \n",
    "import pandas as pd \n",
    "from sklearn.datasets import load_digits \n",
    "import matplotlib.pyplot as plt \n",
    "%matplotlib inline "
   ]
  },
  {
   "cell_type": "code",
   "execution_count": 3,
   "metadata": {
    "ExecuteTime": {
     "end_time": "2020-11-07T14:28:29.421531Z",
     "start_time": "2020-11-07T14:28:29.321471Z"
    }
   },
   "outputs": [
    {
     "name": "stdout",
     "output_type": "stream",
     "text": [
      "pandas     1.0.1\n",
      "matplotlib 3.1.3\n",
      "sklearn    0.23.1\n",
      "json       2.0.9\n",
      "numpy      1.18.1\n",
      "autopep8   1.4.4\n",
      "Data'snow\n"
     ]
    }
   ],
   "source": [
    "# Versões dos pacotes usados neste jupyter notebook\n",
    "%reload_ext watermark\n",
    "%watermark -a \"Data'snow\" --iversions"
   ]
  },
  {
   "cell_type": "code",
   "execution_count": 4,
   "metadata": {
    "ExecuteTime": {
     "end_time": "2020-11-07T14:28:29.469886Z",
     "start_time": "2020-11-07T14:28:29.422462Z"
    }
   },
   "outputs": [],
   "source": [
    "# Loading MNIST with scikit-learn\n",
    "mnist = load_digits()\n",
    "X, y = mnist['data'], mnist['target']"
   ]
  },
  {
   "cell_type": "code",
   "execution_count": 5,
   "metadata": {
    "ExecuteTime": {
     "end_time": "2020-11-07T14:28:29.474377Z",
     "start_time": "2020-11-07T14:28:29.470870Z"
    }
   },
   "outputs": [
    {
     "name": "stdout",
     "output_type": "stream",
     "text": [
      "[[ 0.  0.  5. ...  0.  0.  0.]\n",
      " [ 0.  0.  0. ... 10.  0.  0.]\n",
      " [ 0.  0.  0. ... 16.  9.  0.]\n",
      " ...\n",
      " [ 0.  0.  1. ...  6.  0.  0.]\n",
      " [ 0.  0.  2. ... 12.  0.  0.]\n",
      " [ 0.  0. 10. ... 12.  1.  0.]]\n",
      "[0 1 2 ... 8 9 8]\n"
     ]
    }
   ],
   "source": [
    "print(X)\n",
    "print(y)"
   ]
  },
  {
   "cell_type": "code",
   "execution_count": 6,
   "metadata": {
    "ExecuteTime": {
     "end_time": "2020-11-07T14:28:31.745542Z",
     "start_time": "2020-11-07T14:28:29.475538Z"
    }
   },
   "outputs": [],
   "source": [
    "# Loading data from datasets \n",
    "treino = pd.read_csv('../../ia-lucas-dados/dados/train.csv')\n",
    "teste = pd.read_csv('../../ia-lucas-dados/dados/test.csv')"
   ]
  },
  {
   "cell_type": "code",
   "execution_count": 7,
   "metadata": {
    "ExecuteTime": {
     "end_time": "2020-11-07T14:28:31.762649Z",
     "start_time": "2020-11-07T14:28:31.747258Z"
    }
   },
   "outputs": [
    {
     "data": {
      "text/html": [
       "<div>\n",
       "<style scoped>\n",
       "    .dataframe tbody tr th:only-of-type {\n",
       "        vertical-align: middle;\n",
       "    }\n",
       "\n",
       "    .dataframe tbody tr th {\n",
       "        vertical-align: top;\n",
       "    }\n",
       "\n",
       "    .dataframe thead th {\n",
       "        text-align: right;\n",
       "    }\n",
       "</style>\n",
       "<table border=\"1\" class=\"dataframe\">\n",
       "  <thead>\n",
       "    <tr style=\"text-align: right;\">\n",
       "      <th></th>\n",
       "      <th>label</th>\n",
       "      <th>pixel0</th>\n",
       "      <th>pixel1</th>\n",
       "      <th>pixel2</th>\n",
       "      <th>pixel3</th>\n",
       "      <th>pixel4</th>\n",
       "      <th>pixel5</th>\n",
       "      <th>pixel6</th>\n",
       "      <th>pixel7</th>\n",
       "      <th>pixel8</th>\n",
       "      <th>...</th>\n",
       "      <th>pixel774</th>\n",
       "      <th>pixel775</th>\n",
       "      <th>pixel776</th>\n",
       "      <th>pixel777</th>\n",
       "      <th>pixel778</th>\n",
       "      <th>pixel779</th>\n",
       "      <th>pixel780</th>\n",
       "      <th>pixel781</th>\n",
       "      <th>pixel782</th>\n",
       "      <th>pixel783</th>\n",
       "    </tr>\n",
       "  </thead>\n",
       "  <tbody>\n",
       "    <tr>\n",
       "      <th>0</th>\n",
       "      <td>1</td>\n",
       "      <td>0</td>\n",
       "      <td>0</td>\n",
       "      <td>0</td>\n",
       "      <td>0</td>\n",
       "      <td>0</td>\n",
       "      <td>0</td>\n",
       "      <td>0</td>\n",
       "      <td>0</td>\n",
       "      <td>0</td>\n",
       "      <td>...</td>\n",
       "      <td>0</td>\n",
       "      <td>0</td>\n",
       "      <td>0</td>\n",
       "      <td>0</td>\n",
       "      <td>0</td>\n",
       "      <td>0</td>\n",
       "      <td>0</td>\n",
       "      <td>0</td>\n",
       "      <td>0</td>\n",
       "      <td>0</td>\n",
       "    </tr>\n",
       "    <tr>\n",
       "      <th>1</th>\n",
       "      <td>0</td>\n",
       "      <td>0</td>\n",
       "      <td>0</td>\n",
       "      <td>0</td>\n",
       "      <td>0</td>\n",
       "      <td>0</td>\n",
       "      <td>0</td>\n",
       "      <td>0</td>\n",
       "      <td>0</td>\n",
       "      <td>0</td>\n",
       "      <td>...</td>\n",
       "      <td>0</td>\n",
       "      <td>0</td>\n",
       "      <td>0</td>\n",
       "      <td>0</td>\n",
       "      <td>0</td>\n",
       "      <td>0</td>\n",
       "      <td>0</td>\n",
       "      <td>0</td>\n",
       "      <td>0</td>\n",
       "      <td>0</td>\n",
       "    </tr>\n",
       "    <tr>\n",
       "      <th>2</th>\n",
       "      <td>1</td>\n",
       "      <td>0</td>\n",
       "      <td>0</td>\n",
       "      <td>0</td>\n",
       "      <td>0</td>\n",
       "      <td>0</td>\n",
       "      <td>0</td>\n",
       "      <td>0</td>\n",
       "      <td>0</td>\n",
       "      <td>0</td>\n",
       "      <td>...</td>\n",
       "      <td>0</td>\n",
       "      <td>0</td>\n",
       "      <td>0</td>\n",
       "      <td>0</td>\n",
       "      <td>0</td>\n",
       "      <td>0</td>\n",
       "      <td>0</td>\n",
       "      <td>0</td>\n",
       "      <td>0</td>\n",
       "      <td>0</td>\n",
       "    </tr>\n",
       "    <tr>\n",
       "      <th>3</th>\n",
       "      <td>4</td>\n",
       "      <td>0</td>\n",
       "      <td>0</td>\n",
       "      <td>0</td>\n",
       "      <td>0</td>\n",
       "      <td>0</td>\n",
       "      <td>0</td>\n",
       "      <td>0</td>\n",
       "      <td>0</td>\n",
       "      <td>0</td>\n",
       "      <td>...</td>\n",
       "      <td>0</td>\n",
       "      <td>0</td>\n",
       "      <td>0</td>\n",
       "      <td>0</td>\n",
       "      <td>0</td>\n",
       "      <td>0</td>\n",
       "      <td>0</td>\n",
       "      <td>0</td>\n",
       "      <td>0</td>\n",
       "      <td>0</td>\n",
       "    </tr>\n",
       "    <tr>\n",
       "      <th>4</th>\n",
       "      <td>0</td>\n",
       "      <td>0</td>\n",
       "      <td>0</td>\n",
       "      <td>0</td>\n",
       "      <td>0</td>\n",
       "      <td>0</td>\n",
       "      <td>0</td>\n",
       "      <td>0</td>\n",
       "      <td>0</td>\n",
       "      <td>0</td>\n",
       "      <td>...</td>\n",
       "      <td>0</td>\n",
       "      <td>0</td>\n",
       "      <td>0</td>\n",
       "      <td>0</td>\n",
       "      <td>0</td>\n",
       "      <td>0</td>\n",
       "      <td>0</td>\n",
       "      <td>0</td>\n",
       "      <td>0</td>\n",
       "      <td>0</td>\n",
       "    </tr>\n",
       "  </tbody>\n",
       "</table>\n",
       "<p>5 rows × 785 columns</p>\n",
       "</div>"
      ],
      "text/plain": [
       "   label  pixel0  pixel1  pixel2  pixel3  pixel4  pixel5  pixel6  pixel7  \\\n",
       "0      1       0       0       0       0       0       0       0       0   \n",
       "1      0       0       0       0       0       0       0       0       0   \n",
       "2      1       0       0       0       0       0       0       0       0   \n",
       "3      4       0       0       0       0       0       0       0       0   \n",
       "4      0       0       0       0       0       0       0       0       0   \n",
       "\n",
       "   pixel8  ...  pixel774  pixel775  pixel776  pixel777  pixel778  pixel779  \\\n",
       "0       0  ...         0         0         0         0         0         0   \n",
       "1       0  ...         0         0         0         0         0         0   \n",
       "2       0  ...         0         0         0         0         0         0   \n",
       "3       0  ...         0         0         0         0         0         0   \n",
       "4       0  ...         0         0         0         0         0         0   \n",
       "\n",
       "   pixel780  pixel781  pixel782  pixel783  \n",
       "0         0         0         0         0  \n",
       "1         0         0         0         0  \n",
       "2         0         0         0         0  \n",
       "3         0         0         0         0  \n",
       "4         0         0         0         0  \n",
       "\n",
       "[5 rows x 785 columns]"
      ]
     },
     "execution_count": 7,
     "metadata": {},
     "output_type": "execute_result"
    }
   ],
   "source": [
    "treino.head()"
   ]
  },
  {
   "cell_type": "code",
   "execution_count": 8,
   "metadata": {
    "ExecuteTime": {
     "end_time": "2020-11-07T14:28:31.777573Z",
     "start_time": "2020-11-07T14:28:31.764258Z"
    }
   },
   "outputs": [
    {
     "data": {
      "text/html": [
       "<div>\n",
       "<style scoped>\n",
       "    .dataframe tbody tr th:only-of-type {\n",
       "        vertical-align: middle;\n",
       "    }\n",
       "\n",
       "    .dataframe tbody tr th {\n",
       "        vertical-align: top;\n",
       "    }\n",
       "\n",
       "    .dataframe thead th {\n",
       "        text-align: right;\n",
       "    }\n",
       "</style>\n",
       "<table border=\"1\" class=\"dataframe\">\n",
       "  <thead>\n",
       "    <tr style=\"text-align: right;\">\n",
       "      <th></th>\n",
       "      <th>pixel0</th>\n",
       "      <th>pixel1</th>\n",
       "      <th>pixel2</th>\n",
       "      <th>pixel3</th>\n",
       "      <th>pixel4</th>\n",
       "      <th>pixel5</th>\n",
       "      <th>pixel6</th>\n",
       "      <th>pixel7</th>\n",
       "      <th>pixel8</th>\n",
       "      <th>pixel9</th>\n",
       "      <th>...</th>\n",
       "      <th>pixel774</th>\n",
       "      <th>pixel775</th>\n",
       "      <th>pixel776</th>\n",
       "      <th>pixel777</th>\n",
       "      <th>pixel778</th>\n",
       "      <th>pixel779</th>\n",
       "      <th>pixel780</th>\n",
       "      <th>pixel781</th>\n",
       "      <th>pixel782</th>\n",
       "      <th>pixel783</th>\n",
       "    </tr>\n",
       "  </thead>\n",
       "  <tbody>\n",
       "    <tr>\n",
       "      <th>0</th>\n",
       "      <td>0</td>\n",
       "      <td>0</td>\n",
       "      <td>0</td>\n",
       "      <td>0</td>\n",
       "      <td>0</td>\n",
       "      <td>0</td>\n",
       "      <td>0</td>\n",
       "      <td>0</td>\n",
       "      <td>0</td>\n",
       "      <td>0</td>\n",
       "      <td>...</td>\n",
       "      <td>0</td>\n",
       "      <td>0</td>\n",
       "      <td>0</td>\n",
       "      <td>0</td>\n",
       "      <td>0</td>\n",
       "      <td>0</td>\n",
       "      <td>0</td>\n",
       "      <td>0</td>\n",
       "      <td>0</td>\n",
       "      <td>0</td>\n",
       "    </tr>\n",
       "    <tr>\n",
       "      <th>1</th>\n",
       "      <td>0</td>\n",
       "      <td>0</td>\n",
       "      <td>0</td>\n",
       "      <td>0</td>\n",
       "      <td>0</td>\n",
       "      <td>0</td>\n",
       "      <td>0</td>\n",
       "      <td>0</td>\n",
       "      <td>0</td>\n",
       "      <td>0</td>\n",
       "      <td>...</td>\n",
       "      <td>0</td>\n",
       "      <td>0</td>\n",
       "      <td>0</td>\n",
       "      <td>0</td>\n",
       "      <td>0</td>\n",
       "      <td>0</td>\n",
       "      <td>0</td>\n",
       "      <td>0</td>\n",
       "      <td>0</td>\n",
       "      <td>0</td>\n",
       "    </tr>\n",
       "    <tr>\n",
       "      <th>2</th>\n",
       "      <td>0</td>\n",
       "      <td>0</td>\n",
       "      <td>0</td>\n",
       "      <td>0</td>\n",
       "      <td>0</td>\n",
       "      <td>0</td>\n",
       "      <td>0</td>\n",
       "      <td>0</td>\n",
       "      <td>0</td>\n",
       "      <td>0</td>\n",
       "      <td>...</td>\n",
       "      <td>0</td>\n",
       "      <td>0</td>\n",
       "      <td>0</td>\n",
       "      <td>0</td>\n",
       "      <td>0</td>\n",
       "      <td>0</td>\n",
       "      <td>0</td>\n",
       "      <td>0</td>\n",
       "      <td>0</td>\n",
       "      <td>0</td>\n",
       "    </tr>\n",
       "    <tr>\n",
       "      <th>3</th>\n",
       "      <td>0</td>\n",
       "      <td>0</td>\n",
       "      <td>0</td>\n",
       "      <td>0</td>\n",
       "      <td>0</td>\n",
       "      <td>0</td>\n",
       "      <td>0</td>\n",
       "      <td>0</td>\n",
       "      <td>0</td>\n",
       "      <td>0</td>\n",
       "      <td>...</td>\n",
       "      <td>0</td>\n",
       "      <td>0</td>\n",
       "      <td>0</td>\n",
       "      <td>0</td>\n",
       "      <td>0</td>\n",
       "      <td>0</td>\n",
       "      <td>0</td>\n",
       "      <td>0</td>\n",
       "      <td>0</td>\n",
       "      <td>0</td>\n",
       "    </tr>\n",
       "    <tr>\n",
       "      <th>4</th>\n",
       "      <td>0</td>\n",
       "      <td>0</td>\n",
       "      <td>0</td>\n",
       "      <td>0</td>\n",
       "      <td>0</td>\n",
       "      <td>0</td>\n",
       "      <td>0</td>\n",
       "      <td>0</td>\n",
       "      <td>0</td>\n",
       "      <td>0</td>\n",
       "      <td>...</td>\n",
       "      <td>0</td>\n",
       "      <td>0</td>\n",
       "      <td>0</td>\n",
       "      <td>0</td>\n",
       "      <td>0</td>\n",
       "      <td>0</td>\n",
       "      <td>0</td>\n",
       "      <td>0</td>\n",
       "      <td>0</td>\n",
       "      <td>0</td>\n",
       "    </tr>\n",
       "  </tbody>\n",
       "</table>\n",
       "<p>5 rows × 784 columns</p>\n",
       "</div>"
      ],
      "text/plain": [
       "   pixel0  pixel1  pixel2  pixel3  pixel4  pixel5  pixel6  pixel7  pixel8  \\\n",
       "0       0       0       0       0       0       0       0       0       0   \n",
       "1       0       0       0       0       0       0       0       0       0   \n",
       "2       0       0       0       0       0       0       0       0       0   \n",
       "3       0       0       0       0       0       0       0       0       0   \n",
       "4       0       0       0       0       0       0       0       0       0   \n",
       "\n",
       "   pixel9  ...  pixel774  pixel775  pixel776  pixel777  pixel778  pixel779  \\\n",
       "0       0  ...         0         0         0         0         0         0   \n",
       "1       0  ...         0         0         0         0         0         0   \n",
       "2       0  ...         0         0         0         0         0         0   \n",
       "3       0  ...         0         0         0         0         0         0   \n",
       "4       0  ...         0         0         0         0         0         0   \n",
       "\n",
       "   pixel780  pixel781  pixel782  pixel783  \n",
       "0         0         0         0         0  \n",
       "1         0         0         0         0  \n",
       "2         0         0         0         0  \n",
       "3         0         0         0         0  \n",
       "4         0         0         0         0  \n",
       "\n",
       "[5 rows x 784 columns]"
      ]
     },
     "execution_count": 8,
     "metadata": {},
     "output_type": "execute_result"
    }
   ],
   "source": [
    "teste.head()"
   ]
  },
  {
   "cell_type": "code",
   "execution_count": 9,
   "metadata": {
    "ExecuteTime": {
     "end_time": "2020-11-07T14:28:31.781891Z",
     "start_time": "2020-11-07T14:28:31.778537Z"
    }
   },
   "outputs": [
    {
     "name": "stdout",
     "output_type": "stream",
     "text": [
      "[1. 0. 1. ... 7. 6. 9.]\n"
     ]
    }
   ],
   "source": [
    "# Splitt dataset trainning between input_values and target_value\n",
    "range_class = np.arange(10)\n",
    "# Coverting to array as flot type\n",
    "y = np.asfarray(treino.iloc[:,0])\n",
    "print(y)"
   ]
  },
  {
   "cell_type": "code",
   "execution_count": 10,
   "metadata": {
    "ExecuteTime": {
     "end_time": "2020-11-07T14:28:31.882351Z",
     "start_time": "2020-11-07T14:28:31.783369Z"
    }
   },
   "outputs": [
    {
     "name": "stdout",
     "output_type": "stream",
     "text": [
      "[[0 0 0 ... 0 0 0]\n",
      " [0 0 0 ... 0 0 0]\n",
      " [0 0 0 ... 0 0 0]\n",
      " ...\n",
      " [0 0 0 ... 0 0 0]\n",
      " [0 0 0 ... 0 0 0]\n",
      " [0 0 0 ... 0 0 0]] (42000, 784)\n",
      "[[0. 1. 0. ... 0. 0. 0.]\n",
      " [1. 0. 0. ... 0. 0. 0.]\n",
      " [0. 1. 0. ... 0. 0. 0.]\n",
      " ...\n",
      " [0. 0. 0. ... 1. 0. 0.]\n",
      " [0. 0. 0. ... 0. 0. 0.]\n",
      " [0. 0. 0. ... 0. 0. 1.]] (42000, 10)\n"
     ]
    }
   ],
   "source": [
    "# Adjusting datasets\n",
    "treino_x = treino.iloc[:,1:].values \n",
    "# one-hot-encoding\n",
    "treino_y = np.array([(range_class == label).astype(np.float) for label in y])\n",
    "print(treino_x, treino_x.shape)\n",
    "print(treino_y, treino_y.shape)"
   ]
  },
  {
   "cell_type": "code",
   "execution_count": 11,
   "metadata": {
    "ExecuteTime": {
     "end_time": "2020-11-07T14:28:31.885051Z",
     "start_time": "2020-11-07T14:28:31.883332Z"
    }
   },
   "outputs": [],
   "source": [
    "teste_x = teste.values"
   ]
  },
  {
   "cell_type": "code",
   "execution_count": 12,
   "metadata": {
    "ExecuteTime": {
     "end_time": "2020-11-07T14:28:32.032303Z",
     "start_time": "2020-11-07T14:28:31.885915Z"
    }
   },
   "outputs": [
    {
     "name": "stdout",
     "output_type": "stream",
     "text": [
      "1    4684\n",
      "7    4401\n",
      "3    4351\n",
      "9    4188\n",
      "2    4177\n",
      "6    4137\n",
      "0    4132\n",
      "4    4072\n",
      "8    4063\n",
      "5    3795\n",
      "Name: label, dtype: int64\n"
     ]
    },
    {
     "data": {
      "image/png": "[encoded data removed]",
      "text/plain": [
       "<Figure size 432x288 with 1 Axes>"
      ]
     },
     "metadata": {
      "needs_background": "light"
     },
     "output_type": "display_data"
    }
   ],
   "source": [
    "# visualizing data: Quantity of each lables\n",
    "y = treino.iloc[:,0].value_counts()\n",
    "print(y)\n",
    "x = range(len(y))\n",
    "plt.bar(x,y,color='rgbymc')\n",
    "plt.xticks(x,x)\n",
    "plt.ylabel('Numero de Imagens')\n",
    "plt.xlabel('Labens 0 - 9')\n",
    "plt.grid()"
   ]
  },
  {
   "cell_type": "code",
   "execution_count": 13,
   "metadata": {
    "ExecuteTime": {
     "end_time": "2020-11-07T14:28:32.621936Z",
     "start_time": "2020-11-07T14:28:32.033278Z"
    }
   },
   "outputs": [
    {
     "data": {
      "image/png": "[encoded data removed]",
      "text/plain": [
       "<Figure size 1476x612 with 9 Axes>"
      ]
     },
     "metadata": {
      "needs_background": "light"
     },
     "output_type": "display_data"
    }
   ],
   "source": [
    "# Criando uma figura para exibir imagens em padrão de linhas e colunas (1 x 10)\n",
    "figure = plt.figure()\n",
    "\n",
    "# Definir manualmente a largura e a altura da figura\n",
    "figure.set_size_inches(20.5, 8.5)\n",
    "\n",
    "# Configurando uma imagem em cada figura com um título para o rótulo da imagem\n",
    "for itr in range(1, 10):\n",
    "    plt.subplot(1, 10, itr)\n",
    "    label = treino.loc[itr,'label']\n",
    "    pixels = treino.iloc[itr,1:].values.reshape((28,28))\n",
    "    plt.title('Label = {label}'.format(label = label))\n",
    "    plt.imshow(pixels)\n",
    "\n",
    "# Exibindo toda a imagem presente na figura\n",
    "plt.show()"
   ]
  },
  {
   "cell_type": "code",
   "execution_count": 14,
   "metadata": {
    "ExecuteTime": {
     "end_time": "2020-11-07T14:28:32.724154Z",
     "start_time": "2020-11-07T14:28:32.623246Z"
    }
   },
   "outputs": [],
   "source": [
    "# Normalizing Input Data\n",
    "treino_x = treino_x/255.\n",
    "teste_x = teste_x/255."
   ]
  },
  {
   "cell_type": "code",
   "execution_count": 15,
   "metadata": {
    "ExecuteTime": {
     "end_time": "2020-11-07T14:28:32.728324Z",
     "start_time": "2020-11-07T14:28:32.725141Z"
    }
   },
   "outputs": [
    {
     "name": "stdout",
     "output_type": "stream",
     "text": [
      "O shape de X é: (42000, 784)\n",
      "O shape de Y é: (42000, 10)\n",
      "Temos 42000 exemplos de treinamento!\n"
     ]
    }
   ],
   "source": [
    "# Visualizing shape data \n",
    "shape_x = treino_x.shape\n",
    "shape_y = treino_y.shape\n",
    "\n",
    "# Total of registers \n",
    "total = treino_y.shape[0]\n",
    "\n",
    "# Print\n",
    "print ('O shape de X é:', (shape_x))\n",
    "print ('O shape de Y é: ' + str(shape_y))\n",
    "print ('Temos %d exemplos de treinamento!' % (total))"
   ]
  },
  {
   "cell_type": "code",
   "execution_count": 16,
   "metadata": {
    "ExecuteTime": {
     "end_time": "2020-11-07T14:28:32.731889Z",
     "start_time": "2020-11-07T14:28:32.729403Z"
    }
   },
   "outputs": [],
   "source": [
    "# Creating Network\n",
    "# Size of layers \n",
    "def layer_size(X, Y):\n",
    "    \n",
    "    n_x = X.shape[1]\n",
    "    n_h = 4\n",
    "    n_y = Y.shape[1]\n",
    "    \n",
    "    return (n_x, n_h, n_y)"
   ]
  },
  {
   "cell_type": "code",
   "execution_count": 17,
   "metadata": {
    "ExecuteTime": {
     "end_time": "2020-11-07T14:28:32.739974Z",
     "start_time": "2020-11-07T14:28:32.733521Z"
    }
   },
   "outputs": [],
   "source": [
    "# Initializing Parameters\n",
    "def initialise_parameter(n_x, n_h, n_y):\n",
    "    \n",
    "    np.random.seed(0)\n",
    "    \n",
    "    W1 = np.random.randn(n_h[0], n_x) * 0.1\n",
    "    b1 = np.zeros(shape = (n_h[0], 1))\n",
    "    \n",
    "    W2 = np.random.randn(n_h[1], n_h[0]) * 0.1\n",
    "    b2 = np.zeros(shape = (n_h[1], 1))\n",
    "    \n",
    "    W3 = np.random.randn(n_y, n_h[1]) * 0.1\n",
    "    b3 = np.zeros(shape = (n_y, 1))\n",
    "    \n",
    "    assert(W1.shape == (n_h[0], n_x))\n",
    "    assert(b1.shape == (n_h[0], 1))\n",
    "\n",
    "    assert(W2.shape == (n_h[1], n_h[0]))\n",
    "    assert(b2.shape == (n_h[1], 1))\n",
    "    \n",
    "    assert(W3.shape == (n_y, n_h[1]))\n",
    "    assert(b3.shape == (n_y, 1))\n",
    "    \n",
    "    parameters = {\"W1\": W1, \n",
    "                  \"b1\": b1, \n",
    "                  \"W2\": W2, \n",
    "                  \"b2\": b2, \n",
    "                  \"W3\": W3, \n",
    "                  \"b3\": b3\n",
    "                 }\n",
    "    \n",
    "    return parameters"
   ]
  },
  {
   "cell_type": "code",
   "execution_count": 18,
   "metadata": {
    "ExecuteTime": {
     "end_time": "2020-11-07T14:28:32.743447Z",
     "start_time": "2020-11-07T14:28:32.741058Z"
    }
   },
   "outputs": [],
   "source": [
    "# Activation Function\n",
    "# Math operation to prevent negative values pass, and make a crush in output values\n",
    "# The crushing functions limit the output to a range between 0 and 1, making these \n",
    "# functions useful in predicting probabilities.\n",
    "\n",
    "# Sigmoid Function\n",
    "def sigmoid(x):\n",
    "    return 1 / (1 + np.exp(-x))\n",
    "\n",
    "def sigmoid_derivative(x):\n",
    "    return x * (1 - x)"
   ]
  },
  {
   "cell_type": "code",
   "execution_count": 19,
   "metadata": {
    "ExecuteTime": {
     "end_time": "2020-11-07T14:28:32.835927Z",
     "start_time": "2020-11-07T14:28:32.744726Z"
    }
   },
   "outputs": [
    {
     "name": "stdout",
     "output_type": "stream",
     "text": [
      "[-5.         -4.8989899  -4.7979798  -4.6969697  -4.5959596  -4.49494949\n",
      " -4.39393939 -4.29292929 -4.19191919 -4.09090909 -3.98989899 -3.88888889\n",
      " -3.78787879 -3.68686869 -3.58585859 -3.48484848 -3.38383838 -3.28282828\n",
      " -3.18181818 -3.08080808 -2.97979798 -2.87878788 -2.77777778 -2.67676768\n",
      " -2.57575758 -2.47474747 -2.37373737 -2.27272727 -2.17171717 -2.07070707\n",
      " -1.96969697 -1.86868687 -1.76767677 -1.66666667 -1.56565657 -1.46464646\n",
      " -1.36363636 -1.26262626 -1.16161616 -1.06060606 -0.95959596 -0.85858586\n",
      " -0.75757576 -0.65656566 -0.55555556 -0.45454545 -0.35353535 -0.25252525\n",
      " -0.15151515 -0.05050505  0.05050505  0.15151515  0.25252525  0.35353535\n",
      "  0.45454545  0.55555556  0.65656566  0.75757576  0.85858586  0.95959596\n",
      "  1.06060606  1.16161616  1.26262626  1.36363636  1.46464646  1.56565657\n",
      "  1.66666667  1.76767677  1.86868687  1.96969697  2.07070707  2.17171717\n",
      "  2.27272727  2.37373737  2.47474747  2.57575758  2.67676768  2.77777778\n",
      "  2.87878788  2.97979798  3.08080808  3.18181818  3.28282828  3.38383838\n",
      "  3.48484848  3.58585859  3.68686869  3.78787879  3.88888889  3.98989899\n",
      "  4.09090909  4.19191919  4.29292929  4.39393939  4.49494949  4.5959596\n",
      "  4.6969697   4.7979798   4.8989899   5.        ]\n"
     ]
    },
    {
     "data": {
      "image/png": "[encoded data removed]",
      "text/plain": [
       "<Figure size 432x288 with 1 Axes>"
      ]
     },
     "metadata": {
      "needs_background": "light"
     },
     "output_type": "display_data"
    }
   ],
   "source": [
    "# Representação gráfica da função sigmoide\n",
    "_x = np.linspace(-5, 5, 100)\n",
    "print(_x)\n",
    "plt.plot(sigmoid(_x))\n",
    "plt.plot(sigmoid_derivative(sigmoid(_x)))\n",
    "plt.grid()"
   ]
  },
  {
   "cell_type": "code",
   "execution_count": 20,
   "metadata": {
    "ExecuteTime": {
     "end_time": "2020-11-07T14:28:32.841315Z",
     "start_time": "2020-11-07T14:28:32.836908Z"
    }
   },
   "outputs": [],
   "source": [
    "# Function to make Forward Propagation\n",
    "def forward_propagation(X, parameters):\n",
    "    W1 = parameters[\"W1\"]\n",
    "    b1 = parameters[\"b1\"]\n",
    "    W2 = parameters[\"W2\"]\n",
    "    b2 = parameters[\"b2\"]\n",
    "    W3 = parameters[\"W3\"]\n",
    "    b3 = parameters[\"b3\"]\n",
    "    \n",
    "    # Input Layer\n",
    "    Z1 = (np.dot(W1, X.T) + b1).T\n",
    "    \n",
    "    # Activation Function\n",
    "    A1 = sigmoid(Z1)\n",
    "    \n",
    "    # First Hidden Layer\n",
    "    Z2 = (np.dot(W2, A1.T) + b2).T\n",
    "    \n",
    "    # Activation Function\n",
    "    A2 = sigmoid(Z2) \n",
    "    \n",
    "    # Second Hidden Layer \n",
    "    Z3 = (np.dot(W3, A2.T) + b3).T\n",
    "    \n",
    "    # Activation Function\n",
    "    A3 = sigmoid(Z3)\n",
    "    \n",
    "    assert(A3.shape == (X.shape[0], 10))\n",
    "    \n",
    "    cache = {\n",
    "        \"Z1\" : Z1,\n",
    "        \"A1\" : A1,\n",
    "        \"Z2\" : Z2,\n",
    "        \"A2\" : A2,\n",
    "        \"Z3\" : Z3,\n",
    "        \"A3\" : A3\n",
    "    }\n",
    "\n",
    "    return A3, cache"
   ]
  },
  {
   "cell_type": "code",
   "execution_count": 21,
   "metadata": {
    "ExecuteTime": {
     "end_time": "2020-11-07T14:28:32.845329Z",
     "start_time": "2020-11-07T14:28:32.842128Z"
    }
   },
   "outputs": [],
   "source": [
    "# Cost function\n",
    "def compute_cost(A3, Y):\n",
    "    \n",
    "    # Number of register Y\n",
    "    m = Y.shape[0]\n",
    "    \n",
    "    # Log probabilites calculated\n",
    "    logprobs = np.multiply(Y, np.log(A3)) + np.multiply((1 - Y), np.log(1 - A3))\n",
    "    \n",
    "    # Cost\n",
    "    cost = - np.sum(logprobs) / m \n",
    "    \n",
    "    # Ajuste do formato dos dados\n",
    "    cost = float(np.squeeze(cost))\n",
    "    \n",
    "    assert(isinstance(cost, float))\n",
    "    \n",
    "    return cost"
   ]
  },
  {
   "cell_type": "code",
   "execution_count": 22,
   "metadata": {
    "ExecuteTime": {
     "end_time": "2020-11-07T14:28:32.854201Z",
     "start_time": "2020-11-07T14:28:32.848632Z"
    }
   },
   "outputs": [],
   "source": [
    "# Backward Propagation\n",
    "def backward_propagation(parameters, cache, X, Y):\n",
    "    \n",
    "    # Shape de Y\n",
    "    m = Y.shape[0]\n",
    "    \n",
    "    # Extrai do \"cache\" os valores da saída de cada ativação\n",
    "    A1 = cache[\"A1\"]\n",
    "    A2 = cache[\"A2\"]\n",
    "    A3 = cache[\"A3\"]\n",
    "    \n",
    "    # Extrai os parâmetros\n",
    "    W1 = parameters[\"W1\"]\n",
    "    W2 = parameters[\"W2\"]\n",
    "    W3 = parameters[\"W3\"]\n",
    "    \n",
    "    # Calcula a derivada do custo (perceba que estamos calculando na sequência inversa ao forward propagation)\n",
    "    dZ3 = (A3 - Y)\n",
    "    dW3 = (1 / m) * np.dot(dZ3.T, A2)\n",
    "    db3 = (1 / m) * np.sum(dZ3, keepdims = True)\n",
    "\n",
    "    dZ2 = np.multiply(np.dot(dZ3, W3), sigmoid_derivative(A2))\n",
    "    dW2 = (1 / m) * np.dot(dZ2.T, A1)\n",
    "    db2 = (1 / m) * np.sum(dZ2, keepdims = True)\n",
    "    \n",
    "    dZ1 = np.multiply(np.dot(dZ2, W2), sigmoid_derivative(A1))\n",
    "    dW1 = (1 / m) * np.dot(dZ1.T, X)\n",
    "    db1 = (1 / m) * np.sum(dZ1, keepdims = True)\n",
    "    \n",
    "    # Dicionário de gradientes\n",
    "    grads = {\"dW1\": dW1, \n",
    "             \"db1\": db1, \n",
    "             \"dW2\": dW2, \n",
    "             \"db2\": db2, \n",
    "             \"dW3\": dW3, \n",
    "             \"db3\": db3\n",
    "            }\n",
    "    \n",
    "    return grads"
   ]
  },
  {
   "cell_type": "code",
   "execution_count": 23,
   "metadata": {
    "ExecuteTime": {
     "end_time": "2020-11-07T14:28:32.860148Z",
     "start_time": "2020-11-07T14:28:32.855643Z"
    }
   },
   "outputs": [],
   "source": [
    "# Update Value of Weights using Gradient Descent\n",
    "def update_parameters(parameters, grads, learning_rate):\n",
    "    \n",
    "    # Extrai os pesos\n",
    "    W1 = parameters[\"W1\"]\n",
    "    b1 = parameters[\"b1\"]\n",
    "    W2 = parameters[\"W2\"]\n",
    "    b2 = parameters[\"b2\"]\n",
    "    W3 = parameters[\"W3\"]\n",
    "    b3 = parameters[\"b3\"]\n",
    "    \n",
    "    # Extrai os gradientes\n",
    "    dW1 = grads[\"dW1\"]\n",
    "    db1 = grads[\"db1\"]\n",
    "    dW2 = grads[\"dW2\"]\n",
    "    db2 = grads[\"db2\"]\n",
    "    dW3 = grads[\"dW3\"]\n",
    "    db3 = grads[\"db3\"]\n",
    "    \n",
    "    # Multiplica os gradientes pela taxa de aprendizagem e então subtrai do valor do coeficiente\n",
    "    # O gradiente define a direção da mudança (positiva ou negativa)\n",
    "    # A taxa de aprendizagem define a magnitude (mudança maior ou menor)\n",
    "    W1 = W1 - (learning_rate * dW1)\n",
    "    b1 = b1 - (learning_rate * db1)\n",
    "    W2 = W2 - (learning_rate * dW2)\n",
    "    b2 = b2 - (learning_rate * db2)\n",
    "    W3 = W3 - (learning_rate * dW3)\n",
    "    b3 = b3 - (learning_rate * db3)\n",
    "    \n",
    "    # Novo dicionário de parâmetros\n",
    "    parameters = {\"W1\": W1, \n",
    "                  \"b1\": b1, \n",
    "                  \"W2\": W2, \n",
    "                  \"b2\": b2, \n",
    "                  \"W3\": W3, \n",
    "                  \"b3\": b3\n",
    "                 }\n",
    "    \n",
    "    return parameters"
   ]
  },
  {
   "cell_type": "code",
   "execution_count": 24,
   "metadata": {
    "ExecuteTime": {
     "end_time": "2020-11-07T14:28:32.864396Z",
     "start_time": "2020-11-07T14:28:32.861174Z"
    }
   },
   "outputs": [],
   "source": [
    "def predict(X, parameters):\n",
    "    \n",
    "    m = X.shape[0]\n",
    "    \n",
    "    W1 = parameters[\"W1\"]\n",
    "    b1 = parameters[\"b1\"]\n",
    "    W2 = parameters[\"W2\"]\n",
    "    b2 = parameters[\"b2\"]\n",
    "    \n",
    "    A3, cache = forward_propagation(X, parameters)\n",
    "    \n",
    "    return A3"
   ]
  },
  {
   "cell_type": "code",
   "execution_count": 25,
   "metadata": {
    "ExecuteTime": {
     "end_time": "2020-11-07T14:28:32.871914Z",
     "start_time": "2020-11-07T14:28:32.865434Z"
    }
   },
   "outputs": [],
   "source": [
    "# Neural Network Model\n",
    "def nn_model(X, Y, n_h, learning_rate, num_iterations, print_cost = False):\n",
    "\n",
    "    # Para reproduzir sempre os mesmos resultados\n",
    "    np.random.seed(3)\n",
    "\n",
    "    # Lista para o custo em cada iteração\n",
    "    cost_per_iter = []\n",
    "    \n",
    "    # Tamanho das camadas\n",
    "    n_x = layer_size(X, Y)[0]\n",
    "    n_y = layer_size(X, Y)[2]\n",
    "    \n",
    "    # Inicialização dos parâmetros\n",
    "    parameters = initialise_parameter(n_x, n_h, n_y)\n",
    "    \n",
    "    # Loop (gradient descent)\n",
    "    for i in range(0, num_iterations):\n",
    "\n",
    "        # Forward propagation. Inputs: \"X, pesos\". Outputs: \"A2, cache\".\n",
    "        A3, cache = forward_propagation(X, parameters)\n",
    "        \n",
    "        # Função de custo. Inputs: \"A2, Y, pesos\". Outputs: \"custo\".\n",
    "        cost = compute_cost(A3, Y)\n",
    " \n",
    "        # Grava o custo por iteração\n",
    "        cost_per_iter.append(cost)\n",
    "\n",
    "        # Backpropagation. Inputs: \"pesos, cache, X, Y\". Outputs: \"grads\".\n",
    "        grads = backward_propagation(parameters, cache, X, Y)\n",
    " \n",
    "        # Gradient descent. Inputs: \"pesos, grads\". Outputs: \"pesos\".\n",
    "        parameters = update_parameters(parameters, grads, learning_rate)\n",
    "        \n",
    "        # Imprime o custo a cada 100 iterações\n",
    "        if print_cost and i % 100 == 0:\n",
    "            print (\"Custo após iteração %i: %f\" %(i, cost))\n",
    "    \n",
    "    # Previsão em treino\n",
    "    train_prediction = (treino.iloc[:,0].values != np.array(predict(treino_x, parameters).argmax(axis = 1)).T).astype(int)\n",
    "\n",
    "    # Previsão em teste\n",
    "    test_prediction = np.vstack((np.arange(1,28001), predict(teste_x, parameters).argmax(axis = 1).T)).T\n",
    "    \n",
    "    # Dados para submeter ao Kaggle mais tarde (opcional)\n",
    "    data_to_submit = pd.DataFrame(test_prediction, columns = ['ImageId','Label']) \n",
    "    \n",
    "    # Print\n",
    "    print(\"Acurácia em Treino: {} %\".format(100 - np.mean(train_prediction) * 100))\n",
    "    \n",
    "    # Saída\n",
    "    output = {\n",
    "        \"cost\" : cost_per_iter[-1],\n",
    "        \"parameters\" : parameters,\n",
    "        \"cost_per_iter\" : cost_per_iter,\n",
    "        \"train_prediction\" : train_prediction,\n",
    "        \"test_prediction\" : test_prediction,\n",
    "        \"data_to_submit\" : data_to_submit\n",
    "    }\n",
    "    \n",
    "    return output"
   ]
  },
  {
   "cell_type": "code",
   "execution_count": 26,
   "metadata": {
    "ExecuteTime": {
     "end_time": "2020-11-07T14:47:38.498282Z",
     "start_time": "2020-11-07T14:28:32.873044Z"
    }
   },
   "outputs": [
    {
     "name": "stdout",
     "output_type": "stream",
     "text": [
      "Taxa de Aprendizado = 2.1\n",
      "Custo após iteração 0: 6.616198\n",
      "Custo após iteração 100: 1.916392\n",
      "Custo após iteração 200: 0.918496\n",
      "Custo após iteração 300: 0.628917\n",
      "Custo após iteração 400: 0.462131\n",
      "Custo após iteração 500: 0.356310\n",
      "Custo após iteração 600: 0.289786\n",
      "Custo após iteração 700: 0.243155\n",
      "Custo após iteração 800: 0.207463\n",
      "Custo após iteração 900: 0.181343\n",
      "Custo após iteração 1000: 0.155176\n",
      "Custo após iteração 1100: 0.135424\n",
      "Custo após iteração 1200: 0.123430\n",
      "Custo após iteração 1300: 0.109187\n",
      "Custo após iteração 1400: 0.098050\n",
      "Custo após iteração 1500: 0.088513\n",
      "Acurácia em Treino: 99.2547619047619 %\n",
      "O custo é: 0.0802831527782699\n",
      "-------------------------------------------------------\n",
      "\n"
     ]
    },
    {
     "data": {
      "image/png": "[encoded data removed]",
      "text/plain": [
       "<Figure size 432x288 with 1 Axes>"
      ]
     },
     "metadata": {
      "needs_background": "light"
     },
     "output_type": "display_data"
    }
   ],
   "source": [
    "models = {}\n",
    "learning_rates = [2.1]\n",
    "\n",
    "# Loop de treinamento\n",
    "for i in learning_rates:\n",
    "    \n",
    "    # Print\n",
    "    print (\"Taxa de Aprendizado = \" + str(i))\n",
    "    \n",
    "    models[str(i)] = nn_model(treino_x, \n",
    "                              treino_y, \n",
    "                              n_h = [400, 40], \n",
    "                              learning_rate = i, \n",
    "                              num_iterations = 1600, \n",
    "                              print_cost = True)\n",
    "    \n",
    "    \n",
    "    print (\"O custo é: \" + str(models[str(i)][\"cost\"]))\n",
    "    print (\"-------------------------------------------------------\" + '\\n')\n",
    "\n",
    "# Plot do custo por iteração\n",
    "for i in learning_rates:\n",
    "    plt.plot(np.squeeze(models[str(i)][\"cost_per_iter\"]), label = str(i))\n",
    "\n",
    "# Plot\n",
    "plt.ylabel('Custo')\n",
    "plt.xlabel('Iterações')\n",
    "legend = plt.legend(loc = 'upper center', shadow = True)\n",
    "frame = legend.get_frame()\n",
    "frame.set_facecolor('0.90')\n",
    "plt.grid()\n",
    "plt.show()"
   ]
  },
  {
   "cell_type": "code",
   "execution_count": 29,
   "metadata": {
    "ExecuteTime": {
     "end_time": "2020-11-07T15:24:03.030037Z",
     "start_time": "2020-11-07T15:24:03.004691Z"
    }
   },
   "outputs": [],
   "source": [
    "# Salvando o resultado para submeter ao Kaggle\n",
    "models[\"2.1\"][\"data_to_submit\"].to_csv('submit_2_1.csv', index = False)"
   ]
  },
  {
   "cell_type": "code",
   "execution_count": null,
   "metadata": {},
   "outputs": [],
   "source": []
  }
 ],
 "metadata": {
  "kernelspec": {
   "display_name": "Python 3",
   "language": "python",
   "name": "python3"
  },
  "language_info": {
   "codemirror_mode": {
    "name": "ipython",
    "version": 3
   },
   "file_extension": ".py",
   "mimetype": "text/x-python",
   "name": "python",
   "nbconvert_exporter": "python",
   "pygments_lexer": "ipython3",
   "version": "3.7.6"
  },
  "toc": {
   "base_numbering": 1,
   "nav_menu": {},
   "number_sections": true,
   "sideBar": true,
   "skip_h1_title": false,
   "title_cell": "Table of Contents",
   "title_sidebar": "Contents",
   "toc_cell": false,
   "toc_position": {},
   "toc_section_display": true,
   "toc_window_display": false
  },
  "varInspector": {
   "cols": {
    "lenName": 16,
    "lenType": 16,
    "lenVar": 40
   },
   "kernels_config": {
    "python": {
     "delete_cmd_postfix": "",
     "delete_cmd_prefix": "del ",
     "library": "var_list.py",
     "varRefreshCmd": "print(var_dic_list())"
    },
    "r": {
     "delete_cmd_postfix": ") ",
     "delete_cmd_prefix": "rm(",
     "library": "var_list.r",
     "varRefreshCmd": "cat(var_dic_list()) "
    }
   },
   "types_to_exclude": [
    "module",
    "function",
    "builtin_function_or_method",
    "instance",
    "_Feature"
   ],
   "window_display": false
  }
 },
 "nbformat": 4,
 "nbformat_minor": 4
}
