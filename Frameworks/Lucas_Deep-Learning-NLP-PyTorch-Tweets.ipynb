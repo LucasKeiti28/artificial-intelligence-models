{
 "cells": [
  {
   "cell_type": "markdown",
   "metadata": {},
   "source": [
    "# Analysing Tweets to predict if the natural disaster is true or false"
   ]
  },
  {
   "cell_type": "markdown",
   "metadata": {},
   "source": [
    "Data source: https://appen.com/datasets/combined-disaster-response-data/"
   ]
  },
  {
   "cell_type": "code",
   "execution_count": 1,
   "metadata": {
    "ExecuteTime": {
     "end_time": "2020-11-17T11:00:45.777929Z",
     "start_time": "2020-11-17T11:00:41.277540Z"
    }
   },
   "outputs": [],
   "source": [
    "# Instala o pacote gensim\n",
    "!pip install -q gensim "
   ]
  },
  {
   "cell_type": "code",
   "execution_count": 2,
   "metadata": {
    "ExecuteTime": {
     "end_time": "2020-11-17T11:01:05.238724Z",
     "start_time": "2020-11-17T11:01:02.827927Z"
    }
   },
   "outputs": [],
   "source": [
    "# Imports\n",
    "import re\n",
    "import gc\n",
    "import nltk\n",
    "import torch\n",
    "import sklearn\n",
    "import gensim\n",
    "import numpy as np\n",
    "import pandas as pd\n",
    "import torch.nn as nn\n",
    "import matplotlib.pyplot as plt\n",
    "import seaborn as sns\n",
    "import gensim.downloader as api\n",
    "from collections import Counter\n",
    "from copy import deepcopy\n",
    "from nltk.tokenize import TweetTokenizer\n",
    "from nltk.sentiment.vader import SentimentIntensityAnalyzer\n",
    "from nltk.corpus import stopwords\n",
    "from gensim.models.word2vec import Word2Vec\n",
    "from sklearn.preprocessing import MinMaxScaler\n",
    "from sklearn.model_selection import train_test_split\n",
    "%matplotlib inline"
   ]
  },
  {
   "cell_type": "code",
   "execution_count": 3,
   "metadata": {
    "ExecuteTime": {
     "end_time": "2020-11-17T11:01:10.819285Z",
     "start_time": "2020-11-17T11:01:10.685642Z"
    }
   },
   "outputs": [
    {
     "name": "stdout",
     "output_type": "stream",
     "text": [
      "gensim   3.8.3\n",
      "sklearn  0.23.1\n",
      "autopep8 1.4.4\n",
      "numpy    1.18.1\n",
      "nltk     3.4.5\n",
      "torch    1.5.1\n",
      "pandas   1.0.1\n",
      "seaborn  0.10.0\n",
      "json     2.0.9\n",
      "re       2.2.1\n",
      "Data Science Academy\n"
     ]
    }
   ],
   "source": [
    "# Versões dos pacotes usados neste jupyter notebook\n",
    "%reload_ext watermark\n",
    "%watermark -a \"Data Science Academy\" --iversions"
   ]
  },
  {
   "cell_type": "code",
   "execution_count": 4,
   "metadata": {
    "ExecuteTime": {
     "end_time": "2020-11-17T11:01:26.682817Z",
     "start_time": "2020-11-17T11:01:21.583045Z"
    }
   },
   "outputs": [
    {
     "name": "stdout",
     "output_type": "stream",
     "text": [
      "Dispositivo sendo usado: cpu\n"
     ]
    }
   ],
   "source": [
    "# Determina o device onde o modelo será executado\n",
    "device = 'cuda' if torch.cuda.is_available() else 'cpu'\n",
    "print(f'Dispositivo sendo usado: {device}')"
   ]
  },
  {
   "cell_type": "code",
   "execution_count": 5,
   "metadata": {
    "ExecuteTime": {
     "end_time": "2020-11-17T11:01:36.755238Z",
     "start_time": "2020-11-17T11:01:36.179970Z"
    }
   },
   "outputs": [
    {
     "name": "stdout",
     "output_type": "stream",
     "text": [
      "NVIDIA-SMI has failed because it couldn't communicate with the NVIDIA driver. Make sure that the latest NVIDIA driver is installed and running.\r\n",
      "\r\n"
     ]
    }
   ],
   "source": [
    "!nvidia-smi"
   ]
  },
  {
   "cell_type": "code",
   "execution_count": 6,
   "metadata": {
    "ExecuteTime": {
     "end_time": "2020-11-17T11:02:19.503919Z",
     "start_time": "2020-11-17T11:02:19.425250Z"
    }
   },
   "outputs": [
    {
     "name": "stderr",
     "output_type": "stream",
     "text": [
      "[nltk_data] Downloading package averaged_perceptron_tagger to\n",
      "[nltk_data]     /home/lucas/nltk_data...\n",
      "[nltk_data]   Package averaged_perceptron_tagger is already up-to-\n",
      "[nltk_data]       date!\n"
     ]
    },
    {
     "data": {
      "text/plain": [
       "True"
      ]
     },
     "execution_count": 6,
     "metadata": {},
     "output_type": "execute_result"
    }
   ],
   "source": [
    "# Download do etiquetador NLTK\n",
    "nltk.download('averaged_perceptron_tagger')"
   ]
  },
  {
   "cell_type": "code",
   "execution_count": 7,
   "metadata": {
    "ExecuteTime": {
     "end_time": "2020-11-17T11:02:26.840710Z",
     "start_time": "2020-11-17T11:02:26.829605Z"
    }
   },
   "outputs": [
    {
     "name": "stderr",
     "output_type": "stream",
     "text": [
      "[nltk_data] Downloading package vader_lexicon to\n",
      "[nltk_data]     /home/lucas/nltk_data...\n",
      "[nltk_data]   Package vader_lexicon is already up-to-date!\n"
     ]
    },
    {
     "data": {
      "text/plain": [
       "True"
      ]
     },
     "execution_count": 7,
     "metadata": {},
     "output_type": "execute_result"
    }
   ],
   "source": [
    "# Download do léxico\n",
    "nltk.download('vader_lexicon')"
   ]
  },
  {
   "cell_type": "markdown",
   "metadata": {},
   "source": [
    "## Pre Processing"
   ]
  },
  {
   "cell_type": "markdown",
   "metadata": {},
   "source": [
    "### Cleaning Text"
   ]
  },
  {
   "cell_type": "code",
   "execution_count": 8,
   "metadata": {
    "ExecuteTime": {
     "end_time": "2020-11-17T11:03:30.343318Z",
     "start_time": "2020-11-17T11:03:30.340406Z"
    }
   },
   "outputs": [],
   "source": [
    "# Função para normalização do texto\n",
    "def normaliza_tweet(text):\n",
    "\n",
    "    # Altera hiperlinks para tokens '<url>'\n",
    "    output = re.sub(r'http[s]{0,1}://t.co/[a-zA-Z0-9]+\\b', '<url>', text)\n",
    "    \n",
    "    # Separa todos os sinais '#' da palavra seguinte com um espaço em branco\n",
    "    output = re.sub(r'#(\\w+)', r'# \\1', output)\n",
    "\n",
    "    return output"
   ]
  },
  {
   "cell_type": "code",
   "execution_count": 9,
   "metadata": {
    "ExecuteTime": {
     "end_time": "2020-11-17T11:03:44.944905Z",
     "start_time": "2020-11-17T11:03:44.942534Z"
    }
   },
   "outputs": [],
   "source": [
    "# Função para tokenização\n",
    "# Tokeniza as sentenças, mas deixa hastags (#) e users (@)\n",
    "def tokenize(tokenizer, string):    \n",
    "    tokenized = tokenizer.tokenize(string)\n",
    "    return tokenized"
   ]
  },
  {
   "cell_type": "code",
   "execution_count": 10,
   "metadata": {
    "ExecuteTime": {
     "end_time": "2020-11-17T11:04:29.766408Z",
     "start_time": "2020-11-17T11:04:29.758279Z"
    }
   },
   "outputs": [],
   "source": [
    "# Função que retorna a string tokenizada (lista) com números substituídos por um token numérico\n",
    "def numero_tokens(tokenized_string, num_token = '<number>'):\n",
    "    \n",
    "    # Cria uma lista de tuplas (palavra, tags POS)\n",
    "    pos_tagged = nltk.pos_tag(tokenized_string)\n",
    "    \n",
    "    # Encontre índices de número de POS tags\n",
    "    num_indices = [idx for idx in range(len(pos_tagged)) if pos_tagged[idx][1] == 'CD']\n",
    "    \n",
    "    # Substitui números por token\n",
    "    for idx in num_indices:\n",
    "        tokenized_string[idx] = num_token\n",
    "        \n",
    "    return tokenized_string "
   ]
  },
  {
   "cell_type": "code",
   "execution_count": 11,
   "metadata": {
    "ExecuteTime": {
     "end_time": "2020-11-17T11:04:55.203164Z",
     "start_time": "2020-11-17T11:04:55.200281Z"
    }
   },
   "outputs": [],
   "source": [
    "# Função que executa todas as funções de limpeza de texto\n",
    "def preprocessa_texto(tokenizer, string):    \n",
    "    return numero_tokens(tokenize(tokenizer, normaliza_tweet(string)))"
   ]
  },
  {
   "cell_type": "code",
   "execution_count": 12,
   "metadata": {
    "ExecuteTime": {
     "end_time": "2020-11-17T11:05:22.959749Z",
     "start_time": "2020-11-17T11:05:22.955164Z"
    }
   },
   "outputs": [],
   "source": [
    "# Retorna palavra chave tokenizada e limpa\n",
    "def preprocessa_keyword(keyword):\n",
    "    \n",
    "    # Retorna None se a palavra-chave for np.nan\n",
    "    if type(keyword) == np.float and np.isnan(keyword):\n",
    "        return\n",
    "    \n",
    "    # Replace '%20' com espaço, minúsculo e tokenizado\n",
    "    output = re.sub(r'%20', ' ', keyword)\n",
    "    output = output.lower()\n",
    "    output = output.split()\n",
    "    return output"
   ]
  },
  {
   "cell_type": "markdown",
   "metadata": {},
   "source": [
    "## Feature Engineering"
   ]
  },
  {
   "cell_type": "code",
   "execution_count": 13,
   "metadata": {
    "ExecuteTime": {
     "end_time": "2020-11-17T11:06:33.357670Z",
     "start_time": "2020-11-17T11:06:33.354859Z"
    }
   },
   "outputs": [],
   "source": [
    "# Função que retorna um número inteiro que indica palavras com todas as letras maiúsculas.\n",
    "def count_all_caps(text):\n",
    "    return len([word for word in text.split() if word.isupper()])"
   ]
  },
  {
   "cell_type": "code",
   "execution_count": 14,
   "metadata": {
    "ExecuteTime": {
     "end_time": "2020-11-17T11:06:38.161276Z",
     "start_time": "2020-11-17T11:06:38.158307Z"
    }
   },
   "outputs": [],
   "source": [
    "# Função que retorna um número inteiro que indica se a primeira letra da palavra é maiúscula.\n",
    "def count_capitalized(text):\n",
    "    return len([word for word in text.split() if word.istitle()])"
   ]
  },
  {
   "cell_type": "code",
   "execution_count": 15,
   "metadata": {
    "ExecuteTime": {
     "end_time": "2020-11-17T11:06:42.574447Z",
     "start_time": "2020-11-17T11:06:42.569409Z"
    }
   },
   "outputs": [],
   "source": [
    "# Função que retorna um número inteiro indicando total de palavras no tweet.\n",
    "def count_words(text):\n",
    "    return len(text.split())"
   ]
  },
  {
   "cell_type": "code",
   "execution_count": 16,
   "metadata": {
    "ExecuteTime": {
     "end_time": "2020-11-17T11:07:44.541097Z",
     "start_time": "2020-11-17T11:07:44.533477Z"
    }
   },
   "outputs": [],
   "source": [
    "# Função que adiciona 4 colunas de pontuações de análise de sentimento a um DataFrame. \n",
    "def sentiment_analyze_df(df, column):\n",
    "\n",
    "    # Instância do analisador de sentimento\n",
    "    sid = SentimentIntensityAnalyzer()\n",
    "    \n",
    "    # Cria uma matriz e preenche com pontuações de cada um dos df[coluna]\n",
    "    output_values = np.zeros((len(df), 4))\n",
    "    for tup in df.itertuples():\n",
    "        output_values[tup.Index, :] = list(sid.polarity_scores(' '.join(getattr(tup, column))).values())\n",
    "    \n",
    "    # Adiciona coluna à entrada DataFrame\n",
    "    for idx, col in enumerate(['sent_neg', 'sent_neu', 'sent_pos', 'sent_compound']):\n",
    "        df[col] = output_values[:, idx]"
   ]
  },
  {
   "cell_type": "markdown",
   "metadata": {},
   "source": [
    "## Word Embedding Functions"
   ]
  },
  {
   "cell_type": "markdown",
   "metadata": {},
   "source": [
    "### Text Embedding"
   ]
  },
  {
   "cell_type": "code",
   "execution_count": 17,
   "metadata": {
    "ExecuteTime": {
     "end_time": "2020-11-17T11:08:38.742699Z",
     "start_time": "2020-11-17T11:08:38.738668Z"
    }
   },
   "outputs": [],
   "source": [
    "# Função que retorna o vetor embedding da palavra de entrada\n",
    "def get_word_vec(embedding_model, use_norm, word):\n",
    "\n",
    "    if word[0] == '@':\n",
    "        return embedding_model.word_vec('<user>', use_norm = use_norm)\n",
    "        \n",
    "    elif word == '#':\n",
    "        return embedding_model.word_vec('<hashtag>', use_norm = use_norm)\n",
    "\n",
    "    elif word in embedding_model.vocab:\n",
    "        return embedding_model.word_vec(word, use_norm = use_norm)\n",
    "\n",
    "    else:\n",
    "        return embedding_model.word_vec('<UNK>', use_norm = use_norm)"
   ]
  },
  {
   "cell_type": "code",
   "execution_count": 18,
   "metadata": {
    "ExecuteTime": {
     "end_time": "2020-11-17T11:14:19.821786Z",
     "start_time": "2020-11-17T11:14:19.817261Z"
    }
   },
   "outputs": [],
   "source": [
    "# Função que retorna vetores embedding dos tweets\n",
    "def text_to_vectors(embedding_model, use_norm, tokenized_text):\n",
    "    vectors = [get_word_vec(embedding_model, use_norm, word) for word in tokenized_text]\n",
    "    vectors = np.array(vectors)\n",
    "    \n",
    "    return vectors"
   ]
  },
  {
   "cell_type": "code",
   "execution_count": 19,
   "metadata": {
    "ExecuteTime": {
     "end_time": "2020-11-17T11:14:48.831640Z",
     "start_time": "2020-11-17T11:14:48.824582Z"
    }
   },
   "outputs": [],
   "source": [
    "# Função que retorna uma matriz de vetores embedding dos textos com dimensões (seq_len, embedding)\n",
    "def trim_and_pad_vectors(text_vectors, embedding_dimension, seq_len):\n",
    "\n",
    "    # Instancia matriz de 0's \n",
    "    output = np.zeros((seq_len, embedding_dimension))\n",
    "\n",
    "    # Ajusta tweets mais longos para seq_len \n",
    "    trimmed_vectors = text_vectors[:seq_len]\n",
    "\n",
    "    # Determina o índice de fim do padding e começo do tweet embedding\n",
    "    end_of_padding_index = seq_len - trimmed_vectors.shape[0]\n",
    "\n",
    "    # Output\n",
    "    output[end_of_padding_index:] = trimmed_vectors\n",
    "\n",
    "    return output"
   ]
  },
  {
   "cell_type": "code",
   "execution_count": 20,
   "metadata": {
    "ExecuteTime": {
     "end_time": "2020-11-17T11:15:01.684352Z",
     "start_time": "2020-11-17T11:15:01.681066Z"
    }
   },
   "outputs": [],
   "source": [
    "# Retorna representações embedding to texto de entrada tokenizado\n",
    "def embedding_preprocess(embedding_model, use_norm, seq_len, tokenized_text):\n",
    "    \n",
    "    # Obtém a matriz com vetores embedding (tweet length, embedding_dimension)\n",
    "    text_vectors = text_to_vectors(embedding_model, use_norm, tokenized_text)\n",
    "    \n",
    "    # Output\n",
    "    output = trim_and_pad_vectors(text_vectors, embedding_model.vector_size, seq_len)\n",
    "    \n",
    "    return output"
   ]
  },
  {
   "cell_type": "markdown",
   "metadata": {},
   "source": [
    "### Keyword Embedding"
   ]
  },
  {
   "cell_type": "code",
   "execution_count": 21,
   "metadata": {
    "ExecuteTime": {
     "end_time": "2020-11-17T11:15:19.375112Z",
     "start_time": "2020-11-17T11:15:19.370574Z"
    }
   },
   "outputs": [],
   "source": [
    "# Função que retorna vetores embedding das palavras chave\n",
    "def keyword_to_avg_vector(embedding_model, use_norm, tokenized_keyword):\n",
    "    \n",
    "    # Retorna um vetor de zeros se tokenized_keyword é None\n",
    "    if tokenized_keyword is None:\n",
    "        return np.zeros((1, embedding_model.vector_size))\n",
    "    \n",
    "    # Se não, calclula o vetor embedding médio\n",
    "    vectors = [get_word_vec(embedding_model, use_norm, word) for word in tokenized_keyword]\n",
    "    vectors = np.array(vectors)\n",
    "    avg_vector = np.mean(vectors, axis = 0)\n",
    "    avg_vector = avg_vector.reshape((1, embedding_model.vector_size))\n",
    "    return avg_vector"
   ]
  },
  {
   "cell_type": "markdown",
   "metadata": {},
   "source": [
    "## Preparacao do Modelo Embedding"
   ]
  },
  {
   "cell_type": "code",
   "execution_count": 23,
   "metadata": {
    "ExecuteTime": {
     "end_time": "2020-11-17T11:26:12.597504Z",
     "start_time": "2020-11-17T11:17:35.412539Z"
    }
   },
   "outputs": [
    {
     "name": "stdout",
     "output_type": "stream",
     "text": [
      "[==================================================] 100.0% 387.1/387.1MB downloaded\n"
     ]
    }
   ],
   "source": [
    "# Vamos carregar um modelo pré-treinado com dados do twitter\n",
    "model_glove_twitter = api.load(\"glove-twitter-100\")"
   ]
  },
  {
   "cell_type": "code",
   "execution_count": 24,
   "metadata": {
    "ExecuteTime": {
     "end_time": "2020-11-17T11:28:33.531082Z",
     "start_time": "2020-11-17T11:28:33.524750Z"
    }
   },
   "outputs": [
    {
     "data": {
      "text/plain": [
       "array([[-0.2230565 ,  0.64523584,  0.81838644,  0.92052233, -0.00592109,\n",
       "        -0.49813965, -0.11226101, -0.07982318,  0.4289542 , -0.84006774,\n",
       "        -0.9910536 ,  0.5393675 , -0.082498  ,  0.19674268,  0.39531282,\n",
       "         0.39198104,  0.40207627, -0.5908094 , -0.29090056,  0.32608655,\n",
       "         0.23183933, -0.359283  ,  0.64980435, -0.4956091 , -0.7131922 ,\n",
       "         0.22759452,  0.07942619,  0.546229  ,  0.72233135, -0.7729724 ,\n",
       "         0.02247042, -0.5508474 , -0.46613276, -0.39665043, -0.56915146,\n",
       "        -0.10072502, -0.83346057,  0.6900419 , -0.446894  , -0.70018715,\n",
       "        -0.362815  , -0.11726186, -0.58365345,  0.6720246 , -0.6872729 ,\n",
       "        -0.05048964, -0.05589513, -0.5387328 , -0.90928805,  0.82324326,\n",
       "         0.2139331 ,  0.32943997,  0.4031155 ,  0.66865   ,  0.09318189,\n",
       "         0.47203133, -0.8001486 , -0.17378911, -0.21440352, -0.82831275,\n",
       "        -0.7538899 ,  0.36812544, -0.22529863,  0.8977089 , -0.37304643,\n",
       "         0.28790438,  0.5914127 , -0.15055066,  0.14788093,  0.12132192,\n",
       "         0.46933877,  0.7517498 , -0.134325  ,  0.7998351 , -0.15344128,\n",
       "        -0.32652077, -0.25561887, -0.16369851, -0.97176653,  0.7104531 ,\n",
       "        -0.9226091 ,  0.9420348 ,  0.68235964, -0.38119248,  0.2102367 ,\n",
       "        -0.51304764, -0.5184356 , -0.38101333, -0.06876206,  0.9967387 ,\n",
       "         0.84019566, -0.06222026,  0.8321476 , -0.975565  , -0.28119147,\n",
       "        -0.675185  ,  0.9843086 , -0.671905  , -0.989026  ,  0.8674036 ]],\n",
       "      dtype=float32)"
      ]
     },
     "execution_count": 24,
     "metadata": {},
     "output_type": "execute_result"
    }
   ],
   "source": [
    "# Cria um vetor randômico para representar o token <UNK>  (unseen word)\n",
    "random_vec_for_unk = np.random.uniform(-1, 1, size = model_glove_twitter.vector_size).astype('float32')\n",
    "random_vec_for_unk = random_vec_for_unk.reshape(1, model_glove_twitter.vector_size)\n",
    "random_vec_for_unk"
   ]
  },
  {
   "cell_type": "code",
   "execution_count": 26,
   "metadata": {
    "ExecuteTime": {
     "end_time": "2020-11-17T11:28:53.823093Z",
     "start_time": "2020-11-17T11:28:53.774622Z"
    }
   },
   "outputs": [
    {
     "data": {
      "text/plain": [
       "[('ceyy', 0.437774121761322),\n",
       " ('ececeh', 0.42473921179771423),\n",
       " ('eceh', 0.42373013496398926),\n",
       " ('辛いよねー', 0.4192773699760437),\n",
       " ('cewah', 0.41670259833335876),\n",
       " ('병원', 0.4138406813144684),\n",
       " ('ceyh', 0.4126132130622864),\n",
       " ('amezcua', 0.4106030762195587),\n",
       " ('mayuri', 0.4099876880645752),\n",
       " ('남자라면', 0.4089561104774475)]"
      ]
     },
     "execution_count": 26,
     "metadata": {},
     "output_type": "execute_result"
    }
   ],
   "source": [
    "# Testa similaridade\n",
    "model_glove_twitter.most_similar(random_vec_for_unk)"
   ]
  },
  {
   "cell_type": "code",
   "execution_count": 27,
   "metadata": {
    "ExecuteTime": {
     "end_time": "2020-11-17T11:29:00.583273Z",
     "start_time": "2020-11-17T11:29:00.467028Z"
    }
   },
   "outputs": [],
   "source": [
    "# Adiciona o vetor randômico ao modelo\n",
    "model_glove_twitter.add(['<UNK>'], random_vec_for_unk, replace = True)"
   ]
  },
  {
   "cell_type": "code",
   "execution_count": 28,
   "metadata": {
    "ExecuteTime": {
     "end_time": "2020-11-17T11:29:04.324058Z",
     "start_time": "2020-11-17T11:29:04.127630Z"
    }
   },
   "outputs": [],
   "source": [
    "# Gera vetores normalizados e substitui originais\n",
    "model_glove_twitter.init_sims(replace = True)"
   ]
  },
  {
   "cell_type": "markdown",
   "metadata": {},
   "source": [
    "## Pre-Processing"
   ]
  },
  {
   "cell_type": "code",
   "execution_count": 29,
   "metadata": {
    "ExecuteTime": {
     "end_time": "2020-11-17T11:29:50.002621Z",
     "start_time": "2020-11-17T11:29:49.975754Z"
    }
   },
   "outputs": [
    {
     "data": {
      "text/html": [
       "<div>\n",
       "<style scoped>\n",
       "    .dataframe tbody tr th:only-of-type {\n",
       "        vertical-align: middle;\n",
       "    }\n",
       "\n",
       "    .dataframe tbody tr th {\n",
       "        vertical-align: top;\n",
       "    }\n",
       "\n",
       "    .dataframe thead th {\n",
       "        text-align: right;\n",
       "    }\n",
       "</style>\n",
       "<table border=\"1\" class=\"dataframe\">\n",
       "  <thead>\n",
       "    <tr style=\"text-align: right;\">\n",
       "      <th></th>\n",
       "      <th>id</th>\n",
       "      <th>keyword</th>\n",
       "      <th>location</th>\n",
       "      <th>text</th>\n",
       "      <th>target</th>\n",
       "    </tr>\n",
       "  </thead>\n",
       "  <tbody>\n",
       "    <tr>\n",
       "      <th>0</th>\n",
       "      <td>1</td>\n",
       "      <td>NaN</td>\n",
       "      <td>NaN</td>\n",
       "      <td>Our Deeds are the Reason of this #earthquake M...</td>\n",
       "      <td>1</td>\n",
       "    </tr>\n",
       "    <tr>\n",
       "      <th>1</th>\n",
       "      <td>4</td>\n",
       "      <td>NaN</td>\n",
       "      <td>NaN</td>\n",
       "      <td>Forest fire near La Ronge Sask. Canada</td>\n",
       "      <td>1</td>\n",
       "    </tr>\n",
       "    <tr>\n",
       "      <th>2</th>\n",
       "      <td>5</td>\n",
       "      <td>NaN</td>\n",
       "      <td>NaN</td>\n",
       "      <td>All residents asked to 'shelter in place' are ...</td>\n",
       "      <td>1</td>\n",
       "    </tr>\n",
       "    <tr>\n",
       "      <th>3</th>\n",
       "      <td>6</td>\n",
       "      <td>NaN</td>\n",
       "      <td>NaN</td>\n",
       "      <td>13,000 people receive #wildfires evacuation or...</td>\n",
       "      <td>1</td>\n",
       "    </tr>\n",
       "    <tr>\n",
       "      <th>4</th>\n",
       "      <td>7</td>\n",
       "      <td>NaN</td>\n",
       "      <td>NaN</td>\n",
       "      <td>Just got sent this photo from Ruby #Alaska as ...</td>\n",
       "      <td>1</td>\n",
       "    </tr>\n",
       "  </tbody>\n",
       "</table>\n",
       "</div>"
      ],
      "text/plain": [
       "   id keyword location                                               text  \\\n",
       "0   1     NaN      NaN  Our Deeds are the Reason of this #earthquake M...   \n",
       "1   4     NaN      NaN             Forest fire near La Ronge Sask. Canada   \n",
       "2   5     NaN      NaN  All residents asked to 'shelter in place' are ...   \n",
       "3   6     NaN      NaN  13,000 people receive #wildfires evacuation or...   \n",
       "4   7     NaN      NaN  Just got sent this photo from Ruby #Alaska as ...   \n",
       "\n",
       "   target  \n",
       "0       1  \n",
       "1       1  \n",
       "2       1  \n",
       "3       1  \n",
       "4       1  "
      ]
     },
     "execution_count": 29,
     "metadata": {},
     "output_type": "execute_result"
    }
   ],
   "source": [
    "# Carrega os dados de treino\n",
    "dados_treino = pd.read_csv('../../ia-lucas-dados/dados/nature_disaster/dados_treino.csv')\n",
    "dados_treino.head()"
   ]
  },
  {
   "cell_type": "code",
   "execution_count": 30,
   "metadata": {
    "ExecuteTime": {
     "end_time": "2020-11-17T11:29:58.575742Z",
     "start_time": "2020-11-17T11:29:58.573680Z"
    }
   },
   "outputs": [],
   "source": [
    "# Cria um tokenizador que transforma para letra minúscula, reduz o comprimento e preserva o usuário ('@user')\n",
    "tokenizer = TweetTokenizer(preserve_case = False, reduce_len = True, strip_handles = False) "
   ]
  },
  {
   "cell_type": "code",
   "execution_count": 31,
   "metadata": {
    "ExecuteTime": {
     "end_time": "2020-11-17T11:30:07.660170Z",
     "start_time": "2020-11-17T11:30:02.348604Z"
    }
   },
   "outputs": [],
   "source": [
    "# Normaliza e tokeniza texto\n",
    "dados_treino['tok_norm_text'] = [preprocessa_texto(tokenizer, text) for text in dados_treino['text']]"
   ]
  },
  {
   "cell_type": "code",
   "execution_count": 32,
   "metadata": {
    "ExecuteTime": {
     "end_time": "2020-11-17T11:30:10.063420Z",
     "start_time": "2020-11-17T11:30:10.038677Z"
    }
   },
   "outputs": [],
   "source": [
    "# Normaliza e tokeniza keyword\n",
    "dados_treino['keyword'] = dados_treino['keyword'].apply(preprocessa_keyword)"
   ]
  },
  {
   "cell_type": "code",
   "execution_count": 33,
   "metadata": {
    "ExecuteTime": {
     "end_time": "2020-11-17T11:30:19.311354Z",
     "start_time": "2020-11-17T11:30:19.266015Z"
    }
   },
   "outputs": [],
   "source": [
    "# Aplica as funções aos dados\n",
    "dados_treino['num_all_caps'] = dados_treino['text'].apply(count_all_caps)\n",
    "dados_treino['num_caps'] = dados_treino['text'].apply(count_capitalized)\n",
    "dados_treino['num_words'] = dados_treino['text'].apply(count_words)"
   ]
  },
  {
   "cell_type": "code",
   "execution_count": 34,
   "metadata": {
    "ExecuteTime": {
     "end_time": "2020-11-17T11:30:24.411351Z",
     "start_time": "2020-11-17T11:30:24.407840Z"
    }
   },
   "outputs": [],
   "source": [
    "# Cria um scaler para que todos os recursos estejam dentro do range [-1, 1]\n",
    "scaler = MinMaxScaler(feature_range=(-1, 1))"
   ]
  },
  {
   "cell_type": "code",
   "execution_count": 35,
   "metadata": {
    "ExecuteTime": {
     "end_time": "2020-11-17T11:30:27.766803Z",
     "start_time": "2020-11-17T11:30:27.748299Z"
    }
   },
   "outputs": [],
   "source": [
    "# Aplica o scaler\n",
    "columns_to_scale = ['num_all_caps', 'num_caps', 'num_words']\n",
    "scaler.fit(dados_treino[columns_to_scale])\n",
    "dados_treino[columns_to_scale] = scaler.transform(dados_treino[columns_to_scale])"
   ]
  },
  {
   "cell_type": "code",
   "execution_count": 36,
   "metadata": {
    "ExecuteTime": {
     "end_time": "2020-11-17T11:30:31.875589Z",
     "start_time": "2020-11-17T11:30:30.641767Z"
    }
   },
   "outputs": [],
   "source": [
    "# Cria recursos de análise de sentimentos\n",
    "sentiment_analyze_df(dados_treino, 'tok_norm_text')"
   ]
  },
  {
   "cell_type": "code",
   "execution_count": 37,
   "metadata": {
    "ExecuteTime": {
     "end_time": "2020-11-17T11:30:33.791402Z",
     "start_time": "2020-11-17T11:30:33.766856Z"
    }
   },
   "outputs": [
    {
     "data": {
      "text/html": [
       "<div>\n",
       "<style scoped>\n",
       "    .dataframe tbody tr th:only-of-type {\n",
       "        vertical-align: middle;\n",
       "    }\n",
       "\n",
       "    .dataframe tbody tr th {\n",
       "        vertical-align: top;\n",
       "    }\n",
       "\n",
       "    .dataframe thead th {\n",
       "        text-align: right;\n",
       "    }\n",
       "</style>\n",
       "<table border=\"1\" class=\"dataframe\">\n",
       "  <thead>\n",
       "    <tr style=\"text-align: right;\">\n",
       "      <th></th>\n",
       "      <th>id</th>\n",
       "      <th>keyword</th>\n",
       "      <th>location</th>\n",
       "      <th>text</th>\n",
       "      <th>target</th>\n",
       "      <th>tok_norm_text</th>\n",
       "      <th>num_all_caps</th>\n",
       "      <th>num_caps</th>\n",
       "      <th>num_words</th>\n",
       "      <th>sent_neg</th>\n",
       "      <th>sent_neu</th>\n",
       "      <th>sent_pos</th>\n",
       "      <th>sent_compound</th>\n",
       "    </tr>\n",
       "  </thead>\n",
       "  <tbody>\n",
       "    <tr>\n",
       "      <th>0</th>\n",
       "      <td>1</td>\n",
       "      <td>None</td>\n",
       "      <td>NaN</td>\n",
       "      <td>Our Deeds are the Reason of this #earthquake M...</td>\n",
       "      <td>1</td>\n",
       "      <td>[our, deeds, are, the, reason, of, this, #, ea...</td>\n",
       "      <td>-0.92</td>\n",
       "      <td>-0.565217</td>\n",
       "      <td>-0.200000</td>\n",
       "      <td>0.000</td>\n",
       "      <td>0.851</td>\n",
       "      <td>0.149</td>\n",
       "      <td>0.2732</td>\n",
       "    </tr>\n",
       "    <tr>\n",
       "      <th>1</th>\n",
       "      <td>4</td>\n",
       "      <td>None</td>\n",
       "      <td>NaN</td>\n",
       "      <td>Forest fire near La Ronge Sask. Canada</td>\n",
       "      <td>1</td>\n",
       "      <td>[forest, fire, near, la, ronge, sask, ., canada]</td>\n",
       "      <td>-1.00</td>\n",
       "      <td>-0.565217</td>\n",
       "      <td>-0.600000</td>\n",
       "      <td>0.286</td>\n",
       "      <td>0.714</td>\n",
       "      <td>0.000</td>\n",
       "      <td>-0.3400</td>\n",
       "    </tr>\n",
       "    <tr>\n",
       "      <th>2</th>\n",
       "      <td>5</td>\n",
       "      <td>None</td>\n",
       "      <td>NaN</td>\n",
       "      <td>All residents asked to 'shelter in place' are ...</td>\n",
       "      <td>1</td>\n",
       "      <td>[all, residents, asked, to, ', shelter, in, pl...</td>\n",
       "      <td>-1.00</td>\n",
       "      <td>-0.826087</td>\n",
       "      <td>0.400000</td>\n",
       "      <td>0.095</td>\n",
       "      <td>0.905</td>\n",
       "      <td>0.000</td>\n",
       "      <td>-0.2960</td>\n",
       "    </tr>\n",
       "    <tr>\n",
       "      <th>3</th>\n",
       "      <td>6</td>\n",
       "      <td>None</td>\n",
       "      <td>NaN</td>\n",
       "      <td>13,000 people receive #wildfires evacuation or...</td>\n",
       "      <td>1</td>\n",
       "      <td>[&lt;number&gt;, people, receive, #, wildfires, evac...</td>\n",
       "      <td>-1.00</td>\n",
       "      <td>-0.913043</td>\n",
       "      <td>-0.533333</td>\n",
       "      <td>0.000</td>\n",
       "      <td>1.000</td>\n",
       "      <td>0.000</td>\n",
       "      <td>0.0000</td>\n",
       "    </tr>\n",
       "    <tr>\n",
       "      <th>4</th>\n",
       "      <td>7</td>\n",
       "      <td>None</td>\n",
       "      <td>NaN</td>\n",
       "      <td>Just got sent this photo from Ruby #Alaska as ...</td>\n",
       "      <td>1</td>\n",
       "      <td>[just, got, sent, this, photo, from, ruby, #, ...</td>\n",
       "      <td>-1.00</td>\n",
       "      <td>-0.739130</td>\n",
       "      <td>0.000000</td>\n",
       "      <td>0.000</td>\n",
       "      <td>1.000</td>\n",
       "      <td>0.000</td>\n",
       "      <td>0.0000</td>\n",
       "    </tr>\n",
       "  </tbody>\n",
       "</table>\n",
       "</div>"
      ],
      "text/plain": [
       "   id keyword location                                               text  \\\n",
       "0   1    None      NaN  Our Deeds are the Reason of this #earthquake M...   \n",
       "1   4    None      NaN             Forest fire near La Ronge Sask. Canada   \n",
       "2   5    None      NaN  All residents asked to 'shelter in place' are ...   \n",
       "3   6    None      NaN  13,000 people receive #wildfires evacuation or...   \n",
       "4   7    None      NaN  Just got sent this photo from Ruby #Alaska as ...   \n",
       "\n",
       "   target                                      tok_norm_text  num_all_caps  \\\n",
       "0       1  [our, deeds, are, the, reason, of, this, #, ea...         -0.92   \n",
       "1       1   [forest, fire, near, la, ronge, sask, ., canada]         -1.00   \n",
       "2       1  [all, residents, asked, to, ', shelter, in, pl...         -1.00   \n",
       "3       1  [<number>, people, receive, #, wildfires, evac...         -1.00   \n",
       "4       1  [just, got, sent, this, photo, from, ruby, #, ...         -1.00   \n",
       "\n",
       "   num_caps  num_words  sent_neg  sent_neu  sent_pos  sent_compound  \n",
       "0 -0.565217  -0.200000     0.000     0.851     0.149         0.2732  \n",
       "1 -0.565217  -0.600000     0.286     0.714     0.000        -0.3400  \n",
       "2 -0.826087   0.400000     0.095     0.905     0.000        -0.2960  \n",
       "3 -0.913043  -0.533333     0.000     1.000     0.000         0.0000  \n",
       "4 -0.739130   0.000000     0.000     1.000     0.000         0.0000  "
      ]
     },
     "execution_count": 37,
     "metadata": {},
     "output_type": "execute_result"
    }
   ],
   "source": [
    "# Visualiza\n",
    "dados_treino.head()"
   ]
  },
  {
   "cell_type": "code",
   "execution_count": 39,
   "metadata": {
    "ExecuteTime": {
     "end_time": "2020-11-17T11:30:49.501095Z",
     "start_time": "2020-11-17T11:30:49.295453Z"
    }
   },
   "outputs": [
    {
     "data": {
      "text/plain": [
       "<matplotlib.axes._subplots.AxesSubplot at 0x7fa36bd75610>"
      ]
     },
     "execution_count": 39,
     "metadata": {},
     "output_type": "execute_result"
    },
    {
     "data": {
      "image/png": "[encoded data removed]",
      "text/plain": [
       "<Figure size 432x288 with 1 Axes>"
      ]
     },
     "metadata": {
      "needs_background": "light"
     },
     "output_type": "display_data"
    }
   ],
   "source": [
    "# Plot\n",
    "sns.distplot([len(tok) for tok in dados_treino['tok_norm_text']])"
   ]
  },
  {
   "cell_type": "markdown",
   "metadata": {},
   "source": [
    "### Text Attrbutes to Represeting Words Embedding"
   ]
  },
  {
   "cell_type": "code",
   "execution_count": 40,
   "metadata": {
    "ExecuteTime": {
     "end_time": "2020-11-17T11:31:45.564024Z",
     "start_time": "2020-11-17T11:31:45.562226Z"
    }
   },
   "outputs": [],
   "source": [
    "# Sequência máxima\n",
    "sequence_max_length = 30"
   ]
  },
  {
   "cell_type": "code",
   "execution_count": 41,
   "metadata": {
    "ExecuteTime": {
     "end_time": "2020-11-17T11:31:48.798497Z",
     "start_time": "2020-11-17T11:31:48.495073Z"
    }
   },
   "outputs": [],
   "source": [
    "# Gera o embedding do texto\n",
    "dados_treino['text_embedding'] = [embedding_preprocess(embedding_model = model_glove_twitter, \n",
    "                                                       use_norm = True, \n",
    "                                                       seq_len = sequence_max_length, \n",
    "                                                       tokenized_text = text) \n",
    "                                  for text in dados_treino['tok_norm_text']]"
   ]
  },
  {
   "cell_type": "code",
   "execution_count": 42,
   "metadata": {
    "ExecuteTime": {
     "end_time": "2020-11-17T11:31:51.265118Z",
     "start_time": "2020-11-17T11:31:51.137528Z"
    }
   },
   "outputs": [],
   "source": [
    "# Gera o embedding da palavra chave\n",
    "dados_treino['keyword_embedding'] = [keyword_to_avg_vector(embedding_model = model_glove_twitter, \n",
    "                                                           use_norm = True, \n",
    "                                                           tokenized_keyword = keyword) \n",
    "                                     for keyword in dados_treino['keyword']]"
   ]
  },
  {
   "cell_type": "code",
   "execution_count": 43,
   "metadata": {
    "ExecuteTime": {
     "end_time": "2020-11-17T11:31:55.959603Z",
     "start_time": "2020-11-17T11:31:55.758632Z"
    }
   },
   "outputs": [
    {
     "data": {
      "text/html": [
       "<div>\n",
       "<style scoped>\n",
       "    .dataframe tbody tr th:only-of-type {\n",
       "        vertical-align: middle;\n",
       "    }\n",
       "\n",
       "    .dataframe tbody tr th {\n",
       "        vertical-align: top;\n",
       "    }\n",
       "\n",
       "    .dataframe thead th {\n",
       "        text-align: right;\n",
       "    }\n",
       "</style>\n",
       "<table border=\"1\" class=\"dataframe\">\n",
       "  <thead>\n",
       "    <tr style=\"text-align: right;\">\n",
       "      <th></th>\n",
       "      <th>id</th>\n",
       "      <th>keyword</th>\n",
       "      <th>location</th>\n",
       "      <th>text</th>\n",
       "      <th>target</th>\n",
       "      <th>tok_norm_text</th>\n",
       "      <th>num_all_caps</th>\n",
       "      <th>num_caps</th>\n",
       "      <th>num_words</th>\n",
       "      <th>sent_neg</th>\n",
       "      <th>sent_neu</th>\n",
       "      <th>sent_pos</th>\n",
       "      <th>sent_compound</th>\n",
       "      <th>text_embedding</th>\n",
       "      <th>keyword_embedding</th>\n",
       "    </tr>\n",
       "  </thead>\n",
       "  <tbody>\n",
       "    <tr>\n",
       "      <th>0</th>\n",
       "      <td>1</td>\n",
       "      <td>None</td>\n",
       "      <td>NaN</td>\n",
       "      <td>Our Deeds are the Reason of this #earthquake M...</td>\n",
       "      <td>1</td>\n",
       "      <td>[our, deeds, are, the, reason, of, this, #, ea...</td>\n",
       "      <td>-0.92</td>\n",
       "      <td>-0.565217</td>\n",
       "      <td>-0.200000</td>\n",
       "      <td>0.000</td>\n",
       "      <td>0.851</td>\n",
       "      <td>0.149</td>\n",
       "      <td>0.2732</td>\n",
       "      <td>[[0.0, 0.0, 0.0, 0.0, 0.0, 0.0, 0.0, 0.0, 0.0,...</td>\n",
       "      <td>[[0.0, 0.0, 0.0, 0.0, 0.0, 0.0, 0.0, 0.0, 0.0,...</td>\n",
       "    </tr>\n",
       "    <tr>\n",
       "      <th>1</th>\n",
       "      <td>4</td>\n",
       "      <td>None</td>\n",
       "      <td>NaN</td>\n",
       "      <td>Forest fire near La Ronge Sask. Canada</td>\n",
       "      <td>1</td>\n",
       "      <td>[forest, fire, near, la, ronge, sask, ., canada]</td>\n",
       "      <td>-1.00</td>\n",
       "      <td>-0.565217</td>\n",
       "      <td>-0.600000</td>\n",
       "      <td>0.286</td>\n",
       "      <td>0.714</td>\n",
       "      <td>0.000</td>\n",
       "      <td>-0.3400</td>\n",
       "      <td>[[0.0, 0.0, 0.0, 0.0, 0.0, 0.0, 0.0, 0.0, 0.0,...</td>\n",
       "      <td>[[0.0, 0.0, 0.0, 0.0, 0.0, 0.0, 0.0, 0.0, 0.0,...</td>\n",
       "    </tr>\n",
       "    <tr>\n",
       "      <th>2</th>\n",
       "      <td>5</td>\n",
       "      <td>None</td>\n",
       "      <td>NaN</td>\n",
       "      <td>All residents asked to 'shelter in place' are ...</td>\n",
       "      <td>1</td>\n",
       "      <td>[all, residents, asked, to, ', shelter, in, pl...</td>\n",
       "      <td>-1.00</td>\n",
       "      <td>-0.826087</td>\n",
       "      <td>0.400000</td>\n",
       "      <td>0.095</td>\n",
       "      <td>0.905</td>\n",
       "      <td>0.000</td>\n",
       "      <td>-0.2960</td>\n",
       "      <td>[[0.0, 0.0, 0.0, 0.0, 0.0, 0.0, 0.0, 0.0, 0.0,...</td>\n",
       "      <td>[[0.0, 0.0, 0.0, 0.0, 0.0, 0.0, 0.0, 0.0, 0.0,...</td>\n",
       "    </tr>\n",
       "    <tr>\n",
       "      <th>3</th>\n",
       "      <td>6</td>\n",
       "      <td>None</td>\n",
       "      <td>NaN</td>\n",
       "      <td>13,000 people receive #wildfires evacuation or...</td>\n",
       "      <td>1</td>\n",
       "      <td>[&lt;number&gt;, people, receive, #, wildfires, evac...</td>\n",
       "      <td>-1.00</td>\n",
       "      <td>-0.913043</td>\n",
       "      <td>-0.533333</td>\n",
       "      <td>0.000</td>\n",
       "      <td>1.000</td>\n",
       "      <td>0.000</td>\n",
       "      <td>0.0000</td>\n",
       "      <td>[[0.0, 0.0, 0.0, 0.0, 0.0, 0.0, 0.0, 0.0, 0.0,...</td>\n",
       "      <td>[[0.0, 0.0, 0.0, 0.0, 0.0, 0.0, 0.0, 0.0, 0.0,...</td>\n",
       "    </tr>\n",
       "    <tr>\n",
       "      <th>4</th>\n",
       "      <td>7</td>\n",
       "      <td>None</td>\n",
       "      <td>NaN</td>\n",
       "      <td>Just got sent this photo from Ruby #Alaska as ...</td>\n",
       "      <td>1</td>\n",
       "      <td>[just, got, sent, this, photo, from, ruby, #, ...</td>\n",
       "      <td>-1.00</td>\n",
       "      <td>-0.739130</td>\n",
       "      <td>0.000000</td>\n",
       "      <td>0.000</td>\n",
       "      <td>1.000</td>\n",
       "      <td>0.000</td>\n",
       "      <td>0.0000</td>\n",
       "      <td>[[0.0, 0.0, 0.0, 0.0, 0.0, 0.0, 0.0, 0.0, 0.0,...</td>\n",
       "      <td>[[0.0, 0.0, 0.0, 0.0, 0.0, 0.0, 0.0, 0.0, 0.0,...</td>\n",
       "    </tr>\n",
       "  </tbody>\n",
       "</table>\n",
       "</div>"
      ],
      "text/plain": [
       "   id keyword location                                               text  \\\n",
       "0   1    None      NaN  Our Deeds are the Reason of this #earthquake M...   \n",
       "1   4    None      NaN             Forest fire near La Ronge Sask. Canada   \n",
       "2   5    None      NaN  All residents asked to 'shelter in place' are ...   \n",
       "3   6    None      NaN  13,000 people receive #wildfires evacuation or...   \n",
       "4   7    None      NaN  Just got sent this photo from Ruby #Alaska as ...   \n",
       "\n",
       "   target                                      tok_norm_text  num_all_caps  \\\n",
       "0       1  [our, deeds, are, the, reason, of, this, #, ea...         -0.92   \n",
       "1       1   [forest, fire, near, la, ronge, sask, ., canada]         -1.00   \n",
       "2       1  [all, residents, asked, to, ', shelter, in, pl...         -1.00   \n",
       "3       1  [<number>, people, receive, #, wildfires, evac...         -1.00   \n",
       "4       1  [just, got, sent, this, photo, from, ruby, #, ...         -1.00   \n",
       "\n",
       "   num_caps  num_words  sent_neg  sent_neu  sent_pos  sent_compound  \\\n",
       "0 -0.565217  -0.200000     0.000     0.851     0.149         0.2732   \n",
       "1 -0.565217  -0.600000     0.286     0.714     0.000        -0.3400   \n",
       "2 -0.826087   0.400000     0.095     0.905     0.000        -0.2960   \n",
       "3 -0.913043  -0.533333     0.000     1.000     0.000         0.0000   \n",
       "4 -0.739130   0.000000     0.000     1.000     0.000         0.0000   \n",
       "\n",
       "                                      text_embedding  \\\n",
       "0  [[0.0, 0.0, 0.0, 0.0, 0.0, 0.0, 0.0, 0.0, 0.0,...   \n",
       "1  [[0.0, 0.0, 0.0, 0.0, 0.0, 0.0, 0.0, 0.0, 0.0,...   \n",
       "2  [[0.0, 0.0, 0.0, 0.0, 0.0, 0.0, 0.0, 0.0, 0.0,...   \n",
       "3  [[0.0, 0.0, 0.0, 0.0, 0.0, 0.0, 0.0, 0.0, 0.0,...   \n",
       "4  [[0.0, 0.0, 0.0, 0.0, 0.0, 0.0, 0.0, 0.0, 0.0,...   \n",
       "\n",
       "                                   keyword_embedding  \n",
       "0  [[0.0, 0.0, 0.0, 0.0, 0.0, 0.0, 0.0, 0.0, 0.0,...  \n",
       "1  [[0.0, 0.0, 0.0, 0.0, 0.0, 0.0, 0.0, 0.0, 0.0,...  \n",
       "2  [[0.0, 0.0, 0.0, 0.0, 0.0, 0.0, 0.0, 0.0, 0.0,...  \n",
       "3  [[0.0, 0.0, 0.0, 0.0, 0.0, 0.0, 0.0, 0.0, 0.0,...  \n",
       "4  [[0.0, 0.0, 0.0, 0.0, 0.0, 0.0, 0.0, 0.0, 0.0,...  "
      ]
     },
     "execution_count": 43,
     "metadata": {},
     "output_type": "execute_result"
    }
   ],
   "source": [
    "# Visualiza\n",
    "dados_treino.head()"
   ]
  },
  {
   "cell_type": "markdown",
   "metadata": {},
   "source": [
    "### Representação Embedding Para Todos os Recursos Escolhidos"
   ]
  },
  {
   "cell_type": "code",
   "execution_count": 45,
   "metadata": {
    "ExecuteTime": {
     "end_time": "2020-11-17T11:32:43.367904Z",
     "start_time": "2020-11-17T11:32:43.365261Z"
    }
   },
   "outputs": [],
   "source": [
    "# Função que retorna um array numpy contendo valores únicos no comprimento seq_len\n",
    "def _single_values_repeat(seq_len, static_single_values):\n",
    "    output = static_single_values.reshape((1, len(static_single_values)))\n",
    "    output = np.repeat(output, seq_len, axis = 0)\n",
    "    return output"
   ]
  },
  {
   "cell_type": "code",
   "execution_count": 46,
   "metadata": {
    "ExecuteTime": {
     "end_time": "2020-11-17T11:32:49.498838Z",
     "start_time": "2020-11-17T11:32:49.495859Z"
    }
   },
   "outputs": [],
   "source": [
    "# Retorna uma array numpy de stacked embedding vectors\n",
    "def _static_embedding_repeat(seq_len, static_embedding_values):    \n",
    "    horizontally_stacked = np.hstack(static_embedding_values)\n",
    "    output = np.repeat(horizontally_stacked, seq_len, axis = 0)\n",
    "    return output"
   ]
  },
  {
   "cell_type": "code",
   "execution_count": 47,
   "metadata": {
    "ExecuteTime": {
     "end_time": "2020-11-17T11:32:52.240328Z",
     "start_time": "2020-11-17T11:32:52.231908Z"
    }
   },
   "outputs": [],
   "source": [
    "# Função que retorna as representações embedding de todos os atributos\n",
    "def concatenate_embeddings(df, \n",
    "                           embedding_model, \n",
    "                           seq_len, \n",
    "                           sequence_embedding_col, \n",
    "                           static_embedding_cols, \n",
    "                           static_singles_cols):\n",
    "    \n",
    "    # Dimensões do embedding\n",
    "    emb_dim = embedding_model.vector_size\n",
    "    \n",
    "    # Matriz de saída\n",
    "    output = np.zeros((len(df), seq_len, len(static_singles_cols) + len(static_embedding_cols) * emb_dim + emb_dim))\n",
    "    \n",
    "    # Loop\n",
    "    for idx, row in df.iterrows():\n",
    "        \n",
    "        single_vals = _single_values_repeat(seq_len, row[static_singles_cols].values)\n",
    "        static_emb_vals = _static_embedding_repeat(seq_len, row[static_embedding_cols])\n",
    "        seq_emb_vals = row[sequence_embedding_col]\n",
    "\n",
    "        # Stack embeddings e atributos\n",
    "        row_embedding = np.hstack((single_vals, static_emb_vals, seq_emb_vals))\n",
    "\n",
    "        output[idx, :, :] = row_embedding\n",
    "        \n",
    "    return output"
   ]
  },
  {
   "cell_type": "code",
   "execution_count": 48,
   "metadata": {
    "ExecuteTime": {
     "end_time": "2020-11-17T11:33:04.422561Z",
     "start_time": "2020-11-17T11:32:55.771847Z"
    }
   },
   "outputs": [],
   "source": [
    "# Cria uma representação embedding final de todos os recursos escolhidos para treino\n",
    "embedding_matrix = concatenate_embeddings(df = dados_treino, \n",
    "                                          embedding_model = model_glove_twitter, \n",
    "                                          seq_len = sequence_max_length,\n",
    "                                          sequence_embedding_col = 'text_embedding',\n",
    "                                          static_embedding_cols = ['keyword_embedding'],\n",
    "                                          static_singles_cols = ['num_all_caps', \n",
    "                                                                 'num_caps', \n",
    "                                                                 'num_words', \n",
    "                                                                 'sent_neg', \n",
    "                                                                 'sent_neu', \n",
    "                                                                 'sent_pos', \n",
    "                                                                 'sent_compound'])"
   ]
  },
  {
   "cell_type": "code",
   "execution_count": 49,
   "metadata": {
    "ExecuteTime": {
     "end_time": "2020-11-17T11:33:04.819024Z",
     "start_time": "2020-11-17T11:33:04.816182Z"
    }
   },
   "outputs": [
    {
     "data": {
      "text/plain": [
       "(7613, 30, 207)"
      ]
     },
     "execution_count": 49,
     "metadata": {},
     "output_type": "execute_result"
    }
   ],
   "source": [
    "# Shape\n",
    "embedding_matrix.shape"
   ]
  },
  {
   "cell_type": "markdown",
   "metadata": {},
   "source": [
    "## Creating Model"
   ]
  },
  {
   "cell_type": "code",
   "execution_count": 50,
   "metadata": {
    "ExecuteTime": {
     "end_time": "2020-11-17T11:33:22.214863Z",
     "start_time": "2020-11-17T11:33:22.193266Z"
    }
   },
   "outputs": [],
   "source": [
    "# Algoritmo do Modelo BiLSTM que estende a classe nn.Module\n",
    "class BiLSTM(nn.Module):\n",
    "\n",
    "    # Método construtor\n",
    "    def __init__(self, embedding_dim, hidden_dim, num_layers, num_classes, batch_size, dropout, device):\n",
    "        super(BiLSTM, self).__init__()\n",
    "        \n",
    "        # Inicialização dos atributos\n",
    "        self.hidden_dim = hidden_dim\n",
    "        self.batch_size = batch_size\n",
    "        self.num_layers = num_layers\n",
    "\n",
    "        # Dropout para reduzir o overfitting\n",
    "        self.dropout = nn.Dropout(p = dropout)\n",
    "\n",
    "        # Modelo LSTM\n",
    "        self.lstm = nn.LSTM(input_size = embedding_dim, \n",
    "                            hidden_size = hidden_dim, \n",
    "                            num_layers = num_layers,\n",
    "                            batch_first = True, \n",
    "                            dropout = dropout, \n",
    "                            bidirectional = True)\n",
    "        \n",
    "        # Camada totalmente conectada\n",
    "        self.fc = nn.Linear(hidden_dim * 2, num_classes)\n",
    "        \n",
    "        # Device\n",
    "        self.device = device\n",
    "        \n",
    "        # Listas para avaliações e plot\n",
    "        self.train_loss = []\n",
    "        self.train_acc = []\n",
    "        self.val_loss = []\n",
    "        self.val_acc = []\n",
    "        \n",
    "        # Um atributo para manter os melhores pesos do modelo (usado para avaliação)\n",
    "        self.best_weights = deepcopy(self.state_dict())\n",
    "\n",
    "    # Camadas ocultas e células de estado LSTM\n",
    "    def _init_hidden(self, current_batch_size):\n",
    "        h0 = torch.zeros(self.num_layers * 2, current_batch_size, self.hidden_dim).to(self.device)\n",
    "        c0 = torch.zeros(self.num_layers * 2, current_batch_size, self.hidden_dim).to(self.device)\n",
    "        return h0, c0\n",
    "\n",
    "    # Forward Step\n",
    "    def forward(self, x):\n",
    "\n",
    "        # Forward LSTM\n",
    "        h, c = self._init_hidden(current_batch_size = x.size(0))\n",
    "        out, _ = self.lstm(x, (h, c))\n",
    "\n",
    "        # Dropout\n",
    "        out = self.dropout(out)\n",
    "\n",
    "        # Decode do estado oculto para o último passo de tempo\n",
    "        out = self.fc(out[:, -1, :])\n",
    "\n",
    "        return out\n",
    "    \n",
    "    # Previsões\n",
    "    def predict(self, x: torch.tensor):\n",
    "        class_predictions = self(x).data\n",
    "        _, predicted = torch.max(class_predictions, dim = 1)\n",
    "        return predicted\n",
    "\n",
    "    # Treinamento e avaliação com dados de validação\n",
    "    def _train_evaluate(self, X_train, y_train, X_val, y_val, criterion):\n",
    "\n",
    "        # Muda o modelo para modo de avaliação\n",
    "        self.eval()\n",
    "\n",
    "        # Calcula acurácia e perda nos dados de treino\n",
    "        epoch_train_acc = (self.predict(X_train) == y_train).sum().item() / y_train.shape[0]\n",
    "        epoch_train_loss = criterion(self(X_train), y_train).item()\n",
    "        self.train_acc.append(epoch_train_acc)\n",
    "        self.train_loss.append(epoch_train_loss)\n",
    "\n",
    "        # Calcula acurácia e perda nos dados de validação\n",
    "        if X_val is not None and y_val is not None:\n",
    "            epoch_val_acc = (self.predict(X_val) == y_val).sum().item() / y_val.shape[0]\n",
    "            epoch_val_loss = criterion(self(X_val), y_val).item()\n",
    "            self.val_acc.append(epoch_val_acc)\n",
    "            self.val_loss.append(epoch_val_loss)\n",
    "\n",
    "            # Retorna valores de acurácia e perda\n",
    "            return epoch_train_loss, epoch_train_acc, epoch_val_loss, epoch_val_acc\n",
    "\n",
    "        # Retorna valores de acurácia e perda se não houver dataset de validação\n",
    "        return epoch_train_loss, epoch_train_acc, None, None\n",
    "\n",
    "    # Retorna um dicionário com as melhores épocas\n",
    "    def best_epoch(self):\n",
    "        best_train_loss_epoch = np.argmin(np.array(self.train_loss)) + 1\n",
    "        best_train_acc_epoch = np.argmax(np.array(self.train_acc)) + 1\n",
    "\n",
    "        output = {'Epoch de Menor Erro em Treino': best_train_loss_epoch, \n",
    "                  'Epoch de Melhor Acurácia em Treino': best_train_acc_epoch}\n",
    "\n",
    "        if len(self.val_loss) > 0:\n",
    "            best_val_loss_epoch = np.argmin(np.array(self.val_loss))\n",
    "            best_val_acc_epoch = np.argmax(np.array(self.val_acc))\n",
    "\n",
    "            output.update({'Epoch de Menor Erro em Validação': best_val_loss_epoch, \n",
    "                           'Epoch de Melhor Acurácia em Validação': best_val_acc_epoch})\n",
    "\n",
    "        return output\n",
    "\n",
    "    # Retorna um dicionário que contém o número de parâmetros totais e treináveis.\n",
    "    def get_num_parameters(self):\n",
    "        total_params = sum(p.numel() for p in self.parameters())\n",
    "        trainable_params = sum(p.numel() for p in self.parameters() if p.requires_grad)\n",
    "        return {'total_parameters': total_params, 'trainable_parameters': trainable_params}\n",
    "\n",
    "    @staticmethod\n",
    "    def _print_progress(epoch, train_loss, train_acc, val_loss, val_acc, improved, verbose=False):\n",
    "\n",
    "        output = f'Epoch {str(epoch + 1).zfill(3)}:'\n",
    "        output += f'\\n\\t Erro em Treinamento: {str(train_loss)[:5]} | Acurácia: {str(train_acc)[:5]}.'\n",
    "\n",
    "        if val_loss is not None and val_acc is not None:\n",
    "            output += f'\\n\\t Erro em Validação: {str(val_loss)[:5]} | Acurácia: {str(val_acc)[:5]}.'\n",
    "\n",
    "        if improved:\n",
    "            output += f' Houve aprendizado!'\n",
    "\n",
    "        if verbose:\n",
    "            print(output)\n",
    "\n",
    "    # Método de treinamento\n",
    "    def fit(self, X_train, y_train, X_val, y_val, epoch_num, criterion, optimizer, verbose = False):\n",
    "\n",
    "        # Uma variável para determinar se deve atualizar os melhores pesos (e relatar o progresso)\n",
    "        best_acc = 0.0\n",
    "\n",
    "        # Divide o conjunto de dados em batches\n",
    "        X_train_tensor_batches = torch.split(X_train, self.batch_size)\n",
    "        y_train_tensor_batches = torch.split(y_train, self.batch_size)\n",
    "\n",
    "        # Loop\n",
    "        for epoch in range(epoch_num):\n",
    "\n",
    "            # Define o modelo para o modo de treinamento \n",
    "            # No final de cada época é definido para o modo de avaliação\n",
    "            self.train()\n",
    "\n",
    "            for i, (X_batch, y_batch) in enumerate(zip(X_train_tensor_batches, y_train_tensor_batches)):\n",
    "\n",
    "                # Forward pass\n",
    "                outputs = self(X_batch)\n",
    "                loss = criterion(outputs, y_batch)\n",
    "\n",
    "                # Backward e otimização\n",
    "                optimizer.zero_grad()\n",
    "                loss.backward()\n",
    "                optimizer.step()\n",
    "\n",
    "            # Calcula precisão e perda de treino e validação \n",
    "            train_loss, train_acc, val_loss, val_acc = self._train_evaluate(X_train, y_train, X_val, y_val, criterion)\n",
    "\n",
    "            # Um booleano para determinar a precisão correta a ser considerada no progresso (Validação do treinamento)\n",
    "            if X_val is not None and y_val is not None:\n",
    "                accuracy = val_acc\n",
    "            else:\n",
    "                accuracy = train_acc\n",
    "\n",
    "            # Se a precisão superar a melhor precisão anterior, imprime e atualiza a melhor precisão \n",
    "            # e os melhores pesos do modelo\n",
    "            if accuracy > best_acc:\n",
    "                self._print_progress(epoch, \n",
    "                                     train_loss, \n",
    "                                     train_acc, \n",
    "                                     val_loss, \n",
    "                                     val_acc, \n",
    "                                     improved = True, \n",
    "                                     verbose = verbose)\n",
    "                best_acc = accuracy\n",
    "                self.best_weights = deepcopy(self.state_dict())\n",
    "\n",
    "            # else, print\n",
    "            else:\n",
    "                self._print_progress(epoch, \n",
    "                                     train_loss, \n",
    "                                     train_acc, \n",
    "                                     val_loss, \n",
    "                                     val_acc, \n",
    "                                     improved = False, \n",
    "                                     verbose = verbose)\n",
    "\n",
    "        gc.collect()"
   ]
  },
  {
   "cell_type": "code",
   "execution_count": 51,
   "metadata": {
    "ExecuteTime": {
     "end_time": "2020-11-17T11:34:09.401882Z",
     "start_time": "2020-11-17T11:34:09.396367Z"
    }
   },
   "outputs": [],
   "source": [
    "# Função para o Plot\n",
    "def plot_graphs(model):\n",
    "    plt.figure(figsize = (6, 12))\n",
    "\n",
    "    plt.subplot(311)\n",
    "    plt.title(\"Acurácia\")\n",
    "    plt.xlabel(\"Epochs\")\n",
    "    plt.ylabel(\"Acurácia\")\n",
    "    plt.plot(range(1, len(model.train_acc)+1), model.train_acc, label = \"Treino\")\n",
    "\n",
    "    plt.xticks(np.arange(0, len(model.train_acc)+1, 5))\n",
    "    plt.legend()\n",
    "\n",
    "    plt.subplot(312)\n",
    "    plt.title(\"Loss\")\n",
    "    plt.xlabel(\"Epochs\")\n",
    "    plt.ylabel(\"Loss\")\n",
    "    plt.plot(range(1, len(model.train_loss)+1), model.train_loss, label = \"Treino\")\n",
    "\n",
    "    plt.xticks(np.arange(0, len(model.train_acc)+1, 5))\n",
    "    plt.legend()\n",
    "\n",
    "    plt.tight_layout(pad=0.4, w_pad=0.5, h_pad=1.0)\n",
    "    plt.show()"
   ]
  },
  {
   "cell_type": "markdown",
   "metadata": {},
   "source": [
    "## Trainning"
   ]
  },
  {
   "cell_type": "code",
   "execution_count": 52,
   "metadata": {
    "ExecuteTime": {
     "end_time": "2020-11-17T11:34:19.355606Z",
     "start_time": "2020-11-17T11:34:19.352594Z"
    }
   },
   "outputs": [],
   "source": [
    "# Hiperparâmetros\n",
    "embedding_dim = embedding_matrix.shape[2]  \n",
    "hidden_size = 50  \n",
    "num_layers = 2  \n",
    "num_classes = 2  \n",
    "batch_size = 256  \n",
    "dropout = 0.3 \n",
    "num_epochs = 40\n",
    "learning_rate = 0.0005  \n",
    "weight_decay = 0.0005  "
   ]
  },
  {
   "cell_type": "code",
   "execution_count": 53,
   "metadata": {
    "ExecuteTime": {
     "end_time": "2020-11-17T11:34:22.303591Z",
     "start_time": "2020-11-17T11:34:22.260992Z"
    }
   },
   "outputs": [],
   "source": [
    "# Carrega os atributos\n",
    "X_treino = torch.from_numpy(embedding_matrix).float().to(device)"
   ]
  },
  {
   "cell_type": "code",
   "execution_count": 54,
   "metadata": {
    "ExecuteTime": {
     "end_time": "2020-11-17T11:34:25.282834Z",
     "start_time": "2020-11-17T11:34:25.279668Z"
    }
   },
   "outputs": [],
   "source": [
    "# Carrega o label\n",
    "y_treino = torch.from_numpy(dados_treino['target'].values).long().to(device)"
   ]
  },
  {
   "cell_type": "code",
   "execution_count": 55,
   "metadata": {
    "ExecuteTime": {
     "end_time": "2020-11-17T11:34:28.346419Z",
     "start_time": "2020-11-17T11:34:28.338799Z"
    }
   },
   "outputs": [],
   "source": [
    "# Cria o modelo\n",
    "modelo = BiLSTM(embedding_dim, hidden_size, num_layers, num_classes, batch_size, dropout, device).to(device)"
   ]
  },
  {
   "cell_type": "code",
   "execution_count": 56,
   "metadata": {
    "ExecuteTime": {
     "end_time": "2020-11-17T11:34:33.555908Z",
     "start_time": "2020-11-17T11:34:33.553402Z"
    }
   },
   "outputs": [],
   "source": [
    "# Função de perda\n",
    "criterion = nn.CrossEntropyLoss()"
   ]
  },
  {
   "cell_type": "code",
   "execution_count": 57,
   "metadata": {
    "ExecuteTime": {
     "end_time": "2020-11-17T11:34:37.200560Z",
     "start_time": "2020-11-17T11:34:37.197894Z"
    }
   },
   "outputs": [],
   "source": [
    "# Otimizador\n",
    "optimizer = torch.optim.Adam(modelo.parameters(), lr = learning_rate, weight_decay = weight_decay)"
   ]
  },
  {
   "cell_type": "code",
   "execution_count": 58,
   "metadata": {
    "ExecuteTime": {
     "end_time": "2020-11-17T11:38:44.451045Z",
     "start_time": "2020-11-17T11:34:40.476553Z"
    }
   },
   "outputs": [
    {
     "name": "stdout",
     "output_type": "stream",
     "text": [
      "Epoch 001:\n",
      "\t Erro em Treinamento: 0.675 | Acurácia: 0.570. Houve aprendizado!\n",
      "Epoch 002:\n",
      "\t Erro em Treinamento: 0.628 | Acurácia: 0.646. Houve aprendizado!\n",
      "Epoch 003:\n",
      "\t Erro em Treinamento: 0.545 | Acurácia: 0.731. Houve aprendizado!\n",
      "Epoch 004:\n",
      "\t Erro em Treinamento: 0.520 | Acurácia: 0.745. Houve aprendizado!\n",
      "Epoch 005:\n",
      "\t Erro em Treinamento: 0.494 | Acurácia: 0.765. Houve aprendizado!\n",
      "Epoch 006:\n",
      "\t Erro em Treinamento: 0.468 | Acurácia: 0.783. Houve aprendizado!\n",
      "Epoch 007:\n",
      "\t Erro em Treinamento: 0.452 | Acurácia: 0.795. Houve aprendizado!\n",
      "Epoch 008:\n",
      "\t Erro em Treinamento: 0.440 | Acurácia: 0.804. Houve aprendizado!\n",
      "Epoch 009:\n",
      "\t Erro em Treinamento: 0.430 | Acurácia: 0.812. Houve aprendizado!\n",
      "Epoch 010:\n",
      "\t Erro em Treinamento: 0.431 | Acurácia: 0.808.\n",
      "Epoch 011:\n",
      "\t Erro em Treinamento: 0.421 | Acurácia: 0.817. Houve aprendizado!\n",
      "Epoch 012:\n",
      "\t Erro em Treinamento: 0.423 | Acurácia: 0.812.\n",
      "Epoch 013:\n",
      "\t Erro em Treinamento: 0.421 | Acurácia: 0.812.\n",
      "Epoch 014:\n",
      "\t Erro em Treinamento: 0.410 | Acurácia: 0.818. Houve aprendizado!\n",
      "Epoch 015:\n",
      "\t Erro em Treinamento: 0.408 | Acurácia: 0.823. Houve aprendizado!\n",
      "Epoch 016:\n",
      "\t Erro em Treinamento: 0.414 | Acurácia: 0.817.\n",
      "Epoch 017:\n",
      "\t Erro em Treinamento: 0.405 | Acurácia: 0.825. Houve aprendizado!\n",
      "Epoch 018:\n",
      "\t Erro em Treinamento: 0.420 | Acurácia: 0.813.\n",
      "Epoch 019:\n",
      "\t Erro em Treinamento: 0.414 | Acurácia: 0.815.\n",
      "Epoch 020:\n",
      "\t Erro em Treinamento: 0.400 | Acurácia: 0.829. Houve aprendizado!\n",
      "Epoch 021:\n",
      "\t Erro em Treinamento: 0.404 | Acurácia: 0.824.\n",
      "Epoch 022:\n",
      "\t Erro em Treinamento: 0.398 | Acurácia: 0.827.\n",
      "Epoch 023:\n",
      "\t Erro em Treinamento: 0.405 | Acurácia: 0.823.\n",
      "Epoch 024:\n",
      "\t Erro em Treinamento: 0.412 | Acurácia: 0.817.\n",
      "Epoch 025:\n",
      "\t Erro em Treinamento: 0.395 | Acurácia: 0.830. Houve aprendizado!\n",
      "Epoch 026:\n",
      "\t Erro em Treinamento: 0.402 | Acurácia: 0.825.\n",
      "Epoch 027:\n",
      "\t Erro em Treinamento: 0.399 | Acurácia: 0.826.\n",
      "Epoch 028:\n",
      "\t Erro em Treinamento: 0.393 | Acurácia: 0.830.\n",
      "Epoch 029:\n",
      "\t Erro em Treinamento: 0.406 | Acurácia: 0.820.\n",
      "Epoch 030:\n",
      "\t Erro em Treinamento: 0.393 | Acurácia: 0.833. Houve aprendizado!\n",
      "Epoch 031:\n",
      "\t Erro em Treinamento: 0.401 | Acurácia: 0.823.\n",
      "Epoch 032:\n",
      "\t Erro em Treinamento: 0.400 | Acurácia: 0.824.\n",
      "Epoch 033:\n",
      "\t Erro em Treinamento: 0.389 | Acurácia: 0.831.\n",
      "Epoch 034:\n",
      "\t Erro em Treinamento: 0.394 | Acurácia: 0.829.\n",
      "Epoch 035:\n",
      "\t Erro em Treinamento: 0.389 | Acurácia: 0.833. Houve aprendizado!\n",
      "Epoch 036:\n",
      "\t Erro em Treinamento: 0.400 | Acurácia: 0.824.\n",
      "Epoch 037:\n",
      "\t Erro em Treinamento: 0.403 | Acurácia: 0.820.\n",
      "Epoch 038:\n",
      "\t Erro em Treinamento: 0.388 | Acurácia: 0.831.\n",
      "Epoch 039:\n",
      "\t Erro em Treinamento: 0.386 | Acurácia: 0.831.\n",
      "Epoch 040:\n",
      "\t Erro em Treinamento: 0.388 | Acurácia: 0.831.\n"
     ]
    }
   ],
   "source": [
    "# Treina o modelo\n",
    "modelo.fit(X_train = X_treino, \n",
    "           y_train = y_treino, \n",
    "           X_val = None, \n",
    "           y_val = None,\n",
    "           epoch_num = num_epochs, \n",
    "           criterion = criterion, \n",
    "           optimizer = optimizer, \n",
    "           verbose = True)"
   ]
  },
  {
   "cell_type": "code",
   "execution_count": 59,
   "metadata": {
    "ExecuteTime": {
     "end_time": "2020-11-17T11:39:56.621525Z",
     "start_time": "2020-11-17T11:39:56.375734Z"
    }
   },
   "outputs": [
    {
     "data": {
      "image/png": "[encoded data removed]",
      "text/plain": [
       "<Figure size 432x864 with 2 Axes>"
      ]
     },
     "metadata": {
      "needs_background": "light"
     },
     "output_type": "display_data"
    }
   ],
   "source": [
    "# Plot\n",
    "plot_graphs(modelo)"
   ]
  },
  {
   "cell_type": "markdown",
   "metadata": {},
   "source": [
    "## Predictions"
   ]
  },
  {
   "cell_type": "code",
   "execution_count": 61,
   "metadata": {
    "ExecuteTime": {
     "end_time": "2020-11-17T11:40:46.359578Z",
     "start_time": "2020-11-17T11:40:46.341075Z"
    }
   },
   "outputs": [
    {
     "data": {
      "text/html": [
       "<div>\n",
       "<style scoped>\n",
       "    .dataframe tbody tr th:only-of-type {\n",
       "        vertical-align: middle;\n",
       "    }\n",
       "\n",
       "    .dataframe tbody tr th {\n",
       "        vertical-align: top;\n",
       "    }\n",
       "\n",
       "    .dataframe thead th {\n",
       "        text-align: right;\n",
       "    }\n",
       "</style>\n",
       "<table border=\"1\" class=\"dataframe\">\n",
       "  <thead>\n",
       "    <tr style=\"text-align: right;\">\n",
       "      <th></th>\n",
       "      <th>id</th>\n",
       "      <th>keyword</th>\n",
       "      <th>location</th>\n",
       "      <th>text</th>\n",
       "    </tr>\n",
       "  </thead>\n",
       "  <tbody>\n",
       "    <tr>\n",
       "      <th>0</th>\n",
       "      <td>0</td>\n",
       "      <td>NaN</td>\n",
       "      <td>NaN</td>\n",
       "      <td>Just happened a terrible car crash</td>\n",
       "    </tr>\n",
       "    <tr>\n",
       "      <th>1</th>\n",
       "      <td>2</td>\n",
       "      <td>NaN</td>\n",
       "      <td>NaN</td>\n",
       "      <td>Heard about #earthquake is different cities, s...</td>\n",
       "    </tr>\n",
       "    <tr>\n",
       "      <th>2</th>\n",
       "      <td>3</td>\n",
       "      <td>NaN</td>\n",
       "      <td>NaN</td>\n",
       "      <td>there is a forest fire at spot pond, geese are...</td>\n",
       "    </tr>\n",
       "    <tr>\n",
       "      <th>3</th>\n",
       "      <td>9</td>\n",
       "      <td>NaN</td>\n",
       "      <td>NaN</td>\n",
       "      <td>Apocalypse lighting. #Spokane #wildfires</td>\n",
       "    </tr>\n",
       "    <tr>\n",
       "      <th>4</th>\n",
       "      <td>11</td>\n",
       "      <td>NaN</td>\n",
       "      <td>NaN</td>\n",
       "      <td>Typhoon Soudelor kills 28 in China and Taiwan</td>\n",
       "    </tr>\n",
       "  </tbody>\n",
       "</table>\n",
       "</div>"
      ],
      "text/plain": [
       "   id keyword location                                               text\n",
       "0   0     NaN      NaN                 Just happened a terrible car crash\n",
       "1   2     NaN      NaN  Heard about #earthquake is different cities, s...\n",
       "2   3     NaN      NaN  there is a forest fire at spot pond, geese are...\n",
       "3   9     NaN      NaN           Apocalypse lighting. #Spokane #wildfires\n",
       "4  11     NaN      NaN      Typhoon Soudelor kills 28 in China and Taiwan"
      ]
     },
     "execution_count": 61,
     "metadata": {},
     "output_type": "execute_result"
    }
   ],
   "source": [
    "# Carrega os dados de teste\n",
    "dados_teste = pd.read_csv('../../ia-lucas-dados/dados/nature_disaster/dados_teste.csv')\n",
    "dados_teste.head()"
   ]
  },
  {
   "cell_type": "code",
   "execution_count": 62,
   "metadata": {
    "ExecuteTime": {
     "end_time": "2020-11-17T11:40:52.978984Z",
     "start_time": "2020-11-17T11:40:50.751462Z"
    }
   },
   "outputs": [],
   "source": [
    "# Normaliza e tokeniza o texto\n",
    "dados_teste['tok_norm_text'] = [preprocessa_texto(tokenizer, text) for text in dados_teste['text']]"
   ]
  },
  {
   "cell_type": "code",
   "execution_count": 63,
   "metadata": {
    "ExecuteTime": {
     "end_time": "2020-11-17T11:40:53.822420Z",
     "start_time": "2020-11-17T11:40:53.805584Z"
    }
   },
   "outputs": [],
   "source": [
    "# Pré-processa as keywords\n",
    "dados_teste['keyword'] = dados_teste['keyword'].apply(preprocessa_keyword)"
   ]
  },
  {
   "cell_type": "code",
   "execution_count": 64,
   "metadata": {
    "ExecuteTime": {
     "end_time": "2020-11-17T11:40:57.260317Z",
     "start_time": "2020-11-17T11:40:57.235775Z"
    }
   },
   "outputs": [],
   "source": [
    "# Extração de atributos\n",
    "dados_teste['num_all_caps'] = dados_teste['text'].apply(count_all_caps)\n",
    "dados_teste['num_caps'] = dados_teste['text'].apply(count_capitalized)\n",
    "dados_teste['num_words'] = dados_teste['text'].apply(count_words)"
   ]
  },
  {
   "cell_type": "code",
   "execution_count": 65,
   "metadata": {
    "ExecuteTime": {
     "end_time": "2020-11-17T11:40:59.978847Z",
     "start_time": "2020-11-17T11:40:59.969817Z"
    }
   },
   "outputs": [],
   "source": [
    "# Padroniza os dados de teste da mesma forma que fizemos com dados de treino\n",
    "dados_teste[columns_to_scale] = scaler.transform(dados_teste[columns_to_scale])"
   ]
  },
  {
   "cell_type": "code",
   "execution_count": 66,
   "metadata": {
    "ExecuteTime": {
     "end_time": "2020-11-17T11:41:03.203373Z",
     "start_time": "2020-11-17T11:41:02.660426Z"
    }
   },
   "outputs": [],
   "source": [
    "# Analisador de sentimentos\n",
    "sentiment_analyze_df(dados_teste, 'tok_norm_text')"
   ]
  },
  {
   "cell_type": "code",
   "execution_count": 67,
   "metadata": {
    "ExecuteTime": {
     "end_time": "2020-11-17T11:41:06.490615Z",
     "start_time": "2020-11-17T11:41:06.371053Z"
    }
   },
   "outputs": [],
   "source": [
    "# Text embedding\n",
    "dados_teste['text_embedding'] = [embedding_preprocess(embedding_model = model_glove_twitter, \n",
    "                                                      use_norm = True, \n",
    "                                                      seq_len = sequence_max_length, \n",
    "                                                      tokenized_text = text) \n",
    "                                 for text in dados_teste['tok_norm_text']]"
   ]
  },
  {
   "cell_type": "code",
   "execution_count": 68,
   "metadata": {
    "ExecuteTime": {
     "end_time": "2020-11-17T11:41:09.353183Z",
     "start_time": "2020-11-17T11:41:09.282519Z"
    }
   },
   "outputs": [],
   "source": [
    "# Keyword embedding\n",
    "dados_teste['keyword_embedding'] = [keyword_to_avg_vector(embedding_model = model_glove_twitter, \n",
    "                                                          use_norm = True, \n",
    "                                                          tokenized_keyword = keyword) \n",
    "                                    for keyword in dados_teste['keyword']]"
   ]
  },
  {
   "cell_type": "code",
   "execution_count": 69,
   "metadata": {
    "ExecuteTime": {
     "end_time": "2020-11-17T11:41:12.605851Z",
     "start_time": "2020-11-17T11:41:12.419807Z"
    }
   },
   "outputs": [
    {
     "data": {
      "text/html": [
       "<div>\n",
       "<style scoped>\n",
       "    .dataframe tbody tr th:only-of-type {\n",
       "        vertical-align: middle;\n",
       "    }\n",
       "\n",
       "    .dataframe tbody tr th {\n",
       "        vertical-align: top;\n",
       "    }\n",
       "\n",
       "    .dataframe thead th {\n",
       "        text-align: right;\n",
       "    }\n",
       "</style>\n",
       "<table border=\"1\" class=\"dataframe\">\n",
       "  <thead>\n",
       "    <tr style=\"text-align: right;\">\n",
       "      <th></th>\n",
       "      <th>id</th>\n",
       "      <th>keyword</th>\n",
       "      <th>location</th>\n",
       "      <th>text</th>\n",
       "      <th>tok_norm_text</th>\n",
       "      <th>num_all_caps</th>\n",
       "      <th>num_caps</th>\n",
       "      <th>num_words</th>\n",
       "      <th>sent_neg</th>\n",
       "      <th>sent_neu</th>\n",
       "      <th>sent_pos</th>\n",
       "      <th>sent_compound</th>\n",
       "      <th>text_embedding</th>\n",
       "      <th>keyword_embedding</th>\n",
       "    </tr>\n",
       "  </thead>\n",
       "  <tbody>\n",
       "    <tr>\n",
       "      <th>0</th>\n",
       "      <td>0</td>\n",
       "      <td>None</td>\n",
       "      <td>NaN</td>\n",
       "      <td>Just happened a terrible car crash</td>\n",
       "      <td>[just, happened, a, terrible, car, crash]</td>\n",
       "      <td>-1.00</td>\n",
       "      <td>-0.913043</td>\n",
       "      <td>-0.666667</td>\n",
       "      <td>0.659</td>\n",
       "      <td>0.341</td>\n",
       "      <td>0.000</td>\n",
       "      <td>-0.7003</td>\n",
       "      <td>[[0.0, 0.0, 0.0, 0.0, 0.0, 0.0, 0.0, 0.0, 0.0,...</td>\n",
       "      <td>[[0.0, 0.0, 0.0, 0.0, 0.0, 0.0, 0.0, 0.0, 0.0,...</td>\n",
       "    </tr>\n",
       "    <tr>\n",
       "      <th>1</th>\n",
       "      <td>2</td>\n",
       "      <td>None</td>\n",
       "      <td>NaN</td>\n",
       "      <td>Heard about #earthquake is different cities, s...</td>\n",
       "      <td>[heard, about, #, earthquake, is, different, c...</td>\n",
       "      <td>-1.00</td>\n",
       "      <td>-0.913043</td>\n",
       "      <td>-0.466667</td>\n",
       "      <td>0.000</td>\n",
       "      <td>0.734</td>\n",
       "      <td>0.266</td>\n",
       "      <td>0.4404</td>\n",
       "      <td>[[0.0, 0.0, 0.0, 0.0, 0.0, 0.0, 0.0, 0.0, 0.0,...</td>\n",
       "      <td>[[0.0, 0.0, 0.0, 0.0, 0.0, 0.0, 0.0, 0.0, 0.0,...</td>\n",
       "    </tr>\n",
       "    <tr>\n",
       "      <th>2</th>\n",
       "      <td>3</td>\n",
       "      <td>None</td>\n",
       "      <td>NaN</td>\n",
       "      <td>there is a forest fire at spot pond, geese are...</td>\n",
       "      <td>[there, is, a, forest, fire, at, spot, pond, ,...</td>\n",
       "      <td>-0.92</td>\n",
       "      <td>-0.913043</td>\n",
       "      <td>0.200000</td>\n",
       "      <td>0.251</td>\n",
       "      <td>0.749</td>\n",
       "      <td>0.000</td>\n",
       "      <td>-0.6159</td>\n",
       "      <td>[[0.0, 0.0, 0.0, 0.0, 0.0, 0.0, 0.0, 0.0, 0.0,...</td>\n",
       "      <td>[[0.0, 0.0, 0.0, 0.0, 0.0, 0.0, 0.0, 0.0, 0.0,...</td>\n",
       "    </tr>\n",
       "    <tr>\n",
       "      <th>3</th>\n",
       "      <td>9</td>\n",
       "      <td>None</td>\n",
       "      <td>NaN</td>\n",
       "      <td>Apocalypse lighting. #Spokane #wildfires</td>\n",
       "      <td>[apocalypse, lighting, ., #, spokane, #, wildf...</td>\n",
       "      <td>-1.00</td>\n",
       "      <td>-0.826087</td>\n",
       "      <td>-0.800000</td>\n",
       "      <td>0.000</td>\n",
       "      <td>1.000</td>\n",
       "      <td>0.000</td>\n",
       "      <td>0.0000</td>\n",
       "      <td>[[0.0, 0.0, 0.0, 0.0, 0.0, 0.0, 0.0, 0.0, 0.0,...</td>\n",
       "      <td>[[0.0, 0.0, 0.0, 0.0, 0.0, 0.0, 0.0, 0.0, 0.0,...</td>\n",
       "    </tr>\n",
       "    <tr>\n",
       "      <th>4</th>\n",
       "      <td>11</td>\n",
       "      <td>None</td>\n",
       "      <td>NaN</td>\n",
       "      <td>Typhoon Soudelor kills 28 in China and Taiwan</td>\n",
       "      <td>[typhoon, soudelor, kills, &lt;number&gt;, in, china...</td>\n",
       "      <td>-1.00</td>\n",
       "      <td>-0.652174</td>\n",
       "      <td>-0.533333</td>\n",
       "      <td>0.333</td>\n",
       "      <td>0.667</td>\n",
       "      <td>0.000</td>\n",
       "      <td>-0.5423</td>\n",
       "      <td>[[0.0, 0.0, 0.0, 0.0, 0.0, 0.0, 0.0, 0.0, 0.0,...</td>\n",
       "      <td>[[0.0, 0.0, 0.0, 0.0, 0.0, 0.0, 0.0, 0.0, 0.0,...</td>\n",
       "    </tr>\n",
       "  </tbody>\n",
       "</table>\n",
       "</div>"
      ],
      "text/plain": [
       "   id keyword location                                               text  \\\n",
       "0   0    None      NaN                 Just happened a terrible car crash   \n",
       "1   2    None      NaN  Heard about #earthquake is different cities, s...   \n",
       "2   3    None      NaN  there is a forest fire at spot pond, geese are...   \n",
       "3   9    None      NaN           Apocalypse lighting. #Spokane #wildfires   \n",
       "4  11    None      NaN      Typhoon Soudelor kills 28 in China and Taiwan   \n",
       "\n",
       "                                       tok_norm_text  num_all_caps  num_caps  \\\n",
       "0          [just, happened, a, terrible, car, crash]         -1.00 -0.913043   \n",
       "1  [heard, about, #, earthquake, is, different, c...         -1.00 -0.913043   \n",
       "2  [there, is, a, forest, fire, at, spot, pond, ,...         -0.92 -0.913043   \n",
       "3  [apocalypse, lighting, ., #, spokane, #, wildf...         -1.00 -0.826087   \n",
       "4  [typhoon, soudelor, kills, <number>, in, china...         -1.00 -0.652174   \n",
       "\n",
       "   num_words  sent_neg  sent_neu  sent_pos  sent_compound  \\\n",
       "0  -0.666667     0.659     0.341     0.000        -0.7003   \n",
       "1  -0.466667     0.000     0.734     0.266         0.4404   \n",
       "2   0.200000     0.251     0.749     0.000        -0.6159   \n",
       "3  -0.800000     0.000     1.000     0.000         0.0000   \n",
       "4  -0.533333     0.333     0.667     0.000        -0.5423   \n",
       "\n",
       "                                      text_embedding  \\\n",
       "0  [[0.0, 0.0, 0.0, 0.0, 0.0, 0.0, 0.0, 0.0, 0.0,...   \n",
       "1  [[0.0, 0.0, 0.0, 0.0, 0.0, 0.0, 0.0, 0.0, 0.0,...   \n",
       "2  [[0.0, 0.0, 0.0, 0.0, 0.0, 0.0, 0.0, 0.0, 0.0,...   \n",
       "3  [[0.0, 0.0, 0.0, 0.0, 0.0, 0.0, 0.0, 0.0, 0.0,...   \n",
       "4  [[0.0, 0.0, 0.0, 0.0, 0.0, 0.0, 0.0, 0.0, 0.0,...   \n",
       "\n",
       "                                   keyword_embedding  \n",
       "0  [[0.0, 0.0, 0.0, 0.0, 0.0, 0.0, 0.0, 0.0, 0.0,...  \n",
       "1  [[0.0, 0.0, 0.0, 0.0, 0.0, 0.0, 0.0, 0.0, 0.0,...  \n",
       "2  [[0.0, 0.0, 0.0, 0.0, 0.0, 0.0, 0.0, 0.0, 0.0,...  \n",
       "3  [[0.0, 0.0, 0.0, 0.0, 0.0, 0.0, 0.0, 0.0, 0.0,...  \n",
       "4  [[0.0, 0.0, 0.0, 0.0, 0.0, 0.0, 0.0, 0.0, 0.0,...  "
      ]
     },
     "execution_count": 69,
     "metadata": {},
     "output_type": "execute_result"
    }
   ],
   "source": [
    "# Visualiza\n",
    "dados_teste.head()"
   ]
  },
  {
   "cell_type": "code",
   "execution_count": 70,
   "metadata": {
    "ExecuteTime": {
     "end_time": "2020-11-17T11:41:20.205383Z",
     "start_time": "2020-11-17T11:41:16.528731Z"
    }
   },
   "outputs": [],
   "source": [
    "# Representação embedding para os atributos de teste\n",
    "teste_embedding_matrix = concatenate_embeddings(df = dados_teste, \n",
    "                                                embedding_model = model_glove_twitter, \n",
    "                                                seq_len = sequence_max_length,\n",
    "                                                sequence_embedding_col = 'text_embedding',\n",
    "                                                static_embedding_cols = ['keyword_embedding'],\n",
    "                                                static_singles_cols = ['num_all_caps', \n",
    "                                                                       'num_caps', \n",
    "                                                                       'num_words', \n",
    "                                                                       'sent_neg', \n",
    "                                                                       'sent_neu', \n",
    "                                                                       'sent_pos', \n",
    "                                                                       'sent_compound'])"
   ]
  },
  {
   "cell_type": "code",
   "execution_count": 71,
   "metadata": {
    "ExecuteTime": {
     "end_time": "2020-11-17T11:41:20.939674Z",
     "start_time": "2020-11-17T11:41:20.923513Z"
    }
   },
   "outputs": [],
   "source": [
    "# Gera objeto com os atributos\n",
    "X_teste = torch.from_numpy(teste_embedding_matrix).float().to(device)"
   ]
  },
  {
   "cell_type": "code",
   "execution_count": 72,
   "metadata": {
    "ExecuteTime": {
     "end_time": "2020-11-17T11:41:22.997720Z",
     "start_time": "2020-11-17T11:41:22.567573Z"
    }
   },
   "outputs": [],
   "source": [
    "# Previsões\n",
    "preds = modelo.predict(X_teste)"
   ]
  },
  {
   "cell_type": "code",
   "execution_count": 73,
   "metadata": {
    "ExecuteTime": {
     "end_time": "2020-11-17T11:41:25.149595Z",
     "start_time": "2020-11-17T11:41:25.146970Z"
    }
   },
   "outputs": [],
   "source": [
    "# Concatena previsões e ids de cada registro de teste em um dataframe\n",
    "final_preds = preds.cpu().numpy().reshape(-1,1)\n",
    "ids = dados_teste['id'].values.reshape(-1,1)\n",
    "data = np.hstack((ids, final_preds))"
   ]
  },
  {
   "cell_type": "code",
   "execution_count": 74,
   "metadata": {
    "ExecuteTime": {
     "end_time": "2020-11-17T11:41:28.062556Z",
     "start_time": "2020-11-17T11:41:28.059431Z"
    }
   },
   "outputs": [],
   "source": [
    "# Dataframe\n",
    "previsoes = pd.DataFrame(data = data, columns = ['id', 'target'])"
   ]
  },
  {
   "cell_type": "code",
   "execution_count": 75,
   "metadata": {
    "ExecuteTime": {
     "end_time": "2020-11-17T11:41:31.976482Z",
     "start_time": "2020-11-17T11:41:31.968548Z"
    }
   },
   "outputs": [
    {
     "data": {
      "text/html": [
       "<div>\n",
       "<style scoped>\n",
       "    .dataframe tbody tr th:only-of-type {\n",
       "        vertical-align: middle;\n",
       "    }\n",
       "\n",
       "    .dataframe tbody tr th {\n",
       "        vertical-align: top;\n",
       "    }\n",
       "\n",
       "    .dataframe thead th {\n",
       "        text-align: right;\n",
       "    }\n",
       "</style>\n",
       "<table border=\"1\" class=\"dataframe\">\n",
       "  <thead>\n",
       "    <tr style=\"text-align: right;\">\n",
       "      <th></th>\n",
       "      <th>id</th>\n",
       "      <th>target</th>\n",
       "    </tr>\n",
       "  </thead>\n",
       "  <tbody>\n",
       "    <tr>\n",
       "      <th>0</th>\n",
       "      <td>0</td>\n",
       "      <td>1</td>\n",
       "    </tr>\n",
       "    <tr>\n",
       "      <th>1</th>\n",
       "      <td>2</td>\n",
       "      <td>1</td>\n",
       "    </tr>\n",
       "    <tr>\n",
       "      <th>2</th>\n",
       "      <td>3</td>\n",
       "      <td>1</td>\n",
       "    </tr>\n",
       "    <tr>\n",
       "      <th>3</th>\n",
       "      <td>9</td>\n",
       "      <td>1</td>\n",
       "    </tr>\n",
       "    <tr>\n",
       "      <th>4</th>\n",
       "      <td>11</td>\n",
       "      <td>1</td>\n",
       "    </tr>\n",
       "  </tbody>\n",
       "</table>\n",
       "</div>"
      ],
      "text/plain": [
       "   id  target\n",
       "0   0       1\n",
       "1   2       1\n",
       "2   3       1\n",
       "3   9       1\n",
       "4  11       1"
      ]
     },
     "execution_count": 75,
     "metadata": {},
     "output_type": "execute_result"
    }
   ],
   "source": [
    "# Visualiza\n",
    "previsoes.head()"
   ]
  },
  {
   "cell_type": "code",
   "execution_count": null,
   "metadata": {},
   "outputs": [],
   "source": []
  }
 ],
 "metadata": {
  "kernelspec": {
   "display_name": "Python 3",
   "language": "python",
   "name": "python3"
  },
  "language_info": {
   "codemirror_mode": {
    "name": "ipython",
    "version": 3
   },
   "file_extension": ".py",
   "mimetype": "text/x-python",
   "name": "python",
   "nbconvert_exporter": "python",
   "pygments_lexer": "ipython3",
   "version": "3.7.6"
  },
  "toc": {
   "base_numbering": 1,
   "nav_menu": {},
   "number_sections": true,
   "sideBar": true,
   "skip_h1_title": false,
   "title_cell": "Table of Contents",
   "title_sidebar": "Contents",
   "toc_cell": false,
   "toc_position": {},
   "toc_section_display": true,
   "toc_window_display": false
  },
  "varInspector": {
   "cols": {
    "lenName": 16,
    "lenType": 16,
    "lenVar": 40
   },
   "kernels_config": {
    "python": {
     "delete_cmd_postfix": "",
     "delete_cmd_prefix": "del ",
     "library": "var_list.py",
     "varRefreshCmd": "print(var_dic_list())"
    },
    "r": {
     "delete_cmd_postfix": ") ",
     "delete_cmd_prefix": "rm(",
     "library": "var_list.r",
     "varRefreshCmd": "cat(var_dic_list()) "
    }
   },
   "types_to_exclude": [
    "module",
    "function",
    "builtin_function_or_method",
    "instance",
    "_Feature"
   ],
   "window_display": false
  }
 },
 "nbformat": 4,
 "nbformat_minor": 4
}
