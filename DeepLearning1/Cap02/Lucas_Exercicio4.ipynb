{
 "cells": [
  {
   "cell_type": "markdown",
   "metadata": {},
   "source": [
    "# Convolutional Neural Network"
   ]
  },
  {
   "cell_type": "code",
   "execution_count": 1,
   "metadata": {
    "ExecuteTime": {
     "end_time": "2020-12-14T12:35:20.333001Z",
     "start_time": "2020-12-14T12:35:18.921866Z"
    }
   },
   "outputs": [],
   "source": [
    "import pandas as pd \n",
    "import numpy as np \n",
    "from sklearn.preprocessing import StandardScaler \n",
    "from time import time \n",
    "import tensorflow \n",
    "import keras"
   ]
  },
  {
   "cell_type": "code",
   "execution_count": 2,
   "metadata": {
    "ExecuteTime": {
     "end_time": "2020-12-14T12:35:20.688826Z",
     "start_time": "2020-12-14T12:35:20.686526Z"
    }
   },
   "outputs": [],
   "source": [
    "np.random.seed(1337)"
   ]
  },
  {
   "cell_type": "code",
   "execution_count": 3,
   "metadata": {
    "ExecuteTime": {
     "end_time": "2020-12-14T12:35:23.784813Z",
     "start_time": "2020-12-14T12:35:21.700317Z"
    }
   },
   "outputs": [],
   "source": [
    "df = pd.read_csv(\"/home/lucas/Documents/ia-lucas-dados/dados/DeepLearningI/Cap02/mnist.csv\")"
   ]
  },
  {
   "cell_type": "code",
   "execution_count": 4,
   "metadata": {
    "ExecuteTime": {
     "end_time": "2020-12-14T12:35:24.629849Z",
     "start_time": "2020-12-14T12:35:24.386852Z"
    }
   },
   "outputs": [],
   "source": [
    "df_train = df.iloc[:33600, :]\n",
    "\n",
    "X_train = df_train.iloc[:, 1:].values / 255.\n",
    "y_train = df_train['label'].values\n",
    "y_train_onehot = pd.get_dummies(df_train['label']).values"
   ]
  },
  {
   "cell_type": "code",
   "execution_count": 5,
   "metadata": {
    "ExecuteTime": {
     "end_time": "2020-12-14T12:35:25.624715Z",
     "start_time": "2020-12-14T12:35:25.582842Z"
    }
   },
   "outputs": [],
   "source": [
    "df_test = df.iloc[33600:,:]\n",
    "\n",
    "X_test = df_test.iloc[:, 1:].values/255. \n",
    "y_test = df_train['label'].values "
   ]
  },
  {
   "cell_type": "code",
   "execution_count": 6,
   "metadata": {
    "ExecuteTime": {
     "end_time": "2020-12-14T12:37:56.277465Z",
     "start_time": "2020-12-14T12:35:26.604015Z"
    }
   },
   "outputs": [
    {
     "name": "stdout",
     "output_type": "stream",
     "text": [
      "Epoch 1/10\n",
      "1050/1050 [==============================] - 15s 14ms/step - loss: 2.2958 - accuracy: 0.1205\n",
      "Epoch 2/10\n",
      "1050/1050 [==============================] - 15s 14ms/step - loss: 2.2475 - accuracy: 0.1866\n",
      "Epoch 3/10\n",
      "1050/1050 [==============================] - 15s 14ms/step - loss: 2.1908 - accuracy: 0.2710\n",
      "Epoch 4/10\n",
      "1050/1050 [==============================] - 14s 14ms/step - loss: 2.1171 - accuracy: 0.3515\n",
      "Epoch 5/10\n",
      "1050/1050 [==============================] - 14s 14ms/step - loss: 2.0205 - accuracy: 0.4341\n",
      "Epoch 6/10\n",
      "1050/1050 [==============================] - 14s 14ms/step - loss: 1.8969 - accuracy: 0.4993\n",
      "Epoch 7/10\n",
      "1050/1050 [==============================] - 15s 14ms/step - loss: 1.7539 - accuracy: 0.5437\n",
      "Epoch 8/10\n",
      "1050/1050 [==============================] - 15s 14ms/step - loss: 1.5977 - accuracy: 0.5797\n",
      "Epoch 9/10\n",
      "1050/1050 [==============================] - 15s 14ms/step - loss: 1.4470 - accuracy: 0.6098\n",
      "Epoch 10/10\n",
      "1050/1050 [==============================] - 15s 14ms/step - loss: 1.3097 - accuracy: 0.6316\n",
      "\n",
      "Tempo gasto: 149.66543769836426 segundos\n"
     ]
    }
   ],
   "source": [
    "from keras import Sequential \n",
    "from keras.layers import Dense, Activation, Dropout, Conv2D, MaxPooling2D, Flatten \n",
    "\n",
    "start = time()\n",
    "\n",
    "img_rows, img_cols = 28, 28\n",
    "nb_filters = 32\n",
    "pool_size = (2, 2)\n",
    "kernel_size = (3, 3)\n",
    "\n",
    "X_train = X_train.reshape(X_train.shape[0], img_rows, img_cols,1)\n",
    "X_test = X_test.reshape(X_test.shape[0], img_rows, img_cols,1)\n",
    "input_shape = (img_rows, img_cols,1)\n",
    "\n",
    "model = Sequential()\n",
    "\n",
    "# Primeira camada de convolucao\n",
    "model.add(Conv2D(nb_filters, kernel_size, input_shape=input_shape))\n",
    "model.add(Activation('relu'))\n",
    "\n",
    "# Segunda camada de convolucao\n",
    "model.add(Conv2D(nb_filters, kernel_size))\n",
    "model.add(Activation('relu'))\n",
    "\n",
    "# Primeira camada de pooling para reduzir a dimensionalidade, e regularizacao com dropout\n",
    "model.add(MaxPooling2D(pool_size=pool_size))\n",
    "model.add(Dropout(0.25))\n",
    "model.add(Flatten())\n",
    "\n",
    "# Camanda densa com dropout\n",
    "model.add(Dense(128))\n",
    "model.add(Activation('relu'))\n",
    "model.add(Dropout(0.5))\n",
    "\n",
    "# Camada de saida com a funcao soft max para calcular a probabilidade das classes.\n",
    "model.add(Dense(10))\n",
    "model.add(Activation('softmax'))\n",
    "\n",
    "model.compile(loss='categorical_crossentropy', optimizer='adadelta', metrics=['accuracy'])\n",
    "\n",
    "model.fit(X_train, y_train_onehot, epochs=10)\n",
    "\n",
    "print ('\\nTempo gasto: %s segundos' % str(time() - start))"
   ]
  },
  {
   "cell_type": "code",
   "execution_count": 8,
   "metadata": {
    "ExecuteTime": {
     "end_time": "2020-12-14T12:38:06.925169Z",
     "start_time": "2020-12-14T12:38:06.287085Z"
    }
   },
   "outputs": [
    {
     "name": "stdout",
     "output_type": "stream",
     "text": [
      "\n",
      "Acurácia 0.0\n"
     ]
    },
    {
     "name": "stderr",
     "output_type": "stream",
     "text": [
      "/home/lucas/anaconda3/lib/python3.7/site-packages/ipykernel_launcher.py:2: DeprecationWarning: elementwise comparison failed; this will raise an error in the future.\n",
      "  \n"
     ]
    }
   ],
   "source": [
    "y_prediction = model.predict_classes(X_test)\n",
    "print (\"\\nAcurácia\", np.sum(y_prediction == y_test) / float(len(y_test)))"
   ]
  },
  {
   "cell_type": "code",
   "execution_count": null,
   "metadata": {},
   "outputs": [],
   "source": []
  }
 ],
 "metadata": {
  "kernelspec": {
   "display_name": "Python 3",
   "language": "python",
   "name": "python3"
  },
  "language_info": {
   "codemirror_mode": {
    "name": "ipython",
    "version": 3
   },
   "file_extension": ".py",
   "mimetype": "text/x-python",
   "name": "python",
   "nbconvert_exporter": "python",
   "pygments_lexer": "ipython3",
   "version": "3.7.6"
  },
  "toc": {
   "base_numbering": 1,
   "nav_menu": {},
   "number_sections": true,
   "sideBar": true,
   "skip_h1_title": false,
   "title_cell": "Table of Contents",
   "title_sidebar": "Contents",
   "toc_cell": false,
   "toc_position": {},
   "toc_section_display": true,
   "toc_window_display": false
  },
  "varInspector": {
   "cols": {
    "lenName": 16,
    "lenType": 16,
    "lenVar": 40
   },
   "kernels_config": {
    "python": {
     "delete_cmd_postfix": "",
     "delete_cmd_prefix": "del ",
     "library": "var_list.py",
     "varRefreshCmd": "print(var_dic_list())"
    },
    "r": {
     "delete_cmd_postfix": ") ",
     "delete_cmd_prefix": "rm(",
     "library": "var_list.r",
     "varRefreshCmd": "cat(var_dic_list()) "
    }
   },
   "types_to_exclude": [
    "module",
    "function",
    "builtin_function_or_method",
    "instance",
    "_Feature"
   ],
   "window_display": false
  }
 },
 "nbformat": 4,
 "nbformat_minor": 4
}
