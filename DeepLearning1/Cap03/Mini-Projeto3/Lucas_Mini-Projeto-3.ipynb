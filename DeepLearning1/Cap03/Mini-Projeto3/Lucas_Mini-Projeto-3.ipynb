{
 "cells": [
  {
   "cell_type": "markdown",
   "metadata": {
    "ExecuteTime": {
     "end_time": "2020-12-17T10:54:10.766209Z",
     "start_time": "2020-12-17T10:54:10.763762Z"
    }
   },
   "source": [
    "# Prevendo Cancelamento de Reservas em Hotel"
   ]
  },
  {
   "cell_type": "markdown",
   "metadata": {},
   "source": [
    "## Instalando e Importando Pacotes"
   ]
  },
  {
   "cell_type": "code",
   "execution_count": 3,
   "metadata": {
    "ExecuteTime": {
     "end_time": "2020-12-17T10:55:00.740639Z",
     "start_time": "2020-12-17T10:54:58.964232Z"
    }
   },
   "outputs": [
    {
     "name": "stdout",
     "output_type": "stream",
     "text": [
      "\u001b[33mWARNING: You are using pip version 20.3; however, version 20.3.1 is available.\r\n",
      "You should consider upgrading via the '/home/lucas/anaconda3/bin/python -m pip install --upgrade pip' command.\u001b[0m\r\n"
     ]
    }
   ],
   "source": [
    "!pip install -q pandas_profiling"
   ]
  },
  {
   "cell_type": "code",
   "execution_count": 4,
   "metadata": {
    "ExecuteTime": {
     "end_time": "2020-12-17T10:55:49.732870Z",
     "start_time": "2020-12-17T10:55:46.470183Z"
    }
   },
   "outputs": [
    {
     "name": "stdout",
     "output_type": "stream",
     "text": [
      "Defaulting to user installation because normal site-packages is not writeable\n",
      "Requirement already satisfied: pip in /home/lucas/.local/lib/python3.7/site-packages (20.3)\n",
      "Collecting pip\n",
      "  Downloading pip-20.3.3-py2.py3-none-any.whl (1.5 MB)\n",
      "\u001b[K     |████████████████████████████████| 1.5 MB 11.4 MB/s eta 0:00:01\n",
      "\u001b[?25hInstalling collected packages: pip\n",
      "  Attempting uninstall: pip\n",
      "    Found existing installation: pip 20.3\n",
      "    Uninstalling pip-20.3:\n",
      "      Successfully uninstalled pip-20.3\n",
      "Successfully installed pip-20.3.3\n"
     ]
    }
   ],
   "source": [
    "!pip install --upgrade pip"
   ]
  },
  {
   "cell_type": "code",
   "execution_count": 7,
   "metadata": {
    "ExecuteTime": {
     "end_time": "2020-12-17T11:21:42.021425Z",
     "start_time": "2020-12-17T11:21:42.008338Z"
    }
   },
   "outputs": [],
   "source": [
    "# Imports\n",
    "\n",
    "# Manipulacao e Visualizacao de Dados\n",
    "import numpy as np \n",
    "import pandas as pd \n",
    "import matplotlib as m \n",
    "import matplotlib.pyplot as plt \n",
    "import seaborn as sns \n",
    "import pandas_profiling \n",
    "from pandas_profiling import ProfileReport\n",
    "\n",
    "# Pre-Processing and Evaluation\n",
    "import sklearn \n",
    "from sklearn.model_selection import train_test_split \n",
    "from sklearn.preprocessing import MinMaxScaler \n",
    "from sklearn.metrics import accuracy_score\n",
    "\n",
    "# Deep Learning\n",
    "import tensorflow \n",
    "from keras.models import Sequential \n",
    "from keras.layers import Dense, Input, Dropout \n",
    "from keras.losses import categorical_crossentropy \n",
    "from keras.utils import to_categorical \n",
    "from keras.callbacks import EarlyStopping, ReduceLROnPlateau\n",
    "from keras.optimizers import Nadam\n",
    "\n",
    "# Graphics\n",
    "from matplotlib.pylab import rcParams\n",
    "rcParams['axes.labelsize'] = 14\n",
    "rcParams['xtick.labelsize'] = 12\n",
    "rcParams['ytick.labelsize'] = 12\n",
    "rcParams['text.color'] = 'k'\n",
    "rcParams['figure.max_open_warning'] = 30\n",
    "rcParams['figure.figsize'] = 10,8\n",
    "m.style.use('ggplot')\n",
    "%matplotlib inline"
   ]
  },
  {
   "cell_type": "code",
   "execution_count": 8,
   "metadata": {
    "ExecuteTime": {
     "end_time": "2020-12-17T11:21:51.411265Z",
     "start_time": "2020-12-17T11:21:51.383093Z"
    }
   },
   "outputs": [
    {
     "name": "stdout",
     "output_type": "stream",
     "text": [
      "numpy            1.18.1\n",
      "pandas_profiling 2.9.0\n",
      "matplotlib       3.3.3\n",
      "sklearn          0.23.1\n",
      "autopep8         1.4.4\n",
      "json             2.0.9\n",
      "pandas           1.1.5\n",
      "seaborn          0.11.0\n",
      "tensorflow       2.3.0\n",
      "Data Science Academy\n"
     ]
    }
   ],
   "source": [
    "# Versões dos pacotes usados neste jupyter notebook\n",
    "%reload_ext watermark\n",
    "%watermark -a \"Data Science Academy\" --iversions"
   ]
  },
  {
   "cell_type": "code",
   "execution_count": 9,
   "metadata": {
    "ExecuteTime": {
     "end_time": "2020-12-17T11:22:49.158302Z",
     "start_time": "2020-12-17T11:22:46.312951Z"
    }
   },
   "outputs": [
    {
     "name": "stdout",
     "output_type": "stream",
     "text": [
      "[name: \"/device:CPU:0\"\n",
      "device_type: \"CPU\"\n",
      "memory_limit: 268435456\n",
      "locality {\n",
      "}\n",
      "incarnation: 6452783212051349594\n",
      ", name: \"/device:XLA_CPU:0\"\n",
      "device_type: \"XLA_CPU\"\n",
      "memory_limit: 17179869184\n",
      "locality {\n",
      "}\n",
      "incarnation: 6685507443031723522\n",
      "physical_device_desc: \"device: XLA_CPU device\"\n",
      "]\n"
     ]
    }
   ],
   "source": [
    "# Listando todos os devices disponiveis\n",
    "from tensorflow.python.client import device_lib \n",
    "print(device_lib.list_local_devices())"
   ]
  },
  {
   "cell_type": "code",
   "execution_count": 11,
   "metadata": {
    "ExecuteTime": {
     "end_time": "2020-12-17T11:23:43.025116Z",
     "start_time": "2020-12-17T11:23:43.021747Z"
    }
   },
   "outputs": [
    {
     "name": "stdout",
     "output_type": "stream",
     "text": [
      "Número Disponível de GPUs:  0\n"
     ]
    }
   ],
   "source": [
    "import tensorflow as tf\n",
    "print(\"Número Disponível de GPUs: \", len(tf.config.experimental.list_physical_devices('GPU')))"
   ]
  },
  {
   "cell_type": "code",
   "execution_count": 12,
   "metadata": {
    "ExecuteTime": {
     "end_time": "2020-12-17T11:23:50.820428Z",
     "start_time": "2020-12-17T11:23:50.816367Z"
    }
   },
   "outputs": [
    {
     "data": {
      "text/plain": [
       "[]"
      ]
     },
     "execution_count": 12,
     "metadata": {},
     "output_type": "execute_result"
    }
   ],
   "source": [
    "# Lista o código de cada GPU\n",
    "tf.config.list_physical_devices('GPU')"
   ]
  },
  {
   "cell_type": "markdown",
   "metadata": {},
   "source": [
    "## Carregando os Dados"
   ]
  },
  {
   "cell_type": "code",
   "execution_count": 13,
   "metadata": {
    "ExecuteTime": {
     "end_time": "2020-12-17T11:25:04.239598Z",
     "start_time": "2020-12-17T11:25:04.006998Z"
    }
   },
   "outputs": [],
   "source": [
    "# Loading dataset\n",
    "dataset = pd.read_csv(\"dados/hotel_bookings.csv\")"
   ]
  },
  {
   "cell_type": "code",
   "execution_count": 14,
   "metadata": {
    "ExecuteTime": {
     "end_time": "2020-12-17T11:25:09.943368Z",
     "start_time": "2020-12-17T11:25:09.940568Z"
    }
   },
   "outputs": [
    {
     "data": {
      "text/plain": [
       "(119390, 32)"
      ]
     },
     "execution_count": 14,
     "metadata": {},
     "output_type": "execute_result"
    }
   ],
   "source": [
    "dataset.shape"
   ]
  },
  {
   "cell_type": "code",
   "execution_count": 16,
   "metadata": {
    "ExecuteTime": {
     "end_time": "2020-12-17T11:26:07.041004Z",
     "start_time": "2020-12-17T11:26:06.987115Z"
    }
   },
   "outputs": [
    {
     "data": {
      "text/html": [
       "<div>\n",
       "<style scoped>\n",
       "    .dataframe tbody tr th:only-of-type {\n",
       "        vertical-align: middle;\n",
       "    }\n",
       "\n",
       "    .dataframe tbody tr th {\n",
       "        vertical-align: top;\n",
       "    }\n",
       "\n",
       "    .dataframe thead th {\n",
       "        text-align: right;\n",
       "    }\n",
       "</style>\n",
       "<table border=\"1\" class=\"dataframe\">\n",
       "  <thead>\n",
       "    <tr style=\"text-align: right;\">\n",
       "      <th></th>\n",
       "      <th>hotel</th>\n",
       "      <th>is_canceled</th>\n",
       "      <th>lead_time</th>\n",
       "      <th>arrival_date_year</th>\n",
       "      <th>arrival_date_month</th>\n",
       "      <th>arrival_date_week_number</th>\n",
       "      <th>arrival_date_day_of_month</th>\n",
       "      <th>stays_in_weekend_nights</th>\n",
       "      <th>stays_in_week_nights</th>\n",
       "      <th>adults</th>\n",
       "      <th>children</th>\n",
       "      <th>babies</th>\n",
       "      <th>meal</th>\n",
       "      <th>country</th>\n",
       "      <th>market_segment</th>\n",
       "      <th>distribution_channel</th>\n",
       "      <th>is_repeated_guest</th>\n",
       "      <th>previous_cancellations</th>\n",
       "      <th>previous_bookings_not_canceled</th>\n",
       "      <th>reserved_room_type</th>\n",
       "      <th>assigned_room_type</th>\n",
       "      <th>booking_changes</th>\n",
       "      <th>deposit_type</th>\n",
       "      <th>agent</th>\n",
       "      <th>company</th>\n",
       "      <th>days_in_waiting_list</th>\n",
       "      <th>customer_type</th>\n",
       "      <th>adr</th>\n",
       "      <th>required_car_parking_spaces</th>\n",
       "      <th>total_of_special_requests</th>\n",
       "      <th>reservation_status</th>\n",
       "      <th>reservation_status_date</th>\n",
       "    </tr>\n",
       "  </thead>\n",
       "  <tbody>\n",
       "    <tr>\n",
       "      <th>0</th>\n",
       "      <td>Resort Hotel</td>\n",
       "      <td>0</td>\n",
       "      <td>342</td>\n",
       "      <td>2015</td>\n",
       "      <td>July</td>\n",
       "      <td>27</td>\n",
       "      <td>1</td>\n",
       "      <td>0</td>\n",
       "      <td>0</td>\n",
       "      <td>2</td>\n",
       "      <td>0.0</td>\n",
       "      <td>0</td>\n",
       "      <td>BB</td>\n",
       "      <td>PRT</td>\n",
       "      <td>Direct</td>\n",
       "      <td>Direct</td>\n",
       "      <td>0</td>\n",
       "      <td>0</td>\n",
       "      <td>0</td>\n",
       "      <td>C</td>\n",
       "      <td>C</td>\n",
       "      <td>3</td>\n",
       "      <td>No Deposit</td>\n",
       "      <td>NaN</td>\n",
       "      <td>NaN</td>\n",
       "      <td>0</td>\n",
       "      <td>Transient</td>\n",
       "      <td>0.0</td>\n",
       "      <td>0</td>\n",
       "      <td>0</td>\n",
       "      <td>Check-Out</td>\n",
       "      <td>2015-07-01</td>\n",
       "    </tr>\n",
       "    <tr>\n",
       "      <th>1</th>\n",
       "      <td>Resort Hotel</td>\n",
       "      <td>0</td>\n",
       "      <td>737</td>\n",
       "      <td>2015</td>\n",
       "      <td>July</td>\n",
       "      <td>27</td>\n",
       "      <td>1</td>\n",
       "      <td>0</td>\n",
       "      <td>0</td>\n",
       "      <td>2</td>\n",
       "      <td>0.0</td>\n",
       "      <td>0</td>\n",
       "      <td>BB</td>\n",
       "      <td>PRT</td>\n",
       "      <td>Direct</td>\n",
       "      <td>Direct</td>\n",
       "      <td>0</td>\n",
       "      <td>0</td>\n",
       "      <td>0</td>\n",
       "      <td>C</td>\n",
       "      <td>C</td>\n",
       "      <td>4</td>\n",
       "      <td>No Deposit</td>\n",
       "      <td>NaN</td>\n",
       "      <td>NaN</td>\n",
       "      <td>0</td>\n",
       "      <td>Transient</td>\n",
       "      <td>0.0</td>\n",
       "      <td>0</td>\n",
       "      <td>0</td>\n",
       "      <td>Check-Out</td>\n",
       "      <td>2015-07-01</td>\n",
       "    </tr>\n",
       "    <tr>\n",
       "      <th>2</th>\n",
       "      <td>Resort Hotel</td>\n",
       "      <td>0</td>\n",
       "      <td>7</td>\n",
       "      <td>2015</td>\n",
       "      <td>July</td>\n",
       "      <td>27</td>\n",
       "      <td>1</td>\n",
       "      <td>0</td>\n",
       "      <td>1</td>\n",
       "      <td>1</td>\n",
       "      <td>0.0</td>\n",
       "      <td>0</td>\n",
       "      <td>BB</td>\n",
       "      <td>GBR</td>\n",
       "      <td>Direct</td>\n",
       "      <td>Direct</td>\n",
       "      <td>0</td>\n",
       "      <td>0</td>\n",
       "      <td>0</td>\n",
       "      <td>A</td>\n",
       "      <td>C</td>\n",
       "      <td>0</td>\n",
       "      <td>No Deposit</td>\n",
       "      <td>NaN</td>\n",
       "      <td>NaN</td>\n",
       "      <td>0</td>\n",
       "      <td>Transient</td>\n",
       "      <td>75.0</td>\n",
       "      <td>0</td>\n",
       "      <td>0</td>\n",
       "      <td>Check-Out</td>\n",
       "      <td>2015-07-02</td>\n",
       "    </tr>\n",
       "    <tr>\n",
       "      <th>3</th>\n",
       "      <td>Resort Hotel</td>\n",
       "      <td>0</td>\n",
       "      <td>13</td>\n",
       "      <td>2015</td>\n",
       "      <td>July</td>\n",
       "      <td>27</td>\n",
       "      <td>1</td>\n",
       "      <td>0</td>\n",
       "      <td>1</td>\n",
       "      <td>1</td>\n",
       "      <td>0.0</td>\n",
       "      <td>0</td>\n",
       "      <td>BB</td>\n",
       "      <td>GBR</td>\n",
       "      <td>Corporate</td>\n",
       "      <td>Corporate</td>\n",
       "      <td>0</td>\n",
       "      <td>0</td>\n",
       "      <td>0</td>\n",
       "      <td>A</td>\n",
       "      <td>A</td>\n",
       "      <td>0</td>\n",
       "      <td>No Deposit</td>\n",
       "      <td>304.0</td>\n",
       "      <td>NaN</td>\n",
       "      <td>0</td>\n",
       "      <td>Transient</td>\n",
       "      <td>75.0</td>\n",
       "      <td>0</td>\n",
       "      <td>0</td>\n",
       "      <td>Check-Out</td>\n",
       "      <td>2015-07-02</td>\n",
       "    </tr>\n",
       "    <tr>\n",
       "      <th>4</th>\n",
       "      <td>Resort Hotel</td>\n",
       "      <td>0</td>\n",
       "      <td>14</td>\n",
       "      <td>2015</td>\n",
       "      <td>July</td>\n",
       "      <td>27</td>\n",
       "      <td>1</td>\n",
       "      <td>0</td>\n",
       "      <td>2</td>\n",
       "      <td>2</td>\n",
       "      <td>0.0</td>\n",
       "      <td>0</td>\n",
       "      <td>BB</td>\n",
       "      <td>GBR</td>\n",
       "      <td>Online TA</td>\n",
       "      <td>TA/TO</td>\n",
       "      <td>0</td>\n",
       "      <td>0</td>\n",
       "      <td>0</td>\n",
       "      <td>A</td>\n",
       "      <td>A</td>\n",
       "      <td>0</td>\n",
       "      <td>No Deposit</td>\n",
       "      <td>240.0</td>\n",
       "      <td>NaN</td>\n",
       "      <td>0</td>\n",
       "      <td>Transient</td>\n",
       "      <td>98.0</td>\n",
       "      <td>0</td>\n",
       "      <td>1</td>\n",
       "      <td>Check-Out</td>\n",
       "      <td>2015-07-03</td>\n",
       "    </tr>\n",
       "  </tbody>\n",
       "</table>\n",
       "</div>"
      ],
      "text/plain": [
       "          hotel  is_canceled  ...  reservation_status  reservation_status_date\n",
       "0  Resort Hotel            0  ...           Check-Out               2015-07-01\n",
       "1  Resort Hotel            0  ...           Check-Out               2015-07-01\n",
       "2  Resort Hotel            0  ...           Check-Out               2015-07-02\n",
       "3  Resort Hotel            0  ...           Check-Out               2015-07-02\n",
       "4  Resort Hotel            0  ...           Check-Out               2015-07-03\n",
       "\n",
       "[5 rows x 32 columns]"
      ]
     },
     "execution_count": 16,
     "metadata": {},
     "output_type": "execute_result"
    }
   ],
   "source": [
    "dataset.head(5)"
   ]
  },
  {
   "cell_type": "markdown",
   "metadata": {},
   "source": [
    "## Analise Exploratoria"
   ]
  },
  {
   "cell_type": "code",
   "execution_count": null,
   "metadata": {
    "ExecuteTime": {
     "start_time": "2020-12-17T11:26:42.157Z"
    }
   },
   "outputs": [
    {
     "data": {
      "application/vnd.jupyter.widget-view+json": {
       "model_id": "3c16335faf1a4269939d605bb66bd9aa",
       "version_major": 2,
       "version_minor": 0
      },
      "text/plain": [
       "HBox(children=(HTML(value='Summarize dataset'), FloatProgress(value=0.0, max=46.0), HTML(value='')))"
      ]
     },
     "metadata": {},
     "output_type": "display_data"
    },
    {
     "name": "stdout",
     "output_type": "stream",
     "text": [
      "\n"
     ]
    },
    {
     "data": {
      "application/vnd.jupyter.widget-view+json": {
       "model_id": "d5b387dc8eb64108965e57a577d00351",
       "version_major": 2,
       "version_minor": 0
      },
      "text/plain": [
       "HBox(children=(HTML(value='Generate report structure'), FloatProgress(value=0.0, max=1.0), HTML(value='')))"
      ]
     },
     "metadata": {},
     "output_type": "display_data"
    }
   ],
   "source": [
    "prof = ProfileReport(dataset)\n",
    "prof"
   ]
  },
  {
   "cell_type": "code",
   "execution_count": null,
   "metadata": {},
   "outputs": [],
   "source": [
    "prof.to_file(output_file = 'relatorio.html')"
   ]
  },
  {
   "cell_type": "code",
   "execution_count": 19,
   "metadata": {
    "ExecuteTime": {
     "end_time": "2020-12-17T11:30:10.890477Z",
     "start_time": "2020-12-17T11:30:10.885825Z"
    }
   },
   "outputs": [
    {
     "name": "stdout",
     "output_type": "stream",
     "text": [
      "32\n"
     ]
    }
   ],
   "source": [
    "# Numero de Colunas\n",
    "print(len(dataset.columns))"
   ]
  },
  {
   "cell_type": "code",
   "execution_count": 20,
   "metadata": {
    "ExecuteTime": {
     "end_time": "2020-12-17T11:30:18.024798Z",
     "start_time": "2020-12-17T11:30:18.019593Z"
    }
   },
   "outputs": [
    {
     "data": {
      "text/plain": [
       "hotel                              object\n",
       "is_canceled                         int64\n",
       "lead_time                           int64\n",
       "arrival_date_year                   int64\n",
       "arrival_date_month                 object\n",
       "arrival_date_week_number            int64\n",
       "arrival_date_day_of_month           int64\n",
       "stays_in_weekend_nights             int64\n",
       "stays_in_week_nights                int64\n",
       "adults                              int64\n",
       "children                          float64\n",
       "babies                              int64\n",
       "meal                               object\n",
       "country                            object\n",
       "market_segment                     object\n",
       "distribution_channel               object\n",
       "is_repeated_guest                   int64\n",
       "previous_cancellations              int64\n",
       "previous_bookings_not_canceled      int64\n",
       "reserved_room_type                 object\n",
       "assigned_room_type                 object\n",
       "booking_changes                     int64\n",
       "deposit_type                       object\n",
       "agent                             float64\n",
       "company                           float64\n",
       "days_in_waiting_list                int64\n",
       "customer_type                      object\n",
       "adr                               float64\n",
       "required_car_parking_spaces         int64\n",
       "total_of_special_requests           int64\n",
       "reservation_status                 object\n",
       "reservation_status_date            object\n",
       "dtype: object"
      ]
     },
     "execution_count": 20,
     "metadata": {},
     "output_type": "execute_result"
    }
   ],
   "source": [
    "dataset.dtypes"
   ]
  },
  {
   "cell_type": "code",
   "execution_count": 27,
   "metadata": {
    "ExecuteTime": {
     "end_time": "2020-12-17T11:34:42.466440Z",
     "start_time": "2020-12-17T11:34:42.452044Z"
    }
   },
   "outputs": [
    {
     "name": "stdout",
     "output_type": "stream",
     "text": [
      "hotel\n",
      "arrival_date_month\n",
      "meal\n",
      "country\n",
      "market_segment\n",
      "distribution_channel\n",
      "reserved_room_type\n",
      "assigned_room_type\n",
      "deposit_type\n",
      "customer_type\n",
      "reservation_status\n",
      "reservation_status_date\n"
     ]
    }
   ],
   "source": [
    "# Checking Collumns are String\n",
    "for column, series in dataset.items():\n",
    "    if str(type(series[0])) == \"<class 'str'>\":\n",
    "        print(column)"
   ]
  },
  {
   "cell_type": "code",
   "execution_count": 28,
   "metadata": {
    "ExecuteTime": {
     "end_time": "2020-12-17T11:35:07.591321Z",
     "start_time": "2020-12-17T11:35:07.537398Z"
    }
   },
   "outputs": [
    {
     "data": {
      "text/plain": [
       "hotel                                  0\n",
       "is_canceled                            0\n",
       "lead_time                              0\n",
       "arrival_date_year                      0\n",
       "arrival_date_month                     0\n",
       "arrival_date_week_number               0\n",
       "arrival_date_day_of_month              0\n",
       "stays_in_weekend_nights                0\n",
       "stays_in_week_nights                   0\n",
       "adults                                 0\n",
       "children                               4\n",
       "babies                                 0\n",
       "meal                                   0\n",
       "country                              488\n",
       "market_segment                         0\n",
       "distribution_channel                   0\n",
       "is_repeated_guest                      0\n",
       "previous_cancellations                 0\n",
       "previous_bookings_not_canceled         0\n",
       "reserved_room_type                     0\n",
       "assigned_room_type                     0\n",
       "booking_changes                        0\n",
       "deposit_type                           0\n",
       "agent                              16340\n",
       "company                           112593\n",
       "days_in_waiting_list                   0\n",
       "customer_type                          0\n",
       "adr                                    0\n",
       "required_car_parking_spaces            0\n",
       "total_of_special_requests              0\n",
       "reservation_status                     0\n",
       "reservation_status_date                0\n",
       "dtype: int64"
      ]
     },
     "execution_count": 28,
     "metadata": {},
     "output_type": "execute_result"
    }
   ],
   "source": [
    "# Checking Missing Values\n",
    "dataset.isnull().sum()"
   ]
  },
  {
   "cell_type": "markdown",
   "metadata": {},
   "source": [
    "## Cleaning and Transformation Data"
   ]
  },
  {
   "cell_type": "code",
   "execution_count": 29,
   "metadata": {
    "ExecuteTime": {
     "end_time": "2020-12-17T11:36:04.274258Z",
     "start_time": "2020-12-17T11:36:04.260722Z"
    }
   },
   "outputs": [],
   "source": [
    "dataset = dataset.drop(['company'], axis = 1)"
   ]
  },
  {
   "cell_type": "code",
   "execution_count": 30,
   "metadata": {
    "ExecuteTime": {
     "end_time": "2020-12-17T11:36:36.013302Z",
     "start_time": "2020-12-17T11:36:35.998406Z"
    }
   },
   "outputs": [],
   "source": [
    "dataset = dataset.drop(['country'], axis = 1)"
   ]
  },
  {
   "cell_type": "code",
   "execution_count": 31,
   "metadata": {
    "ExecuteTime": {
     "end_time": "2020-12-17T11:36:56.862632Z",
     "start_time": "2020-12-17T11:36:56.800533Z"
    }
   },
   "outputs": [],
   "source": [
    "dataset = dataset.dropna()"
   ]
  },
  {
   "cell_type": "code",
   "execution_count": 33,
   "metadata": {
    "ExecuteTime": {
     "end_time": "2020-12-17T11:37:12.875698Z",
     "start_time": "2020-12-17T11:37:12.817529Z"
    }
   },
   "outputs": [
    {
     "data": {
      "text/plain": [
       "hotel                             0\n",
       "is_canceled                       0\n",
       "lead_time                         0\n",
       "arrival_date_year                 0\n",
       "arrival_date_month                0\n",
       "arrival_date_week_number          0\n",
       "arrival_date_day_of_month         0\n",
       "stays_in_weekend_nights           0\n",
       "stays_in_week_nights              0\n",
       "adults                            0\n",
       "children                          0\n",
       "babies                            0\n",
       "meal                              0\n",
       "market_segment                    0\n",
       "distribution_channel              0\n",
       "is_repeated_guest                 0\n",
       "previous_cancellations            0\n",
       "previous_bookings_not_canceled    0\n",
       "reserved_room_type                0\n",
       "assigned_room_type                0\n",
       "booking_changes                   0\n",
       "deposit_type                      0\n",
       "agent                             0\n",
       "days_in_waiting_list              0\n",
       "customer_type                     0\n",
       "adr                               0\n",
       "required_car_parking_spaces       0\n",
       "total_of_special_requests         0\n",
       "reservation_status                0\n",
       "reservation_status_date           0\n",
       "dtype: int64"
      ]
     },
     "execution_count": 33,
     "metadata": {},
     "output_type": "execute_result"
    }
   ],
   "source": [
    "dataset.isnull().sum()"
   ]
  },
  {
   "cell_type": "code",
   "execution_count": 34,
   "metadata": {
    "ExecuteTime": {
     "end_time": "2020-12-17T11:37:20.306629Z",
     "start_time": "2020-12-17T11:37:20.303684Z"
    }
   },
   "outputs": [
    {
     "data": {
      "text/plain": [
       "(103048, 30)"
      ]
     },
     "execution_count": 34,
     "metadata": {},
     "output_type": "execute_result"
    }
   ],
   "source": [
    "dataset.shape"
   ]
  },
  {
   "cell_type": "code",
   "execution_count": 35,
   "metadata": {
    "ExecuteTime": {
     "end_time": "2020-12-17T11:38:13.917554Z",
     "start_time": "2020-12-17T11:38:13.904035Z"
    }
   },
   "outputs": [
    {
     "data": {
      "text/plain": [
       "array(['July', 'August', 'September', 'October', 'November', 'December',\n",
       "       'January', 'February', 'March', 'April', 'May', 'June'],\n",
       "      dtype=object)"
      ]
     },
     "execution_count": 35,
     "metadata": {},
     "output_type": "execute_result"
    }
   ],
   "source": [
    "# Utilizando o label enconding, transformando variavies categoricas em variaveis numericas\n",
    "# Valores únicos para a coluna de mês de chegada\n",
    "dataset.arrival_date_month.unique()"
   ]
  },
  {
   "cell_type": "code",
   "execution_count": 36,
   "metadata": {
    "ExecuteTime": {
     "end_time": "2020-12-17T11:38:18.938392Z",
     "start_time": "2020-12-17T11:38:18.935352Z"
    }
   },
   "outputs": [],
   "source": [
    "# Dicionário de meses\n",
    "mes_dict = {\"January\": 1,\n",
    "            \"February\": 2,\n",
    "            \"March\": 3,\n",
    "            \"April\": 4,\n",
    "            \"May\": 5, \n",
    "            \"June\": 6,\n",
    "            \"July\": 7,\n",
    "            \"August\": 8,\n",
    "            \"September\": 9,\n",
    "            \"October\": 10,\n",
    "            \"November\": 11,\n",
    "            \"December\": 12}"
   ]
  },
  {
   "cell_type": "code",
   "execution_count": 38,
   "metadata": {
    "ExecuteTime": {
     "end_time": "2020-12-17T11:39:48.212905Z",
     "start_time": "2020-12-17T11:39:48.161290Z"
    }
   },
   "outputs": [
    {
     "name": "stderr",
     "output_type": "stream",
     "text": [
      "/home/lucas/anaconda3/lib/python3.7/site-packages/ipykernel_launcher.py:1: SettingWithCopyWarning: \n",
      "A value is trying to be set on a copy of a slice from a DataFrame.\n",
      "Try using .loc[row_indexer,col_indexer] = value instead\n",
      "\n",
      "See the caveats in the documentation: https://pandas.pydata.org/pandas-docs/stable/user_guide/indexing.html#returning-a-view-versus-a-copy\n",
      "  \"\"\"Entry point for launching an IPython kernel.\n"
     ]
    }
   ],
   "source": [
    "dataset[\"arrival_date_month_numerical\"] = dataset.arrival_date_month.apply(lambda x: mes_dict[x])"
   ]
  },
  {
   "cell_type": "code",
   "execution_count": 40,
   "metadata": {
    "ExecuteTime": {
     "end_time": "2020-12-17T11:40:48.818291Z",
     "start_time": "2020-12-17T11:40:48.812724Z"
    }
   },
   "outputs": [
    {
     "data": {
      "text/plain": [
       "8     12680\n",
       "7     11604\n",
       "5     10089\n",
       "6      9806\n",
       "4      9758\n",
       "10     9461\n",
       "9      9437\n",
       "3      8149\n",
       "2      6461\n",
       "12     5631\n",
       "11     5409\n",
       "1      4563\n",
       "Name: arrival_date_month_numerical, dtype: int64"
      ]
     },
     "execution_count": 40,
     "metadata": {},
     "output_type": "execute_result"
    }
   ],
   "source": [
    "# Total de registros para cada mes\n",
    "dataset.arrival_date_month_numerical.value_counts()"
   ]
  },
  {
   "cell_type": "code",
   "execution_count": 41,
   "metadata": {
    "ExecuteTime": {
     "end_time": "2020-12-17T11:41:07.315116Z",
     "start_time": "2020-12-17T11:41:07.300708Z"
    }
   },
   "outputs": [],
   "source": [
    "# Não precisamos mais da coluna \"arrival_date_month\"\n",
    "dataset = dataset.drop(\"arrival_date_month\", axis = 1)"
   ]
  },
  {
   "cell_type": "code",
   "execution_count": 42,
   "metadata": {
    "ExecuteTime": {
     "end_time": "2020-12-17T11:41:57.491485Z",
     "start_time": "2020-12-17T11:41:57.484951Z"
    }
   },
   "outputs": [
    {
     "data": {
      "text/plain": [
       "array(['A', 'C', 'D', 'E', 'G', 'F', 'H', 'B'], dtype=object)"
      ]
     },
     "execution_count": 42,
     "metadata": {},
     "output_type": "execute_result"
    }
   ],
   "source": [
    "# Enconding das variaveis\n",
    "dataset.reserved_room_type.unique()"
   ]
  },
  {
   "cell_type": "code",
   "execution_count": 43,
   "metadata": {
    "ExecuteTime": {
     "end_time": "2020-12-17T11:42:15.417318Z",
     "start_time": "2020-12-17T11:42:15.410839Z"
    }
   },
   "outputs": [
    {
     "data": {
      "text/plain": [
       "array(['A', 'C', 'D', 'E', 'G', 'F', 'I', 'B', 'H', 'K'], dtype=object)"
      ]
     },
     "execution_count": 43,
     "metadata": {},
     "output_type": "execute_result"
    }
   ],
   "source": [
    "dataset.assigned_room_type.unique()"
   ]
  },
  {
   "cell_type": "code",
   "execution_count": 44,
   "metadata": {
    "ExecuteTime": {
     "end_time": "2020-12-17T11:42:19.647678Z",
     "start_time": "2020-12-17T11:42:19.643590Z"
    }
   },
   "outputs": [],
   "source": [
    "# Dicionário para o encoding do tipo de quarto\n",
    "tipo_quarto_dict = {\"A\": 1, \"B\": 2, \"C\": 3, \"D\": 4, \"E\": 5, \"F\": 6, \"G\": 7, \"H\": 8, \"I\": 9, \"K\": 11, \"L\": 12, \"P\": 15}"
   ]
  },
  {
   "cell_type": "code",
   "execution_count": 45,
   "metadata": {
    "ExecuteTime": {
     "end_time": "2020-12-17T11:42:24.366776Z",
     "start_time": "2020-12-17T11:42:24.312151Z"
    }
   },
   "outputs": [],
   "source": [
    "# Atribuímos o dicionário para fazer o encoding nas colunas com texto e criar as colunas numéricas\n",
    "dataset[\"reserved_room_type_numerical\"] = dataset.reserved_room_type.apply(lambda x: tipo_quarto_dict[x])\n",
    "dataset[\"assigned_room_type_numerical\"] = dataset.assigned_room_type.apply(lambda x: tipo_quarto_dict[x])"
   ]
  },
  {
   "cell_type": "code",
   "execution_count": 46,
   "metadata": {
    "ExecuteTime": {
     "end_time": "2020-12-17T11:42:29.220424Z",
     "start_time": "2020-12-17T11:42:29.169073Z"
    }
   },
   "outputs": [
    {
     "data": {
      "text/html": [
       "<div>\n",
       "<style scoped>\n",
       "    .dataframe tbody tr th:only-of-type {\n",
       "        vertical-align: middle;\n",
       "    }\n",
       "\n",
       "    .dataframe tbody tr th {\n",
       "        vertical-align: top;\n",
       "    }\n",
       "\n",
       "    .dataframe thead th {\n",
       "        text-align: right;\n",
       "    }\n",
       "</style>\n",
       "<table border=\"1\" class=\"dataframe\">\n",
       "  <thead>\n",
       "    <tr style=\"text-align: right;\">\n",
       "      <th></th>\n",
       "      <th>hotel</th>\n",
       "      <th>is_canceled</th>\n",
       "      <th>lead_time</th>\n",
       "      <th>arrival_date_year</th>\n",
       "      <th>arrival_date_week_number</th>\n",
       "      <th>arrival_date_day_of_month</th>\n",
       "      <th>stays_in_weekend_nights</th>\n",
       "      <th>stays_in_week_nights</th>\n",
       "      <th>adults</th>\n",
       "      <th>children</th>\n",
       "      <th>babies</th>\n",
       "      <th>meal</th>\n",
       "      <th>market_segment</th>\n",
       "      <th>distribution_channel</th>\n",
       "      <th>is_repeated_guest</th>\n",
       "      <th>previous_cancellations</th>\n",
       "      <th>previous_bookings_not_canceled</th>\n",
       "      <th>reserved_room_type</th>\n",
       "      <th>assigned_room_type</th>\n",
       "      <th>booking_changes</th>\n",
       "      <th>deposit_type</th>\n",
       "      <th>agent</th>\n",
       "      <th>days_in_waiting_list</th>\n",
       "      <th>customer_type</th>\n",
       "      <th>adr</th>\n",
       "      <th>required_car_parking_spaces</th>\n",
       "      <th>total_of_special_requests</th>\n",
       "      <th>reservation_status</th>\n",
       "      <th>reservation_status_date</th>\n",
       "      <th>arrival_date_month_numerical</th>\n",
       "      <th>reserved_room_type_numerical</th>\n",
       "      <th>assigned_room_type_numerical</th>\n",
       "    </tr>\n",
       "  </thead>\n",
       "  <tbody>\n",
       "    <tr>\n",
       "      <th>3</th>\n",
       "      <td>Resort Hotel</td>\n",
       "      <td>0</td>\n",
       "      <td>13</td>\n",
       "      <td>2015</td>\n",
       "      <td>27</td>\n",
       "      <td>1</td>\n",
       "      <td>0</td>\n",
       "      <td>1</td>\n",
       "      <td>1</td>\n",
       "      <td>0.0</td>\n",
       "      <td>0</td>\n",
       "      <td>BB</td>\n",
       "      <td>Corporate</td>\n",
       "      <td>Corporate</td>\n",
       "      <td>0</td>\n",
       "      <td>0</td>\n",
       "      <td>0</td>\n",
       "      <td>A</td>\n",
       "      <td>A</td>\n",
       "      <td>0</td>\n",
       "      <td>No Deposit</td>\n",
       "      <td>304.0</td>\n",
       "      <td>0</td>\n",
       "      <td>Transient</td>\n",
       "      <td>75.0</td>\n",
       "      <td>0</td>\n",
       "      <td>0</td>\n",
       "      <td>Check-Out</td>\n",
       "      <td>2015-07-02</td>\n",
       "      <td>7</td>\n",
       "      <td>1</td>\n",
       "      <td>1</td>\n",
       "    </tr>\n",
       "    <tr>\n",
       "      <th>4</th>\n",
       "      <td>Resort Hotel</td>\n",
       "      <td>0</td>\n",
       "      <td>14</td>\n",
       "      <td>2015</td>\n",
       "      <td>27</td>\n",
       "      <td>1</td>\n",
       "      <td>0</td>\n",
       "      <td>2</td>\n",
       "      <td>2</td>\n",
       "      <td>0.0</td>\n",
       "      <td>0</td>\n",
       "      <td>BB</td>\n",
       "      <td>Online TA</td>\n",
       "      <td>TA/TO</td>\n",
       "      <td>0</td>\n",
       "      <td>0</td>\n",
       "      <td>0</td>\n",
       "      <td>A</td>\n",
       "      <td>A</td>\n",
       "      <td>0</td>\n",
       "      <td>No Deposit</td>\n",
       "      <td>240.0</td>\n",
       "      <td>0</td>\n",
       "      <td>Transient</td>\n",
       "      <td>98.0</td>\n",
       "      <td>0</td>\n",
       "      <td>1</td>\n",
       "      <td>Check-Out</td>\n",
       "      <td>2015-07-03</td>\n",
       "      <td>7</td>\n",
       "      <td>1</td>\n",
       "      <td>1</td>\n",
       "    </tr>\n",
       "    <tr>\n",
       "      <th>5</th>\n",
       "      <td>Resort Hotel</td>\n",
       "      <td>0</td>\n",
       "      <td>14</td>\n",
       "      <td>2015</td>\n",
       "      <td>27</td>\n",
       "      <td>1</td>\n",
       "      <td>0</td>\n",
       "      <td>2</td>\n",
       "      <td>2</td>\n",
       "      <td>0.0</td>\n",
       "      <td>0</td>\n",
       "      <td>BB</td>\n",
       "      <td>Online TA</td>\n",
       "      <td>TA/TO</td>\n",
       "      <td>0</td>\n",
       "      <td>0</td>\n",
       "      <td>0</td>\n",
       "      <td>A</td>\n",
       "      <td>A</td>\n",
       "      <td>0</td>\n",
       "      <td>No Deposit</td>\n",
       "      <td>240.0</td>\n",
       "      <td>0</td>\n",
       "      <td>Transient</td>\n",
       "      <td>98.0</td>\n",
       "      <td>0</td>\n",
       "      <td>1</td>\n",
       "      <td>Check-Out</td>\n",
       "      <td>2015-07-03</td>\n",
       "      <td>7</td>\n",
       "      <td>1</td>\n",
       "      <td>1</td>\n",
       "    </tr>\n",
       "    <tr>\n",
       "      <th>7</th>\n",
       "      <td>Resort Hotel</td>\n",
       "      <td>0</td>\n",
       "      <td>9</td>\n",
       "      <td>2015</td>\n",
       "      <td>27</td>\n",
       "      <td>1</td>\n",
       "      <td>0</td>\n",
       "      <td>2</td>\n",
       "      <td>2</td>\n",
       "      <td>0.0</td>\n",
       "      <td>0</td>\n",
       "      <td>FB</td>\n",
       "      <td>Direct</td>\n",
       "      <td>Direct</td>\n",
       "      <td>0</td>\n",
       "      <td>0</td>\n",
       "      <td>0</td>\n",
       "      <td>C</td>\n",
       "      <td>C</td>\n",
       "      <td>0</td>\n",
       "      <td>No Deposit</td>\n",
       "      <td>303.0</td>\n",
       "      <td>0</td>\n",
       "      <td>Transient</td>\n",
       "      <td>103.0</td>\n",
       "      <td>0</td>\n",
       "      <td>1</td>\n",
       "      <td>Check-Out</td>\n",
       "      <td>2015-07-03</td>\n",
       "      <td>7</td>\n",
       "      <td>3</td>\n",
       "      <td>3</td>\n",
       "    </tr>\n",
       "    <tr>\n",
       "      <th>8</th>\n",
       "      <td>Resort Hotel</td>\n",
       "      <td>1</td>\n",
       "      <td>85</td>\n",
       "      <td>2015</td>\n",
       "      <td>27</td>\n",
       "      <td>1</td>\n",
       "      <td>0</td>\n",
       "      <td>3</td>\n",
       "      <td>2</td>\n",
       "      <td>0.0</td>\n",
       "      <td>0</td>\n",
       "      <td>BB</td>\n",
       "      <td>Online TA</td>\n",
       "      <td>TA/TO</td>\n",
       "      <td>0</td>\n",
       "      <td>0</td>\n",
       "      <td>0</td>\n",
       "      <td>A</td>\n",
       "      <td>A</td>\n",
       "      <td>0</td>\n",
       "      <td>No Deposit</td>\n",
       "      <td>240.0</td>\n",
       "      <td>0</td>\n",
       "      <td>Transient</td>\n",
       "      <td>82.0</td>\n",
       "      <td>0</td>\n",
       "      <td>1</td>\n",
       "      <td>Canceled</td>\n",
       "      <td>2015-05-06</td>\n",
       "      <td>7</td>\n",
       "      <td>1</td>\n",
       "      <td>1</td>\n",
       "    </tr>\n",
       "  </tbody>\n",
       "</table>\n",
       "</div>"
      ],
      "text/plain": [
       "          hotel  ...  assigned_room_type_numerical\n",
       "3  Resort Hotel  ...                             1\n",
       "4  Resort Hotel  ...                             1\n",
       "5  Resort Hotel  ...                             1\n",
       "7  Resort Hotel  ...                             3\n",
       "8  Resort Hotel  ...                             1\n",
       "\n",
       "[5 rows x 32 columns]"
      ]
     },
     "execution_count": 46,
     "metadata": {},
     "output_type": "execute_result"
    }
   ],
   "source": [
    "# Visualiza os dados\n",
    "dataset.head()"
   ]
  },
  {
   "cell_type": "code",
   "execution_count": 47,
   "metadata": {
    "ExecuteTime": {
     "end_time": "2020-12-17T11:42:50.786202Z",
     "start_time": "2020-12-17T11:42:50.768869Z"
    }
   },
   "outputs": [],
   "source": [
    "# Não precisamos mais das colunas \"reserved_room_type\" e \"assigned_room_type\"\n",
    "dataset = dataset.drop([\"reserved_room_type\", \"assigned_room_type\"], axis = 1)"
   ]
  },
  {
   "cell_type": "code",
   "execution_count": 48,
   "metadata": {
    "ExecuteTime": {
     "end_time": "2020-12-17T11:43:01.612532Z",
     "start_time": "2020-12-17T11:43:01.605104Z"
    }
   },
   "outputs": [
    {
     "data": {
      "text/plain": [
       "array(['No Deposit', 'Refundable', 'Non Refund'], dtype=object)"
      ]
     },
     "execution_count": 48,
     "metadata": {},
     "output_type": "execute_result"
    }
   ],
   "source": [
    "# Valores únicos da variável \"deposit_type\"\n",
    "dataset.deposit_type.unique()"
   ]
  },
  {
   "cell_type": "code",
   "execution_count": 49,
   "metadata": {
    "ExecuteTime": {
     "end_time": "2020-12-17T11:43:04.363680Z",
     "start_time": "2020-12-17T11:43:04.360811Z"
    }
   },
   "outputs": [],
   "source": [
    "# Dicionário\n",
    "tipo_deposito_dict = {\"No Deposit\": 0, \"Refundable\": 1, \"Non Refund\": -1}"
   ]
  },
  {
   "cell_type": "code",
   "execution_count": 50,
   "metadata": {
    "ExecuteTime": {
     "end_time": "2020-12-17T11:43:07.481496Z",
     "start_time": "2020-12-17T11:43:07.442972Z"
    }
   },
   "outputs": [],
   "source": [
    "# Aplicamos o encoding\n",
    "dataset[\"deposit_type_numerical\"] = dataset.deposit_type.apply(lambda x: tipo_deposito_dict[x])"
   ]
  },
  {
   "cell_type": "code",
   "execution_count": 51,
   "metadata": {
    "ExecuteTime": {
     "end_time": "2020-12-17T11:43:10.086273Z",
     "start_time": "2020-12-17T11:43:10.065387Z"
    }
   },
   "outputs": [],
   "source": [
    "# Drop da coluna \"deposit_type\"\n",
    "dataset = dataset.drop(\"deposit_type\", axis = 1)"
   ]
  },
  {
   "cell_type": "code",
   "execution_count": 52,
   "metadata": {
    "ExecuteTime": {
     "end_time": "2020-12-17T11:43:14.623606Z",
     "start_time": "2020-12-17T11:43:14.615783Z"
    }
   },
   "outputs": [
    {
     "data": {
      "text/plain": [
       "array(['Transient', 'Contract', 'Transient-Party', 'Group'], dtype=object)"
      ]
     },
     "execution_count": 52,
     "metadata": {},
     "output_type": "execute_result"
    }
   ],
   "source": [
    "# Valores únicos\n",
    "dataset.customer_type.unique()"
   ]
  },
  {
   "cell_type": "code",
   "execution_count": 53,
   "metadata": {
    "ExecuteTime": {
     "end_time": "2020-12-17T11:43:17.938136Z",
     "start_time": "2020-12-17T11:43:17.936169Z"
    }
   },
   "outputs": [],
   "source": [
    "# Dicionário\n",
    "tipo_cliente_dict = {\"Transient\": 0, \"Contract\": 1, \"Transient-Party\": 2, \"Group\":3}"
   ]
  },
  {
   "cell_type": "code",
   "execution_count": 54,
   "metadata": {
    "ExecuteTime": {
     "end_time": "2020-12-17T11:43:20.763618Z",
     "start_time": "2020-12-17T11:43:20.735662Z"
    }
   },
   "outputs": [],
   "source": [
    "# Aplicamos o encoding\n",
    "dataset[\"customer_type_numerical\"] = dataset.customer_type.apply(lambda x: tipo_cliente_dict[x])"
   ]
  },
  {
   "cell_type": "code",
   "execution_count": 55,
   "metadata": {
    "ExecuteTime": {
     "end_time": "2020-12-17T11:43:23.973630Z",
     "start_time": "2020-12-17T11:43:23.960257Z"
    }
   },
   "outputs": [],
   "source": [
    "# Drop da coluna \"customer_type\"\n",
    "dataset = dataset.drop(\"customer_type\", axis = 1)"
   ]
  },
  {
   "cell_type": "code",
   "execution_count": 56,
   "metadata": {
    "ExecuteTime": {
     "end_time": "2020-12-17T11:43:28.416920Z",
     "start_time": "2020-12-17T11:43:28.401457Z"
    }
   },
   "outputs": [
    {
     "data": {
      "text/plain": [
       "array(['Resort Hotel', 'City Hotel'], dtype=object)"
      ]
     },
     "execution_count": 56,
     "metadata": {},
     "output_type": "execute_result"
    }
   ],
   "source": [
    "# Valores únicos\n",
    "dataset.hotel.unique()"
   ]
  },
  {
   "cell_type": "code",
   "execution_count": 57,
   "metadata": {
    "ExecuteTime": {
     "end_time": "2020-12-17T11:43:31.807957Z",
     "start_time": "2020-12-17T11:43:31.805928Z"
    }
   },
   "outputs": [],
   "source": [
    "# Dicionário com o tipo de hotel\n",
    "tipo_hotel_dict = {\"Resort Hotel\": 0, \"City Hotel\": 1}"
   ]
  },
  {
   "cell_type": "code",
   "execution_count": 58,
   "metadata": {
    "ExecuteTime": {
     "end_time": "2020-12-17T11:43:34.610089Z",
     "start_time": "2020-12-17T11:43:34.581398Z"
    }
   },
   "outputs": [],
   "source": [
    "# Aplica o encoding e cria nova coluna\n",
    "dataset[\"hotel_numerical\"] = dataset.hotel.apply(lambda x: tipo_hotel_dict[x])"
   ]
  },
  {
   "cell_type": "code",
   "execution_count": 59,
   "metadata": {
    "ExecuteTime": {
     "end_time": "2020-12-17T11:43:37.200589Z",
     "start_time": "2020-12-17T11:43:37.185734Z"
    }
   },
   "outputs": [],
   "source": [
    "# Drop da coluna \"hotel\"\n",
    "dataset = dataset.drop(\"hotel\", axis = 1)"
   ]
  },
  {
   "cell_type": "code",
   "execution_count": 60,
   "metadata": {
    "ExecuteTime": {
     "end_time": "2020-12-17T11:43:44.138462Z",
     "start_time": "2020-12-17T11:43:44.131890Z"
    }
   },
   "outputs": [
    {
     "data": {
      "text/plain": [
       "array(['BB', 'FB', 'HB', 'SC', 'Undefined'], dtype=object)"
      ]
     },
     "execution_count": 60,
     "metadata": {},
     "output_type": "execute_result"
    }
   ],
   "source": [
    "# Valores únicos\n",
    "dataset.meal.unique()"
   ]
  },
  {
   "cell_type": "code",
   "execution_count": 61,
   "metadata": {
    "ExecuteTime": {
     "end_time": "2020-12-17T11:43:46.847145Z",
     "start_time": "2020-12-17T11:43:46.844733Z"
    }
   },
   "outputs": [],
   "source": [
    "# Dicionário \n",
    "tipo_refeicao_dict = {\"BB\": 0, \"FB\": 1, \"HB\": 2, \"SC\": 3, \"Undefined\": -1}"
   ]
  },
  {
   "cell_type": "code",
   "execution_count": 62,
   "metadata": {
    "ExecuteTime": {
     "end_time": "2020-12-17T11:43:50.437791Z",
     "start_time": "2020-12-17T11:43:50.383970Z"
    }
   },
   "outputs": [],
   "source": [
    "# Aplica o encoding e cria nova coluna\n",
    "dataset[\"meal_numerical\"] = dataset.meal.apply(lambda x: tipo_refeicao_dict[x])"
   ]
  },
  {
   "cell_type": "code",
   "execution_count": 63,
   "metadata": {
    "ExecuteTime": {
     "end_time": "2020-12-17T11:43:53.198253Z",
     "start_time": "2020-12-17T11:43:53.184060Z"
    }
   },
   "outputs": [],
   "source": [
    "# Drop da coluna \"meal\"\n",
    "dataset = dataset.drop(\"meal\", axis = 1)"
   ]
  },
  {
   "cell_type": "code",
   "execution_count": 64,
   "metadata": {
    "ExecuteTime": {
     "end_time": "2020-12-17T11:44:05.767416Z",
     "start_time": "2020-12-17T11:44:05.759693Z"
    }
   },
   "outputs": [
    {
     "data": {
      "text/plain": [
       "array(['Corporate', 'Online TA', 'Direct', 'Offline TA/TO', 'Groups',\n",
       "       'Complementary', 'Aviation'], dtype=object)"
      ]
     },
     "execution_count": 64,
     "metadata": {},
     "output_type": "execute_result"
    }
   ],
   "source": [
    "# Valores únicos\n",
    "dataset.market_segment.unique()"
   ]
  },
  {
   "cell_type": "code",
   "execution_count": 65,
   "metadata": {
    "ExecuteTime": {
     "end_time": "2020-12-17T11:44:08.525367Z",
     "start_time": "2020-12-17T11:44:08.516478Z"
    }
   },
   "outputs": [
    {
     "data": {
      "text/plain": [
       "array(['Corporate', 'TA/TO', 'Direct', 'GDS'], dtype=object)"
      ]
     },
     "execution_count": 65,
     "metadata": {},
     "output_type": "execute_result"
    }
   ],
   "source": [
    "# Valores únicos\n",
    "dataset.distribution_channel.unique()"
   ]
  },
  {
   "cell_type": "code",
   "execution_count": 66,
   "metadata": {
    "ExecuteTime": {
     "end_time": "2020-12-17T11:44:10.989234Z",
     "start_time": "2020-12-17T11:44:10.986106Z"
    }
   },
   "outputs": [],
   "source": [
    "# Dicionário\n",
    "segmento_mercado_dict = {\"Direct\": 0,\n",
    "                         \"Corporate\": 1,\n",
    "                         \"Online TA\": 2,\n",
    "                         \"Offline TA/TO\": 3,\n",
    "                         \"Complementary\": 4,\n",
    "                         \"Groups\": 5,\n",
    "                         \"Aviation\": 6,\n",
    "                         \"GDS\": 7,\n",
    "                         \"TA/TO\": 8,\n",
    "                         \"Undefined\": -1}"
   ]
  },
  {
   "cell_type": "code",
   "execution_count": 67,
   "metadata": {
    "ExecuteTime": {
     "end_time": "2020-12-17T11:44:13.650808Z",
     "start_time": "2020-12-17T11:44:13.589653Z"
    }
   },
   "outputs": [],
   "source": [
    "# Aplica o encoding\n",
    "dataset[\"market_segment_numerical\"] = dataset.market_segment.apply(lambda x: segmento_mercado_dict[x])\n",
    "dataset[\"distribution_channel_numerical\"] = dataset.distribution_channel.apply(lambda x: segmento_mercado_dict[x])"
   ]
  },
  {
   "cell_type": "code",
   "execution_count": 68,
   "metadata": {
    "ExecuteTime": {
     "end_time": "2020-12-17T11:44:16.704186Z",
     "start_time": "2020-12-17T11:44:16.691556Z"
    }
   },
   "outputs": [],
   "source": [
    "# Não precisamos mais das colunas \"market_segment\" e \"distribution_channel\"\n",
    "dataset = dataset.drop([\"market_segment\", \"distribution_channel\"], axis = 1)"
   ]
  },
  {
   "cell_type": "code",
   "execution_count": 69,
   "metadata": {
    "ExecuteTime": {
     "end_time": "2020-12-17T11:44:20.524063Z",
     "start_time": "2020-12-17T11:44:20.474105Z"
    }
   },
   "outputs": [
    {
     "data": {
      "text/html": [
       "<div>\n",
       "<style scoped>\n",
       "    .dataframe tbody tr th:only-of-type {\n",
       "        vertical-align: middle;\n",
       "    }\n",
       "\n",
       "    .dataframe tbody tr th {\n",
       "        vertical-align: top;\n",
       "    }\n",
       "\n",
       "    .dataframe thead th {\n",
       "        text-align: right;\n",
       "    }\n",
       "</style>\n",
       "<table border=\"1\" class=\"dataframe\">\n",
       "  <thead>\n",
       "    <tr style=\"text-align: right;\">\n",
       "      <th></th>\n",
       "      <th>is_canceled</th>\n",
       "      <th>lead_time</th>\n",
       "      <th>arrival_date_year</th>\n",
       "      <th>arrival_date_week_number</th>\n",
       "      <th>arrival_date_day_of_month</th>\n",
       "      <th>stays_in_weekend_nights</th>\n",
       "      <th>stays_in_week_nights</th>\n",
       "      <th>adults</th>\n",
       "      <th>children</th>\n",
       "      <th>babies</th>\n",
       "      <th>is_repeated_guest</th>\n",
       "      <th>previous_cancellations</th>\n",
       "      <th>previous_bookings_not_canceled</th>\n",
       "      <th>booking_changes</th>\n",
       "      <th>agent</th>\n",
       "      <th>days_in_waiting_list</th>\n",
       "      <th>adr</th>\n",
       "      <th>required_car_parking_spaces</th>\n",
       "      <th>total_of_special_requests</th>\n",
       "      <th>reservation_status</th>\n",
       "      <th>reservation_status_date</th>\n",
       "      <th>arrival_date_month_numerical</th>\n",
       "      <th>reserved_room_type_numerical</th>\n",
       "      <th>assigned_room_type_numerical</th>\n",
       "      <th>deposit_type_numerical</th>\n",
       "      <th>customer_type_numerical</th>\n",
       "      <th>hotel_numerical</th>\n",
       "      <th>meal_numerical</th>\n",
       "      <th>market_segment_numerical</th>\n",
       "      <th>distribution_channel_numerical</th>\n",
       "    </tr>\n",
       "  </thead>\n",
       "  <tbody>\n",
       "    <tr>\n",
       "      <th>3</th>\n",
       "      <td>0</td>\n",
       "      <td>13</td>\n",
       "      <td>2015</td>\n",
       "      <td>27</td>\n",
       "      <td>1</td>\n",
       "      <td>0</td>\n",
       "      <td>1</td>\n",
       "      <td>1</td>\n",
       "      <td>0.0</td>\n",
       "      <td>0</td>\n",
       "      <td>0</td>\n",
       "      <td>0</td>\n",
       "      <td>0</td>\n",
       "      <td>0</td>\n",
       "      <td>304.0</td>\n",
       "      <td>0</td>\n",
       "      <td>75.0</td>\n",
       "      <td>0</td>\n",
       "      <td>0</td>\n",
       "      <td>Check-Out</td>\n",
       "      <td>2015-07-02</td>\n",
       "      <td>7</td>\n",
       "      <td>1</td>\n",
       "      <td>1</td>\n",
       "      <td>0</td>\n",
       "      <td>0</td>\n",
       "      <td>0</td>\n",
       "      <td>0</td>\n",
       "      <td>1</td>\n",
       "      <td>1</td>\n",
       "    </tr>\n",
       "    <tr>\n",
       "      <th>4</th>\n",
       "      <td>0</td>\n",
       "      <td>14</td>\n",
       "      <td>2015</td>\n",
       "      <td>27</td>\n",
       "      <td>1</td>\n",
       "      <td>0</td>\n",
       "      <td>2</td>\n",
       "      <td>2</td>\n",
       "      <td>0.0</td>\n",
       "      <td>0</td>\n",
       "      <td>0</td>\n",
       "      <td>0</td>\n",
       "      <td>0</td>\n",
       "      <td>0</td>\n",
       "      <td>240.0</td>\n",
       "      <td>0</td>\n",
       "      <td>98.0</td>\n",
       "      <td>0</td>\n",
       "      <td>1</td>\n",
       "      <td>Check-Out</td>\n",
       "      <td>2015-07-03</td>\n",
       "      <td>7</td>\n",
       "      <td>1</td>\n",
       "      <td>1</td>\n",
       "      <td>0</td>\n",
       "      <td>0</td>\n",
       "      <td>0</td>\n",
       "      <td>0</td>\n",
       "      <td>2</td>\n",
       "      <td>8</td>\n",
       "    </tr>\n",
       "    <tr>\n",
       "      <th>5</th>\n",
       "      <td>0</td>\n",
       "      <td>14</td>\n",
       "      <td>2015</td>\n",
       "      <td>27</td>\n",
       "      <td>1</td>\n",
       "      <td>0</td>\n",
       "      <td>2</td>\n",
       "      <td>2</td>\n",
       "      <td>0.0</td>\n",
       "      <td>0</td>\n",
       "      <td>0</td>\n",
       "      <td>0</td>\n",
       "      <td>0</td>\n",
       "      <td>0</td>\n",
       "      <td>240.0</td>\n",
       "      <td>0</td>\n",
       "      <td>98.0</td>\n",
       "      <td>0</td>\n",
       "      <td>1</td>\n",
       "      <td>Check-Out</td>\n",
       "      <td>2015-07-03</td>\n",
       "      <td>7</td>\n",
       "      <td>1</td>\n",
       "      <td>1</td>\n",
       "      <td>0</td>\n",
       "      <td>0</td>\n",
       "      <td>0</td>\n",
       "      <td>0</td>\n",
       "      <td>2</td>\n",
       "      <td>8</td>\n",
       "    </tr>\n",
       "    <tr>\n",
       "      <th>7</th>\n",
       "      <td>0</td>\n",
       "      <td>9</td>\n",
       "      <td>2015</td>\n",
       "      <td>27</td>\n",
       "      <td>1</td>\n",
       "      <td>0</td>\n",
       "      <td>2</td>\n",
       "      <td>2</td>\n",
       "      <td>0.0</td>\n",
       "      <td>0</td>\n",
       "      <td>0</td>\n",
       "      <td>0</td>\n",
       "      <td>0</td>\n",
       "      <td>0</td>\n",
       "      <td>303.0</td>\n",
       "      <td>0</td>\n",
       "      <td>103.0</td>\n",
       "      <td>0</td>\n",
       "      <td>1</td>\n",
       "      <td>Check-Out</td>\n",
       "      <td>2015-07-03</td>\n",
       "      <td>7</td>\n",
       "      <td>3</td>\n",
       "      <td>3</td>\n",
       "      <td>0</td>\n",
       "      <td>0</td>\n",
       "      <td>0</td>\n",
       "      <td>1</td>\n",
       "      <td>0</td>\n",
       "      <td>0</td>\n",
       "    </tr>\n",
       "    <tr>\n",
       "      <th>8</th>\n",
       "      <td>1</td>\n",
       "      <td>85</td>\n",
       "      <td>2015</td>\n",
       "      <td>27</td>\n",
       "      <td>1</td>\n",
       "      <td>0</td>\n",
       "      <td>3</td>\n",
       "      <td>2</td>\n",
       "      <td>0.0</td>\n",
       "      <td>0</td>\n",
       "      <td>0</td>\n",
       "      <td>0</td>\n",
       "      <td>0</td>\n",
       "      <td>0</td>\n",
       "      <td>240.0</td>\n",
       "      <td>0</td>\n",
       "      <td>82.0</td>\n",
       "      <td>0</td>\n",
       "      <td>1</td>\n",
       "      <td>Canceled</td>\n",
       "      <td>2015-05-06</td>\n",
       "      <td>7</td>\n",
       "      <td>1</td>\n",
       "      <td>1</td>\n",
       "      <td>0</td>\n",
       "      <td>0</td>\n",
       "      <td>0</td>\n",
       "      <td>0</td>\n",
       "      <td>2</td>\n",
       "      <td>8</td>\n",
       "    </tr>\n",
       "  </tbody>\n",
       "</table>\n",
       "</div>"
      ],
      "text/plain": [
       "   is_canceled  ...  distribution_channel_numerical\n",
       "3            0  ...                               1\n",
       "4            0  ...                               8\n",
       "5            0  ...                               8\n",
       "7            0  ...                               0\n",
       "8            1  ...                               8\n",
       "\n",
       "[5 rows x 30 columns]"
      ]
     },
     "execution_count": 69,
     "metadata": {},
     "output_type": "execute_result"
    }
   ],
   "source": [
    "# Visualiza os dados\n",
    "dataset.head(5)"
   ]
  },
  {
   "cell_type": "code",
   "execution_count": 70,
   "metadata": {
    "ExecuteTime": {
     "end_time": "2020-12-17T11:44:28.305861Z",
     "start_time": "2020-12-17T11:44:28.301497Z"
    }
   },
   "outputs": [
    {
     "data": {
      "text/plain": [
       "is_canceled                         int64\n",
       "lead_time                           int64\n",
       "arrival_date_year                   int64\n",
       "arrival_date_week_number            int64\n",
       "arrival_date_day_of_month           int64\n",
       "stays_in_weekend_nights             int64\n",
       "stays_in_week_nights                int64\n",
       "adults                              int64\n",
       "children                          float64\n",
       "babies                              int64\n",
       "is_repeated_guest                   int64\n",
       "previous_cancellations              int64\n",
       "previous_bookings_not_canceled      int64\n",
       "booking_changes                     int64\n",
       "agent                             float64\n",
       "days_in_waiting_list                int64\n",
       "adr                               float64\n",
       "required_car_parking_spaces         int64\n",
       "total_of_special_requests           int64\n",
       "reservation_status                 object\n",
       "reservation_status_date            object\n",
       "arrival_date_month_numerical        int64\n",
       "reserved_room_type_numerical        int64\n",
       "assigned_room_type_numerical        int64\n",
       "deposit_type_numerical              int64\n",
       "customer_type_numerical             int64\n",
       "hotel_numerical                     int64\n",
       "meal_numerical                      int64\n",
       "market_segment_numerical            int64\n",
       "distribution_channel_numerical      int64\n",
       "dtype: object"
      ]
     },
     "execution_count": 70,
     "metadata": {},
     "output_type": "execute_result"
    }
   ],
   "source": [
    "# Tipos de dados\n",
    "dataset.dtypes"
   ]
  },
  {
   "cell_type": "code",
   "execution_count": 71,
   "metadata": {
    "ExecuteTime": {
     "end_time": "2020-12-17T11:44:53.752967Z",
     "start_time": "2020-12-17T11:44:53.746327Z"
    }
   },
   "outputs": [],
   "source": [
    "# Drop das colunas\n",
    "dataset = dataset.drop([\"reservation_status\", \"reservation_status_date\"], 1)"
   ]
  },
  {
   "cell_type": "code",
   "execution_count": 72,
   "metadata": {
    "ExecuteTime": {
     "end_time": "2020-12-17T11:44:59.383661Z",
     "start_time": "2020-12-17T11:44:59.349395Z"
    }
   },
   "outputs": [
    {
     "data": {
      "text/html": [
       "<div>\n",
       "<style scoped>\n",
       "    .dataframe tbody tr th:only-of-type {\n",
       "        vertical-align: middle;\n",
       "    }\n",
       "\n",
       "    .dataframe tbody tr th {\n",
       "        vertical-align: top;\n",
       "    }\n",
       "\n",
       "    .dataframe thead th {\n",
       "        text-align: right;\n",
       "    }\n",
       "</style>\n",
       "<table border=\"1\" class=\"dataframe\">\n",
       "  <thead>\n",
       "    <tr style=\"text-align: right;\">\n",
       "      <th></th>\n",
       "      <th>is_canceled</th>\n",
       "      <th>lead_time</th>\n",
       "      <th>arrival_date_year</th>\n",
       "      <th>arrival_date_week_number</th>\n",
       "      <th>arrival_date_day_of_month</th>\n",
       "      <th>stays_in_weekend_nights</th>\n",
       "      <th>stays_in_week_nights</th>\n",
       "      <th>adults</th>\n",
       "      <th>children</th>\n",
       "      <th>babies</th>\n",
       "      <th>is_repeated_guest</th>\n",
       "      <th>previous_cancellations</th>\n",
       "      <th>previous_bookings_not_canceled</th>\n",
       "      <th>booking_changes</th>\n",
       "      <th>agent</th>\n",
       "      <th>days_in_waiting_list</th>\n",
       "      <th>adr</th>\n",
       "      <th>required_car_parking_spaces</th>\n",
       "      <th>total_of_special_requests</th>\n",
       "      <th>arrival_date_month_numerical</th>\n",
       "      <th>reserved_room_type_numerical</th>\n",
       "      <th>assigned_room_type_numerical</th>\n",
       "      <th>deposit_type_numerical</th>\n",
       "      <th>customer_type_numerical</th>\n",
       "      <th>hotel_numerical</th>\n",
       "      <th>meal_numerical</th>\n",
       "      <th>market_segment_numerical</th>\n",
       "      <th>distribution_channel_numerical</th>\n",
       "    </tr>\n",
       "  </thead>\n",
       "  <tbody>\n",
       "    <tr>\n",
       "      <th>3</th>\n",
       "      <td>0</td>\n",
       "      <td>13</td>\n",
       "      <td>2015</td>\n",
       "      <td>27</td>\n",
       "      <td>1</td>\n",
       "      <td>0</td>\n",
       "      <td>1</td>\n",
       "      <td>1</td>\n",
       "      <td>0.0</td>\n",
       "      <td>0</td>\n",
       "      <td>0</td>\n",
       "      <td>0</td>\n",
       "      <td>0</td>\n",
       "      <td>0</td>\n",
       "      <td>304.0</td>\n",
       "      <td>0</td>\n",
       "      <td>75.0</td>\n",
       "      <td>0</td>\n",
       "      <td>0</td>\n",
       "      <td>7</td>\n",
       "      <td>1</td>\n",
       "      <td>1</td>\n",
       "      <td>0</td>\n",
       "      <td>0</td>\n",
       "      <td>0</td>\n",
       "      <td>0</td>\n",
       "      <td>1</td>\n",
       "      <td>1</td>\n",
       "    </tr>\n",
       "    <tr>\n",
       "      <th>4</th>\n",
       "      <td>0</td>\n",
       "      <td>14</td>\n",
       "      <td>2015</td>\n",
       "      <td>27</td>\n",
       "      <td>1</td>\n",
       "      <td>0</td>\n",
       "      <td>2</td>\n",
       "      <td>2</td>\n",
       "      <td>0.0</td>\n",
       "      <td>0</td>\n",
       "      <td>0</td>\n",
       "      <td>0</td>\n",
       "      <td>0</td>\n",
       "      <td>0</td>\n",
       "      <td>240.0</td>\n",
       "      <td>0</td>\n",
       "      <td>98.0</td>\n",
       "      <td>0</td>\n",
       "      <td>1</td>\n",
       "      <td>7</td>\n",
       "      <td>1</td>\n",
       "      <td>1</td>\n",
       "      <td>0</td>\n",
       "      <td>0</td>\n",
       "      <td>0</td>\n",
       "      <td>0</td>\n",
       "      <td>2</td>\n",
       "      <td>8</td>\n",
       "    </tr>\n",
       "    <tr>\n",
       "      <th>5</th>\n",
       "      <td>0</td>\n",
       "      <td>14</td>\n",
       "      <td>2015</td>\n",
       "      <td>27</td>\n",
       "      <td>1</td>\n",
       "      <td>0</td>\n",
       "      <td>2</td>\n",
       "      <td>2</td>\n",
       "      <td>0.0</td>\n",
       "      <td>0</td>\n",
       "      <td>0</td>\n",
       "      <td>0</td>\n",
       "      <td>0</td>\n",
       "      <td>0</td>\n",
       "      <td>240.0</td>\n",
       "      <td>0</td>\n",
       "      <td>98.0</td>\n",
       "      <td>0</td>\n",
       "      <td>1</td>\n",
       "      <td>7</td>\n",
       "      <td>1</td>\n",
       "      <td>1</td>\n",
       "      <td>0</td>\n",
       "      <td>0</td>\n",
       "      <td>0</td>\n",
       "      <td>0</td>\n",
       "      <td>2</td>\n",
       "      <td>8</td>\n",
       "    </tr>\n",
       "    <tr>\n",
       "      <th>7</th>\n",
       "      <td>0</td>\n",
       "      <td>9</td>\n",
       "      <td>2015</td>\n",
       "      <td>27</td>\n",
       "      <td>1</td>\n",
       "      <td>0</td>\n",
       "      <td>2</td>\n",
       "      <td>2</td>\n",
       "      <td>0.0</td>\n",
       "      <td>0</td>\n",
       "      <td>0</td>\n",
       "      <td>0</td>\n",
       "      <td>0</td>\n",
       "      <td>0</td>\n",
       "      <td>303.0</td>\n",
       "      <td>0</td>\n",
       "      <td>103.0</td>\n",
       "      <td>0</td>\n",
       "      <td>1</td>\n",
       "      <td>7</td>\n",
       "      <td>3</td>\n",
       "      <td>3</td>\n",
       "      <td>0</td>\n",
       "      <td>0</td>\n",
       "      <td>0</td>\n",
       "      <td>1</td>\n",
       "      <td>0</td>\n",
       "      <td>0</td>\n",
       "    </tr>\n",
       "    <tr>\n",
       "      <th>8</th>\n",
       "      <td>1</td>\n",
       "      <td>85</td>\n",
       "      <td>2015</td>\n",
       "      <td>27</td>\n",
       "      <td>1</td>\n",
       "      <td>0</td>\n",
       "      <td>3</td>\n",
       "      <td>2</td>\n",
       "      <td>0.0</td>\n",
       "      <td>0</td>\n",
       "      <td>0</td>\n",
       "      <td>0</td>\n",
       "      <td>0</td>\n",
       "      <td>0</td>\n",
       "      <td>240.0</td>\n",
       "      <td>0</td>\n",
       "      <td>82.0</td>\n",
       "      <td>0</td>\n",
       "      <td>1</td>\n",
       "      <td>7</td>\n",
       "      <td>1</td>\n",
       "      <td>1</td>\n",
       "      <td>0</td>\n",
       "      <td>0</td>\n",
       "      <td>0</td>\n",
       "      <td>0</td>\n",
       "      <td>2</td>\n",
       "      <td>8</td>\n",
       "    </tr>\n",
       "  </tbody>\n",
       "</table>\n",
       "</div>"
      ],
      "text/plain": [
       "   is_canceled  ...  distribution_channel_numerical\n",
       "3            0  ...                               1\n",
       "4            0  ...                               8\n",
       "5            0  ...                               8\n",
       "7            0  ...                               0\n",
       "8            1  ...                               8\n",
       "\n",
       "[5 rows x 28 columns]"
      ]
     },
     "execution_count": 72,
     "metadata": {},
     "output_type": "execute_result"
    }
   ],
   "source": [
    "# Visualiza os dados\n",
    "dataset.head(5)"
   ]
  },
  {
   "cell_type": "code",
   "execution_count": 73,
   "metadata": {
    "ExecuteTime": {
     "end_time": "2020-12-17T11:45:03.067067Z",
     "start_time": "2020-12-17T11:45:03.063460Z"
    }
   },
   "outputs": [
    {
     "data": {
      "text/plain": [
       "(103048, 28)"
      ]
     },
     "execution_count": 73,
     "metadata": {},
     "output_type": "execute_result"
    }
   ],
   "source": [
    "dataset.shape"
   ]
  },
  {
   "cell_type": "code",
   "execution_count": 74,
   "metadata": {
    "ExecuteTime": {
     "end_time": "2020-12-17T11:45:09.465870Z",
     "start_time": "2020-12-17T11:45:09.461460Z"
    }
   },
   "outputs": [
    {
     "data": {
      "text/plain": [
       "is_canceled                         int64\n",
       "lead_time                           int64\n",
       "arrival_date_year                   int64\n",
       "arrival_date_week_number            int64\n",
       "arrival_date_day_of_month           int64\n",
       "stays_in_weekend_nights             int64\n",
       "stays_in_week_nights                int64\n",
       "adults                              int64\n",
       "children                          float64\n",
       "babies                              int64\n",
       "is_repeated_guest                   int64\n",
       "previous_cancellations              int64\n",
       "previous_bookings_not_canceled      int64\n",
       "booking_changes                     int64\n",
       "agent                             float64\n",
       "days_in_waiting_list                int64\n",
       "adr                               float64\n",
       "required_car_parking_spaces         int64\n",
       "total_of_special_requests           int64\n",
       "arrival_date_month_numerical        int64\n",
       "reserved_room_type_numerical        int64\n",
       "assigned_room_type_numerical        int64\n",
       "deposit_type_numerical              int64\n",
       "customer_type_numerical             int64\n",
       "hotel_numerical                     int64\n",
       "meal_numerical                      int64\n",
       "market_segment_numerical            int64\n",
       "distribution_channel_numerical      int64\n",
       "dtype: object"
      ]
     },
     "execution_count": 74,
     "metadata": {},
     "output_type": "execute_result"
    }
   ],
   "source": [
    "# Tipos de dados\n",
    "dataset.dtypes"
   ]
  },
  {
   "cell_type": "code",
   "execution_count": 75,
   "metadata": {
    "ExecuteTime": {
     "end_time": "2020-12-17T11:45:17.098147Z",
     "start_time": "2020-12-17T11:45:16.972031Z"
    }
   },
   "outputs": [
    {
     "data": {
      "text/html": [
       "<div>\n",
       "<style scoped>\n",
       "    .dataframe tbody tr th:only-of-type {\n",
       "        vertical-align: middle;\n",
       "    }\n",
       "\n",
       "    .dataframe tbody tr th {\n",
       "        vertical-align: top;\n",
       "    }\n",
       "\n",
       "    .dataframe thead th {\n",
       "        text-align: right;\n",
       "    }\n",
       "</style>\n",
       "<table border=\"1\" class=\"dataframe\">\n",
       "  <thead>\n",
       "    <tr style=\"text-align: right;\">\n",
       "      <th></th>\n",
       "      <th>is_canceled</th>\n",
       "      <th>lead_time</th>\n",
       "      <th>arrival_date_year</th>\n",
       "      <th>arrival_date_week_number</th>\n",
       "      <th>arrival_date_day_of_month</th>\n",
       "      <th>stays_in_weekend_nights</th>\n",
       "      <th>stays_in_week_nights</th>\n",
       "      <th>adults</th>\n",
       "      <th>children</th>\n",
       "      <th>babies</th>\n",
       "      <th>is_repeated_guest</th>\n",
       "      <th>previous_cancellations</th>\n",
       "      <th>previous_bookings_not_canceled</th>\n",
       "      <th>booking_changes</th>\n",
       "      <th>agent</th>\n",
       "      <th>days_in_waiting_list</th>\n",
       "      <th>adr</th>\n",
       "      <th>required_car_parking_spaces</th>\n",
       "      <th>total_of_special_requests</th>\n",
       "      <th>arrival_date_month_numerical</th>\n",
       "      <th>reserved_room_type_numerical</th>\n",
       "      <th>assigned_room_type_numerical</th>\n",
       "      <th>deposit_type_numerical</th>\n",
       "      <th>customer_type_numerical</th>\n",
       "      <th>hotel_numerical</th>\n",
       "      <th>meal_numerical</th>\n",
       "      <th>market_segment_numerical</th>\n",
       "      <th>distribution_channel_numerical</th>\n",
       "    </tr>\n",
       "  </thead>\n",
       "  <tbody>\n",
       "    <tr>\n",
       "      <th>count</th>\n",
       "      <td>103048.000000</td>\n",
       "      <td>103048.000000</td>\n",
       "      <td>103048.000000</td>\n",
       "      <td>103048.000000</td>\n",
       "      <td>103048.000000</td>\n",
       "      <td>103048.000000</td>\n",
       "      <td>103048.000000</td>\n",
       "      <td>103048.000000</td>\n",
       "      <td>103048.000000</td>\n",
       "      <td>103048.000000</td>\n",
       "      <td>103048.000000</td>\n",
       "      <td>103048.000000</td>\n",
       "      <td>103048.000000</td>\n",
       "      <td>103048.000000</td>\n",
       "      <td>103048.000000</td>\n",
       "      <td>103048.000000</td>\n",
       "      <td>103048.000000</td>\n",
       "      <td>103048.000000</td>\n",
       "      <td>103048.000000</td>\n",
       "      <td>103048.000000</td>\n",
       "      <td>103048.000000</td>\n",
       "      <td>103048.000000</td>\n",
       "      <td>103048.000000</td>\n",
       "      <td>103048.000000</td>\n",
       "      <td>103048.000000</td>\n",
       "      <td>103048.000000</td>\n",
       "      <td>103048.000000</td>\n",
       "      <td>103048.000000</td>\n",
       "    </tr>\n",
       "    <tr>\n",
       "      <th>mean</th>\n",
       "      <td>0.390032</td>\n",
       "      <td>111.674336</td>\n",
       "      <td>2016.156510</td>\n",
       "      <td>27.339327</td>\n",
       "      <td>15.784198</td>\n",
       "      <td>0.977874</td>\n",
       "      <td>2.589337</td>\n",
       "      <td>1.899464</td>\n",
       "      <td>0.111142</td>\n",
       "      <td>0.007686</td>\n",
       "      <td>0.014023</td>\n",
       "      <td>0.077216</td>\n",
       "      <td>0.024862</td>\n",
       "      <td>0.201702</td>\n",
       "      <td>86.694841</td>\n",
       "      <td>2.615665</td>\n",
       "      <td>104.619980</td>\n",
       "      <td>0.053218</td>\n",
       "      <td>0.605368</td>\n",
       "      <td>6.594276</td>\n",
       "      <td>2.012392</td>\n",
       "      <td>2.302500</td>\n",
       "      <td>-0.121186</td>\n",
       "      <td>0.453604</td>\n",
       "      <td>0.690911</td>\n",
       "      <td>0.560011</td>\n",
       "      <td>2.555353</td>\n",
       "      <td>7.376126</td>\n",
       "    </tr>\n",
       "    <tr>\n",
       "      <th>std</th>\n",
       "      <td>0.487759</td>\n",
       "      <td>107.671506</td>\n",
       "      <td>0.706216</td>\n",
       "      <td>13.285300</td>\n",
       "      <td>8.794013</td>\n",
       "      <td>1.003935</td>\n",
       "      <td>1.905763</td>\n",
       "      <td>0.491057</td>\n",
       "      <td>0.411817</td>\n",
       "      <td>0.097017</td>\n",
       "      <td>0.117584</td>\n",
       "      <td>0.757689</td>\n",
       "      <td>0.436639</td>\n",
       "      <td>0.624797</td>\n",
       "      <td>110.775127</td>\n",
       "      <td>18.783661</td>\n",
       "      <td>50.034041</td>\n",
       "      <td>0.225719</td>\n",
       "      <td>0.799222</td>\n",
       "      <td>3.020425</td>\n",
       "      <td>1.702388</td>\n",
       "      <td>1.867802</td>\n",
       "      <td>0.327769</td>\n",
       "      <td>0.822159</td>\n",
       "      <td>0.462120</td>\n",
       "      <td>1.060637</td>\n",
       "      <td>1.249648</td>\n",
       "      <td>2.124103</td>\n",
       "    </tr>\n",
       "    <tr>\n",
       "      <th>min</th>\n",
       "      <td>0.000000</td>\n",
       "      <td>0.000000</td>\n",
       "      <td>2015.000000</td>\n",
       "      <td>1.000000</td>\n",
       "      <td>1.000000</td>\n",
       "      <td>0.000000</td>\n",
       "      <td>0.000000</td>\n",
       "      <td>0.000000</td>\n",
       "      <td>0.000000</td>\n",
       "      <td>0.000000</td>\n",
       "      <td>0.000000</td>\n",
       "      <td>0.000000</td>\n",
       "      <td>0.000000</td>\n",
       "      <td>0.000000</td>\n",
       "      <td>1.000000</td>\n",
       "      <td>0.000000</td>\n",
       "      <td>-6.380000</td>\n",
       "      <td>0.000000</td>\n",
       "      <td>0.000000</td>\n",
       "      <td>1.000000</td>\n",
       "      <td>1.000000</td>\n",
       "      <td>1.000000</td>\n",
       "      <td>-1.000000</td>\n",
       "      <td>0.000000</td>\n",
       "      <td>0.000000</td>\n",
       "      <td>-1.000000</td>\n",
       "      <td>0.000000</td>\n",
       "      <td>0.000000</td>\n",
       "    </tr>\n",
       "    <tr>\n",
       "      <th>25%</th>\n",
       "      <td>0.000000</td>\n",
       "      <td>26.000000</td>\n",
       "      <td>2016.000000</td>\n",
       "      <td>17.000000</td>\n",
       "      <td>8.000000</td>\n",
       "      <td>0.000000</td>\n",
       "      <td>1.000000</td>\n",
       "      <td>2.000000</td>\n",
       "      <td>0.000000</td>\n",
       "      <td>0.000000</td>\n",
       "      <td>0.000000</td>\n",
       "      <td>0.000000</td>\n",
       "      <td>0.000000</td>\n",
       "      <td>0.000000</td>\n",
       "      <td>9.000000</td>\n",
       "      <td>0.000000</td>\n",
       "      <td>72.800000</td>\n",
       "      <td>0.000000</td>\n",
       "      <td>0.000000</td>\n",
       "      <td>4.000000</td>\n",
       "      <td>1.000000</td>\n",
       "      <td>1.000000</td>\n",
       "      <td>0.000000</td>\n",
       "      <td>0.000000</td>\n",
       "      <td>0.000000</td>\n",
       "      <td>0.000000</td>\n",
       "      <td>2.000000</td>\n",
       "      <td>8.000000</td>\n",
       "    </tr>\n",
       "    <tr>\n",
       "      <th>50%</th>\n",
       "      <td>0.000000</td>\n",
       "      <td>79.000000</td>\n",
       "      <td>2016.000000</td>\n",
       "      <td>28.000000</td>\n",
       "      <td>16.000000</td>\n",
       "      <td>1.000000</td>\n",
       "      <td>2.000000</td>\n",
       "      <td>2.000000</td>\n",
       "      <td>0.000000</td>\n",
       "      <td>0.000000</td>\n",
       "      <td>0.000000</td>\n",
       "      <td>0.000000</td>\n",
       "      <td>0.000000</td>\n",
       "      <td>0.000000</td>\n",
       "      <td>14.000000</td>\n",
       "      <td>0.000000</td>\n",
       "      <td>96.300000</td>\n",
       "      <td>0.000000</td>\n",
       "      <td>0.000000</td>\n",
       "      <td>7.000000</td>\n",
       "      <td>1.000000</td>\n",
       "      <td>1.000000</td>\n",
       "      <td>0.000000</td>\n",
       "      <td>0.000000</td>\n",
       "      <td>1.000000</td>\n",
       "      <td>0.000000</td>\n",
       "      <td>2.000000</td>\n",
       "      <td>8.000000</td>\n",
       "    </tr>\n",
       "    <tr>\n",
       "      <th>75%</th>\n",
       "      <td>1.000000</td>\n",
       "      <td>169.000000</td>\n",
       "      <td>2017.000000</td>\n",
       "      <td>38.000000</td>\n",
       "      <td>24.000000</td>\n",
       "      <td>2.000000</td>\n",
       "      <td>3.000000</td>\n",
       "      <td>2.000000</td>\n",
       "      <td>0.000000</td>\n",
       "      <td>0.000000</td>\n",
       "      <td>0.000000</td>\n",
       "      <td>0.000000</td>\n",
       "      <td>0.000000</td>\n",
       "      <td>0.000000</td>\n",
       "      <td>229.000000</td>\n",
       "      <td>0.000000</td>\n",
       "      <td>127.800000</td>\n",
       "      <td>0.000000</td>\n",
       "      <td>1.000000</td>\n",
       "      <td>9.000000</td>\n",
       "      <td>4.000000</td>\n",
       "      <td>4.000000</td>\n",
       "      <td>0.000000</td>\n",
       "      <td>0.000000</td>\n",
       "      <td>1.000000</td>\n",
       "      <td>0.000000</td>\n",
       "      <td>3.000000</td>\n",
       "      <td>8.000000</td>\n",
       "    </tr>\n",
       "    <tr>\n",
       "      <th>max</th>\n",
       "      <td>1.000000</td>\n",
       "      <td>629.000000</td>\n",
       "      <td>2017.000000</td>\n",
       "      <td>53.000000</td>\n",
       "      <td>31.000000</td>\n",
       "      <td>16.000000</td>\n",
       "      <td>41.000000</td>\n",
       "      <td>26.000000</td>\n",
       "      <td>10.000000</td>\n",
       "      <td>10.000000</td>\n",
       "      <td>1.000000</td>\n",
       "      <td>26.000000</td>\n",
       "      <td>50.000000</td>\n",
       "      <td>18.000000</td>\n",
       "      <td>535.000000</td>\n",
       "      <td>391.000000</td>\n",
       "      <td>5400.000000</td>\n",
       "      <td>3.000000</td>\n",
       "      <td>5.000000</td>\n",
       "      <td>12.000000</td>\n",
       "      <td>8.000000</td>\n",
       "      <td>11.000000</td>\n",
       "      <td>1.000000</td>\n",
       "      <td>3.000000</td>\n",
       "      <td>1.000000</td>\n",
       "      <td>3.000000</td>\n",
       "      <td>6.000000</td>\n",
       "      <td>8.000000</td>\n",
       "    </tr>\n",
       "  </tbody>\n",
       "</table>\n",
       "</div>"
      ],
      "text/plain": [
       "         is_canceled  ...  distribution_channel_numerical\n",
       "count  103048.000000  ...                   103048.000000\n",
       "mean        0.390032  ...                        7.376126\n",
       "std         0.487759  ...                        2.124103\n",
       "min         0.000000  ...                        0.000000\n",
       "25%         0.000000  ...                        8.000000\n",
       "50%         0.000000  ...                        8.000000\n",
       "75%         1.000000  ...                        8.000000\n",
       "max         1.000000  ...                        8.000000\n",
       "\n",
       "[8 rows x 28 columns]"
      ]
     },
     "execution_count": 75,
     "metadata": {},
     "output_type": "execute_result"
    }
   ],
   "source": [
    "# Resumo estatístico\n",
    "dataset.describe()"
   ]
  },
  {
   "cell_type": "code",
   "execution_count": 77,
   "metadata": {
    "ExecuteTime": {
     "end_time": "2020-12-17T11:46:30.097816Z",
     "start_time": "2020-12-17T11:46:26.703585Z"
    }
   },
   "outputs": [
    {
     "name": "stdout",
     "output_type": "stream",
     "text": [
      "Coluna < is_canceled > tem:\t0 valores NA.\n"
     ]
    },
    {
     "data": {
      "image/png": "[encoded data removed]",
      "text/plain": [
       "<Figure size 288x288 with 1 Axes>"
      ]
     },
     "metadata": {
      "needs_background": "light"
     },
     "output_type": "display_data"
    },
    {
     "name": "stdout",
     "output_type": "stream",
     "text": [
      "Coluna < lead_time > tem:\t0 valores NA.\n"
     ]
    },
    {
     "data": {
      "image/png": "[encoded data removed]",
      "text/plain": [
       "<Figure size 288x288 with 1 Axes>"
      ]
     },
     "metadata": {
      "needs_background": "light"
     },
     "output_type": "display_data"
    },
    {
     "name": "stdout",
     "output_type": "stream",
     "text": [
      "Coluna < arrival_date_year > tem:\t0 valores NA.\n"
     ]
    },
    {
     "data": {
      "image/png": "[encoded data removed]",
      "text/plain": [
       "<Figure size 288x288 with 1 Axes>"
      ]
     },
     "metadata": {
      "needs_background": "light"
     },
     "output_type": "display_data"
    },
    {
     "name": "stdout",
     "output_type": "stream",
     "text": [
      "Coluna < arrival_date_week_number > tem:\t0 valores NA.\n"
     ]
    },
    {
     "data": {
      "image/png": "[encoded data removed]",
      "text/plain": [
       "<Figure size 288x288 with 1 Axes>"
      ]
     },
     "metadata": {
      "needs_background": "light"
     },
     "output_type": "display_data"
    },
    {
     "name": "stdout",
     "output_type": "stream",
     "text": [
      "Coluna < arrival_date_day_of_month > tem:\t0 valores NA.\n"
     ]
    },
    {
     "data": {
      "image/png": "[encoded data removed]",
      "text/plain": [
       "<Figure size 288x288 with 1 Axes>"
      ]
     },
     "metadata": {
      "needs_background": "light"
     },
     "output_type": "display_data"
    },
    {
     "name": "stdout",
     "output_type": "stream",
     "text": [
      "Coluna < stays_in_weekend_nights > tem:\t0 valores NA.\n"
     ]
    },
    {
     "data": {
      "image/png": "[encoded data removed]",
      "text/plain": [
       "<Figure size 288x288 with 1 Axes>"
      ]
     },
     "metadata": {
      "needs_background": "light"
     },
     "output_type": "display_data"
    },
    {
     "name": "stdout",
     "output_type": "stream",
     "text": [
      "Coluna < stays_in_week_nights > tem:\t0 valores NA.\n"
     ]
    },
    {
     "data": {
      "image/png": "[encoded data removed]",
      "text/plain": [
       "<Figure size 288x288 with 1 Axes>"
      ]
     },
     "metadata": {
      "needs_background": "light"
     },
     "output_type": "display_data"
    },
    {
     "name": "stdout",
     "output_type": "stream",
     "text": [
      "Coluna < adults > tem:\t0 valores NA.\n"
     ]
    },
    {
     "data": {
      "image/png": "[encoded data removed]",
      "text/plain": [
       "<Figure size 288x288 with 1 Axes>"
      ]
     },
     "metadata": {
      "needs_background": "light"
     },
     "output_type": "display_data"
    },
    {
     "name": "stdout",
     "output_type": "stream",
     "text": [
      "Coluna < children > tem:\t0 valores NA.\n"
     ]
    },
    {
     "data": {
      "image/png": "[encoded data removed]",
      "text/plain": [
       "<Figure size 288x288 with 1 Axes>"
      ]
     },
     "metadata": {
      "needs_background": "light"
     },
     "output_type": "display_data"
    },
    {
     "name": "stdout",
     "output_type": "stream",
     "text": [
      "Coluna < babies > tem:\t0 valores NA.\n"
     ]
    },
    {
     "data": {
      "image/png": "[encoded data removed]",
      "text/plain": [
       "<Figure size 288x288 with 1 Axes>"
      ]
     },
     "metadata": {
      "needs_background": "light"
     },
     "output_type": "display_data"
    },
    {
     "name": "stdout",
     "output_type": "stream",
     "text": [
      "Coluna < is_repeated_guest > tem:\t0 valores NA.\n"
     ]
    },
    {
     "data": {
      "image/png": "[encoded data removed]",
      "text/plain": [
       "<Figure size 288x288 with 1 Axes>"
      ]
     },
     "metadata": {
      "needs_background": "light"
     },
     "output_type": "display_data"
    },
    {
     "name": "stdout",
     "output_type": "stream",
     "text": [
      "Coluna < previous_cancellations > tem:\t0 valores NA.\n"
     ]
    },
    {
     "data": {
      "image/png": "[encoded data removed]",
      "text/plain": [
       "<Figure size 288x288 with 1 Axes>"
      ]
     },
     "metadata": {
      "needs_background": "light"
     },
     "output_type": "display_data"
    },
    {
     "name": "stdout",
     "output_type": "stream",
     "text": [
      "Coluna < previous_bookings_not_canceled > tem:\t0 valores NA.\n"
     ]
    },
    {
     "data": {
      "image/png": "[encoded data removed]",
      "text/plain": [
       "<Figure size 288x288 with 1 Axes>"
      ]
     },
     "metadata": {
      "needs_background": "light"
     },
     "output_type": "display_data"
    },
    {
     "name": "stdout",
     "output_type": "stream",
     "text": [
      "Coluna < booking_changes > tem:\t0 valores NA.\n"
     ]
    },
    {
     "data": {
      "image/png": "[encoded data removed]",
      "text/plain": [
       "<Figure size 288x288 with 1 Axes>"
      ]
     },
     "metadata": {
      "needs_background": "light"
     },
     "output_type": "display_data"
    },
    {
     "name": "stdout",
     "output_type": "stream",
     "text": [
      "Coluna < agent > tem:\t0 valores NA.\n"
     ]
    },
    {
     "data": {
      "image/png": "[encoded data removed]",
      "text/plain": [
       "<Figure size 288x288 with 1 Axes>"
      ]
     },
     "metadata": {
      "needs_background": "light"
     },
     "output_type": "display_data"
    },
    {
     "name": "stdout",
     "output_type": "stream",
     "text": [
      "Coluna < days_in_waiting_list > tem:\t0 valores NA.\n"
     ]
    },
    {
     "data": {
      "image/png": "[encoded data removed]",
      "text/plain": [
       "<Figure size 288x288 with 1 Axes>"
      ]
     },
     "metadata": {
      "needs_background": "light"
     },
     "output_type": "display_data"
    },
    {
     "name": "stdout",
     "output_type": "stream",
     "text": [
      "Coluna < adr > tem:\t0 valores NA.\n"
     ]
    },
    {
     "data": {
      "image/png": "[encoded data removed]",
      "text/plain": [
       "<Figure size 288x288 with 1 Axes>"
      ]
     },
     "metadata": {
      "needs_background": "light"
     },
     "output_type": "display_data"
    },
    {
     "name": "stdout",
     "output_type": "stream",
     "text": [
      "Coluna < required_car_parking_spaces > tem:\t0 valores NA.\n"
     ]
    },
    {
     "data": {
      "image/png": "[encoded data removed]",
      "text/plain": [
       "<Figure size 288x288 with 1 Axes>"
      ]
     },
     "metadata": {
      "needs_background": "light"
     },
     "output_type": "display_data"
    },
    {
     "name": "stdout",
     "output_type": "stream",
     "text": [
      "Coluna < total_of_special_requests > tem:\t0 valores NA.\n"
     ]
    },
    {
     "data": {
      "image/png": "[encoded data removed]",
      "text/plain": [
       "<Figure size 288x288 with 1 Axes>"
      ]
     },
     "metadata": {
      "needs_background": "light"
     },
     "output_type": "display_data"
    },
    {
     "name": "stdout",
     "output_type": "stream",
     "text": [
      "Coluna < arrival_date_month_numerical > tem:\t0 valores NA.\n"
     ]
    },
    {
     "data": {
      "image/png": "[encoded data removed]",
      "text/plain": [
       "<Figure size 288x288 with 1 Axes>"
      ]
     },
     "metadata": {
      "needs_background": "light"
     },
     "output_type": "display_data"
    },
    {
     "name": "stdout",
     "output_type": "stream",
     "text": [
      "Coluna < reserved_room_type_numerical > tem:\t0 valores NA.\n"
     ]
    },
    {
     "data": {
      "image/png": "[encoded data removed]",
      "text/plain": [
       "<Figure size 288x288 with 1 Axes>"
      ]
     },
     "metadata": {
      "needs_background": "light"
     },
     "output_type": "display_data"
    },
    {
     "name": "stdout",
     "output_type": "stream",
     "text": [
      "Coluna < assigned_room_type_numerical > tem:\t0 valores NA.\n"
     ]
    },
    {
     "data": {
      "image/png": "[encoded data removed]",
      "text/plain": [
       "<Figure size 288x288 with 1 Axes>"
      ]
     },
     "metadata": {
      "needs_background": "light"
     },
     "output_type": "display_data"
    },
    {
     "name": "stdout",
     "output_type": "stream",
     "text": [
      "Coluna < deposit_type_numerical > tem:\t0 valores NA.\n"
     ]
    },
    {
     "data": {
      "image/png": "[encoded data removed]",
      "text/plain": [
       "<Figure size 288x288 with 1 Axes>"
      ]
     },
     "metadata": {
      "needs_background": "light"
     },
     "output_type": "display_data"
    },
    {
     "name": "stdout",
     "output_type": "stream",
     "text": [
      "Coluna < customer_type_numerical > tem:\t0 valores NA.\n"
     ]
    },
    {
     "data": {
      "image/png": "[encoded data removed]",
      "text/plain": [
       "<Figure size 288x288 with 1 Axes>"
      ]
     },
     "metadata": {
      "needs_background": "light"
     },
     "output_type": "display_data"
    },
    {
     "name": "stdout",
     "output_type": "stream",
     "text": [
      "Coluna < hotel_numerical > tem:\t0 valores NA.\n"
     ]
    },
    {
     "data": {
      "image/png": "[encoded data removed]",
      "text/plain": [
       "<Figure size 288x288 with 1 Axes>"
      ]
     },
     "metadata": {
      "needs_background": "light"
     },
     "output_type": "display_data"
    },
    {
     "name": "stdout",
     "output_type": "stream",
     "text": [
      "Coluna < meal_numerical > tem:\t0 valores NA.\n"
     ]
    },
    {
     "data": {
      "image/png": "[encoded data removed]",
      "text/plain": [
       "<Figure size 288x288 with 1 Axes>"
      ]
     },
     "metadata": {
      "needs_background": "light"
     },
     "output_type": "display_data"
    },
    {
     "name": "stdout",
     "output_type": "stream",
     "text": [
      "Coluna < market_segment_numerical > tem:\t0 valores NA.\n"
     ]
    },
    {
     "data": {
      "image/png": "[encoded data removed]",
      "text/plain": [
       "<Figure size 288x288 with 1 Axes>"
      ]
     },
     "metadata": {
      "needs_background": "light"
     },
     "output_type": "display_data"
    },
    {
     "name": "stdout",
     "output_type": "stream",
     "text": [
      "Coluna < distribution_channel_numerical > tem:\t0 valores NA.\n"
     ]
    },
    {
     "data": {
      "image/png": "[encoded data removed]",
      "text/plain": [
       "<Figure size 288x288 with 1 Axes>"
      ]
     },
     "metadata": {
      "needs_background": "light"
     },
     "output_type": "display_data"
    }
   ],
   "source": [
    "# Checa valores NA e cria alguns Plots\n",
    "for column, series in dataset.items():\n",
    "    print(f\"Coluna < {column} > tem:\\t{sum(series.isna())} valores NA.\")\n",
    "    plt.figure(figsize=[4,4])\n",
    "    plt.hist(series, bins=20)\n",
    "    plt.title(column)\n",
    "    plt.show()"
   ]
  },
  {
   "cell_type": "code",
   "execution_count": 78,
   "metadata": {
    "ExecuteTime": {
     "end_time": "2020-12-17T11:46:45.800226Z",
     "start_time": "2020-12-17T11:46:45.651819Z"
    }
   },
   "outputs": [],
   "source": [
    "# Calcula a correlação\n",
    "corr = dataset.corr()"
   ]
  },
  {
   "cell_type": "code",
   "execution_count": 79,
   "metadata": {
    "ExecuteTime": {
     "end_time": "2020-12-17T11:46:59.875387Z",
     "start_time": "2020-12-17T11:46:57.940792Z"
    }
   },
   "outputs": [
    {
     "data": {
      "text/plain": [
       "<AxesSubplot:>"
      ]
     },
     "execution_count": 79,
     "metadata": {},
     "output_type": "execute_result"
    },
    {
     "data": {
      "image/png": "[encoded data removed]",
      "text/plain": [
       "<Figure size 1152x1008 with 2 Axes>"
      ]
     },
     "metadata": {
      "needs_background": "light"
     },
     "output_type": "display_data"
    }
   ],
   "source": [
    "# Plot da Matriz de Correlação\n",
    "\n",
    "# Máscara\n",
    "mask = np.triu(np.ones_like(corr, dtype = np.bool))\n",
    "\n",
    "# Área de plotagem\n",
    "f, ax = plt.subplots(figsize = (16, 14))\n",
    "\n",
    "# Paleta de cores\n",
    "cmap = sns.cubehelix_palette(rot=-.4)\n",
    "\n",
    "# Mapa de calor com a correlação (Matriz de Correlação)\n",
    "sns.heatmap(corr, mask = mask, cmap = cmap, vmax = .3, center = 0, annot = True, square = True, \n",
    "            linewidths = .5, cbar_kws = {\"shrink\": .5})"
   ]
  },
  {
   "cell_type": "markdown",
   "metadata": {},
   "source": [
    "## Pre-Processing Data"
   ]
  },
  {
   "cell_type": "code",
   "execution_count": 80,
   "metadata": {
    "ExecuteTime": {
     "end_time": "2020-12-17T11:47:46.722180Z",
     "start_time": "2020-12-17T11:47:46.715416Z"
    }
   },
   "outputs": [],
   "source": [
    "# Preparamos os dados de entrada em x\n",
    "X = dataset.drop([\"is_canceled\"], axis = 1)"
   ]
  },
  {
   "cell_type": "code",
   "execution_count": 81,
   "metadata": {
    "ExecuteTime": {
     "end_time": "2020-12-17T11:47:49.936482Z",
     "start_time": "2020-12-17T11:47:49.934356Z"
    }
   },
   "outputs": [],
   "source": [
    "# Preparamos a variável de saída y\n",
    "y = dataset[\"is_canceled\"]"
   ]
  },
  {
   "cell_type": "code",
   "execution_count": 82,
   "metadata": {
    "ExecuteTime": {
     "end_time": "2020-12-17T11:47:54.792451Z",
     "start_time": "2020-12-17T11:47:54.789416Z"
    }
   },
   "outputs": [],
   "source": [
    "# Convertemos para o tipo categórico\n",
    "y = to_categorical(y, num_classes = None)"
   ]
  },
  {
   "cell_type": "code",
   "execution_count": 83,
   "metadata": {
    "ExecuteTime": {
     "end_time": "2020-12-17T11:47:59.485717Z",
     "start_time": "2020-12-17T11:47:59.482719Z"
    }
   },
   "outputs": [
    {
     "data": {
      "text/plain": [
       "array([[1., 0.],\n",
       "       [1., 0.],\n",
       "       [1., 0.],\n",
       "       ...,\n",
       "       [1., 0.],\n",
       "       [1., 0.],\n",
       "       [1., 0.]], dtype=float32)"
      ]
     },
     "execution_count": 83,
     "metadata": {},
     "output_type": "execute_result"
    }
   ],
   "source": [
    "y"
   ]
  },
  {
   "cell_type": "code",
   "execution_count": 84,
   "metadata": {
    "ExecuteTime": {
     "end_time": "2020-12-17T11:48:11.631110Z",
     "start_time": "2020-12-17T11:48:11.610574Z"
    }
   },
   "outputs": [],
   "source": [
    "# Divisão em treino e teste\n",
    "X_treino, X_teste, y_treino, y_teste = train_test_split(X, y, shuffle = True, test_size = 0.2, random_state = 420)"
   ]
  },
  {
   "cell_type": "code",
   "execution_count": 85,
   "metadata": {
    "ExecuteTime": {
     "end_time": "2020-12-17T11:48:15.220116Z",
     "start_time": "2020-12-17T11:48:15.216631Z"
    }
   },
   "outputs": [
    {
     "name": "stdout",
     "output_type": "stream",
     "text": [
      "Shape de X_treino = (82438, 27)\n",
      "Shape de y_treino = (82438, 2)\n",
      "Shape de X_teste = (20610, 27)\n",
      "Shape de y_teste = (20610, 2)\n"
     ]
    }
   ],
   "source": [
    "# Shape\n",
    "print(\"Shape de X_treino =\", X_treino.shape)\n",
    "print(\"Shape de y_treino =\", y_treino.shape)\n",
    "print(\"Shape de X_teste =\", X_teste.shape)\n",
    "print(\"Shape de y_teste =\", y_teste.shape)"
   ]
  },
  {
   "cell_type": "code",
   "execution_count": 86,
   "metadata": {
    "ExecuteTime": {
     "end_time": "2020-12-17T11:48:23.946733Z",
     "start_time": "2020-12-17T11:48:23.944684Z"
    }
   },
   "outputs": [],
   "source": [
    "# Criamos o objeto scaler\n",
    "scaler = MinMaxScaler()"
   ]
  },
  {
   "cell_type": "code",
   "execution_count": 87,
   "metadata": {
    "ExecuteTime": {
     "end_time": "2020-12-17T11:48:26.809769Z",
     "start_time": "2020-12-17T11:48:26.787150Z"
    }
   },
   "outputs": [],
   "source": [
    "# Treinamos e Aplicamos o scaler aos dados de entrada de treino\n",
    "X_treino = scaler.fit_transform(X_treino)"
   ]
  },
  {
   "cell_type": "code",
   "execution_count": 88,
   "metadata": {
    "ExecuteTime": {
     "end_time": "2020-12-17T11:48:29.637029Z",
     "start_time": "2020-12-17T11:48:29.630792Z"
    }
   },
   "outputs": [],
   "source": [
    "# Aplicamos o scaler aos dados de entrada de teste\n",
    "X_teste = scaler.transform(X_teste)"
   ]
  },
  {
   "cell_type": "code",
   "execution_count": 89,
   "metadata": {
    "ExecuteTime": {
     "end_time": "2020-12-17T11:48:34.280499Z",
     "start_time": "2020-12-17T11:48:34.277670Z"
    }
   },
   "outputs": [
    {
     "name": "stdout",
     "output_type": "stream",
     "text": [
      "Matriz da Variável de Entrada:\t(103048, 27)\n",
      "Matriz da Variável de Saída:\t(103048, 2)\n"
     ]
    }
   ],
   "source": [
    "# Resumo\n",
    "print(f'Matriz da Variável de Entrada:\\t{X.shape}\\nMatriz da Variável de Saída:\\t{y.shape}')"
   ]
  },
  {
   "cell_type": "markdown",
   "metadata": {},
   "source": [
    "## Building Model"
   ]
  },
  {
   "cell_type": "code",
   "execution_count": 90,
   "metadata": {
    "ExecuteTime": {
     "end_time": "2020-12-17T11:49:21.209709Z",
     "start_time": "2020-12-17T11:49:21.116259Z"
    }
   },
   "outputs": [],
   "source": [
    "# Criamos o modelo\n",
    "modelo = Sequential()\n",
    "modelo.add(Dense(200, input_dim = X.shape[1], activation = 'relu'))\n",
    "modelo.add(Dropout(0.1))\n",
    "modelo.add(Dense(200, activation = 'relu'))\n",
    "modelo.add(Dropout(0.2))    \n",
    "modelo.add(Dense(200, activation = 'relu'))\n",
    "modelo.add(Dropout(0.2))\n",
    "modelo.add(Dense(100, activation = 'relu'))\n",
    "modelo.add(Dropout(0.1))\n",
    "modelo.add(Dense(2, activation = 'softmax'))"
   ]
  },
  {
   "cell_type": "code",
   "execution_count": 91,
   "metadata": {
    "ExecuteTime": {
     "end_time": "2020-12-17T11:49:30.028387Z",
     "start_time": "2020-12-17T11:49:30.025707Z"
    }
   },
   "outputs": [],
   "source": [
    "# Usaremos como otimizador o algoritmo Nadam pois o conjunto de dados é complexo\n",
    "# https://keras.io/api/optimizers/Nadam/\n",
    "otimizador = Nadam(learning_rate = 0.0001, \n",
    "                   beta_1 = 0.9, \n",
    "                   beta_2 = 0.999, \n",
    "                   epsilon = 1e-07)"
   ]
  },
  {
   "cell_type": "code",
   "execution_count": 92,
   "metadata": {
    "ExecuteTime": {
     "end_time": "2020-12-17T11:49:35.793351Z",
     "start_time": "2020-12-17T11:49:35.784025Z"
    }
   },
   "outputs": [],
   "source": [
    "# Compilamos o modelo\n",
    "modelo.compile(optimizer = otimizador, loss = 'categorical_crossentropy', metrics = ['accuracy'])"
   ]
  },
  {
   "cell_type": "code",
   "execution_count": 93,
   "metadata": {
    "ExecuteTime": {
     "end_time": "2020-12-17T11:49:55.888373Z",
     "start_time": "2020-12-17T11:49:55.884880Z"
    }
   },
   "outputs": [],
   "source": [
    "# Vamos criar 2 callbacks\n",
    "# Um para finalizar o treinamento se depois de 20 passadas o erro não mudar\n",
    "# Outro para reduzir a taxa de aprendizagem se o erro não mudar após 5 passadas\n",
    "callbacks = [EarlyStopping(monitor = \"loss\", patience = 20), \n",
    "             ReduceLROnPlateau(monitor = \"loss\", patience = 5)]"
   ]
  },
  {
   "cell_type": "code",
   "execution_count": 94,
   "metadata": {
    "ExecuteTime": {
     "end_time": "2020-12-17T11:50:00.056129Z",
     "start_time": "2020-12-17T11:50:00.054011Z"
    }
   },
   "outputs": [],
   "source": [
    "# Hiperparâmetros\n",
    "num_epochs = 65\n",
    "batch_size = 32"
   ]
  },
  {
   "cell_type": "code",
   "execution_count": 95,
   "metadata": {
    "ExecuteTime": {
     "end_time": "2020-12-17T11:54:23.054086Z",
     "start_time": "2020-12-17T11:50:20.617062Z"
    }
   },
   "outputs": [
    {
     "name": "stdout",
     "output_type": "stream",
     "text": [
      "\n",
      "Treinamento Iniciado.\n",
      "\n",
      "Epoch 1/65\n",
      "2577/2577 [==============================] - 4s 1ms/step - loss: 0.5025 - accuracy: 0.7462\n",
      "Epoch 2/65\n",
      "2577/2577 [==============================] - 3s 1ms/step - loss: 0.4500 - accuracy: 0.7747\n",
      "Epoch 3/65\n",
      "2577/2577 [==============================] - 3s 1ms/step - loss: 0.4347 - accuracy: 0.7852\n",
      "Epoch 4/65\n",
      "2577/2577 [==============================] - 3s 1ms/step - loss: 0.4232 - accuracy: 0.7930\n",
      "Epoch 5/65\n",
      "2577/2577 [==============================] - 3s 1ms/step - loss: 0.4163 - accuracy: 0.7962\n",
      "Epoch 6/65\n",
      "2577/2577 [==============================] - 3s 1ms/step - loss: 0.4103 - accuracy: 0.8030\n",
      "Epoch 7/65\n",
      "2577/2577 [==============================] - 4s 1ms/step - loss: 0.4034 - accuracy: 0.8061\n",
      "Epoch 8/65\n",
      "2577/2577 [==============================] - 3s 1ms/step - loss: 0.3998 - accuracy: 0.8091\n",
      "Epoch 9/65\n",
      "2577/2577 [==============================] - 3s 1ms/step - loss: 0.3951 - accuracy: 0.8121\n",
      "Epoch 10/65\n",
      "2577/2577 [==============================] - 3s 1ms/step - loss: 0.3916 - accuracy: 0.8141\n",
      "Epoch 11/65\n",
      "2577/2577 [==============================] - 3s 1ms/step - loss: 0.3878 - accuracy: 0.8174\n",
      "Epoch 12/65\n",
      "2577/2577 [==============================] - 4s 1ms/step - loss: 0.3845 - accuracy: 0.8168\n",
      "Epoch 13/65\n",
      "2577/2577 [==============================] - 3s 1ms/step - loss: 0.3818 - accuracy: 0.8191\n",
      "Epoch 14/65\n",
      "2577/2577 [==============================] - 4s 1ms/step - loss: 0.3799 - accuracy: 0.8204\n",
      "Epoch 15/65\n",
      "2577/2577 [==============================] - 3s 1ms/step - loss: 0.3775 - accuracy: 0.8218\n",
      "Epoch 16/65\n",
      "2577/2577 [==============================] - 3s 1ms/step - loss: 0.3757 - accuracy: 0.8232\n",
      "Epoch 17/65\n",
      "2577/2577 [==============================] - 3s 1ms/step - loss: 0.3729 - accuracy: 0.8237\n",
      "Epoch 18/65\n",
      "2577/2577 [==============================] - 4s 1ms/step - loss: 0.3715 - accuracy: 0.8244\n",
      "Epoch 19/65\n",
      "2577/2577 [==============================] - 4s 2ms/step - loss: 0.3692 - accuracy: 0.8254\n",
      "Epoch 20/65\n",
      "2577/2577 [==============================] - 4s 2ms/step - loss: 0.3679 - accuracy: 0.8262\n",
      "Epoch 21/65\n",
      "2577/2577 [==============================] - 4s 2ms/step - loss: 0.3653 - accuracy: 0.8286\n",
      "Epoch 22/65\n",
      "2577/2577 [==============================] - 4s 2ms/step - loss: 0.3652 - accuracy: 0.8282\n",
      "Epoch 23/65\n",
      "2577/2577 [==============================] - 3s 1ms/step - loss: 0.3632 - accuracy: 0.8279\n",
      "Epoch 24/65\n",
      "2577/2577 [==============================] - 4s 1ms/step - loss: 0.3615 - accuracy: 0.8296\n",
      "Epoch 25/65\n",
      "2577/2577 [==============================] - 4s 2ms/step - loss: 0.3609 - accuracy: 0.8302\n",
      "Epoch 26/65\n",
      "2577/2577 [==============================] - 4s 1ms/step - loss: 0.3581 - accuracy: 0.8321\n",
      "Epoch 27/65\n",
      "2577/2577 [==============================] - 4s 1ms/step - loss: 0.3576 - accuracy: 0.8320\n",
      "Epoch 28/65\n",
      "2577/2577 [==============================] - 4s 2ms/step - loss: 0.3570 - accuracy: 0.8326\n",
      "Epoch 29/65\n",
      "2577/2577 [==============================] - 4s 2ms/step - loss: 0.3552 - accuracy: 0.8322\n",
      "Epoch 30/65\n",
      "2577/2577 [==============================] - 4s 1ms/step - loss: 0.3551 - accuracy: 0.8319\n",
      "Epoch 31/65\n",
      "2577/2577 [==============================] - 4s 2ms/step - loss: 0.3531 - accuracy: 0.8331\n",
      "Epoch 32/65\n",
      "2577/2577 [==============================] - 4s 2ms/step - loss: 0.3529 - accuracy: 0.8341\n",
      "Epoch 33/65\n",
      "2577/2577 [==============================] - 4s 2ms/step - loss: 0.3520 - accuracy: 0.8338\n",
      "Epoch 34/65\n",
      "2577/2577 [==============================] - 4s 2ms/step - loss: 0.3515 - accuracy: 0.8350\n",
      "Epoch 35/65\n",
      "2577/2577 [==============================] - 4s 1ms/step - loss: 0.3504 - accuracy: 0.8348\n",
      "Epoch 36/65\n",
      "2577/2577 [==============================] - 4s 2ms/step - loss: 0.3495 - accuracy: 0.8341\n",
      "Epoch 37/65\n",
      "2577/2577 [==============================] - 4s 1ms/step - loss: 0.3483 - accuracy: 0.8364\n",
      "Epoch 38/65\n",
      "2577/2577 [==============================] - 4s 1ms/step - loss: 0.3477 - accuracy: 0.8363\n",
      "Epoch 39/65\n",
      "2577/2577 [==============================] - 4s 1ms/step - loss: 0.3462 - accuracy: 0.8375\n",
      "Epoch 40/65\n",
      "2577/2577 [==============================] - 4s 1ms/step - loss: 0.3461 - accuracy: 0.8363\n",
      "Epoch 41/65\n",
      "2577/2577 [==============================] - 4s 1ms/step - loss: 0.3450 - accuracy: 0.8373\n",
      "Epoch 42/65\n",
      "2577/2577 [==============================] - 4s 1ms/step - loss: 0.3443 - accuracy: 0.8373\n",
      "Epoch 43/65\n",
      "2577/2577 [==============================] - 4s 1ms/step - loss: 0.3439 - accuracy: 0.8373\n",
      "Epoch 44/65\n",
      "2577/2577 [==============================] - 4s 1ms/step - loss: 0.3424 - accuracy: 0.8391\n",
      "Epoch 45/65\n",
      "2577/2577 [==============================] - 4s 1ms/step - loss: 0.3417 - accuracy: 0.8375\n",
      "Epoch 46/65\n",
      "2577/2577 [==============================] - 4s 1ms/step - loss: 0.3402 - accuracy: 0.8403\n",
      "Epoch 47/65\n",
      "2577/2577 [==============================] - 4s 1ms/step - loss: 0.3412 - accuracy: 0.8387\n",
      "Epoch 48/65\n",
      "2577/2577 [==============================] - 4s 1ms/step - loss: 0.3389 - accuracy: 0.8404\n",
      "Epoch 49/65\n",
      "2577/2577 [==============================] - 4s 1ms/step - loss: 0.3393 - accuracy: 0.8406\n",
      "Epoch 50/65\n",
      "2577/2577 [==============================] - 4s 1ms/step - loss: 0.3399 - accuracy: 0.8394\n",
      "Epoch 51/65\n",
      "2577/2577 [==============================] - 4s 1ms/step - loss: 0.3383 - accuracy: 0.8405\n",
      "Epoch 52/65\n",
      "2577/2577 [==============================] - 4s 2ms/step - loss: 0.3381 - accuracy: 0.8415\n",
      "Epoch 53/65\n",
      "2577/2577 [==============================] - 4s 1ms/step - loss: 0.3377 - accuracy: 0.8409\n",
      "Epoch 54/65\n",
      "2577/2577 [==============================] - 4s 1ms/step - loss: 0.3351 - accuracy: 0.8420\n",
      "Epoch 55/65\n",
      "2577/2577 [==============================] - 4s 1ms/step - loss: 0.3353 - accuracy: 0.8416\n",
      "Epoch 56/65\n",
      "2577/2577 [==============================] - 4s 1ms/step - loss: 0.3344 - accuracy: 0.8424\n",
      "Epoch 57/65\n",
      "2577/2577 [==============================] - 4s 1ms/step - loss: 0.3332 - accuracy: 0.8432\n",
      "Epoch 58/65\n",
      "2577/2577 [==============================] - 4s 1ms/step - loss: 0.3339 - accuracy: 0.8423\n",
      "Epoch 59/65\n",
      "2577/2577 [==============================] - 4s 1ms/step - loss: 0.3333 - accuracy: 0.8427\n",
      "Epoch 60/65\n",
      "2577/2577 [==============================] - 4s 1ms/step - loss: 0.3324 - accuracy: 0.8417\n",
      "Epoch 61/65\n",
      "2577/2577 [==============================] - 4s 1ms/step - loss: 0.3310 - accuracy: 0.8442\n",
      "Epoch 62/65\n",
      "2577/2577 [==============================] - 4s 1ms/step - loss: 0.3302 - accuracy: 0.8451\n",
      "Epoch 63/65\n",
      "2577/2577 [==============================] - 4s 1ms/step - loss: 0.3318 - accuracy: 0.8430\n",
      "Epoch 64/65\n",
      "2577/2577 [==============================] - 4s 1ms/step - loss: 0.3302 - accuracy: 0.8443\n",
      "Epoch 65/65\n",
      "2577/2577 [==============================] - 4s 1ms/step - loss: 0.3298 - accuracy: 0.8442\n",
      "\n",
      "Treinamento Concluído.\n",
      "\n"
     ]
    }
   ],
   "source": [
    "# Treinamento\n",
    "\n",
    "print(\"\\nTreinamento Iniciado.\\n\")\n",
    "\n",
    "history = modelo.fit(X_treino, \n",
    "                     y_treino, \n",
    "                     epochs = num_epochs, \n",
    "                     batch_size = batch_size, \n",
    "                     callbacks = callbacks)\n",
    "\n",
    "print(\"\\nTreinamento Concluído.\\n\")"
   ]
  },
  {
   "cell_type": "code",
   "execution_count": 96,
   "metadata": {
    "ExecuteTime": {
     "end_time": "2020-12-17T11:59:48.418896Z",
     "start_time": "2020-12-17T11:59:48.288570Z"
    }
   },
   "outputs": [
    {
     "data": {
      "image/png": "[encoded data removed]",
      "text/plain": [
       "<Figure size 720x576 with 1 Axes>"
      ]
     },
     "metadata": {
      "needs_background": "light"
     },
     "output_type": "display_data"
    }
   ],
   "source": [
    "# Plot da Acurácia em Treino\n",
    "plt.figure(figsize = [10,8])\n",
    "plt.title(\"Curva de Aprendizado do Modelo - Acurácia\")\n",
    "plt.plot(history.history['accuracy'], label = 'Acurácia em Treino')\n",
    "plt.xlabel(\"Epochs\")\n",
    "plt.legend()\n",
    "plt.grid()"
   ]
  },
  {
   "cell_type": "code",
   "execution_count": 97,
   "metadata": {
    "ExecuteTime": {
     "end_time": "2020-12-17T11:59:54.173249Z",
     "start_time": "2020-12-17T11:59:54.035439Z"
    }
   },
   "outputs": [
    {
     "data": {
      "image/png": "[encoded data removed]",
      "text/plain": [
       "<Figure size 720x576 with 1 Axes>"
      ]
     },
     "metadata": {
      "needs_background": "light"
     },
     "output_type": "display_data"
    }
   ],
   "source": [
    "# Plot do Erro em Treino\n",
    "plt.figure(figsize = [10,8])\n",
    "plt.title(\"Curva de Aprendizado do Modelo - Erro\")\n",
    "plt.plot(history.history['loss'], label = 'Erro em Treino')\n",
    "plt.xlabel(\"Epochs\")\n",
    "plt.legend()\n",
    "plt.grid()"
   ]
  },
  {
   "cell_type": "code",
   "execution_count": 98,
   "metadata": {
    "ExecuteTime": {
     "end_time": "2020-12-17T12:00:01.100282Z",
     "start_time": "2020-12-17T12:00:00.800441Z"
    }
   },
   "outputs": [],
   "source": [
    "# Fazemos as previsões com os dados de teste\n",
    "previsoes = modelo.predict(X_teste)"
   ]
  },
  {
   "cell_type": "code",
   "execution_count": 99,
   "metadata": {
    "ExecuteTime": {
     "end_time": "2020-12-17T12:00:11.874445Z",
     "start_time": "2020-12-17T12:00:11.871065Z"
    }
   },
   "outputs": [],
   "source": [
    "# Convertemos as previsões em previsões de classe\n",
    "y_pred = (previsoes > 0.5)"
   ]
  },
  {
   "cell_type": "code",
   "execution_count": 100,
   "metadata": {
    "ExecuteTime": {
     "end_time": "2020-12-17T12:00:14.742765Z",
     "start_time": "2020-12-17T12:00:14.738730Z"
    }
   },
   "outputs": [
    {
     "data": {
      "text/plain": [
       "array([[9.5886783e-09, 1.0000000e+00],\n",
       "       [7.3590643e-05, 9.9992645e-01],\n",
       "       [4.1953823e-01, 5.8046174e-01],\n",
       "       ...,\n",
       "       [9.5804799e-01, 4.1952040e-02],\n",
       "       [9.5459855e-01, 4.5401432e-02],\n",
       "       [5.2674794e-01, 4.7325215e-01]], dtype=float32)"
      ]
     },
     "execution_count": 100,
     "metadata": {},
     "output_type": "execute_result"
    }
   ],
   "source": [
    "previsoes"
   ]
  },
  {
   "cell_type": "code",
   "execution_count": 101,
   "metadata": {
    "ExecuteTime": {
     "end_time": "2020-12-17T12:00:18.224582Z",
     "start_time": "2020-12-17T12:00:18.221925Z"
    }
   },
   "outputs": [
    {
     "data": {
      "text/plain": [
       "array([[False,  True],\n",
       "       [False,  True],\n",
       "       [False,  True],\n",
       "       ...,\n",
       "       [ True, False],\n",
       "       [ True, False],\n",
       "       [ True, False]])"
      ]
     },
     "execution_count": 101,
     "metadata": {},
     "output_type": "execute_result"
    }
   ],
   "source": [
    "y_pred"
   ]
  },
  {
   "cell_type": "code",
   "execution_count": 102,
   "metadata": {
    "ExecuteTime": {
     "end_time": "2020-12-17T12:00:27.131748Z",
     "start_time": "2020-12-17T12:00:27.123249Z"
    }
   },
   "outputs": [
    {
     "data": {
      "text/plain": [
       "0.837506065016982"
      ]
     },
     "execution_count": 102,
     "metadata": {},
     "output_type": "execute_result"
    }
   ],
   "source": [
    "# Calculamos a acurácia comparando valor real com valor previsto\n",
    "accuracy_score(y_teste, y_pred)"
   ]
  },
  {
   "cell_type": "code",
   "execution_count": 103,
   "metadata": {
    "ExecuteTime": {
     "end_time": "2020-12-17T12:00:31.821082Z",
     "start_time": "2020-12-17T12:00:31.784259Z"
    }
   },
   "outputs": [],
   "source": [
    "# Salva o modelo\n",
    "modelo.save(\"modelo/modelo.h5\")"
   ]
  },
  {
   "cell_type": "code",
   "execution_count": null,
   "metadata": {},
   "outputs": [],
   "source": []
  }
 ],
 "metadata": {
  "kernelspec": {
   "display_name": "Python 3",
   "language": "python",
   "name": "python3"
  },
  "language_info": {
   "codemirror_mode": {
    "name": "ipython",
    "version": 3
   },
   "file_extension": ".py",
   "mimetype": "text/x-python",
   "name": "python",
   "nbconvert_exporter": "python",
   "pygments_lexer": "ipython3",
   "version": "3.7.6"
  },
  "toc": {
   "base_numbering": 1,
   "nav_menu": {},
   "number_sections": true,
   "sideBar": true,
   "skip_h1_title": false,
   "title_cell": "Table of Contents",
   "title_sidebar": "Contents",
   "toc_cell": false,
   "toc_position": {},
   "toc_section_display": true,
   "toc_window_display": false
  },
  "varInspector": {
   "cols": {
    "lenName": 16,
    "lenType": 16,
    "lenVar": 40
   },
   "kernels_config": {
    "python": {
     "delete_cmd_postfix": "",
     "delete_cmd_prefix": "del ",
     "library": "var_list.py",
     "varRefreshCmd": "print(var_dic_list())"
    },
    "r": {
     "delete_cmd_postfix": ") ",
     "delete_cmd_prefix": "rm(",
     "library": "var_list.r",
     "varRefreshCmd": "cat(var_dic_list()) "
    }
   },
   "types_to_exclude": [
    "module",
    "function",
    "builtin_function_or_method",
    "instance",
    "_Feature"
   ],
   "window_display": false
  }
 },
 "nbformat": 4,
 "nbformat_minor": 4
}
