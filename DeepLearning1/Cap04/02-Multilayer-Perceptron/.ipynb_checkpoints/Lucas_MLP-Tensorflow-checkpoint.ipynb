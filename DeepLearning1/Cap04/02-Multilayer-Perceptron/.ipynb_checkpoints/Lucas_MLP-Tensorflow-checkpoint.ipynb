{
 "cells": [
  {
   "cell_type": "code",
   "execution_count": 1,
   "metadata": {
    "ExecuteTime": {
     "end_time": "2020-12-24T20:01:47.739752Z",
     "start_time": "2020-12-24T20:01:44.756856Z"
    }
   },
   "outputs": [],
   "source": [
    "# Importing Packages\n",
    "import tensorflow as tf \n",
    "import input_data \n",
    "\n",
    "import matplotlib.pyplot as plt \n",
    "%matplotlib inline \n",
    "plt.rcParams['figure.figsize'] = (5.0, 4.0)\n",
    "plt.rcParams['image.cmap'] = 'Greys'"
   ]
  },
  {
   "cell_type": "code",
   "execution_count": 2,
   "metadata": {
    "ExecuteTime": {
     "end_time": "2020-12-24T20:01:47.744146Z",
     "start_time": "2020-12-24T20:01:47.741083Z"
    }
   },
   "outputs": [],
   "source": [
    "# Migration TF1 To TF2\n",
    "import tensorflow.python.util.deprecation as deprecation \n",
    "deprecation._PRINT_DEPRECATION_WARNINGS = False \n",
    "tf.compat.v1.disable_eager_execution()"
   ]
  },
  {
   "cell_type": "code",
   "execution_count": 3,
   "metadata": {
    "ExecuteTime": {
     "end_time": "2020-12-24T20:01:47.760329Z",
     "start_time": "2020-12-24T20:01:47.745379Z"
    }
   },
   "outputs": [
    {
     "data": {
      "text/plain": [
       "'2.3.0'"
      ]
     },
     "execution_count": 3,
     "metadata": {},
     "output_type": "execute_result"
    }
   ],
   "source": [
    "tf.__version__"
   ]
  },
  {
   "cell_type": "code",
   "execution_count": 4,
   "metadata": {
    "ExecuteTime": {
     "end_time": "2020-12-24T20:01:48.156839Z",
     "start_time": "2020-12-24T20:01:47.761355Z"
    }
   },
   "outputs": [
    {
     "name": "stdout",
     "output_type": "stream",
     "text": [
      "Extracting ./data/train-images-idx3-ubyte.gz\n",
      "Extracting ./data/train-labels-idx1-ubyte.gz\n",
      "Extracting ./data/t10k-images-idx3-ubyte.gz\n",
      "Extracting ./data/t10k-labels-idx1-ubyte.gz\n"
     ]
    }
   ],
   "source": [
    "# Import Dataset\n",
    "mnist = input_data.read_data_sets(\"./data\", one_hot=True)"
   ]
  },
  {
   "cell_type": "code",
   "execution_count": 5,
   "metadata": {
    "ExecuteTime": {
     "end_time": "2020-12-24T20:01:48.161003Z",
     "start_time": "2020-12-24T20:01:48.158075Z"
    }
   },
   "outputs": [
    {
     "data": {
      "text/plain": [
       "<input_data.read_data_sets.<locals>.DataSets at 0x7fada0a12310>"
      ]
     },
     "execution_count": 5,
     "metadata": {},
     "output_type": "execute_result"
    }
   ],
   "source": [
    "mnist"
   ]
  },
  {
   "cell_type": "code",
   "execution_count": 6,
   "metadata": {
    "ExecuteTime": {
     "end_time": "2020-12-24T20:01:48.164772Z",
     "start_time": "2020-12-24T20:01:48.162219Z"
    }
   },
   "outputs": [
    {
     "name": "stdout",
     "output_type": "stream",
     "text": [
      "(55000, 784)\n",
      "(55000, 10)\n"
     ]
    }
   ],
   "source": [
    "print(mnist.train.images.shape)\n",
    "print(mnist.train.labels.shape)"
   ]
  },
  {
   "cell_type": "code",
   "execution_count": 7,
   "metadata": {
    "ExecuteTime": {
     "end_time": "2020-12-24T20:01:48.169157Z",
     "start_time": "2020-12-24T20:01:48.166489Z"
    }
   },
   "outputs": [
    {
     "name": "stdout",
     "output_type": "stream",
     "text": [
      "(5000, 784)\n",
      "(5000, 10)\n"
     ]
    }
   ],
   "source": [
    "print(mnist.validation.images.shape)\n",
    "print(mnist.validation.labels.shape)"
   ]
  },
  {
   "cell_type": "code",
   "execution_count": 8,
   "metadata": {
    "ExecuteTime": {
     "end_time": "2020-12-24T20:01:48.173650Z",
     "start_time": "2020-12-24T20:01:48.170669Z"
    }
   },
   "outputs": [
    {
     "name": "stdout",
     "output_type": "stream",
     "text": [
      "(10000, 784)\n",
      "(10000, 10)\n"
     ]
    }
   ],
   "source": [
    "print(mnist.test.images.shape)\n",
    "print(mnist.test.labels.shape)"
   ]
  },
  {
   "cell_type": "code",
   "execution_count": 9,
   "metadata": {
    "ExecuteTime": {
     "end_time": "2020-12-24T20:01:48.328695Z",
     "start_time": "2020-12-24T20:01:48.174728Z"
    }
   },
   "outputs": [
    {
     "name": "stdout",
     "output_type": "stream",
     "text": [
      "(784,)\n",
      "(28, 28)\n",
      "[1. 0. 0. 0. 0. 0. 0. 0. 0. 0.]\n"
     ]
    },
    {
     "data": {
      "text/plain": [
       "<matplotlib.image.AxesImage at 0x7fada073ec50>"
      ]
     },
     "execution_count": 9,
     "metadata": {},
     "output_type": "execute_result"
    },
    {
     "data": {
      "image/png": "[encoded data removed]",
      "text/plain": [
       "<Figure size 360x288 with 1 Axes>"
      ]
     },
     "metadata": {
      "needs_background": "light"
     },
     "output_type": "display_data"
    }
   ],
   "source": [
    "# Visualizing data\n",
    "example_image = mnist.train.images[10]\n",
    "example_image_reshaped = example_image.reshape((28,28))\n",
    "example_label = mnist.train.labels[10]\n",
    "\n",
    "print(example_image.shape)\n",
    "print(example_image_reshaped.shape)\n",
    "\n",
    "print(example_label)\n",
    "plt.imshow(example_image_reshaped)"
   ]
  },
  {
   "cell_type": "code",
   "execution_count": 10,
   "metadata": {
    "ExecuteTime": {
     "end_time": "2020-12-24T20:01:48.332332Z",
     "start_time": "2020-12-24T20:01:48.329855Z"
    }
   },
   "outputs": [
    {
     "name": "stdout",
     "output_type": "stream",
     "text": [
      "(784,)\n",
      "(28, 28)\n"
     ]
    }
   ],
   "source": [
    "print(example_image.shape)\n",
    "print(example_image_reshaped.shape)"
   ]
  },
  {
   "cell_type": "code",
   "execution_count": 12,
   "metadata": {
    "ExecuteTime": {
     "end_time": "2020-12-24T20:02:18.579099Z",
     "start_time": "2020-12-24T20:02:18.576167Z"
    }
   },
   "outputs": [],
   "source": [
    "# Network Architeture \n",
    "\n",
    "# Hyperparams\n",
    "learning_rate = 0.1 \n",
    "training_epochs = 10 \n",
    "batch_size = 64\n",
    "\n",
    "# Architecture\n",
    "n_hidden_1 = 128 \n",
    "n_hidden_2 = 256 \n",
    "n_input = 784\n",
    "n_classes = 10"
   ]
  },
  {
   "cell_type": "code",
   "execution_count": 15,
   "metadata": {
    "ExecuteTime": {
     "end_time": "2020-12-24T20:15:07.758171Z",
     "start_time": "2020-12-24T20:15:07.668877Z"
    }
   },
   "outputs": [],
   "source": [
    "# Defining Tensorflow Graph\n",
    "g = tf.Graph()\n",
    "\n",
    "with g.as_default():\n",
    "    \n",
    "    # Input Data\n",
    "    tf_x = tf.compat.v1.placeholder(tf.float32, [None, n_input], name='features')\n",
    "    tf_y = tf.compat.v1.placeholder(tf.float32, [None, n_classes], name='targets')\n",
    "    \n",
    "    # Model Params\n",
    "    weights = {\n",
    "        'w1': tf.Variable(tf.random.truncated_normal([n_input, n_hidden_1], stddev=0.1)),\n",
    "        'w2': tf.Variable(tf.random.truncated_normal([n_hidden_1, n_hidden_2], stddev=0.1)),\n",
    "        'out': tf.Variable(tf.random.truncated_normal([n_hidden_2, n_classes], stddev=0.1))\n",
    "    }\n",
    "    biases = {\n",
    "        'b1': tf.Variable(tf.zeros([n_hidden_1])),\n",
    "        'b2': tf.Variable(tf.zeros([n_hidden_2])),\n",
    "        'out': tf.Variable(tf.zeros([n_classes]))\n",
    "    }\n",
    "    \n",
    "    # Multilayer Perceptron\n",
    "    layer_1 = tf.add(tf.matmul(tf_x, weights['w1']), biases['b1'])\n",
    "    layer_1 = tf.nn.relu(layer_1)\n",
    "    layer_2 = tf.add(tf.matmul(layer_1, weights['w2']), biases['b2'])\n",
    "    layer_2 = tf.nn.relu(layer_2)\n",
    "    out_layer = tf.matmul(layer_2, weights['out']) + biases['out']\n",
    "    \n",
    "    # Loss and Optimizer\n",
    "    loss = tf.nn.softmax_cross_entropy_with_logits(logits=out_layer, labels = tf.stop_gradient(tf_y))\n",
    "    cost = tf.reduce_mean(input_tensor=loss, name='cost')\n",
    "    optimizer = tf.compat.v1.train.GradientDescentOptimizer(learning_rate = learning_rate)\n",
    "    train = optimizer.minimize(cost, name='train')\n",
    "    \n",
    "    # Predictions \n",
    "    correct_prediction = tf.equal(tf.argmax(input=tf_y, axis=1), tf.argmax(input=out_layer, axis=1))\n",
    "    accuracy = tf.reduce_mean(input_tensor=tf.cast(correct_prediction, tf.float32), name='accuracy')\n",
    "    "
   ]
  },
  {
   "cell_type": "code",
   "execution_count": 16,
   "metadata": {
    "ExecuteTime": {
     "end_time": "2020-12-24T20:22:37.088405Z",
     "start_time": "2020-12-24T20:22:25.649926Z"
    }
   },
   "outputs": [
    {
     "name": "stdout",
     "output_type": "stream",
     "text": [
      "Epoch: 001 | AvgCost: 0.348 | Acurácia em Treino/Validação: 0.935/0.936\n",
      "Epoch: 002 | AvgCost: 0.164 | Acurácia em Treino/Validação: 0.962/0.962\n",
      "Epoch: 003 | AvgCost: 0.119 | Acurácia em Treino/Validação: 0.972/0.967\n",
      "Epoch: 004 | AvgCost: 0.092 | Acurácia em Treino/Validação: 0.979/0.971\n",
      "Epoch: 005 | AvgCost: 0.075 | Acurácia em Treino/Validação: 0.975/0.970\n",
      "Epoch: 006 | AvgCost: 0.063 | Acurácia em Treino/Validação: 0.987/0.976\n",
      "Epoch: 007 | AvgCost: 0.052 | Acurácia em Treino/Validação: 0.988/0.976\n",
      "Epoch: 008 | AvgCost: 0.045 | Acurácia em Treino/Validação: 0.991/0.978\n",
      "Epoch: 009 | AvgCost: 0.037 | Acurácia em Treino/Validação: 0.992/0.978\n",
      "Epoch: 010 | AvgCost: 0.032 | Acurácia em Treino/Validação: 0.992/0.978\n",
      "Acuracia em teste: 0.975\n"
     ]
    }
   ],
   "source": [
    "# Tranning Model\n",
    "\n",
    "with tf.compat.v1.Session(graph=g) as sess:\n",
    "    \n",
    "    sess.run(tf.compat.v1.global_variables_initializer())\n",
    "    \n",
    "    for epoch in range(training_epochs):\n",
    "        avg_cost = 0. \n",
    "        total_batch = mnist.train.num_examples // batch_size\n",
    "        \n",
    "        for i in range(total_batch):\n",
    "            batch_x, batch_y = mnist.train.next_batch(batch_size)\n",
    "            _, c = sess.run(['train', 'cost:0'], feed_dict={\n",
    "                'features:0': batch_x,\n",
    "                'targets:0': batch_y\n",
    "            })\n",
    "            avg_cost += c \n",
    "            \n",
    "        train_acc = sess.run('accuracy:0', feed_dict={\n",
    "                'features:0': mnist.train.images,\n",
    "                'targets:0': mnist.train.labels\n",
    "        })\n",
    "        \n",
    "        valid_acc = sess.run('accuracy:0', feed_dict={\n",
    "            'features:0': mnist.validation.images,\n",
    "            'targets:0': mnist.validation.labels\n",
    "        })\n",
    "        print(\"Epoch: %03d | AvgCost: %.3f\" % (epoch + 1, avg_cost / (i + 1)), end=\"\")\n",
    "        print(\" | Acurácia em Treino/Validação: %.3f/%.3f\" % (train_acc, valid_acc))\n",
    "\n",
    "    test_acc = sess.run(accuracy, feed_dict={\n",
    "        'features:0': mnist.test.images,\n",
    "        'targets:0': mnist.test.labels\n",
    "    })\n",
    "    \n",
    "    print('Acuracia em teste: %.3f' % test_acc)"
   ]
  },
  {
   "cell_type": "code",
   "execution_count": null,
   "metadata": {},
   "outputs": [],
   "source": []
  }
 ],
 "metadata": {
  "kernelspec": {
   "display_name": "Python 3",
   "language": "python",
   "name": "python3"
  },
  "language_info": {
   "codemirror_mode": {
    "name": "ipython",
    "version": 3
   },
   "file_extension": ".py",
   "mimetype": "text/x-python",
   "name": "python",
   "nbconvert_exporter": "python",
   "pygments_lexer": "ipython3",
   "version": "3.7.6"
  },
  "toc": {
   "base_numbering": 1,
   "nav_menu": {},
   "number_sections": true,
   "sideBar": true,
   "skip_h1_title": false,
   "title_cell": "Table of Contents",
   "title_sidebar": "Contents",
   "toc_cell": false,
   "toc_position": {},
   "toc_section_display": true,
   "toc_window_display": false
  },
  "varInspector": {
   "cols": {
    "lenName": 16,
    "lenType": 16,
    "lenVar": 40
   },
   "kernels_config": {
    "python": {
     "delete_cmd_postfix": "",
     "delete_cmd_prefix": "del ",
     "library": "var_list.py",
     "varRefreshCmd": "print(var_dic_list())"
    },
    "r": {
     "delete_cmd_postfix": ") ",
     "delete_cmd_prefix": "rm(",
     "library": "var_list.r",
     "varRefreshCmd": "cat(var_dic_list()) "
    }
   },
   "types_to_exclude": [
    "module",
    "function",
    "builtin_function_or_method",
    "instance",
    "_Feature"
   ],
   "window_display": false
  }
 },
 "nbformat": 4,
 "nbformat_minor": 4
}
