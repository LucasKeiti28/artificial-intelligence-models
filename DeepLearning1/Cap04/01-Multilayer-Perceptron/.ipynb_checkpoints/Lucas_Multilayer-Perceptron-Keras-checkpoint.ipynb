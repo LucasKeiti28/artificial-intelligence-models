{
 "cells": [
  {
   "cell_type": "code",
   "execution_count": 1,
   "metadata": {
    "ExecuteTime": {
     "end_time": "2020-12-21T10:42:23.767771Z",
     "start_time": "2020-12-21T10:42:23.765400Z"
    }
   },
   "outputs": [],
   "source": [
    "from keras.models import Sequential \n",
    "from keras.layers import Dense \n",
    "from sklearn.model_selection import train_test_split \n",
    "import numpy"
   ]
  },
  {
   "cell_type": "code",
   "execution_count": 2,
   "metadata": {
    "ExecuteTime": {
     "end_time": "2020-12-21T10:44:18.978024Z",
     "start_time": "2020-12-21T10:44:18.975612Z"
    }
   },
   "outputs": [],
   "source": [
    "# Random Seed \n",
    "seed = 7 \n",
    "numpy.random.seed(seed)"
   ]
  },
  {
   "cell_type": "code",
   "execution_count": 4,
   "metadata": {
    "ExecuteTime": {
     "end_time": "2020-12-21T10:46:31.798611Z",
     "start_time": "2020-12-21T10:46:31.769559Z"
    }
   },
   "outputs": [],
   "source": [
    "# Carregando o dataset \n",
    "dataset = numpy.loadtxt('./data.csv', delimiter=',')"
   ]
  },
  {
   "cell_type": "code",
   "execution_count": 6,
   "metadata": {
    "ExecuteTime": {
     "end_time": "2020-12-21T10:46:41.488331Z",
     "start_time": "2020-12-21T10:46:41.473284Z"
    }
   },
   "outputs": [
    {
     "data": {
      "text/plain": [
       "array([[  6.   , 148.   ,  72.   , ...,   0.627,  50.   ,   1.   ],\n",
       "       [  1.   ,  85.   ,  66.   , ...,   0.351,  31.   ,   0.   ],\n",
       "       [  8.   , 183.   ,  64.   , ...,   0.672,  32.   ,   1.   ],\n",
       "       ...,\n",
       "       [  5.   , 121.   ,  72.   , ...,   0.245,  30.   ,   0.   ],\n",
       "       [  1.   , 126.   ,  60.   , ...,   0.349,  47.   ,   1.   ],\n",
       "       [  1.   ,  93.   ,  70.   , ...,   0.315,  23.   ,   0.   ]])"
      ]
     },
     "execution_count": 6,
     "metadata": {},
     "output_type": "execute_result"
    }
   ],
   "source": [
    "dataset"
   ]
  },
  {
   "cell_type": "code",
   "execution_count": 7,
   "metadata": {
    "ExecuteTime": {
     "end_time": "2020-12-21T10:46:53.665631Z",
     "start_time": "2020-12-21T10:46:53.662512Z"
    }
   },
   "outputs": [
    {
     "data": {
      "text/plain": [
       "(768, 9)"
      ]
     },
     "execution_count": 7,
     "metadata": {},
     "output_type": "execute_result"
    }
   ],
   "source": [
    "dataset.shape"
   ]
  },
  {
   "cell_type": "code",
   "execution_count": 8,
   "metadata": {
    "ExecuteTime": {
     "end_time": "2020-12-21T10:48:21.945663Z",
     "start_time": "2020-12-21T10:48:21.942022Z"
    }
   },
   "outputs": [],
   "source": [
    "# Split between X and y\n",
    "X = dataset[:,0:8]\n",
    "y = dataset[:,8]"
   ]
  },
  {
   "cell_type": "code",
   "execution_count": 9,
   "metadata": {
    "ExecuteTime": {
     "end_time": "2020-12-21T10:49:18.497717Z",
     "start_time": "2020-12-21T10:49:18.478132Z"
    }
   },
   "outputs": [],
   "source": [
    "# Split between train and test data\n",
    "X_train, X_test, y_train, y_test = train_test_split(X, y, test_size=0.33, random_state = seed)"
   ]
  },
  {
   "cell_type": "code",
   "execution_count": 11,
   "metadata": {
    "ExecuteTime": {
     "end_time": "2020-12-21T10:49:46.158567Z",
     "start_time": "2020-12-21T10:49:46.155291Z"
    }
   },
   "outputs": [
    {
     "name": "stdout",
     "output_type": "stream",
     "text": [
      "(514, 8)\n",
      "(514,)\n"
     ]
    }
   ],
   "source": [
    "print(X_train.shape)\n",
    "print(y_train.shape)"
   ]
  },
  {
   "cell_type": "code",
   "execution_count": 14,
   "metadata": {
    "ExecuteTime": {
     "end_time": "2020-12-21T10:53:53.098400Z",
     "start_time": "2020-12-21T10:53:53.058362Z"
    }
   },
   "outputs": [],
   "source": [
    "# Create Model\n",
    "model = Sequential()\n",
    "model.add(Dense(12, input_dim=8, kernel_initializer='uniform', activation='relu'))\n",
    "model.add(Dense(8, kernel_initializer='uniform', activation='relu'))\n",
    "model.add(Dense(1, kernel_initializer='uniform', activation='sigmoid'))"
   ]
  },
  {
   "cell_type": "code",
   "execution_count": 15,
   "metadata": {
    "ExecuteTime": {
     "end_time": "2020-12-21T10:53:59.607047Z",
     "start_time": "2020-12-21T10:53:59.600786Z"
    }
   },
   "outputs": [
    {
     "name": "stdout",
     "output_type": "stream",
     "text": [
      "Model: \"sequential_2\"\n",
      "_________________________________________________________________\n",
      "Layer (type)                 Output Shape              Param #   \n",
      "=================================================================\n",
      "dense (Dense)                (None, 12)                108       \n",
      "_________________________________________________________________\n",
      "dense_1 (Dense)              (None, 8)                 104       \n",
      "_________________________________________________________________\n",
      "dense_2 (Dense)              (None, 1)                 9         \n",
      "=================================================================\n",
      "Total params: 221\n",
      "Trainable params: 221\n",
      "Non-trainable params: 0\n",
      "_________________________________________________________________\n"
     ]
    }
   ],
   "source": [
    "model.summary()"
   ]
  },
  {
   "cell_type": "code",
   "execution_count": 16,
   "metadata": {
    "ExecuteTime": {
     "end_time": "2020-12-21T10:57:13.043403Z",
     "start_time": "2020-12-21T10:57:13.033085Z"
    }
   },
   "outputs": [],
   "source": [
    "# Compilando o modelo\n",
    "model.compile(loss='binary_crossentropy', optimizer='adam', metrics=['accuracy'])"
   ]
  },
  {
   "cell_type": "code",
   "execution_count": 17,
   "metadata": {
    "ExecuteTime": {
     "end_time": "2020-12-21T10:57:57.123767Z",
     "start_time": "2020-12-21T10:57:52.261675Z"
    }
   },
   "outputs": [
    {
     "name": "stdout",
     "output_type": "stream",
     "text": [
      "Epoch 1/150\n",
      "52/52 [==============================] - 0s 467us/step - loss: 0.6852 - accuracy: 0.6187\n",
      "Epoch 2/150\n",
      "52/52 [==============================] - 0s 512us/step - loss: 0.6679 - accuracy: 0.6576\n",
      "Epoch 3/150\n",
      "52/52 [==============================] - 0s 507us/step - loss: 0.6596 - accuracy: 0.6576\n",
      "Epoch 4/150\n",
      "52/52 [==============================] - 0s 481us/step - loss: 0.6536 - accuracy: 0.6595\n",
      "Epoch 5/150\n",
      "52/52 [==============================] - 0s 528us/step - loss: 0.6492 - accuracy: 0.6595\n",
      "Epoch 6/150\n",
      "52/52 [==============================] - 0s 538us/step - loss: 0.6492 - accuracy: 0.6479\n",
      "Epoch 7/150\n",
      "52/52 [==============================] - 0s 451us/step - loss: 0.6350 - accuracy: 0.6537\n",
      "Epoch 8/150\n",
      "52/52 [==============================] - 0s 574us/step - loss: 0.6315 - accuracy: 0.6732\n",
      "Epoch 9/150\n",
      "52/52 [==============================] - 0s 466us/step - loss: 0.6190 - accuracy: 0.6790\n",
      "Epoch 10/150\n",
      "52/52 [==============================] - 0s 468us/step - loss: 0.6132 - accuracy: 0.6790\n",
      "Epoch 11/150\n",
      "52/52 [==============================] - 0s 527us/step - loss: 0.6081 - accuracy: 0.6790\n",
      "Epoch 12/150\n",
      "52/52 [==============================] - 0s 542us/step - loss: 0.5989 - accuracy: 0.6848\n",
      "Epoch 13/150\n",
      "52/52 [==============================] - 0s 482us/step - loss: 0.6001 - accuracy: 0.6732\n",
      "Epoch 14/150\n",
      "52/52 [==============================] - 0s 496us/step - loss: 0.5953 - accuracy: 0.6887\n",
      "Epoch 15/150\n",
      "52/52 [==============================] - 0s 556us/step - loss: 0.5879 - accuracy: 0.7062\n",
      "Epoch 16/150\n",
      "52/52 [==============================] - 0s 575us/step - loss: 0.5838 - accuracy: 0.6965\n",
      "Epoch 17/150\n",
      "52/52 [==============================] - 0s 522us/step - loss: 0.5857 - accuracy: 0.6848\n",
      "Epoch 18/150\n",
      "52/52 [==============================] - 0s 519us/step - loss: 0.5789 - accuracy: 0.7140\n",
      "Epoch 19/150\n",
      "52/52 [==============================] - 0s 517us/step - loss: 0.5845 - accuracy: 0.6946\n",
      "Epoch 20/150\n",
      "52/52 [==============================] - 0s 533us/step - loss: 0.5755 - accuracy: 0.7082\n",
      "Epoch 21/150\n",
      "52/52 [==============================] - 0s 556us/step - loss: 0.5825 - accuracy: 0.6907\n",
      "Epoch 22/150\n",
      "52/52 [==============================] - 0s 539us/step - loss: 0.5768 - accuracy: 0.7082\n",
      "Epoch 23/150\n",
      "52/52 [==============================] - 0s 734us/step - loss: 0.5721 - accuracy: 0.7160\n",
      "Epoch 24/150\n",
      "52/52 [==============================] - 0s 661us/step - loss: 0.5694 - accuracy: 0.7121\n",
      "Epoch 25/150\n",
      "52/52 [==============================] - 0s 497us/step - loss: 0.5706 - accuracy: 0.7160\n",
      "Epoch 26/150\n",
      "52/52 [==============================] - 0s 512us/step - loss: 0.5661 - accuracy: 0.7218\n",
      "Epoch 27/150\n",
      "52/52 [==============================] - 0s 522us/step - loss: 0.5679 - accuracy: 0.7160\n",
      "Epoch 28/150\n",
      "52/52 [==============================] - 0s 567us/step - loss: 0.5640 - accuracy: 0.7237\n",
      "Epoch 29/150\n",
      "52/52 [==============================] - 0s 554us/step - loss: 0.5632 - accuracy: 0.7412\n",
      "Epoch 30/150\n",
      "52/52 [==============================] - 0s 495us/step - loss: 0.5620 - accuracy: 0.7237\n",
      "Epoch 31/150\n",
      "52/52 [==============================] - 0s 587us/step - loss: 0.5586 - accuracy: 0.7179\n",
      "Epoch 32/150\n",
      "52/52 [==============================] - 0s 545us/step - loss: 0.5569 - accuracy: 0.7179\n",
      "Epoch 33/150\n",
      "52/52 [==============================] - 0s 617us/step - loss: 0.5577 - accuracy: 0.7198\n",
      "Epoch 34/150\n",
      "52/52 [==============================] - 0s 547us/step - loss: 0.5529 - accuracy: 0.7374\n",
      "Epoch 35/150\n",
      "52/52 [==============================] - 0s 584us/step - loss: 0.5505 - accuracy: 0.7296\n",
      "Epoch 36/150\n",
      "52/52 [==============================] - 0s 558us/step - loss: 0.5585 - accuracy: 0.7121\n",
      "Epoch 37/150\n",
      "52/52 [==============================] - 0s 532us/step - loss: 0.5531 - accuracy: 0.7237\n",
      "Epoch 38/150\n",
      "52/52 [==============================] - 0s 596us/step - loss: 0.5537 - accuracy: 0.7179\n",
      "Epoch 39/150\n",
      "52/52 [==============================] - 0s 685us/step - loss: 0.5463 - accuracy: 0.7335\n",
      "Epoch 40/150\n",
      "52/52 [==============================] - ETA: 0s - loss: 0.7218 - accuracy: 0.50 - 0s 628us/step - loss: 0.5453 - accuracy: 0.7257\n",
      "Epoch 41/150\n",
      "52/52 [==============================] - 0s 510us/step - loss: 0.5435 - accuracy: 0.7257\n",
      "Epoch 42/150\n",
      "52/52 [==============================] - 0s 577us/step - loss: 0.5376 - accuracy: 0.7354\n",
      "Epoch 43/150\n",
      "52/52 [==============================] - 0s 477us/step - loss: 0.5391 - accuracy: 0.7296\n",
      "Epoch 44/150\n",
      "52/52 [==============================] - 0s 568us/step - loss: 0.5370 - accuracy: 0.7276\n",
      "Epoch 45/150\n",
      "52/52 [==============================] - 0s 493us/step - loss: 0.5347 - accuracy: 0.7296\n",
      "Epoch 46/150\n",
      "52/52 [==============================] - 0s 542us/step - loss: 0.5354 - accuracy: 0.7296\n",
      "Epoch 47/150\n",
      "52/52 [==============================] - 0s 569us/step - loss: 0.5327 - accuracy: 0.7296\n",
      "Epoch 48/150\n",
      "52/52 [==============================] - 0s 589us/step - loss: 0.5316 - accuracy: 0.7315\n",
      "Epoch 49/150\n",
      "52/52 [==============================] - 0s 543us/step - loss: 0.5360 - accuracy: 0.7335\n",
      "Epoch 50/150\n",
      "52/52 [==============================] - 0s 568us/step - loss: 0.5288 - accuracy: 0.7374\n",
      "Epoch 51/150\n",
      "52/52 [==============================] - 0s 537us/step - loss: 0.5313 - accuracy: 0.7335\n",
      "Epoch 52/150\n",
      "52/52 [==============================] - 0s 565us/step - loss: 0.5271 - accuracy: 0.7354\n",
      "Epoch 53/150\n",
      "52/52 [==============================] - 0s 554us/step - loss: 0.5262 - accuracy: 0.7451\n",
      "Epoch 54/150\n",
      "52/52 [==============================] - 0s 548us/step - loss: 0.5203 - accuracy: 0.7490\n",
      "Epoch 55/150\n",
      "52/52 [==============================] - 0s 512us/step - loss: 0.5296 - accuracy: 0.7179\n",
      "Epoch 56/150\n",
      "52/52 [==============================] - 0s 496us/step - loss: 0.5318 - accuracy: 0.7374\n",
      "Epoch 57/150\n",
      "52/52 [==============================] - 0s 494us/step - loss: 0.5192 - accuracy: 0.7490\n",
      "Epoch 58/150\n",
      "52/52 [==============================] - 0s 586us/step - loss: 0.5211 - accuracy: 0.7432\n",
      "Epoch 59/150\n",
      "52/52 [==============================] - 0s 520us/step - loss: 0.5170 - accuracy: 0.7451\n",
      "Epoch 60/150\n",
      "52/52 [==============================] - 0s 562us/step - loss: 0.5176 - accuracy: 0.7510\n",
      "Epoch 61/150\n",
      "52/52 [==============================] - 0s 576us/step - loss: 0.5219 - accuracy: 0.7432\n",
      "Epoch 62/150\n",
      "52/52 [==============================] - 0s 541us/step - loss: 0.5195 - accuracy: 0.7335\n",
      "Epoch 63/150\n",
      "52/52 [==============================] - 0s 507us/step - loss: 0.5202 - accuracy: 0.7529\n",
      "Epoch 64/150\n",
      "52/52 [==============================] - 0s 545us/step - loss: 0.5158 - accuracy: 0.7490\n",
      "Epoch 65/150\n",
      "52/52 [==============================] - 0s 512us/step - loss: 0.5136 - accuracy: 0.7451\n",
      "Epoch 66/150\n",
      "52/52 [==============================] - 0s 555us/step - loss: 0.5188 - accuracy: 0.7374\n",
      "Epoch 67/150\n",
      "52/52 [==============================] - 0s 523us/step - loss: 0.5188 - accuracy: 0.7315\n",
      "Epoch 68/150\n",
      "52/52 [==============================] - 0s 462us/step - loss: 0.5077 - accuracy: 0.7490\n",
      "Epoch 69/150\n",
      "52/52 [==============================] - 0s 553us/step - loss: 0.5118 - accuracy: 0.7529\n",
      "Epoch 70/150\n",
      "52/52 [==============================] - 0s 503us/step - loss: 0.5062 - accuracy: 0.7549\n",
      "Epoch 71/150\n",
      "52/52 [==============================] - 0s 674us/step - loss: 0.5068 - accuracy: 0.7374\n",
      "Epoch 72/150\n",
      "52/52 [==============================] - 0s 554us/step - loss: 0.5128 - accuracy: 0.7432\n",
      "Epoch 73/150\n",
      "52/52 [==============================] - 0s 579us/step - loss: 0.5064 - accuracy: 0.7296\n",
      "Epoch 74/150\n",
      "52/52 [==============================] - 0s 528us/step - loss: 0.5078 - accuracy: 0.7451\n",
      "Epoch 75/150\n",
      "52/52 [==============================] - 0s 539us/step - loss: 0.5144 - accuracy: 0.7451\n",
      "Epoch 76/150\n",
      "52/52 [==============================] - 0s 489us/step - loss: 0.5059 - accuracy: 0.7374\n",
      "Epoch 77/150\n",
      "52/52 [==============================] - 0s 532us/step - loss: 0.5048 - accuracy: 0.7412\n",
      "Epoch 78/150\n",
      "52/52 [==============================] - 0s 537us/step - loss: 0.5033 - accuracy: 0.7510\n",
      "Epoch 79/150\n",
      "52/52 [==============================] - 0s 571us/step - loss: 0.5073 - accuracy: 0.7451\n",
      "Epoch 80/150\n",
      "52/52 [==============================] - 0s 534us/step - loss: 0.5072 - accuracy: 0.7451\n"
     ]
    },
    {
     "name": "stdout",
     "output_type": "stream",
     "text": [
      "Epoch 81/150\n",
      "52/52 [==============================] - 0s 563us/step - loss: 0.5012 - accuracy: 0.7724\n",
      "Epoch 82/150\n",
      "52/52 [==============================] - 0s 575us/step - loss: 0.5100 - accuracy: 0.7393\n",
      "Epoch 83/150\n",
      "52/52 [==============================] - 0s 497us/step - loss: 0.4979 - accuracy: 0.7510\n",
      "Epoch 84/150\n",
      "52/52 [==============================] - 0s 523us/step - loss: 0.5098 - accuracy: 0.7276\n",
      "Epoch 85/150\n",
      "52/52 [==============================] - 0s 540us/step - loss: 0.4968 - accuracy: 0.7451\n",
      "Epoch 86/150\n",
      "52/52 [==============================] - 0s 510us/step - loss: 0.4924 - accuracy: 0.7393\n",
      "Epoch 87/150\n",
      "52/52 [==============================] - 0s 545us/step - loss: 0.4988 - accuracy: 0.7529\n",
      "Epoch 88/150\n",
      "52/52 [==============================] - 0s 510us/step - loss: 0.5025 - accuracy: 0.7393\n",
      "Epoch 89/150\n",
      "52/52 [==============================] - 0s 541us/step - loss: 0.4931 - accuracy: 0.7412\n",
      "Epoch 90/150\n",
      "52/52 [==============================] - 0s 548us/step - loss: 0.5044 - accuracy: 0.7568\n",
      "Epoch 91/150\n",
      "52/52 [==============================] - 0s 511us/step - loss: 0.4991 - accuracy: 0.7451\n",
      "Epoch 92/150\n",
      "52/52 [==============================] - 0s 522us/step - loss: 0.4954 - accuracy: 0.7432\n",
      "Epoch 93/150\n",
      "52/52 [==============================] - 0s 557us/step - loss: 0.4915 - accuracy: 0.7412\n",
      "Epoch 94/150\n",
      "52/52 [==============================] - 0s 500us/step - loss: 0.4944 - accuracy: 0.7374\n",
      "Epoch 95/150\n",
      "52/52 [==============================] - 0s 546us/step - loss: 0.4957 - accuracy: 0.7490\n",
      "Epoch 96/150\n",
      "52/52 [==============================] - 0s 556us/step - loss: 0.4888 - accuracy: 0.7607\n",
      "Epoch 97/150\n",
      "52/52 [==============================] - 0s 516us/step - loss: 0.4932 - accuracy: 0.7568\n",
      "Epoch 98/150\n",
      "52/52 [==============================] - 0s 518us/step - loss: 0.5027 - accuracy: 0.7393\n",
      "Epoch 99/150\n",
      "52/52 [==============================] - 0s 529us/step - loss: 0.4884 - accuracy: 0.7588\n",
      "Epoch 100/150\n",
      "52/52 [==============================] - 0s 528us/step - loss: 0.4895 - accuracy: 0.7607\n",
      "Epoch 101/150\n",
      "52/52 [==============================] - 0s 474us/step - loss: 0.4869 - accuracy: 0.7510\n",
      "Epoch 102/150\n",
      "52/52 [==============================] - 0s 510us/step - loss: 0.4917 - accuracy: 0.7646\n",
      "Epoch 103/150\n",
      "52/52 [==============================] - 0s 509us/step - loss: 0.4987 - accuracy: 0.7704\n",
      "Epoch 104/150\n",
      "52/52 [==============================] - 0s 507us/step - loss: 0.4878 - accuracy: 0.7607\n",
      "Epoch 105/150\n",
      "52/52 [==============================] - 0s 490us/step - loss: 0.4880 - accuracy: 0.7510\n",
      "Epoch 106/150\n",
      "52/52 [==============================] - 0s 496us/step - loss: 0.4830 - accuracy: 0.7646\n",
      "Epoch 107/150\n",
      "52/52 [==============================] - 0s 515us/step - loss: 0.4848 - accuracy: 0.7607\n",
      "Epoch 108/150\n",
      "52/52 [==============================] - 0s 710us/step - loss: 0.4813 - accuracy: 0.7607\n",
      "Epoch 109/150\n",
      "52/52 [==============================] - 0s 489us/step - loss: 0.4852 - accuracy: 0.7510\n",
      "Epoch 110/150\n",
      "52/52 [==============================] - 0s 497us/step - loss: 0.4835 - accuracy: 0.7588\n",
      "Epoch 111/150\n",
      "52/52 [==============================] - 0s 479us/step - loss: 0.4805 - accuracy: 0.7510\n",
      "Epoch 112/150\n",
      "52/52 [==============================] - 0s 532us/step - loss: 0.4821 - accuracy: 0.7549\n",
      "Epoch 113/150\n",
      "52/52 [==============================] - 0s 455us/step - loss: 0.4750 - accuracy: 0.7510\n",
      "Epoch 114/150\n",
      "52/52 [==============================] - 0s 508us/step - loss: 0.4803 - accuracy: 0.7529\n",
      "Epoch 115/150\n",
      "52/52 [==============================] - 0s 537us/step - loss: 0.4850 - accuracy: 0.7490\n",
      "Epoch 116/150\n",
      "52/52 [==============================] - 0s 488us/step - loss: 0.4824 - accuracy: 0.7626\n",
      "Epoch 117/150\n",
      "52/52 [==============================] - 0s 476us/step - loss: 0.4693 - accuracy: 0.7626\n",
      "Epoch 118/150\n",
      "52/52 [==============================] - 0s 489us/step - loss: 0.4712 - accuracy: 0.7685\n",
      "Epoch 119/150\n",
      "52/52 [==============================] - 0s 505us/step - loss: 0.4901 - accuracy: 0.7626\n",
      "Epoch 120/150\n",
      "52/52 [==============================] - 0s 478us/step - loss: 0.4735 - accuracy: 0.7743\n",
      "Epoch 121/150\n",
      "52/52 [==============================] - 0s 513us/step - loss: 0.4705 - accuracy: 0.7626\n",
      "Epoch 122/150\n",
      "52/52 [==============================] - 0s 510us/step - loss: 0.4682 - accuracy: 0.7607\n",
      "Epoch 123/150\n",
      "52/52 [==============================] - 0s 483us/step - loss: 0.4770 - accuracy: 0.7646\n",
      "Epoch 124/150\n",
      "52/52 [==============================] - 0s 543us/step - loss: 0.4679 - accuracy: 0.7782\n",
      "Epoch 125/150\n",
      "52/52 [==============================] - 0s 492us/step - loss: 0.4713 - accuracy: 0.7665\n",
      "Epoch 126/150\n",
      "52/52 [==============================] - 0s 470us/step - loss: 0.4795 - accuracy: 0.7685\n",
      "Epoch 127/150\n",
      "52/52 [==============================] - 0s 534us/step - loss: 0.4692 - accuracy: 0.7646\n",
      "Epoch 128/150\n",
      "52/52 [==============================] - 0s 528us/step - loss: 0.4700 - accuracy: 0.7588\n",
      "Epoch 129/150\n",
      "52/52 [==============================] - 0s 489us/step - loss: 0.4664 - accuracy: 0.7685\n",
      "Epoch 130/150\n",
      "52/52 [==============================] - 0s 508us/step - loss: 0.4704 - accuracy: 0.7704\n",
      "Epoch 131/150\n",
      "52/52 [==============================] - 0s 540us/step - loss: 0.4745 - accuracy: 0.7529\n",
      "Epoch 132/150\n",
      "52/52 [==============================] - 0s 492us/step - loss: 0.4632 - accuracy: 0.7626\n",
      "Epoch 133/150\n",
      "52/52 [==============================] - 0s 458us/step - loss: 0.4675 - accuracy: 0.7665\n",
      "Epoch 134/150\n",
      "52/52 [==============================] - 0s 545us/step - loss: 0.4691 - accuracy: 0.7588\n",
      "Epoch 135/150\n",
      "52/52 [==============================] - 0s 510us/step - loss: 0.4681 - accuracy: 0.7704\n",
      "Epoch 136/150\n",
      "52/52 [==============================] - 0s 531us/step - loss: 0.4665 - accuracy: 0.7724\n",
      "Epoch 137/150\n",
      "52/52 [==============================] - 0s 519us/step - loss: 0.4591 - accuracy: 0.7782\n",
      "Epoch 138/150\n",
      "52/52 [==============================] - 0s 542us/step - loss: 0.4619 - accuracy: 0.7724\n",
      "Epoch 139/150\n",
      "52/52 [==============================] - 0s 500us/step - loss: 0.4572 - accuracy: 0.7685\n",
      "Epoch 140/150\n",
      "52/52 [==============================] - 0s 544us/step - loss: 0.4625 - accuracy: 0.7665\n",
      "Epoch 141/150\n",
      "52/52 [==============================] - 0s 516us/step - loss: 0.4596 - accuracy: 0.7743\n",
      "Epoch 142/150\n",
      "52/52 [==============================] - 0s 551us/step - loss: 0.4564 - accuracy: 0.7743\n",
      "Epoch 143/150\n",
      "52/52 [==============================] - 0s 506us/step - loss: 0.4659 - accuracy: 0.7665\n",
      "Epoch 144/150\n",
      "52/52 [==============================] - 0s 554us/step - loss: 0.4601 - accuracy: 0.7782\n",
      "Epoch 145/150\n",
      "52/52 [==============================] - 0s 535us/step - loss: 0.4703 - accuracy: 0.7529\n",
      "Epoch 146/150\n",
      "52/52 [==============================] - 0s 543us/step - loss: 0.4672 - accuracy: 0.7724\n",
      "Epoch 147/150\n",
      "52/52 [==============================] - 0s 539us/step - loss: 0.4675 - accuracy: 0.7743\n",
      "Epoch 148/150\n",
      "52/52 [==============================] - 0s 505us/step - loss: 0.4602 - accuracy: 0.7704\n",
      "Epoch 149/150\n",
      "52/52 [==============================] - 0s 511us/step - loss: 0.4534 - accuracy: 0.7879\n",
      "Epoch 150/150\n",
      "52/52 [==============================] - 0s 502us/step - loss: 0.4538 - accuracy: 0.7743\n"
     ]
    },
    {
     "data": {
      "text/plain": [
       "<tensorflow.python.keras.callbacks.History at 0x7f731c2d5cd0>"
      ]
     },
     "execution_count": 17,
     "metadata": {},
     "output_type": "execute_result"
    }
   ],
   "source": [
    "# Treinando o modelo\n",
    "model.fit(X_train, y_train, epochs=150, batch_size=10)"
   ]
  },
  {
   "cell_type": "code",
   "execution_count": 20,
   "metadata": {
    "ExecuteTime": {
     "end_time": "2020-12-21T11:00:25.684602Z",
     "start_time": "2020-12-21T11:00:25.642183Z"
    }
   },
   "outputs": [
    {
     "name": "stdout",
     "output_type": "stream",
     "text": [
      "8/8 [==============================] - 0s 675us/step - loss: 0.5273 - accuracy: 0.7402\n",
      "\n",
      "Loss: 0.53, Acuracia: 74.02%\n"
     ]
    }
   ],
   "source": [
    "# Avaliando o modelo com dados de teste \n",
    "loss, accuracy = model.evaluate(X_test, y_test)\n",
    "print('\\nLoss: %.2f, Acuracia: %.2f%%' % (loss, accuracy*100))"
   ]
  },
  {
   "cell_type": "code",
   "execution_count": 19,
   "metadata": {
    "ExecuteTime": {
     "end_time": "2020-12-21T11:00:13.090761Z",
     "start_time": "2020-12-21T11:00:13.000861Z"
    }
   },
   "outputs": [],
   "source": [
    "predictions = model.predict(X)"
   ]
  },
  {
   "cell_type": "code",
   "execution_count": 21,
   "metadata": {
    "ExecuteTime": {
     "end_time": "2020-12-21T11:01:26.565206Z",
     "start_time": "2020-12-21T11:01:26.560273Z"
    }
   },
   "outputs": [
    {
     "name": "stdout",
     "output_type": "stream",
     "text": [
      "[1.0, 0.0, 1.0, 0.0, 1.0, 0.0, 0.0, 1.0, 1.0, 0.0, 0.0, 1.0, 0.0, 1.0, 1.0, 0.0, 0.0, 0.0, 0.0, 0.0, 0.0, 0.0, 1.0, 0.0, 1.0, 1.0, 1.0, 0.0, 0.0, 0.0, 0.0, 1.0, 0.0, 0.0, 1.0, 0.0, 1.0, 1.0, 0.0, 0.0, 1.0, 1.0, 0.0, 1.0, 1.0, 1.0, 1.0, 0.0, 0.0, 0.0, 0.0, 0.0, 0.0, 1.0, 1.0, 0.0, 1.0, 1.0, 1.0, 0.0, 0.0, 1.0, 0.0, 0.0, 0.0, 0.0, 0.0, 0.0, 0.0, 0.0, 0.0, 0.0, 1.0, 0.0, 0.0, 0.0, 0.0, 0.0, 1.0, 0.0, 0.0, 0.0, 0.0, 0.0, 0.0, 0.0, 1.0, 0.0, 1.0, 0.0, 0.0, 0.0, 0.0, 0.0, 0.0, 1.0, 0.0, 0.0, 0.0, 0.0, 1.0, 1.0, 0.0, 0.0, 0.0, 0.0, 0.0, 1.0, 0.0, 0.0, 0.0, 1.0, 0.0, 0.0, 1.0, 1.0, 0.0, 0.0, 0.0, 0.0, 1.0, 0.0, 0.0, 0.0, 0.0, 0.0, 0.0, 0.0, 0.0, 0.0, 1.0, 1.0, 1.0, 0.0, 0.0, 0.0, 0.0, 0.0, 0.0, 0.0, 0.0, 0.0, 0.0, 0.0, 0.0, 0.0, 0.0, 0.0, 0.0, 0.0, 0.0, 0.0, 1.0, 0.0, 1.0, 1.0, 0.0, 0.0, 0.0, 1.0, 0.0, 0.0, 0.0, 0.0, 0.0, 0.0, 1.0, 0.0, 0.0, 0.0, 0.0, 0.0, 0.0, 0.0, 0.0, 1.0, 0.0, 0.0, 1.0, 1.0, 0.0, 0.0, 0.0, 0.0, 0.0, 1.0, 1.0, 0.0, 1.0, 0.0, 0.0, 1.0, 1.0, 1.0, 0.0, 0.0, 0.0, 0.0, 0.0, 0.0, 0.0, 0.0, 0.0, 0.0, 1.0, 0.0, 1.0, 1.0, 0.0, 1.0, 0.0, 0.0, 1.0, 0.0, 0.0, 1.0, 0.0, 0.0, 0.0, 0.0, 1.0, 1.0, 0.0, 1.0, 0.0, 0.0, 0.0, 1.0, 1.0, 0.0, 1.0, 1.0, 0.0, 0.0, 0.0, 1.0, 1.0, 1.0, 1.0, 0.0, 0.0, 0.0, 1.0, 1.0, 0.0, 1.0, 1.0, 0.0, 1.0, 0.0, 0.0, 0.0, 0.0, 0.0, 1.0, 0.0, 0.0, 0.0, 1.0, 1.0, 1.0, 1.0, 0.0, 0.0, 0.0, 0.0, 1.0, 1.0, 0.0, 1.0, 0.0, 0.0, 0.0, 0.0, 0.0, 0.0, 0.0, 0.0, 0.0, 0.0, 1.0, 1.0, 0.0, 1.0, 0.0, 1.0, 1.0, 0.0, 0.0, 0.0, 0.0, 0.0, 0.0, 0.0, 0.0, 1.0, 0.0, 0.0, 1.0, 0.0, 1.0, 0.0, 0.0, 0.0, 0.0, 0.0, 1.0, 0.0, 0.0, 0.0, 0.0, 0.0, 0.0, 0.0, 1.0, 0.0, 0.0, 1.0, 0.0, 1.0, 0.0, 0.0, 0.0, 1.0, 0.0, 0.0, 0.0, 1.0, 0.0, 0.0, 0.0, 0.0, 1.0, 0.0, 0.0, 0.0, 0.0, 0.0, 1.0, 1.0, 0.0, 0.0, 0.0, 0.0, 0.0, 1.0, 1.0, 0.0, 0.0, 0.0, 0.0, 0.0, 0.0, 0.0, 0.0, 1.0, 1.0, 1.0, 0.0, 1.0, 1.0, 0.0, 0.0, 1.0, 0.0, 0.0, 0.0, 0.0, 0.0, 0.0, 1.0, 0.0, 0.0, 0.0, 1.0, 1.0, 0.0, 0.0, 1.0, 0.0, 0.0, 0.0, 0.0, 0.0, 0.0, 0.0, 0.0, 0.0, 1.0, 0.0, 0.0, 1.0, 0.0, 0.0, 1.0, 0.0, 0.0, 0.0, 0.0, 1.0, 0.0, 0.0, 0.0, 0.0, 1.0, 0.0, 0.0, 0.0, 1.0, 1.0, 0.0, 0.0, 0.0, 0.0, 0.0, 0.0, 0.0, 1.0, 0.0, 0.0, 0.0, 0.0, 0.0, 0.0, 1.0, 1.0, 0.0, 1.0, 0.0, 0.0, 0.0, 0.0, 0.0, 0.0, 0.0, 1.0, 1.0, 1.0, 0.0, 0.0, 1.0, 0.0, 0.0, 0.0, 0.0, 1.0, 0.0, 0.0, 0.0, 0.0, 0.0, 1.0, 0.0, 0.0, 0.0, 1.0, 0.0, 0.0, 1.0, 0.0, 0.0, 0.0, 0.0, 0.0, 0.0, 0.0, 0.0, 0.0, 0.0, 0.0, 0.0, 0.0, 0.0, 0.0, 0.0, 0.0, 0.0, 0.0, 1.0, 0.0, 1.0, 0.0, 0.0, 0.0, 1.0, 0.0, 0.0, 1.0, 0.0, 0.0, 0.0, 0.0, 0.0, 0.0, 0.0, 0.0, 0.0, 0.0, 1.0, 1.0, 0.0, 0.0, 0.0, 0.0, 0.0, 0.0, 0.0, 0.0, 0.0, 0.0, 0.0, 0.0, 0.0, 0.0, 0.0, 1.0, 1.0, 0.0, 0.0, 0.0, 0.0, 0.0, 0.0, 1.0, 1.0, 0.0, 0.0, 0.0, 0.0, 0.0, 0.0, 0.0, 0.0, 0.0, 0.0, 1.0, 0.0, 0.0, 0.0, 1.0, 1.0, 0.0, 0.0, 0.0, 0.0, 1.0, 1.0, 0.0, 1.0, 1.0, 0.0, 0.0, 0.0, 0.0, 0.0, 1.0, 0.0, 0.0, 1.0, 0.0, 0.0, 1.0, 0.0, 0.0, 0.0, 0.0, 0.0, 0.0, 0.0, 0.0, 0.0, 0.0, 0.0, 0.0, 0.0, 0.0, 1.0, 0.0, 1.0, 1.0, 0.0, 0.0, 0.0, 0.0, 1.0, 0.0, 1.0, 0.0, 1.0, 0.0, 1.0, 0.0, 0.0, 0.0, 1.0, 0.0, 0.0, 0.0, 1.0, 0.0, 0.0, 0.0, 0.0, 1.0, 1.0, 0.0, 1.0, 0.0, 0.0, 0.0, 0.0, 1.0, 1.0, 0.0, 1.0, 0.0, 0.0, 0.0, 0.0, 1.0, 0.0, 0.0, 1.0, 0.0, 0.0, 0.0, 0.0, 0.0, 0.0, 0.0, 0.0, 0.0, 0.0, 0.0, 0.0, 0.0, 0.0, 0.0, 0.0, 0.0, 0.0, 1.0, 1.0, 0.0, 0.0, 0.0, 0.0, 1.0, 1.0, 0.0, 0.0, 0.0, 0.0, 0.0, 0.0, 1.0, 0.0, 1.0, 0.0, 0.0, 1.0, 1.0, 1.0, 1.0, 1.0, 0.0, 0.0, 0.0, 0.0, 1.0, 1.0, 0.0, 0.0, 0.0, 0.0, 1.0, 1.0, 0.0, 1.0, 0.0, 0.0, 1.0, 0.0, 0.0, 0.0, 0.0, 0.0, 0.0, 0.0, 0.0, 0.0, 1.0, 0.0, 1.0, 0.0, 0.0, 0.0, 0.0, 0.0, 1.0, 0.0, 1.0, 1.0, 1.0, 0.0, 0.0, 0.0, 0.0, 1.0, 0.0, 0.0, 0.0, 1.0, 0.0, 0.0, 1.0, 1.0, 0.0, 0.0, 0.0, 0.0, 0.0, 0.0, 0.0, 0.0, 0.0, 0.0, 0.0, 1.0, 0.0, 0.0, 0.0, 1.0, 0.0, 0.0, 0.0, 0.0, 0.0, 0.0, 0.0, 1.0, 0.0, 0.0, 1.0, 1.0, 0.0, 0.0, 0.0, 1.0, 0.0, 1.0, 0.0, 0.0, 0.0, 1.0, 0.0, 1.0, 0.0, 0.0, 1.0, 0.0, 1.0, 0.0, 0.0, 0.0, 0.0, 0.0, 0.0]\n"
     ]
    }
   ],
   "source": [
    "# Ajustar previsoes e imprimir o resultado final\n",
    "rounded = [round(x[0]) for x in predictions]\n",
    "print(rounded)"
   ]
  },
  {
   "cell_type": "code",
   "execution_count": 28,
   "metadata": {
    "ExecuteTime": {
     "end_time": "2020-12-21T11:03:02.864245Z",
     "start_time": "2020-12-21T11:03:02.860791Z"
    }
   },
   "outputs": [
    {
     "name": "stdout",
     "output_type": "stream",
     "text": [
      "Acuracia das previsoes: 77.34%\n"
     ]
    }
   ],
   "source": [
    "accuracy = numpy.mean(rounded==y)\n",
    "print('Acuracia das previsoes: %.2f%%' % (accuracy*100))"
   ]
  },
  {
   "cell_type": "code",
   "execution_count": null,
   "metadata": {},
   "outputs": [],
   "source": [
    "# Missing Standartization input data to improve the accuracy"
   ]
  }
 ],
 "metadata": {
  "kernelspec": {
   "display_name": "Python 3",
   "language": "python",
   "name": "python3"
  },
  "language_info": {
   "codemirror_mode": {
    "name": "ipython",
    "version": 3
   },
   "file_extension": ".py",
   "mimetype": "text/x-python",
   "name": "python",
   "nbconvert_exporter": "python",
   "pygments_lexer": "ipython3",
   "version": "3.7.6"
  },
  "toc": {
   "base_numbering": 1,
   "nav_menu": {},
   "number_sections": true,
   "sideBar": true,
   "skip_h1_title": false,
   "title_cell": "Table of Contents",
   "title_sidebar": "Contents",
   "toc_cell": false,
   "toc_position": {},
   "toc_section_display": true,
   "toc_window_display": false
  },
  "varInspector": {
   "cols": {
    "lenName": 16,
    "lenType": 16,
    "lenVar": 40
   },
   "kernels_config": {
    "python": {
     "delete_cmd_postfix": "",
     "delete_cmd_prefix": "del ",
     "library": "var_list.py",
     "varRefreshCmd": "print(var_dic_list())"
    },
    "r": {
     "delete_cmd_postfix": ") ",
     "delete_cmd_prefix": "rm(",
     "library": "var_list.r",
     "varRefreshCmd": "cat(var_dic_list()) "
    }
   },
   "types_to_exclude": [
    "module",
    "function",
    "builtin_function_or_method",
    "instance",
    "_Feature"
   ],
   "window_display": false
  }
 },
 "nbformat": 4,
 "nbformat_minor": 4
}
