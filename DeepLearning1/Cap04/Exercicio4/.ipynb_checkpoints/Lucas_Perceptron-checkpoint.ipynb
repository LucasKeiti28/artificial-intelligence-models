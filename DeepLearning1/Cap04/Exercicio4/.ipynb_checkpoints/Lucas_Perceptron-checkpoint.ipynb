{
 "cells": [
  {
   "cell_type": "markdown",
   "metadata": {},
   "source": [
    "# Construindo Modelo Perceptron com Numpy e TensorFlow"
   ]
  },
  {
   "cell_type": "code",
   "execution_count": 1,
   "metadata": {
    "ExecuteTime": {
     "end_time": "2020-12-20T21:52:35.607965Z",
     "start_time": "2020-12-20T21:52:32.879788Z"
    }
   },
   "outputs": [],
   "source": [
    "import tensorflow as tf \n",
    "import numpy as np \n",
    "import os \n",
    "import matplotlib.pyplot as plt \n",
    "%matplotlib inline"
   ]
  },
  {
   "cell_type": "markdown",
   "metadata": {},
   "source": [
    "## Preparando o dataset"
   ]
  },
  {
   "cell_type": "code",
   "execution_count": 2,
   "metadata": {
    "ExecuteTime": {
     "end_time": "2020-12-20T21:54:07.276476Z",
     "start_time": "2020-12-20T21:54:07.269200Z"
    }
   },
   "outputs": [],
   "source": [
    "data = np.genfromtxt('dataset.txt', delimiter='\\t')\n",
    "X, y = data[:, :2], data[:, 2]\n",
    "y = y.astype(np.int)"
   ]
  },
  {
   "cell_type": "code",
   "execution_count": 3,
   "metadata": {
    "ExecuteTime": {
     "end_time": "2020-12-20T21:54:59.477043Z",
     "start_time": "2020-12-20T21:54:59.472823Z"
    }
   },
   "outputs": [
    {
     "name": "stdout",
     "output_type": "stream",
     "text": [
      "Contagem de cada classe label: [50 50]\n",
      "X.shape: (100, 2)\n",
      "y.shape: (100,)\n"
     ]
    }
   ],
   "source": [
    "print('Contagem de cada classe label:', np.bincount(y))\n",
    "print('X.shape:', X.shape)\n",
    "print('y.shape:', y.shape)"
   ]
  },
  {
   "cell_type": "code",
   "execution_count": 4,
   "metadata": {
    "ExecuteTime": {
     "end_time": "2020-12-20T21:55:07.893502Z",
     "start_time": "2020-12-20T21:55:07.884597Z"
    }
   },
   "outputs": [
    {
     "name": "stdout",
     "output_type": "stream",
     "text": [
      "[[ 0.77 -1.14]\n",
      " [-0.33  1.44]\n",
      " [ 0.91 -3.07]\n",
      " [-0.37 -1.91]\n",
      " [-1.84 -1.13]\n",
      " [-1.5   0.34]\n",
      " [-0.63 -1.53]\n",
      " [-1.08 -1.23]\n",
      " [ 0.39 -1.99]\n",
      " [-1.26 -2.9 ]\n",
      " [-5.27 -0.78]\n",
      " [-0.49 -2.74]\n",
      " [ 1.48 -3.74]\n",
      " [-1.64 -1.96]\n",
      " [ 0.45  0.36]\n",
      " [-1.48 -1.17]\n",
      " [-2.94 -4.47]\n",
      " [-2.19 -1.48]\n",
      " [ 0.02 -0.02]\n",
      " [-2.24 -2.12]\n",
      " [-3.17 -3.69]\n",
      " [-4.09  1.03]\n",
      " [-2.41 -2.31]\n",
      " [-3.45 -0.61]\n",
      " [-3.96 -2.  ]\n",
      " [-2.95 -1.16]\n",
      " [-2.42 -3.35]\n",
      " [-1.74 -1.1 ]\n",
      " [-1.61 -1.28]\n",
      " [-2.59 -2.21]\n",
      " [-2.64 -2.2 ]\n",
      " [-2.84 -4.12]\n",
      " [-1.45 -2.26]\n",
      " [-3.98 -1.05]\n",
      " [-2.97 -1.63]\n",
      " [-0.68 -1.52]\n",
      " [-0.1  -3.43]\n",
      " [-1.14 -2.66]\n",
      " [-2.92 -2.51]\n",
      " [-2.14 -1.62]\n",
      " [-3.33 -0.44]\n",
      " [-1.05 -3.85]\n",
      " [ 0.38  0.95]\n",
      " [-0.05 -1.95]\n",
      " [-3.2  -0.22]\n",
      " [-2.26  0.01]\n",
      " [-1.41 -0.33]\n",
      " [-1.2  -0.71]\n",
      " [-1.69  0.8 ]\n",
      " [-1.52 -1.14]\n",
      " [ 3.88  0.65]\n",
      " [ 0.73  2.97]\n",
      " [ 0.83  3.94]\n",
      " [ 1.59  1.25]\n",
      " [ 3.92  3.48]\n",
      " [ 3.87  2.91]\n",
      " [ 1.14  3.91]\n",
      " [ 1.73  2.8 ]\n",
      " [ 2.95  1.84]\n",
      " [ 2.61  2.92]\n",
      " [ 2.38  0.9 ]\n",
      " [ 2.3   3.33]\n",
      " [ 1.31  1.85]\n",
      " [ 1.56  3.85]\n",
      " [ 2.67  2.41]\n",
      " [ 1.23  2.54]\n",
      " [ 1.33  2.03]\n",
      " [ 1.36  2.68]\n",
      " [ 2.58  1.79]\n",
      " [ 2.4   0.91]\n",
      " [ 0.51  2.44]\n",
      " [ 2.17  2.64]\n",
      " [ 4.38  2.94]\n",
      " [ 1.09  3.12]\n",
      " [ 0.68  1.54]\n",
      " [ 1.93  3.71]\n",
      " [ 1.26  1.17]\n",
      " [ 1.9   1.34]\n",
      " [ 3.13  0.92]\n",
      " [ 0.85  1.56]\n",
      " [ 1.5   3.93]\n",
      " [ 2.95  2.09]\n",
      " [ 0.77  2.84]\n",
      " [ 1.    0.46]\n",
      " [ 3.19  2.32]\n",
      " [ 2.92  2.32]\n",
      " [ 2.86  1.35]\n",
      " [ 0.97  2.68]\n",
      " [ 1.2   1.31]\n",
      " [ 1.54  2.02]\n",
      " [ 1.65  0.63]\n",
      " [ 1.36 -0.22]\n",
      " [ 2.63  0.4 ]\n",
      " [ 0.9   2.05]\n",
      " [ 1.26  3.54]\n",
      " [ 0.71  2.27]\n",
      " [ 1.96  0.83]\n",
      " [ 2.52  1.83]\n",
      " [ 2.77  2.82]\n",
      " [ 4.16  3.34]]\n"
     ]
    }
   ],
   "source": [
    "print(X)"
   ]
  },
  {
   "cell_type": "code",
   "execution_count": 5,
   "metadata": {
    "ExecuteTime": {
     "end_time": "2020-12-20T21:55:16.738110Z",
     "start_time": "2020-12-20T21:55:16.734369Z"
    }
   },
   "outputs": [
    {
     "name": "stdout",
     "output_type": "stream",
     "text": [
      "[0 0 0 0 0 0 0 0 0 0 0 0 0 0 0 0 0 0 0 0 0 0 0 0 0 0 0 0 0 0 0 0 0 0 0 0 0\n",
      " 0 0 0 0 0 0 0 0 0 0 0 0 0 1 1 1 1 1 1 1 1 1 1 1 1 1 1 1 1 1 1 1 1 1 1 1 1\n",
      " 1 1 1 1 1 1 1 1 1 1 1 1 1 1 1 1 1 1 1 1 1 1 1 1 1 1]\n"
     ]
    }
   ],
   "source": [
    "print(y)"
   ]
  },
  {
   "cell_type": "code",
   "execution_count": 16,
   "metadata": {
    "ExecuteTime": {
     "end_time": "2020-12-20T21:58:16.654039Z",
     "start_time": "2020-12-20T21:58:16.537308Z"
    }
   },
   "outputs": [
    {
     "data": {
      "image/png": "[encoded data removed]",
      "text/plain": [
       "<Figure size 432x288 with 1 Axes>"
      ]
     },
     "metadata": {
      "needs_background": "light"
     },
     "output_type": "display_data"
    }
   ],
   "source": [
    "plt.scatter(X[y==0, 0], X[y==0, 1], label='classe 0', marker='o')\n",
    "plt.scatter(X[y==1, 0], X[y==1, 1], label='classe 1', marker='s')\n",
    "plt.xlabel('feature 1')\n",
    "plt.ylabel('feature 2')\n",
    "plt.legend()\n",
    "plt.show()"
   ]
  },
  {
   "cell_type": "code",
   "execution_count": 18,
   "metadata": {
    "ExecuteTime": {
     "end_time": "2020-12-20T22:00:04.414762Z",
     "start_time": "2020-12-20T22:00:04.408637Z"
    }
   },
   "outputs": [],
   "source": [
    "# Pre  processando o dataset\n",
    "shuffle_idx = np.arange(y.shape[0])\n",
    "shuffle_rng = np.random.RandomState(123)\n",
    "shuffle_rng.shuffle(shuffle_idx)\n",
    "X, y = X[shuffle_idx], y[shuffle_idx]"
   ]
  },
  {
   "cell_type": "code",
   "execution_count": 20,
   "metadata": {
    "ExecuteTime": {
     "end_time": "2020-12-20T22:00:19.728310Z",
     "start_time": "2020-12-20T22:00:19.723006Z"
    }
   },
   "outputs": [
    {
     "name": "stdout",
     "output_type": "stream",
     "text": [
      "[[ 0.39 -1.99]\n",
      " [ 0.51  2.44]\n",
      " [ 0.77  2.84]\n",
      " [-1.61 -1.28]\n",
      " [ 1.56  3.85]\n",
      " [ 0.77 -1.14]\n",
      " [-1.5   0.34]\n",
      " [ 3.88  0.65]\n",
      " [ 2.95  2.09]\n",
      " [-1.84 -1.13]\n",
      " [-3.45 -0.61]\n",
      " [ 1.23  2.54]\n",
      " [ 1.26  1.17]\n",
      " [ 2.38  0.9 ]\n",
      " [-3.96 -2.  ]\n",
      " [ 0.38  0.95]\n",
      " [ 1.9   1.34]\n",
      " [-2.92 -2.51]\n",
      " [ 1.14  3.91]\n",
      " [ 1.93  3.71]\n",
      " [-0.68 -1.52]\n",
      " [ 1.2   1.31]\n",
      " [-2.24 -2.12]\n",
      " [-2.59 -2.21]\n",
      " [-2.84 -4.12]\n",
      " [ 1.36 -0.22]\n",
      " [ 2.92  2.32]\n",
      " [-1.26 -2.9 ]\n",
      " [ 1.59  1.25]\n",
      " [-1.05 -3.85]\n",
      " [-4.09  1.03]\n",
      " [ 1.65  0.63]\n",
      " [-3.98 -1.05]\n",
      " [ 2.4   0.91]\n",
      " [ 3.19  2.32]\n",
      " [ 0.97  2.68]\n",
      " [ 0.71  2.27]\n",
      " [ 2.52  1.83]\n",
      " [ 1.31  1.85]\n",
      " [ 1.48 -3.74]\n",
      " [-3.17 -3.69]\n",
      " [ 1.54  2.02]\n",
      " [-1.14 -2.66]\n",
      " [ 2.61  2.92]\n",
      " [-0.33  1.44]\n",
      " [ 0.68  1.54]\n",
      " [-0.49 -2.74]\n",
      " [ 0.85  1.56]\n",
      " [ 0.45  0.36]\n",
      " [ 3.92  3.48]\n",
      " [-2.94 -4.47]\n",
      " [-2.42 -3.35]\n",
      " [ 0.73  2.97]\n",
      " [-2.26  0.01]\n",
      " [-0.63 -1.53]\n",
      " [ 2.77  2.82]\n",
      " [-2.64 -2.2 ]\n",
      " [-3.2  -0.22]\n",
      " [ 4.38  2.94]\n",
      " [-0.05 -1.95]\n",
      " [-1.48 -1.17]\n",
      " [ 1.26  3.54]\n",
      " [ 0.02 -0.02]\n",
      " [-1.64 -1.96]\n",
      " [-2.41 -2.31]\n",
      " [-5.27 -0.78]\n",
      " [ 2.95  1.84]\n",
      " [ 2.17  2.64]\n",
      " [ 2.67  2.41]\n",
      " [-0.37 -1.91]\n",
      " [-3.33 -0.44]\n",
      " [-2.97 -1.63]\n",
      " [-1.74 -1.1 ]\n",
      " [ 0.83  3.94]\n",
      " [-1.08 -1.23]\n",
      " [-1.69  0.8 ]\n",
      " [ 2.3   3.33]\n",
      " [ 0.9   2.05]\n",
      " [ 4.16  3.34]\n",
      " [-2.14 -1.62]\n",
      " [ 0.91 -3.07]\n",
      " [ 1.36  2.68]\n",
      " [ 3.87  2.91]\n",
      " [-1.52 -1.14]\n",
      " [ 2.58  1.79]\n",
      " [ 1.5   3.93]\n",
      " [-0.1  -3.43]\n",
      " [ 3.13  0.92]\n",
      " [ 1.96  0.83]\n",
      " [-2.95 -1.16]\n",
      " [-1.41 -0.33]\n",
      " [-1.45 -2.26]\n",
      " [ 1.09  3.12]\n",
      " [-1.2  -0.71]\n",
      " [ 2.86  1.35]\n",
      " [ 1.73  2.8 ]\n",
      " [ 1.    0.46]\n",
      " [-2.19 -1.48]\n",
      " [ 2.63  0.4 ]\n",
      " [ 1.33  2.03]]\n",
      "[0 1 1 0 1 0 0 1 1 0 0 1 1 1 0 0 1 0 1 1 0 1 0 0 0 1 1 0 1 0 0 1 0 1 1 1 1\n",
      " 1 1 0 0 1 0 1 0 1 0 1 0 1 0 0 1 0 0 1 0 0 1 0 0 1 0 0 0 0 1 1 1 0 0 0 0 1\n",
      " 0 0 1 1 1 0 0 1 1 0 1 1 0 1 1 0 0 0 1 0 1 1 1 0 1 1]\n"
     ]
    }
   ],
   "source": [
    "print(X)\n",
    "print(y)"
   ]
  },
  {
   "cell_type": "code",
   "execution_count": 23,
   "metadata": {
    "ExecuteTime": {
     "end_time": "2020-12-20T22:01:33.497423Z",
     "start_time": "2020-12-20T22:01:33.492610Z"
    }
   },
   "outputs": [],
   "source": [
    "X_train, X_test = X[shuffle_idx[:70]], X[shuffle_idx[70:]]\n",
    "y_train, y_test = y[shuffle_idx[:70]], y[shuffle_idx[70:]]"
   ]
  },
  {
   "cell_type": "code",
   "execution_count": 24,
   "metadata": {
    "ExecuteTime": {
     "end_time": "2020-12-20T22:03:18.380170Z",
     "start_time": "2020-12-20T22:03:18.377116Z"
    }
   },
   "outputs": [],
   "source": [
    "# Standartization trainning and testing data (Mean = zero and Std = 1)\n",
    "mu, sigma = X_train.mean(axis=0), X_train.std(axis=0)\n",
    "X_train = (X_train - mu) / sigma\n",
    "X_test = (X_test - mu) / sigma"
   ]
  },
  {
   "cell_type": "code",
   "execution_count": 25,
   "metadata": {
    "ExecuteTime": {
     "end_time": "2020-12-20T22:03:26.278144Z",
     "start_time": "2020-12-20T22:03:26.147030Z"
    }
   },
   "outputs": [
    {
     "data": {
      "image/png": "[encoded data removed]",
      "text/plain": [
       "<Figure size 432x288 with 1 Axes>"
      ]
     },
     "metadata": {
      "needs_background": "light"
     },
     "output_type": "display_data"
    }
   ],
   "source": [
    "plt.scatter(X_train[y_train==0, 0], X_train[y_train==0, 1], label='class 0', marker='o')\n",
    "plt.scatter(X_train[y_train==1, 0], X_train[y_train==1, 1], label='class 1', marker='s')\n",
    "plt.xlabel('feature 1')\n",
    "plt.ylabel('feature 2')\n",
    "plt.legend()\n",
    "plt.show()"
   ]
  },
  {
   "cell_type": "code",
   "execution_count": 27,
   "metadata": {
    "ExecuteTime": {
     "end_time": "2020-12-20T22:19:46.197745Z",
     "start_time": "2020-12-20T22:19:46.191374Z"
    }
   },
   "outputs": [],
   "source": [
    "# Implementing Perceptron with NumPy\n",
    "\n",
    "def perceptron_train(features, targets, mparams=None, \n",
    "                     zero_weights=True, learning_rate=1., \n",
    "                     seed=None):\n",
    "    \n",
    "    # Initial Model params\n",
    "    if mparams is None:\n",
    "        mparams = {'bias': np.zeros(1)}\n",
    "        if zero_weights:\n",
    "            mparams['weights'] = np.zeros(features.shape[1])\n",
    "        else:\n",
    "            rng = np.random.RandomState(seed)\n",
    "            mparams['weights'] = rng.normal(loc=0.0, scale=0.1, size=(features.shape[1]))\n",
    "            \n",
    "    # Trainning one epoch\n",
    "    for training_example, true_label in zip(features, targets):\n",
    "        linear = np.dot(training_example, mparams['weights']) + mparams['bias']\n",
    "        \n",
    "        # If class 1 is predicted, but the true label is 0\n",
    "        if linear > 0. and not true_label:\n",
    "            mparams['weights'] -= learning_rate * training_example\n",
    "            mparams['bias'] -= learning_rate * 1.\n",
    "            \n",
    "        # Se a classe 0 foi predita, mas o label verdadeiro é 1\n",
    "        elif linear <= 0. and true_label:\n",
    "            mparams['weights'] += learning_rate * training_example\n",
    "            mparams['bias'] += learning_rate * 1.\n",
    "    \n",
    "    return mparams"
   ]
  },
  {
   "cell_type": "code",
   "execution_count": 29,
   "metadata": {
    "ExecuteTime": {
     "end_time": "2020-12-20T22:20:52.209912Z",
     "start_time": "2020-12-20T22:20:52.194690Z"
    }
   },
   "outputs": [],
   "source": [
    "model_params = perceptron_train(X_train, y_train, mparams=None, zero_weights=True)\n",
    "\n",
    "# Trainning model with 2 epochs\n",
    "for _ in range(2):\n",
    "    _ = perceptron_train(X_train, y_train, mparams=model_params)"
   ]
  },
  {
   "cell_type": "code",
   "execution_count": 30,
   "metadata": {
    "ExecuteTime": {
     "end_time": "2020-12-20T22:22:50.555959Z",
     "start_time": "2020-12-20T22:22:50.551158Z"
    }
   },
   "outputs": [],
   "source": [
    "# Function to predicted values with models\n",
    "\n",
    "def perceptron_predict(features, mparams):\n",
    "    linear = np.dot(features, mparams['weights']) + mparams['bias']\n",
    "    predicted_labels = np.where(linear.reshape(-1) > 0., 1, 0)\n",
    "    return predicted_labels"
   ]
  },
  {
   "cell_type": "code",
   "execution_count": 31,
   "metadata": {
    "ExecuteTime": {
     "end_time": "2020-12-20T22:23:11.633276Z",
     "start_time": "2020-12-20T22:23:11.628645Z"
    }
   },
   "outputs": [
    {
     "name": "stdout",
     "output_type": "stream",
     "text": [
      "Número de erros no treinamento 0\n",
      "Número de erros no teste 2\n"
     ]
    }
   ],
   "source": [
    "train_errors = np.sum(perceptron_predict(X_train, model_params) != y_train)\n",
    "test_errors = np.sum(perceptron_predict(X_test, model_params) != y_test)\n",
    "\n",
    "print('Número de erros no treinamento', train_errors)\n",
    "print('Número de erros no teste', test_errors)"
   ]
  },
  {
   "cell_type": "code",
   "execution_count": 36,
   "metadata": {
    "ExecuteTime": {
     "end_time": "2020-12-20T22:30:54.527988Z",
     "start_time": "2020-12-20T22:30:54.337813Z"
    }
   },
   "outputs": [
    {
     "data": {
      "image/png": "[encoded data removed]",
      "text/plain": [
       "<Figure size 504x216 with 2 Axes>"
      ]
     },
     "metadata": {
      "needs_background": "light"
     },
     "output_type": "display_data"
    }
   ],
   "source": [
    "# Limite de Decisão (Hiperplano)\n",
    "x_min = -2\n",
    "y_min = ( -(model_params['weights'][0] * x_min) / model_params['weights'][1]\n",
    "          -(model_params['bias'] / model_params['weights'][1]) )\n",
    "\n",
    "x_max = 2\n",
    "y_max = ( -(model_params['weights'][0] * x_max) / model_params['weights'][1]\n",
    "          -(model_params['bias'] / model_params['weights'][1]) )\n",
    "\n",
    "\n",
    "fig, ax = plt.subplots(1, 2, sharex=True, figsize=(7, 3))\n",
    "\n",
    "ax[0].plot([x_min, x_max], [y_min, y_max])\n",
    "ax[1].plot([x_min, x_max], [y_min, y_max])\n",
    "\n",
    "ax[0].scatter(X_train[y_train==0, 0], X_train[y_train==0, 1], label='classe 0', marker='o')\n",
    "ax[0].scatter(X_train[y_train==1, 0], X_train[y_train==1, 1], label='classe 1', marker='s')\n",
    "\n",
    "ax[1].scatter(X_test[y_test==0, 0], X_test[y_test==0, 1], label='classe 0', marker='o')\n",
    "ax[1].scatter(X_test[y_test==1, 0], X_test[y_test==1, 1], label='classe 1', marker='s')\n",
    "\n",
    "ax[1].legend(loc='upper left')\n",
    "plt.show()"
   ]
  },
  {
   "cell_type": "code",
   "execution_count": 39,
   "metadata": {
    "ExecuteTime": {
     "end_time": "2020-12-20T22:32:42.267937Z",
     "start_time": "2020-12-20T22:32:42.095803Z"
    }
   },
   "outputs": [
    {
     "data": {
      "image/png": "[encoded data removed]",
      "text/plain": [
       "<Figure size 504x216 with 2 Axes>"
      ]
     },
     "metadata": {
      "needs_background": "light"
     },
     "output_type": "display_data"
    },
    {
     "name": "stdout",
     "output_type": "stream",
     "text": [
      "Learning=1. rate params: {'bias': array([-1.]), 'weights': array([1.27340847, 1.34642288])}\n",
      "Learning=0.01 rate params: {'bias': array([-0.01]), 'weights': array([0.01273408, 0.01346423])}\n"
     ]
    }
   ],
   "source": [
    "# %load 01_solution_weight_zero_learning_rate.py\n",
    "# Solução \n",
    "# 1. Treine um perceptron de peso zero com diferentes taxas de aprendizagem e compare os parâmetros do modelo e os limites de decisão uns com os outros. O que você observa?\n",
    "\n",
    "small_lr_params = perceptron_train(X_train, y_train, learning_rate=0.01, mparams=None, zero_weights=True)\n",
    "\n",
    "for _ in range(2):\n",
    "    _ = perceptron_train(X_train, y_train, mparams=small_lr_params)\n",
    "\n",
    "x_min_small = -2\n",
    "y_min_small = (-(small_lr_params['weights'][0] * x_min) /\n",
    "               small_lr_params['weights'][1] -\n",
    "               (small_lr_params['bias'] / small_lr_params['weights'][1]))\n",
    "\n",
    "x_max_small = 2\n",
    "y_max_small = (-(small_lr_params['weights'][0] * x_max) /\n",
    "               small_lr_params['weights'][1] -\n",
    "               (small_lr_params['bias'] / small_lr_params['weights'][1]))\n",
    "\n",
    "\n",
    "fig, ax = plt.subplots(1, 2, sharex=True, figsize=(7, 3))\n",
    "\n",
    "ax[0].plot([x_min, x_max], [y_min, y_max])\n",
    "ax[1].plot([x_min_small, x_max_small], [y_min_small, y_max_small])\n",
    "\n",
    "ax[0].scatter(X_train[y_train == 0, 0], X_train[y_train == 0, 1], label='classe 0', marker='o')\n",
    "ax[0].scatter(X_train[y_train == 1, 0], X_train[y_train == 1, 1], label='classe 1', marker='s')\n",
    "\n",
    "ax[1].scatter(X_train[y_train == 0, 0], X_train[y_train == 0, 1], label='classe 0', marker='o')\n",
    "ax[1].scatter(X_train[y_train == 1, 0], X_train[y_train == 1, 1], label='classe 1', marker='s')\n",
    "\n",
    "ax[1].legend(loc='lower right')\n",
    "\n",
    "plt.ylim([-3, 3])\n",
    "plt.xlim([-3, 3])\n",
    "plt.show()\n",
    "\n",
    "\n",
    "print('Learning=1. rate params:', model_params)\n",
    "print('Learning=0.01 rate params:', small_lr_params)\n",
    "\n",
    "# Como podemos ver, diminuir a taxa de aprendizado altera os parâmetros do modelo.\n",
    "# Mas se olharmos de perto, podemos ver que no caso do perceptron\n",
    "# a taxa de aprendizagem é apenas um fator de escala do vetor de peso e bias\n",
    "# se inicializarmos os pesos para zero. Portanto, a região de decisão\n",
    "# é exatamente o mesmo para diferentes taxas de aprendizado.\n"
   ]
  },
  {
   "cell_type": "code",
   "execution_count": 41,
   "metadata": {
    "ExecuteTime": {
     "end_time": "2020-12-20T22:33:23.515776Z",
     "start_time": "2020-12-20T22:33:23.336827Z"
    }
   },
   "outputs": [
    {
     "data": {
      "image/png": "[encoded data removed]",
      "text/plain": [
       "<Figure size 504x216 with 2 Axes>"
      ]
     },
     "metadata": {
      "needs_background": "light"
     },
     "output_type": "display_data"
    }
   ],
   "source": [
    "# %load 02_solution_random_weights_learning_rate.py\n",
    "# Solução\n",
    "# 2. Repita o exercício anterior com pesos inicializados aleatoriamente.\n",
    "\n",
    "randw_params_1 = perceptron_train(X_train, y_train, learning_rate=1.0,\n",
    "                                  mparams=None, zero_weights=False)\n",
    "\n",
    "for _ in range(2):\n",
    "    _ = perceptron_train(X_train, y_train, mparams=randw_params_1)\n",
    "\n",
    "x_min_1 = -2\n",
    "y_min_1 = (-(randw_params_1['weights'][0] * x_min) /\n",
    "           randw_params_1['weights'][1] -\n",
    "           (randw_params_1['bias'] / randw_params_1['weights'][1]))\n",
    "\n",
    "x_max_1 = 2\n",
    "y_max_1 = (-(randw_params_1['weights'][0] * x_max) /\n",
    "           randw_params_1['weights'][1] -\n",
    "           (randw_params_1['bias'] / randw_params_1['weights'][1]))\n",
    "\n",
    "\n",
    "randw_params_2 = perceptron_train(X_train, y_train, learning_rate=0.01, mparams=None, zero_weights=False)\n",
    "\n",
    "for _ in range(2):\n",
    "    _ = perceptron_train(X_train, y_train, mparams=randw_params_2)\n",
    "\n",
    "x_min_2 = -2\n",
    "y_min_2 = (-(randw_params_2['weights'][0] * x_min) /\n",
    "           randw_params_2['weights'][1] -\n",
    "            (randw_params_2['bias'] / randw_params_2['weights'][1]))\n",
    "\n",
    "x_max_2 = 2\n",
    "y_max_2 = (-(randw_params_2['weights'][0] * x_max) /\n",
    "           randw_params_2['weights'][1] -\n",
    "            (randw_params_2['bias'] / randw_params_2['weights'][1]))\n",
    "\n",
    "\n",
    "fig, ax = plt.subplots(1, 2, sharex=True, figsize=(7, 3))\n",
    "\n",
    "ax[0].plot([x_min_1, x_max_1], [y_min_1, y_max_1])\n",
    "ax[1].plot([x_min_2, x_max_2], [y_min_2, y_max_2])\n",
    "\n",
    "ax[0].scatter(X_train[y_train == 0, 0], X_train[y_train == 0, 1], label='classe 0', marker='o')\n",
    "ax[0].scatter(X_train[y_train == 1, 0], X_train[y_train == 1, 1], label='classe 1', marker='s')\n",
    "\n",
    "ax[1].scatter(X_train[y_train == 0, 0], X_train[y_train == 0, 1], label='classe 0', marker='o')\n",
    "ax[1].scatter(X_train[y_train == 1, 0], X_train[y_train == 1, 1], label='classe 1', marker='s')\n",
    "\n",
    "ax[1].legend(loc='lower right')\n",
    "\n",
    "plt.ylim([-3, 3])\n",
    "plt.xlim([-3, 3])\n",
    "plt.show()\n",
    "\n",
    "# Como podemos ver, a inicialização de peso aleatoriamente quebra\n",
    "# a simetria nas atualizações de peso se usarmos\n",
    "# pesos inicializados aleatoriamente."
   ]
  },
  {
   "cell_type": "code",
   "execution_count": 43,
   "metadata": {
    "ExecuteTime": {
     "end_time": "2020-12-20T22:42:04.519955Z",
     "start_time": "2020-12-20T22:42:04.459357Z"
    }
   },
   "outputs": [],
   "source": [
    "# Implementando Perceptron com Tensorflow\n",
    "\n",
    "g = tf.Graph()\n",
    "\n",
    "n_features = X_train.shape[1]\n",
    "\n",
    "with g.as_default() as g: \n",
    "    \n",
    "    #Initialzing Model Params\n",
    "    features = tf.compat.v1.placeholder(dtype=tf.float32, shape=[None, n_features], name='features')\n",
    "    targets = tf.compat.v1.placeholder(dtype=tf.float32, shape=[None, 1], name='targets')\n",
    "    params = {\n",
    "        'weights': tf.Variable(tf.zeros(shape=[n_features,1], dtype=tf.float32), name='weights'),\n",
    "        'bias': tf.Variable([[0.]], dtype=tf.float32, name='bias')\n",
    "    }\n",
    "    \n",
    "    # Forward pass\n",
    "    linear = tf.matmul(features, params['weights']) + params['bias']\n",
    "    ones = tf.ones(shape=tf.shape(input=linear))\n",
    "    zeros = tf.zeros(shape=tf.shape(input=linear))\n",
    "    prediction = tf.compat.v1.where(tf.less(linear, 0.), zeros, ones, name='prediction')\n",
    "    \n",
    "    # Updating Weights\n",
    "    diff = targets - prediction\n",
    "    weight_update = tf.compat.v1.assign_add(params['weights'], tf.reshape(diff * features, (n_features,1)))\n",
    "    bias_update = tf.compat.v1.assign_add(params['bias'], diff)\n",
    "    \n",
    "    saver = tf.compat.v1.train.Saver()"
   ]
  },
  {
   "cell_type": "code",
   "execution_count": null,
   "metadata": {},
   "outputs": [],
   "source": [
    "# Training the perceptron with 5 samples of trainning\n",
    "with tf.compat.v1.Session(graph=g) as sess:\n",
    "    sess.run(tf.compat.v1.global_variables_initializer())\n",
    "    \n",
    "    i = 0 \n",
    "    for example, target in zip(X_train, y_train):\n",
    "        feed_dict = {features: example.reshape(-1, n_features),\n",
    "                    targets: target.reshape(-1,1)}\n",
    "        _, _ = sess.run([weight_update, bias_update], feed_dict=feed_dict)\n",
    "        \n",
    "        i += 1\n",
    "        if i >= 4:\n",
    "            break \n",
    "            \n",
    "        modelparams = sess.run(params)\n",
    "        print('Parametros do modelo:\\n', modelparams)\n",
    "        \n",
    "        saver.save(sess, save_path='./perceptron')\n",
    "\n",
    "        pred = sess.run(prediction, feed_dict={features: X_train})\n",
    "        errors = np.sum(pred.reshape(-1) != y_train)\n",
    "        print('Número de erros de treinamento:', errors)"
   ]
  }
 ],
 "metadata": {
  "kernelspec": {
   "display_name": "Python 3",
   "language": "python",
   "name": "python3"
  },
  "language_info": {
   "codemirror_mode": {
    "name": "ipython",
    "version": 3
   },
   "file_extension": ".py",
   "mimetype": "text/x-python",
   "name": "python",
   "nbconvert_exporter": "python",
   "pygments_lexer": "ipython3",
   "version": "3.7.6"
  },
  "toc": {
   "base_numbering": 1,
   "nav_menu": {},
   "number_sections": true,
   "sideBar": true,
   "skip_h1_title": false,
   "title_cell": "Table of Contents",
   "title_sidebar": "Contents",
   "toc_cell": false,
   "toc_position": {},
   "toc_section_display": true,
   "toc_window_display": false
  },
  "varInspector": {
   "cols": {
    "lenName": 16,
    "lenType": 16,
    "lenVar": 40
   },
   "kernels_config": {
    "python": {
     "delete_cmd_postfix": "",
     "delete_cmd_prefix": "del ",
     "library": "var_list.py",
     "varRefreshCmd": "print(var_dic_list())"
    },
    "r": {
     "delete_cmd_postfix": ") ",
     "delete_cmd_prefix": "rm(",
     "library": "var_list.r",
     "varRefreshCmd": "cat(var_dic_list()) "
    }
   },
   "types_to_exclude": [
    "module",
    "function",
    "builtin_function_or_method",
    "instance",
    "_Feature"
   ],
   "window_display": false
  }
 },
 "nbformat": 4,
 "nbformat_minor": 4
}
